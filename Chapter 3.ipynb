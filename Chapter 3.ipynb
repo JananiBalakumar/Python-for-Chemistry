{
 "cells": [
  {
   "cell_type": "markdown",
   "id": "9fe32969",
   "metadata": {},
   "source": [
    "# Chapter -3 "
   ]
  },
  {
   "cell_type": "markdown",
   "id": "58f0c59f",
   "metadata": {},
   "source": [
    "### control statements"
   ]
  },
  {
   "cell_type": "markdown",
   "id": "ad45330f",
   "metadata": {},
   "source": [
    "#### if statement"
   ]
  },
  {
   "cell_type": "code",
   "execution_count": 1,
   "id": "b87785cb",
   "metadata": {},
   "outputs": [
    {
     "name": "stdout",
     "output_type": "stream",
     "text": [
      "The alkali metal is Sodium\n"
     ]
    }
   ],
   "source": [
    "colour_of_flame = \"Yellow\" \n",
    "if colour_of_flame == \"Yellow\": \n",
    "    print(\"The alkali metal is Sodium\")\n"
   ]
  },
  {
   "cell_type": "code",
   "execution_count": 2,
   "id": "827e806c",
   "metadata": {},
   "outputs": [],
   "source": [
    "colour_of_flame = \"Crimson\" \n",
    "if colour_of_flame == \"Yellow\": \n",
    "    print(\"The alkali metal is Sodium\")"
   ]
  },
  {
   "cell_type": "markdown",
   "id": "b8869048",
   "metadata": {},
   "source": [
    "#### if-else statement"
   ]
  },
  {
   "cell_type": "code",
   "execution_count": 3,
   "id": "b9a7c234",
   "metadata": {},
   "outputs": [
    {
     "name": "stdout",
     "output_type": "stream",
     "text": [
      "The alkali metal is Lithium\n"
     ]
    }
   ],
   "source": [
    "colour_of_flame = \"Crimson\" \n",
    "if colour_of_flame == \"Crimson\": \n",
    "    print(\"The alkali metal is Lithium\")\n",
    "else: \n",
    "    print(\"The alkali metal is Sodium\")"
   ]
  },
  {
   "cell_type": "code",
   "execution_count": 4,
   "id": "41cd0f5a",
   "metadata": {},
   "outputs": [
    {
     "name": "stdout",
     "output_type": "stream",
     "text": [
      "The alkali metal is Sodium\n"
     ]
    }
   ],
   "source": [
    "colour_of_flame = \"Yellow\" \n",
    "if colour_of_flame == \"Crimson\": \n",
    "    print(\"The alkali metal is Lithium\")\n",
    "else: \n",
    "    print(\"The alkali metal is Sodium\")"
   ]
  },
  {
   "cell_type": "markdown",
   "id": "49a07b9c",
   "metadata": {},
   "source": [
    "#### if-elif-else ladder"
   ]
  },
  {
   "cell_type": "code",
   "execution_count": 5,
   "id": "7d3129c8",
   "metadata": {},
   "outputs": [
    {
     "name": "stdout",
     "output_type": "stream",
     "text": [
      "The alkali metal is Potassium\n"
     ]
    }
   ],
   "source": [
    "colour_of_flame = \"Violet\" \n",
    "if colour_of_flame == \"Crimson\": \n",
    "    print(\"The alkali metal is Lithium\")\n",
    "elif colour_of_flame == \"Yellow\": \n",
    "    print(\"The alkali metal is Sodium\")\n",
    "else: \n",
    "    print(\"The alkali metal is Potassium\")"
   ]
  },
  {
   "cell_type": "markdown",
   "id": "d51bc998",
   "metadata": {},
   "source": [
    "#### Nested if statement"
   ]
  },
  {
   "cell_type": "code",
   "execution_count": 6,
   "id": "85cce5df",
   "metadata": {},
   "outputs": [
    {
     "name": "stdout",
     "output_type": "stream",
     "text": [
      "The alkali metal is Rubidium\n"
     ]
    }
   ],
   "source": [
    "colour_of_flame = \"Dark Red\"\n",
    "if colour_of_flame == \"Blue\":\n",
    "    if colour_of_flame == \"Yellow\":\n",
    "        print(\"The alkali metal is Sodium\")\n",
    "    else:\n",
    "        print(\"The alkali metal is Caeisum\")\n",
    "else:\n",
    "    print(\"The alkali metal is Rubidium\")"
   ]
  },
  {
   "cell_type": "markdown",
   "id": "4acf7fb6",
   "metadata": {},
   "source": [
    "#### shorthand if statement"
   ]
  },
  {
   "cell_type": "code",
   "execution_count": 7,
   "id": "ede8cc24",
   "metadata": {},
   "outputs": [
    {
     "name": "stdout",
     "output_type": "stream",
     "text": [
      "The alkali metal is Potassium\n"
     ]
    }
   ],
   "source": [
    "colour_of_flame = \"Violet\" \n",
    "if colour_of_flame == \"Violet\": print(\"The alkali metal is Potassium\")"
   ]
  },
  {
   "cell_type": "markdown",
   "id": "323c0520",
   "metadata": {},
   "source": [
    "#### Shorthand if-elae statement"
   ]
  },
  {
   "cell_type": "code",
   "execution_count": 8,
   "id": "89d1e764",
   "metadata": {},
   "outputs": [
    {
     "name": "stdout",
     "output_type": "stream",
     "text": [
      "The alkali metal is Potassium\n"
     ]
    }
   ],
   "source": [
    "colour_of_flame = \"Violet\"\n",
    "print(\"The alkali metal is caeisum\") if colour_of_flame == \"blue\" else print(\"The alkali metal is Potassium\")"
   ]
  },
  {
   "cell_type": "code",
   "execution_count": 9,
   "id": "b35bc4ae",
   "metadata": {},
   "outputs": [
    {
     "name": "stdout",
     "output_type": "stream",
     "text": [
      "The alkali metal is Caeisum\n"
     ]
    }
   ],
   "source": [
    "colour_of_flame = \"Blue\" \n",
    "print(\"The alkali metal is Caeisum\")if colour_of_flame == \"Blue\" else print(\"The alkali metal is Potassium\")"
   ]
  },
  {
   "cell_type": "markdown",
   "id": "aa97480c",
   "metadata": {},
   "source": [
    "### Looping Statements"
   ]
  },
  {
   "cell_type": "markdown",
   "id": "fb8e5583",
   "metadata": {},
   "source": [
    "#### for loop"
   ]
  },
  {
   "cell_type": "code",
   "execution_count": 10,
   "id": "00a781f8",
   "metadata": {},
   "outputs": [],
   "source": [
    "periodic_table_10 ={'H':{'mass': 1.008, 'group': 1, 'period': 1, 'block': 's',\n",
    "                         'atomic radius':'120 pm'},\n",
    "                    'He':{'mass': 4.003, 'group': 18, 'period': 1, 'block': 's',\n",
    "                          'atomic radius':'140 pm'},\n",
    "                    'Li':{'mass': 6.94,'group': 1,'period': 2, 'block': 's', \n",
    "                          'atomic radius':'182 pm'},\n",
    "                    'Be':{'mass': 9.0122, 'group': 2, 'period': 2, 'block': 's', \n",
    "                          'atomic radius':'153 pm'},\n",
    "                    'B':{'mass': 10.811,'group': 13,'period': 2,'block': 'p', \n",
    "                         'atomic radius':'192 pm'},\n",
    "                    'C':{'mass': 12.011, 'group': 14,'period': 2,'block': 'p', \n",
    "                         'atomic radius':'170 pm'},\n",
    "                    'N':{'mass': 14.007,'group': 15,'period': 2,'block': 'p',\n",
    "                         'atomic radius':'155 pm'},\n",
    "                    'O':{'mass': 15.999,'group': 16,'period': 2,'block': 'p', \n",
    "                         'atomic radius':'152 pm'},\n",
    "                    'F':{'mass': 18.998, 'group': 17, 'period': 2, 'block': 'p', \n",
    "                         'atomic radius':'135 pm'},\n",
    "                    'Ne':{'mass': 20.180, 'group': 18,'period': 2,'block': 'p',\n",
    "                          'atomic radius':'154 pm'}}"
   ]
  },
  {
   "cell_type": "code",
   "execution_count": 11,
   "id": "3a7e52c4",
   "metadata": {},
   "outputs": [
    {
     "name": "stdout",
     "output_type": "stream",
     "text": [
      "The atomic radius of H  is less than 150 pm\n",
      "The atomic radius is 120 pm\n",
      "The atomic radius of He  is less than 150 pm\n",
      "The atomic radius is 140 pm\n",
      "The atomic radius of Li  is greater than 150 pm\n",
      "The atomic radius is 182 pm\n",
      "The atomic radius of Be  is greater than 150 pm\n",
      "The atomic radius is 153 pm\n",
      "The atomic radius of B  is greater than 150 pm\n",
      "The atomic radius is 192 pm\n",
      "The atomic radius of C  is greater than 150 pm\n",
      "The atomic radius is 170 pm\n",
      "The atomic radius of N  is greater than 150 pm\n",
      "The atomic radius is 155 pm\n",
      "The atomic radius of O  is greater than 150 pm\n",
      "The atomic radius is 152 pm\n",
      "The atomic radius of F  is less than 150 pm\n",
      "The atomic radius is 135 pm\n",
      "The atomic radius of Ne  is greater than 150 pm\n",
      "The atomic radius is 154 pm\n"
     ]
    }
   ],
   "source": [
    "for element in periodic_table_10:   \n",
    "    if periodic_table_10[element][\"atomic radius\"] > '150 pm':\n",
    "        print(\"The atomic radius of\", element, \" is greater than 150 pm\")\n",
    "        print(\"The atomic radius is\",periodic_table_10[element][\"atomic radius\"])\n",
    "    else:\n",
    "        print(\"The atomic radius of\", element, \" is less than 150 pm\")\n",
    "        print(\"The atomic radius is\",periodic_table_10[element][\"atomic radius\"])"
   ]
  },
  {
   "cell_type": "code",
   "execution_count": 12,
   "id": "6a6babfe",
   "metadata": {},
   "outputs": [
    {
     "name": "stdout",
     "output_type": "stream",
     "text": [
      "H\n",
      "He\n",
      "Li\n",
      "Be\n",
      "B\n",
      "C\n",
      "N\n",
      "O\n",
      "F\n",
      "Ne\n"
     ]
    }
   ],
   "source": [
    "for element in periodic_table_10:   \n",
    "    print(element)"
   ]
  },
  {
   "cell_type": "markdown",
   "id": "910191d9",
   "metadata": {},
   "source": [
    "#### While lopp"
   ]
  },
  {
   "cell_type": "code",
   "execution_count": 13,
   "id": "13373a28",
   "metadata": {},
   "outputs": [
    {
     "name": "stdout",
     "output_type": "stream",
     "text": [
      "6.941\n",
      "22.99\n",
      "39.098\n",
      "85.468\n"
     ]
    }
   ],
   "source": [
    "amass=[6.9410,22.990,39.098,85.468,132.91,223]\n",
    "i=0\n",
    "while amass[i]<100:\n",
    "    print(amass[i])\n",
    "    i=i+1"
   ]
  },
  {
   "cell_type": "code",
   "execution_count": 14,
   "id": "c51bea5c",
   "metadata": {},
   "outputs": [
    {
     "name": "stdout",
     "output_type": "stream",
     "text": [
      "6.941\n",
      "22.99\n",
      "39.098\n",
      "85.468\n",
      "The atomic mass values < 100 is Finished\n"
     ]
    }
   ],
   "source": [
    "amass=[6.9410,22.990,39.098,85.468,132.91,223]\n",
    "i=0\n",
    "while amass[i]<100:\n",
    "    print(amass[i])\n",
    "    i=i+1\n",
    "else:\n",
    "    print(\"The atomic mass values < 100 is Finished\")"
   ]
  },
  {
   "cell_type": "code",
   "execution_count": 15,
   "id": "9699b3f5",
   "metadata": {},
   "outputs": [
    {
     "name": "stdout",
     "output_type": "stream",
     "text": [
      "Lithium\n",
      "Sodium\n",
      "Potassium\n",
      "Rubidium\n",
      "The atomic mass values < 100 is Finished\n"
     ]
    }
   ],
   "source": [
    "amass=[6.9410,22.990,39.098,85.468,132.91,223]\n",
    "name = [\"Lithium\", \"Sodium\", \"Potassium\",\n",
    "        \"Rubidium\",\"Caseium\",\"Francium\"]\n",
    "i=0\n",
    "while amass[i]<100:\n",
    "    print(name[i])\n",
    "    i=i+1\n",
    "else:\n",
    "    print(\"The atomic mass values < 100 is Finished\")"
   ]
  },
  {
   "cell_type": "markdown",
   "id": "52acf72e",
   "metadata": {},
   "source": [
    "#### The range() function"
   ]
  },
  {
   "cell_type": "code",
   "execution_count": 16,
   "id": "3df252ba",
   "metadata": {},
   "outputs": [
    {
     "name": "stdout",
     "output_type": "stream",
     "text": [
      "0\n",
      "1\n",
      "2\n",
      "3\n",
      "4\n"
     ]
    }
   ],
   "source": [
    "x = range(5)\n",
    "for n in x:\n",
    "    print(n)"
   ]
  },
  {
   "cell_type": "code",
   "execution_count": 17,
   "id": "171f7e1d",
   "metadata": {},
   "outputs": [
    {
     "name": "stdout",
     "output_type": "stream",
     "text": [
      "10\n",
      "11\n",
      "12\n",
      "13\n",
      "14\n"
     ]
    }
   ],
   "source": [
    "x = range(10,15)\n",
    "for n in x:\n",
    "    print(n)"
   ]
  },
  {
   "cell_type": "code",
   "execution_count": 18,
   "id": "f0826e97",
   "metadata": {},
   "outputs": [
    {
     "name": "stdout",
     "output_type": "stream",
     "text": [
      "1\n",
      "3\n",
      "5\n",
      "7\n",
      "9\n"
     ]
    }
   ],
   "source": [
    "x = range(1,10,2)\n",
    "for n in x:\n",
    "    print(n)"
   ]
  },
  {
   "cell_type": "code",
   "execution_count": 19,
   "id": "6e125600",
   "metadata": {},
   "outputs": [
    {
     "name": "stdout",
     "output_type": "stream",
     "text": [
      "Lithium 7\n",
      "Sodium 6\n",
      "Potassium 9\n",
      "Rubidium 8\n",
      "Caseium 7\n",
      "Francium 8\n"
     ]
    }
   ],
   "source": [
    "name = [\"Lithium\", \"Sodium\", \"Potassium\",\n",
    "        \"Rubidium\",\"Caseium\",\"Francium\"]\n",
    "i=0\n",
    "for i in range(len(name)):\n",
    "    print(name[i],len(name[i]))"
   ]
  },
  {
   "cell_type": "code",
   "execution_count": 20,
   "id": "cdc04fce",
   "metadata": {},
   "outputs": [
    {
     "name": "stdout",
     "output_type": "stream",
     "text": [
      "Lithium 7\n",
      "Sodium 6\n"
     ]
    }
   ],
   "source": [
    "name = [\"Lithium\", \"Sodium\", \"Potassium\",\n",
    "        \"Rubidium\",\"Caseium\",\"Francium\"]\n",
    "i=0\n",
    "for i in range(len(name)):\n",
    "    if i<2:\n",
    "        print(name[i], len(name[i]))\n",
    "        i=i+1"
   ]
  },
  {
   "cell_type": "markdown",
   "id": "993c274a",
   "metadata": {},
   "source": [
    "#### The break Statement"
   ]
  },
  {
   "cell_type": "code",
   "execution_count": 21,
   "id": "aab01c5e",
   "metadata": {},
   "outputs": [
    {
     "name": "stdout",
     "output_type": "stream",
     "text": [
      "6.941\n",
      "22.99\n",
      "39.098\n"
     ]
    }
   ],
   "source": [
    "amass=[6.9410,22.990,39.098,85.468,132.91,223]\n",
    "for x in amass:\n",
    "    print(x)\n",
    "    if x == 39.098:\n",
    "        break"
   ]
  },
  {
   "cell_type": "markdown",
   "id": "c717df20",
   "metadata": {},
   "source": [
    "#### The continue Statement"
   ]
  },
  {
   "cell_type": "code",
   "execution_count": 22,
   "id": "5f587995",
   "metadata": {},
   "outputs": [
    {
     "name": "stdout",
     "output_type": "stream",
     "text": [
      "6.941\n",
      "22.99\n",
      "85.468\n",
      "132.91\n",
      "223\n"
     ]
    }
   ],
   "source": [
    "amass=[6.9410,22.990,39.098,85.468,132.91,223]\n",
    "for x in amass:\n",
    "    if x == 39.098:\n",
    "        continue\n",
    "    print(x) "
   ]
  },
  {
   "cell_type": "markdown",
   "id": "b18ce307",
   "metadata": {},
   "source": [
    "#### pass statement"
   ]
  },
  {
   "cell_type": "code",
   "execution_count": 23,
   "id": "f0938642",
   "metadata": {},
   "outputs": [
    {
     "ename": "SyntaxError",
     "evalue": "unexpected EOF while parsing (4200455854.py, line 2)",
     "output_type": "error",
     "traceback": [
      "\u001b[1;36m  File \u001b[1;32m\"C:\\Users\\BalaS\\AppData\\Local\\Temp\\ipykernel_15096\\4200455854.py\"\u001b[1;36m, line \u001b[1;32m2\u001b[0m\n\u001b[1;33m    for x in amass:\u001b[0m\n\u001b[1;37m                   ^\u001b[0m\n\u001b[1;31mSyntaxError\u001b[0m\u001b[1;31m:\u001b[0m unexpected EOF while parsing\n"
     ]
    }
   ],
   "source": [
    "amass=[6.9410,22.990,39.098,85.468,132.91,223]\n",
    "for x in amass:"
   ]
  },
  {
   "cell_type": "code",
   "execution_count": 24,
   "id": "1ed321e2",
   "metadata": {},
   "outputs": [],
   "source": [
    "amass=[6.9410,22.990,39.098,85.468,132.91,223]\n",
    "for x in amass:\n",
    "    pass"
   ]
  },
  {
   "cell_type": "code",
   "execution_count": null,
   "id": "ced4ca91",
   "metadata": {},
   "outputs": [],
   "source": []
  }
 ],
 "metadata": {
  "kernelspec": {
   "display_name": "Python [conda env:my-rdkit-env] *",
   "language": "python",
   "name": "conda-env-my-rdkit-env-py"
  },
  "language_info": {
   "codemirror_mode": {
    "name": "ipython",
    "version": 3
   },
   "file_extension": ".py",
   "mimetype": "text/x-python",
   "name": "python",
   "nbconvert_exporter": "python",
   "pygments_lexer": "ipython3",
   "version": "3.7.13"
  }
 },
 "nbformat": 4,
 "nbformat_minor": 5
}
