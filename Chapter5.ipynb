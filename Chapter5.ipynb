{
 "cells": [
  {
   "cell_type": "markdown",
   "id": "1a7b9253",
   "metadata": {},
   "source": [
    "# Chapter 5"
   ]
  },
  {
   "cell_type": "markdown",
   "id": "541817cf",
   "metadata": {},
   "source": [
    "### Classes and Objects"
   ]
  },
  {
   "cell_type": "markdown",
   "id": "8341a67e",
   "metadata": {},
   "source": [
    "#### Creating a class"
   ]
  },
  {
   "cell_type": "code",
   "execution_count": 12,
   "id": "55f733d8",
   "metadata": {},
   "outputs": [
    {
     "name": "stdout",
     "output_type": "stream",
     "text": [
      "Element name is : Hydrogen\n",
      "Atomic number is :  1\n",
      "Symbol is :  H\n",
      "<function Element.state at 0x000001EBFDEAB708>\n",
      "This is a class - Element\n"
     ]
    }
   ],
   "source": [
    "class Element:\n",
    "    '''This is a class - Element'''\n",
    "    \n",
    "    #Variables\n",
    "    name = \"Hydrogen\"\n",
    "    anum = 1\n",
    "    symbol = \"H\"\n",
    "    \n",
    "    #Method\n",
    "    def state(self):\n",
    "        print(\"Physical State of Hydrogen is gas\")\n",
    "\n",
    "#Accessing class variables\n",
    "print(\"Element name is :\" ,Element.name)\n",
    "print(\"Atomic number is : \",Element.anum)\n",
    "print(\"Symbol is : \",Element.symbol)\n",
    "\n",
    "#Accessing class method\n",
    "print(Element.state)\n",
    "\n",
    "#Accessing docstring\n",
    "print(Element.__doc__)"
   ]
  },
  {
   "cell_type": "markdown",
   "id": "a595dfb1",
   "metadata": {},
   "source": [
    "#### Creating an object"
   ]
  },
  {
   "cell_type": "code",
   "execution_count": 3,
   "id": "37b18146",
   "metadata": {},
   "outputs": [
    {
     "name": "stdout",
     "output_type": "stream",
     "text": [
      "Element name is : Hydrogen\n",
      "Atomic number is :  1\n",
      "Symbol is :  H\n",
      "Physical State of Hydrogen is gas\n"
     ]
    }
   ],
   "source": [
    "class Element:\n",
    "    '''This is a class - Element'''\n",
    "    \n",
    "    #Variables\n",
    "    name = \"Hydrogen\"\n",
    "    anum = 1\n",
    "    symbol = \"H\"\n",
    "    \n",
    "    #Method\n",
    "    def state(self):\n",
    "        print(\"Physical State of Hydrogen is gas\")\n",
    "\n",
    "#object creation\n",
    "ele = Element()\n",
    "#Accessing class variables\n",
    "print(\"Element name is :\" ,Element.name)\n",
    "print(\"Atomic number is : \",Element.anum)\n",
    "print(\"Symbol is : \",Element.symbol)\n",
    "\n",
    "#Accessing class method\n",
    "ele.state()"
   ]
  },
  {
   "cell_type": "code",
   "execution_count": 4,
   "id": "837bf201",
   "metadata": {},
   "outputs": [
    {
     "name": "stdout",
     "output_type": "stream",
     "text": [
      "Element name is : Hydrogen\n",
      "Atomic number is :  1\n",
      "Symbol is :  H\n",
      "Physical State of Hydrogen is gas\n",
      "Metallic character of Hydrogen is Non-metal\n"
     ]
    }
   ],
   "source": [
    "class Element:\n",
    "    '''This is a class - Element'''\n",
    "    \n",
    "    #Variables\n",
    "    name = \"Hydrogen\"\n",
    "    anum = 1\n",
    "    symbol = \"H\"\n",
    "    \n",
    "    #Method1\n",
    "    def state(self):\n",
    "        print(\"Physical State of Hydrogen is gas\")\n",
    "    #Method2\n",
    "    def character(self):\n",
    "        print(\"Metallic character of Hydrogen is Non-metal\")\n",
    "\n",
    "#object creation\n",
    "ele = Element()\n",
    "#Accessing class variables\n",
    "print(\"Element name is :\" ,Element.name)\n",
    "print(\"Atomic number is : \",Element.anum)\n",
    "print(\"Symbol is : \",Element.symbol)\n",
    "\n",
    "#Accessing class method\n",
    "ele.state()\n",
    "ele.character()"
   ]
  },
  {
   "cell_type": "code",
   "execution_count": 7,
   "id": "e0207d73",
   "metadata": {
    "scrolled": true
   },
   "outputs": [
    {
     "name": "stdout",
     "output_type": "stream",
     "text": [
      "Element name :  Helium \n",
      "Atomic number :  2 \n",
      "Symbol : He\n",
      "Metallic character of Helium is Non-metal\n"
     ]
    }
   ],
   "source": [
    "class Element:\n",
    "    '''This is a class - Element'''\n",
    "    \n",
    "    #Variables\n",
    "    def __init__(self,name,anum,symbol):\n",
    "        self.name = name\n",
    "        self.anum = anum\n",
    "        self.symbol = symbol\n",
    "    \n",
    "    #Method1\n",
    "    def show(self):\n",
    "        print(\"Element name : \", self.name, \n",
    "              \"\\nAtomic number : \", self.anum, \n",
    "              \"\\nSymbol :\", self.symbol )\n",
    "    #Method2\n",
    "    def character(self):\n",
    "        print(\"Metallic character of\", self.name, \"is Non-metal\")\n",
    "\n",
    "#object creation\n",
    "ele = Element(\"Helium\",\"2\",\"He\")\n",
    "\n",
    "#Accessing class method\n",
    "ele.show()\n",
    "ele.character()"
   ]
  },
  {
   "cell_type": "markdown",
   "id": "373fa6ea",
   "metadata": {},
   "source": [
    "#### Class Attributes"
   ]
  },
  {
   "cell_type": "markdown",
   "id": "3261f1f9",
   "metadata": {},
   "source": [
    "#### Instance Variables"
   ]
  },
  {
   "cell_type": "markdown",
   "id": "cd608fe8",
   "metadata": {},
   "source": [
    "##### creating an instance variable"
   ]
  },
  {
   "cell_type": "code",
   "execution_count": 2,
   "id": "7b7900e1",
   "metadata": {},
   "outputs": [
    {
     "name": "stdout",
     "output_type": "stream",
     "text": [
      "The element name is  Titanium  and the Physical state of Titanium is  Solid\n",
      "The element name is  Zinc  and the Physical state of Zinc is  Solid\n"
     ]
    }
   ],
   "source": [
    "class Element:\n",
    "    '''This is a class - Element'''\n",
    "    \n",
    "    #Variables\n",
    "    def __init__(self,name,state):\n",
    "        self.name = name\n",
    "        self.state = state\n",
    "            \n",
    "    #Method1\n",
    "    def show(self):\n",
    "        print(\"The element name is \", self.name, \n",
    "              \" and the Physical state of \" + self.name+ \" is \", self.state)\n",
    "#object creation\n",
    "ele = Element(\"Titanium\",\"Solid\")\n",
    "\n",
    "#Accessing class method\n",
    "ele.show()\n",
    "\n",
    "#Modifying object properties\n",
    "ele.name = \"Zinc\"\n",
    "ele.show()"
   ]
  },
  {
   "cell_type": "markdown",
   "id": "f98a8dbb",
   "metadata": {},
   "source": [
    "##### Access the instance variable"
   ]
  },
  {
   "cell_type": "code",
   "execution_count": 3,
   "id": "268fef03",
   "metadata": {},
   "outputs": [
    {
     "name": "stdout",
     "output_type": "stream",
     "text": [
      "Element name :  Sodium \n",
      "Atomic number :  11 \n",
      "Symbol : Na\n"
     ]
    }
   ],
   "source": [
    "class Element:\n",
    "    '''This is a class - Element'''\n",
    "    \n",
    "    #Variables\n",
    "    def __init__(self,name,anum,symbol):\n",
    "        self.name = name\n",
    "        self.anum = anum\n",
    "        self.symbol = symbol\n",
    "    \n",
    "    #Method1\n",
    "    def show(self):\n",
    "        print(\"Element name : \", self.name, \n",
    "              \"\\nAtomic number : \", self.anum, \n",
    "              \"\\nSymbol :\", self.symbol )\n",
    "#object creation\n",
    "ele = Element(\"Sodium\",\"11\",\"Na\")\n",
    "\n",
    "#Accessing class method\n",
    "ele.show()"
   ]
  },
  {
   "cell_type": "code",
   "execution_count": 4,
   "id": "24776777",
   "metadata": {},
   "outputs": [
    {
     "name": "stdout",
     "output_type": "stream",
     "text": [
      "Element Name: Sodium\n",
      "Atomic Number: 11\n",
      "Symbol: Na\n"
     ]
    }
   ],
   "source": [
    "class Element:\n",
    "    '''This is a class - Element'''\n",
    "    \n",
    "    #Variables\n",
    "    def __init__(self,name,anum,symbol):\n",
    "        self.name = name\n",
    "        self.anum = anum\n",
    "        self.symbol = symbol\n",
    "    \n",
    "#object creation\n",
    "ele = Element(\"Sodium\",\"11\",\"Na\")\n",
    "\n",
    "#Accessing class variables using getattr\n",
    "print(\"Element Name:\", getattr(ele,'name'))\n",
    "print(\"Atomic Number:\", getattr(ele,'anum'))\n",
    "print(\"Symbol:\", getattr(ele,'symbol'))"
   ]
  },
  {
   "cell_type": "markdown",
   "id": "0799abc6",
   "metadata": {},
   "source": [
    "##### Modify the value of instance variable"
   ]
  },
  {
   "cell_type": "code",
   "execution_count": 5,
   "id": "9c4b2dec",
   "metadata": {},
   "outputs": [
    {
     "name": "stdout",
     "output_type": "stream",
     "text": [
      "Element name :  Sodium \n",
      "Atomic number :  11 \n",
      "Symbol : Na\n",
      "Element name :  Calcium \n",
      "Atomic number :  20 \n",
      "Symbol : Ca\n"
     ]
    }
   ],
   "source": [
    "class Element:\n",
    "    '''This is a class - Element'''\n",
    "    \n",
    "    #Variables\n",
    "    def __init__(self,name,anum,symbol):\n",
    "        self.name = name\n",
    "        self.anum = anum\n",
    "        self.symbol = symbol\n",
    "    \n",
    "    #Method1\n",
    "    def show(self):\n",
    "        print(\"Element name : \", self.name, \n",
    "              \"\\nAtomic number : \", self.anum, \n",
    "              \"\\nSymbol :\", self.symbol )\n",
    "#object creation\n",
    "ele = Element(\"Sodium\",\"11\",\"Na\")\n",
    "#Accessing class method\n",
    "ele.show()\n",
    "\n",
    "#Modify the instance variable\n",
    "ele.name = \"Calcium\"\n",
    "ele.anum = \"20\"\n",
    "ele.symbol = \"Ca\"\n",
    "#Accessing class method\n",
    "ele.show()"
   ]
  },
  {
   "cell_type": "markdown",
   "id": "737bcb0a",
   "metadata": {},
   "source": [
    "##### Delete the instance variable"
   ]
  },
  {
   "cell_type": "code",
   "execution_count": 6,
   "id": "09d4a081",
   "metadata": {},
   "outputs": [
    {
     "ename": "AttributeError",
     "evalue": "'Element' object has no attribute 'name'",
     "output_type": "error",
     "traceback": [
      "\u001b[1;31m---------------------------------------------------------------------------\u001b[0m",
      "\u001b[1;31mAttributeError\u001b[0m                            Traceback (most recent call last)",
      "\u001b[1;32m~\\AppData\\Local\\Temp\\ipykernel_8596\\2511757458.py\u001b[0m in \u001b[0;36m<module>\u001b[1;34m\u001b[0m\n\u001b[0;32m     20\u001b[0m \u001b[1;33m\u001b[0m\u001b[0m\n\u001b[0;32m     21\u001b[0m \u001b[1;31m#Accessing class method\u001b[0m\u001b[1;33m\u001b[0m\u001b[1;33m\u001b[0m\u001b[1;33m\u001b[0m\u001b[0m\n\u001b[1;32m---> 22\u001b[1;33m \u001b[0mprint\u001b[0m\u001b[1;33m(\u001b[0m\u001b[0mele\u001b[0m\u001b[1;33m.\u001b[0m\u001b[0mname\u001b[0m\u001b[1;33m)\u001b[0m\u001b[1;33m\u001b[0m\u001b[1;33m\u001b[0m\u001b[0m\n\u001b[0m",
      "\u001b[1;31mAttributeError\u001b[0m: 'Element' object has no attribute 'name'"
     ]
    }
   ],
   "source": [
    "class Element:\n",
    "    '''This is a class - Element'''\n",
    "    \n",
    "    #Variables\n",
    "    def __init__(self,name,anum,symbol):\n",
    "        self.name = name\n",
    "        self.anum = anum\n",
    "        self.symbol = symbol\n",
    "    \n",
    "    #Method1\n",
    "    def show(self):\n",
    "        print(\"Element name : \", self.name, \n",
    "              \"\\nAtomic number : \", self.anum, \n",
    "              \"\\nSymbol :\", self.symbol )\n",
    "#object creation\n",
    "ele = Element(\"Sodium\",\"11\",\"Na\")\n",
    "\n",
    "#delete the 'name'\n",
    "del ele.name\n",
    "\n",
    "#Accessing class method\n",
    "print(ele.name)"
   ]
  },
  {
   "cell_type": "code",
   "execution_count": 7,
   "id": "c9b3057b",
   "metadata": {},
   "outputs": [
    {
     "name": "stdout",
     "output_type": "stream",
     "text": [
      "Element name :  Sodium \n",
      "Atomic number :  11 \n",
      "Symbol : Na\n"
     ]
    },
    {
     "ename": "AttributeError",
     "evalue": "'Element' object has no attribute 'symbol'",
     "output_type": "error",
     "traceback": [
      "\u001b[1;31m---------------------------------------------------------------------------\u001b[0m",
      "\u001b[1;31mAttributeError\u001b[0m                            Traceback (most recent call last)",
      "\u001b[1;32m~\\AppData\\Local\\Temp\\ipykernel_8596\\4010237881.py\u001b[0m in \u001b[0;36m<module>\u001b[1;34m\u001b[0m\n\u001b[0;32m     18\u001b[0m \u001b[1;31m#delete the 'symbol'\u001b[0m\u001b[1;33m\u001b[0m\u001b[1;33m\u001b[0m\u001b[1;33m\u001b[0m\u001b[0m\n\u001b[0;32m     19\u001b[0m \u001b[0mdelattr\u001b[0m\u001b[1;33m(\u001b[0m\u001b[0mele\u001b[0m\u001b[1;33m,\u001b[0m\u001b[1;34m'symbol'\u001b[0m\u001b[1;33m)\u001b[0m\u001b[1;33m\u001b[0m\u001b[1;33m\u001b[0m\u001b[0m\n\u001b[1;32m---> 20\u001b[1;33m \u001b[0mprint\u001b[0m\u001b[1;33m(\u001b[0m\u001b[0mele\u001b[0m\u001b[1;33m.\u001b[0m\u001b[0msymbol\u001b[0m\u001b[1;33m)\u001b[0m\u001b[1;33m\u001b[0m\u001b[1;33m\u001b[0m\u001b[0m\n\u001b[0m",
      "\u001b[1;31mAttributeError\u001b[0m: 'Element' object has no attribute 'symbol'"
     ]
    }
   ],
   "source": [
    "class Element:\n",
    "    '''This is a class - Element'''\n",
    "        #Variables\n",
    "    def __init__(self,name,anum,symbol):\n",
    "        self.name = name\n",
    "        self.anum = anum\n",
    "        self.symbol = symbol\n",
    "    \n",
    "    #Method1\n",
    "    def show(self):\n",
    "        print(\"Element name : \", self.name, \n",
    "              \"\\nAtomic number : \", self.anum, \n",
    "              \"\\nSymbol :\", self.symbol )\n",
    "#object creation\n",
    "ele = Element(\"Sodium\",\"11\",\"Na\")\n",
    "ele.show()\n",
    "\n",
    "#delete the 'symbol'\n",
    "delattr(ele,'symbol') \n",
    "print(ele.symbol)"
   ]
  },
  {
   "cell_type": "markdown",
   "id": "89d6e8b0",
   "metadata": {},
   "source": [
    "#### Class variables"
   ]
  },
  {
   "cell_type": "markdown",
   "id": "aca71a67",
   "metadata": {},
   "source": [
    "#### creating the class variables"
   ]
  },
  {
   "cell_type": "code",
   "execution_count": 8,
   "id": "7e79818f",
   "metadata": {},
   "outputs": [
    {
     "name": "stdout",
     "output_type": "stream",
     "text": [
      "1 H Hydrogen\n"
     ]
    }
   ],
   "source": [
    "class Element:\n",
    "    '''This is a class - Element'''\n",
    "    ele_name = \"Hydrogen\"\n",
    "    \n",
    "    #Constructor\n",
    "    def __init__(self,anum,symbol):\n",
    "        self.anum = anum\n",
    "        self.symbol = symbol\n",
    "#object creation\n",
    "ele = Element(\"1\",\"H\")\n",
    "print(ele.anum,ele.symbol,Element.ele_name)"
   ]
  },
  {
   "cell_type": "markdown",
   "id": "a14c5e08",
   "metadata": {},
   "source": [
    "#### Accessing the class variable"
   ]
  },
  {
   "cell_type": "code",
   "execution_count": 9,
   "id": "0c08648d",
   "metadata": {},
   "outputs": [
    {
     "name": "stdout",
     "output_type": "stream",
     "text": [
      "Hydrogen\n",
      "Hydrogen\n"
     ]
    }
   ],
   "source": [
    "class Element:\n",
    "    '''This is a class - Element'''\n",
    "    ele_name = \"Hydrogen\"\n",
    "    \n",
    "    #Constructor\n",
    "    def __init__(self,name):\n",
    "        self.name = name\n",
    "        #accessing the class variable\n",
    "        print(self.ele_name)\n",
    "        print(Element.ele_name)\n",
    "#object creation\n",
    "ele = Element(\"Calcium\")"
   ]
  },
  {
   "cell_type": "code",
   "execution_count": 10,
   "id": "dbc7cfa8",
   "metadata": {},
   "outputs": [
    {
     "name": "stdout",
     "output_type": "stream",
     "text": [
      "Atomic number :  1 \n",
      "Symbol : H\n",
      "Name :  Hydrogen\n",
      "Element Name is :  Hydrogen\n",
      "Element Name is :  Hydrogen\n"
     ]
    }
   ],
   "source": [
    "class Element:\n",
    "    '''This is a class - Element'''\n",
    "    ele_name = \"Hydrogen\"\n",
    "    \n",
    "    #constructor\n",
    "    def __init__(self,anum,symbol):\n",
    "        self.anum = anum\n",
    "        self.symbol = symbol\n",
    "    \n",
    "    #Instance Method\n",
    "    def show(self):\n",
    "        print(\"Atomic number : \", self.anum, \n",
    "              \"\\nSymbol :\", self.symbol )\n",
    "        print(\"Name : \",Element.ele_name)\n",
    "#object creation\n",
    "ele = Element(\"1\",\"H\")\n",
    "\n",
    "#Accessing class method\n",
    "ele.show()\n",
    "\n",
    "#Outside the class using object\n",
    "print(\"Element Name is : \", ele.ele_name)\n",
    "#Outside the class using class name\n",
    "print(\"Element Name is : \",Element.ele_name)"
   ]
  },
  {
   "cell_type": "markdown",
   "id": "d5da7d67",
   "metadata": {},
   "source": [
    "#### Modifying value to the class variables"
   ]
  },
  {
   "cell_type": "code",
   "execution_count": 11,
   "id": "ec434cc6",
   "metadata": {},
   "outputs": [
    {
     "name": "stdout",
     "output_type": "stream",
     "text": [
      "Block :  s\n",
      "Name :  Hydrogen\n",
      "Block :  s\n",
      "Name :  Calcium\n"
     ]
    }
   ],
   "source": [
    "class Element:\n",
    "    '''This is a class - Element'''\n",
    "    ele_name = \"Hydrogen\"\n",
    "    \n",
    "    #constructor\n",
    "    def __init__(self,block):\n",
    "        self.block = block\n",
    "    #Instance Method\n",
    "    def show(self):\n",
    "        print(\"Block : \", self.block)\n",
    "        print(\"Name : \",Element.ele_name)\n",
    "#object creation\n",
    "ele = Element(\"s\")\n",
    "#Accessing class method\n",
    "ele.show()\n",
    "\n",
    "#Modifying the class variable\n",
    "Element.ele_name = \"Calcium\"\n",
    "ele.show()"
   ]
  },
  {
   "cell_type": "markdown",
   "id": "01921266",
   "metadata": {},
   "source": [
    "### Methods"
   ]
  },
  {
   "cell_type": "markdown",
   "id": "c2362763",
   "metadata": {},
   "source": [
    "#### Instance Methods"
   ]
  },
  {
   "cell_type": "code",
   "execution_count": 12,
   "id": "5333f88f",
   "metadata": {},
   "outputs": [
    {
     "name": "stdout",
     "output_type": "stream",
     "text": [
      "Element name :  Tin \n",
      "Atomic number :  50 \n",
      "Symbol : Sn\n"
     ]
    }
   ],
   "source": [
    "class Element:\n",
    "    '''This is a class - Element'''\n",
    "        #Variables\n",
    "    def __init__(self,name,anum,symbol):\n",
    "        self.name = name\n",
    "        self.anum = anum\n",
    "        self.symbol = symbol\n",
    "    \n",
    "    #Method1\n",
    "    def show(self):\n",
    "        print(\"Element name : \", self.name, \n",
    "              \"\\nAtomic number : \", self.anum, \n",
    "              \"\\nSymbol :\", self.symbol )\n",
    "#object creation\n",
    "ele = Element(\"Tin\",\"50\",\"Sn\")\n",
    "ele.show()"
   ]
  },
  {
   "cell_type": "markdown",
   "id": "5a67a313",
   "metadata": {},
   "source": [
    "#### Class Method"
   ]
  },
  {
   "cell_type": "code",
   "execution_count": 13,
   "id": "69dcc9aa",
   "metadata": {},
   "outputs": [
    {
     "name": "stdout",
     "output_type": "stream",
     "text": [
      "Element name :  Hydrogen\n"
     ]
    }
   ],
   "source": [
    "class Element:\n",
    "    '''This is a class - Element'''\n",
    "    name = \"Hydrogen\"\n",
    "    \n",
    "    def ename(elename):\n",
    "        print(\"Element name : \", elename.name)\n",
    "#create class method\n",
    "Element.ename = classmethod(Element.ename)\n",
    "#Access the class method\n",
    "Element.ename()"
   ]
  },
  {
   "cell_type": "markdown",
   "id": "67374743",
   "metadata": {},
   "source": [
    "#### Static Method"
   ]
  },
  {
   "cell_type": "code",
   "execution_count": 14,
   "id": "6e5053f4",
   "metadata": {},
   "outputs": [
    {
     "name": "stdout",
     "output_type": "stream",
     "text": [
      "Element Name Lithium\n",
      "Element Name Lithium\n"
     ]
    }
   ],
   "source": [
    "class Element:\n",
    "    @staticmethod\n",
    "    def show(x):\n",
    "        print('Element Name', x)\n",
    "\n",
    "# call static method\n",
    "Element.show(\"Lithium\")\n",
    "\n",
    "# can be called using object\n",
    "ele = Element()\n",
    "ele.show(\"Lithium\")"
   ]
  },
  {
   "cell_type": "markdown",
   "id": "0cfe18a2",
   "metadata": {},
   "source": [
    "### Object Properties"
   ]
  },
  {
   "cell_type": "markdown",
   "id": "81097375",
   "metadata": {},
   "source": [
    "#### Modify Object Properties"
   ]
  },
  {
   "cell_type": "code",
   "execution_count": 16,
   "id": "c6c92838",
   "metadata": {},
   "outputs": [
    {
     "name": "stdout",
     "output_type": "stream",
     "text": [
      "The element name is :  Helium and its block is :  s\n",
      "The element name is :  Calcium and its block is :  s\n"
     ]
    }
   ],
   "source": [
    "class Element:\n",
    "    '''This is a class - Element'''\n",
    "    \n",
    "    #Variables\n",
    "    def __init__(self,name,block):\n",
    "        self.name = name\n",
    "        self.block = block\n",
    "            \n",
    "    #Method1\n",
    "    def show(self):\n",
    "        print(\"The element name is : \", self.name, \n",
    "              \"and its block is : \", self.block)\n",
    "#object creation\n",
    "ele = Element(\"Helium\",\"s\")\n",
    "\n",
    "#Accessing class method\n",
    "ele.show()\n",
    "\n",
    "#Modifying object properties\n",
    "ele.name = \"Calcium\"\n",
    "ele.show()"
   ]
  },
  {
   "cell_type": "markdown",
   "id": "1d302cd9",
   "metadata": {},
   "source": [
    "#### Delete Object Properties"
   ]
  },
  {
   "cell_type": "code",
   "execution_count": 18,
   "id": "0e12e5e3",
   "metadata": {},
   "outputs": [
    {
     "ename": "AttributeError",
     "evalue": "'Element' object has no attribute 'name'",
     "output_type": "error",
     "traceback": [
      "\u001b[1;31m---------------------------------------------------------------------------\u001b[0m",
      "\u001b[1;31mAttributeError\u001b[0m                            Traceback (most recent call last)",
      "\u001b[1;32m~\\AppData\\Local\\Temp\\ipykernel_8596\\421890006.py\u001b[0m in \u001b[0;36m<module>\u001b[1;34m\u001b[0m\n\u001b[0;32m     18\u001b[0m \u001b[1;33m\u001b[0m\u001b[0m\n\u001b[0;32m     19\u001b[0m \u001b[1;31m#Accessing class method\u001b[0m\u001b[1;33m\u001b[0m\u001b[1;33m\u001b[0m\u001b[1;33m\u001b[0m\u001b[0m\n\u001b[1;32m---> 20\u001b[1;33m \u001b[0mele\u001b[0m\u001b[1;33m.\u001b[0m\u001b[0mname\u001b[0m\u001b[1;33m\u001b[0m\u001b[1;33m\u001b[0m\u001b[0m\n\u001b[0m",
      "\u001b[1;31mAttributeError\u001b[0m: 'Element' object has no attribute 'name'"
     ]
    }
   ],
   "source": [
    "class Element:\n",
    "    '''This is a class - Element'''\n",
    "    \n",
    "    #Variables\n",
    "    def __init__(self,name,block):\n",
    "        self.name = name\n",
    "        self.block = block\n",
    "            \n",
    "    #Method1\n",
    "    def show(self):\n",
    "        print(\"The element name is : \", self.name, \n",
    "              \"and its block is : \", self.block)\n",
    "#object creation\n",
    "ele = Element(\"Helium\",\"s\")\n",
    "\n",
    "#Deleting the object properties\n",
    "del ele.name\n",
    "\n",
    "#Accessing class method\n",
    "ele.name"
   ]
  },
  {
   "cell_type": "code",
   "execution_count": null,
   "id": "a51e5175",
   "metadata": {},
   "outputs": [],
   "source": []
  }
 ],
 "metadata": {
  "kernelspec": {
   "display_name": "Python 3 (ipykernel)",
   "language": "python",
   "name": "python3"
  },
  "language_info": {
   "codemirror_mode": {
    "name": "ipython",
    "version": 3
   },
   "file_extension": ".py",
   "mimetype": "text/x-python",
   "name": "python",
   "nbconvert_exporter": "python",
   "pygments_lexer": "ipython3",
   "version": "3.7.13"
  }
 },
 "nbformat": 4,
 "nbformat_minor": 5
}
