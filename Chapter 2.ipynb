{
 "cells": [
  {
   "cell_type": "markdown",
   "id": "b417636c",
   "metadata": {},
   "source": [
    "# Data Types\n"
   ]
  },
  {
   "cell_type": "markdown",
   "id": "ebf39480",
   "metadata": {},
   "source": [
    "### Numbers - Integers"
   ]
  },
  {
   "cell_type": "code",
   "execution_count": 3,
   "id": "a2c07af3",
   "metadata": {},
   "outputs": [
    {
     "data": {
      "text/plain": [
       "int"
      ]
     },
     "execution_count": 3,
     "metadata": {},
     "output_type": "execute_result"
    }
   ],
   "source": [
    "#Variable declaration\n",
    "Zinc = 30\n",
    "type(Zinc)"
   ]
  },
  {
   "cell_type": "code",
   "execution_count": 4,
   "id": "710c6ffa",
   "metadata": {
    "scrolled": false
   },
   "outputs": [
    {
     "name": "stdout",
     "output_type": "stream",
     "text": [
      "30\n"
     ]
    }
   ],
   "source": [
    "print(Zinc)"
   ]
  },
  {
   "cell_type": "markdown",
   "id": "bcffea07",
   "metadata": {},
   "source": [
    "### Float"
   ]
  },
  {
   "cell_type": "code",
   "execution_count": 5,
   "id": "4618a204",
   "metadata": {},
   "outputs": [
    {
     "data": {
      "text/plain": [
       "float"
      ]
     },
     "execution_count": 5,
     "metadata": {},
     "output_type": "execute_result"
    }
   ],
   "source": [
    "melt=97.79\n",
    "type(melt)"
   ]
  },
  {
   "cell_type": "code",
   "execution_count": 6,
   "id": "e12b9938",
   "metadata": {},
   "outputs": [
    {
     "name": "stdout",
     "output_type": "stream",
     "text": [
      "97.79 °C\n"
     ]
    }
   ],
   "source": [
    "print(melt,'°C')"
   ]
  },
  {
   "cell_type": "markdown",
   "id": "cf1a415b",
   "metadata": {},
   "source": [
    "### Complex"
   ]
  },
  {
   "cell_type": "code",
   "execution_count": 7,
   "id": "bdabb055",
   "metadata": {},
   "outputs": [],
   "source": [
    "comp = 3+1j"
   ]
  },
  {
   "cell_type": "code",
   "execution_count": 8,
   "id": "b734b997",
   "metadata": {},
   "outputs": [
    {
     "name": "stdout",
     "output_type": "stream",
     "text": [
      "(3+1j)\n"
     ]
    }
   ],
   "source": [
    "print(comp)"
   ]
  },
  {
   "cell_type": "code",
   "execution_count": 9,
   "id": "4d0017a4",
   "metadata": {},
   "outputs": [
    {
     "data": {
      "text/plain": [
       "complex"
      ]
     },
     "execution_count": 9,
     "metadata": {},
     "output_type": "execute_result"
    }
   ],
   "source": [
    "type(comp)"
   ]
  },
  {
   "cell_type": "markdown",
   "id": "c33f1710",
   "metadata": {},
   "source": [
    "### String"
   ]
  },
  {
   "cell_type": "code",
   "execution_count": 31,
   "id": "4fae0e0c",
   "metadata": {},
   "outputs": [
    {
     "name": "stdout",
     "output_type": "stream",
     "text": [
      "Python for Chemistry\n"
     ]
    }
   ],
   "source": [
    "print('Python for Chemistry')"
   ]
  },
  {
   "cell_type": "code",
   "execution_count": 32,
   "id": "8f458907",
   "metadata": {},
   "outputs": [
    {
     "name": "stdout",
     "output_type": "stream",
     "text": [
      "Python for Chemistry\n"
     ]
    }
   ],
   "source": [
    "print(\"Python for Chemistry\")"
   ]
  },
  {
   "cell_type": "code",
   "execution_count": 33,
   "id": "449e7444",
   "metadata": {},
   "outputs": [
    {
     "data": {
      "text/plain": [
       "'s'"
      ]
     },
     "execution_count": 33,
     "metadata": {},
     "output_type": "execute_result"
    }
   ],
   "source": [
    "sub=\"Chemistry\"\n",
    "sub[5]"
   ]
  },
  {
   "cell_type": "markdown",
   "id": "4681dd16",
   "metadata": {},
   "source": [
    "### Boolean"
   ]
  },
  {
   "cell_type": "code",
   "execution_count": 14,
   "id": "ab3d5254",
   "metadata": {},
   "outputs": [],
   "source": [
    "comp1 = '[Co(NH3)6]cl2'\n",
    "comp2 = '[Ni(H2O)6]cl2'"
   ]
  },
  {
   "cell_type": "code",
   "execution_count": 15,
   "id": "a0c4421c",
   "metadata": {},
   "outputs": [
    {
     "data": {
      "text/plain": [
       "False"
      ]
     },
     "execution_count": 15,
     "metadata": {},
     "output_type": "execute_result"
    }
   ],
   "source": [
    "'Ni' in comp1"
   ]
  },
  {
   "cell_type": "code",
   "execution_count": 16,
   "id": "65141774",
   "metadata": {},
   "outputs": [
    {
     "data": {
      "text/plain": [
       "True"
      ]
     },
     "execution_count": 16,
     "metadata": {},
     "output_type": "execute_result"
    }
   ],
   "source": [
    "'Ni' in comp2"
   ]
  },
  {
   "cell_type": "markdown",
   "id": "122180ec",
   "metadata": {},
   "source": [
    "# Data Structures"
   ]
  },
  {
   "cell_type": "markdown",
   "id": "8b635afe",
   "metadata": {},
   "source": [
    "### Lists"
   ]
  },
  {
   "cell_type": "markdown",
   "id": "9d180c8b",
   "metadata": {},
   "source": [
    "#### Creating a list"
   ]
  },
  {
   "cell_type": "code",
   "execution_count": 36,
   "id": "24eb34e2",
   "metadata": {},
   "outputs": [],
   "source": [
    "elements=[\"Hydrogen\", \"Helium\", \"Lithium\", \"Beryllium\", \"Boron\", \n",
    "          1.008,4.002602,6.94,9.0121831,10.81]"
   ]
  },
  {
   "cell_type": "code",
   "execution_count": 37,
   "id": "b84a2054",
   "metadata": {},
   "outputs": [
    {
     "data": {
      "text/plain": [
       "list"
      ]
     },
     "execution_count": 37,
     "metadata": {},
     "output_type": "execute_result"
    }
   ],
   "source": [
    "type(elements)"
   ]
  },
  {
   "cell_type": "markdown",
   "id": "42b18161",
   "metadata": {},
   "source": [
    "#### Accessing the list values"
   ]
  },
  {
   "cell_type": "code",
   "execution_count": 38,
   "id": "9855ae7f",
   "metadata": {},
   "outputs": [
    {
     "name": "stdout",
     "output_type": "stream",
     "text": [
      "['Hydrogen', 'Helium', 'Lithium', 'Beryllium', 'Boron', 1.008, 4.002602, 6.94, 9.0121831, 10.81]\n"
     ]
    }
   ],
   "source": [
    "print(elements)"
   ]
  },
  {
   "cell_type": "code",
   "execution_count": 39,
   "id": "60aed3bf",
   "metadata": {},
   "outputs": [
    {
     "name": "stdout",
     "output_type": "stream",
     "text": [
      "Lithium\n"
     ]
    }
   ],
   "source": [
    "print(elements[2])"
   ]
  },
  {
   "cell_type": "code",
   "execution_count": 40,
   "id": "e3756f65",
   "metadata": {},
   "outputs": [
    {
     "name": "stdout",
     "output_type": "stream",
     "text": [
      "4.002602\n"
     ]
    }
   ],
   "source": [
    "print(elements[6])"
   ]
  },
  {
   "cell_type": "markdown",
   "id": "fb5de4fa",
   "metadata": {},
   "source": [
    "#### Updating list"
   ]
  },
  {
   "cell_type": "code",
   "execution_count": 41,
   "id": "9364f0b4",
   "metadata": {},
   "outputs": [],
   "source": [
    "elements[4]=\"Carbon\""
   ]
  },
  {
   "cell_type": "code",
   "execution_count": 42,
   "id": "a3ffa57f",
   "metadata": {},
   "outputs": [
    {
     "name": "stdout",
     "output_type": "stream",
     "text": [
      "['Hydrogen', 'Helium', 'Lithium', 'Beryllium', 'Carbon', 1.008, 4.002602, 6.94, 9.0121831, 10.81]\n"
     ]
    }
   ],
   "source": [
    "print(elements)"
   ]
  },
  {
   "cell_type": "code",
   "execution_count": 45,
   "id": "c72397fa",
   "metadata": {},
   "outputs": [],
   "source": [
    "elements[9]=12.011"
   ]
  },
  {
   "cell_type": "code",
   "execution_count": 46,
   "id": "3a399e91",
   "metadata": {},
   "outputs": [
    {
     "name": "stdout",
     "output_type": "stream",
     "text": [
      "['Hydrogen', 'Helium', 'Lithium', 'Beryllium', 'Carbon', 1.008, 4.002602, 6.94, 9.0121831, 12.011]\n"
     ]
    }
   ],
   "source": [
    "print(elements)"
   ]
  },
  {
   "cell_type": "markdown",
   "id": "fc28c3bd",
   "metadata": {},
   "source": [
    "#### Deleting a list elements"
   ]
  },
  {
   "cell_type": "code",
   "execution_count": 47,
   "id": "637bda7d",
   "metadata": {},
   "outputs": [],
   "source": [
    "del elements[4]"
   ]
  },
  {
   "cell_type": "code",
   "execution_count": 48,
   "id": "eb4f272f",
   "metadata": {},
   "outputs": [
    {
     "name": "stdout",
     "output_type": "stream",
     "text": [
      "['Hydrogen', 'Helium', 'Lithium', 'Beryllium', 1.008, 4.002602, 6.94, 9.0121831, 12.011]\n"
     ]
    }
   ],
   "source": [
    "print(elements)"
   ]
  },
  {
   "cell_type": "code",
   "execution_count": 49,
   "id": "b439a544",
   "metadata": {},
   "outputs": [],
   "source": [
    "elements.remove(12.011)"
   ]
  },
  {
   "cell_type": "code",
   "execution_count": 50,
   "id": "4db84f58",
   "metadata": {},
   "outputs": [
    {
     "name": "stdout",
     "output_type": "stream",
     "text": [
      "['Hydrogen', 'Helium', 'Lithium', 'Beryllium', 1.008, 4.002602, 6.94, 9.0121831]\n"
     ]
    }
   ],
   "source": [
    "print(elements)"
   ]
  },
  {
   "cell_type": "markdown",
   "id": "c2aa703e",
   "metadata": {},
   "source": [
    "### Tuples"
   ]
  },
  {
   "cell_type": "markdown",
   "id": "79690c00",
   "metadata": {},
   "source": [
    "#### creating a tuples"
   ]
  },
  {
   "cell_type": "code",
   "execution_count": 46,
   "id": "c29722d5",
   "metadata": {},
   "outputs": [],
   "source": [
    "noble_gases = ('Helium', 'Neon', 'Argon', 'Krypton', 'Xenon', 'Radon')"
   ]
  },
  {
   "cell_type": "code",
   "execution_count": 47,
   "id": "60d6e508",
   "metadata": {},
   "outputs": [
    {
     "data": {
      "text/plain": [
       "tuple"
      ]
     },
     "execution_count": 47,
     "metadata": {},
     "output_type": "execute_result"
    }
   ],
   "source": [
    "type(noble_gases)"
   ]
  },
  {
   "cell_type": "markdown",
   "id": "9e73d924",
   "metadata": {},
   "source": [
    "#### Accessing values in tuples"
   ]
  },
  {
   "cell_type": "code",
   "execution_count": 48,
   "id": "da39404f",
   "metadata": {},
   "outputs": [
    {
     "name": "stdout",
     "output_type": "stream",
     "text": [
      "Helium\n"
     ]
    }
   ],
   "source": [
    "print(noble_gases[0])"
   ]
  },
  {
   "cell_type": "code",
   "execution_count": 49,
   "id": "7e7322ac",
   "metadata": {},
   "outputs": [
    {
     "name": "stdout",
     "output_type": "stream",
     "text": [
      "Radon\n"
     ]
    }
   ],
   "source": [
    "print(noble_gases[-1])"
   ]
  },
  {
   "cell_type": "code",
   "execution_count": 52,
   "id": "65c4f93f",
   "metadata": {},
   "outputs": [
    {
     "name": "stdout",
     "output_type": "stream",
     "text": [
      "('Helium', 'Neon', 'Argon', 'Krypton')\n"
     ]
    }
   ],
   "source": [
    "print(noble_gases[0:4])"
   ]
  },
  {
   "cell_type": "markdown",
   "id": "646ac90d",
   "metadata": {},
   "source": [
    "#### Deleting tuple elements"
   ]
  },
  {
   "cell_type": "code",
   "execution_count": 53,
   "id": "cbd731cf",
   "metadata": {},
   "outputs": [],
   "source": [
    "del noble_gases"
   ]
  },
  {
   "cell_type": "code",
   "execution_count": 54,
   "id": "dcad6a10",
   "metadata": {},
   "outputs": [
    {
     "ename": "NameError",
     "evalue": "name 'noble_gases' is not defined",
     "output_type": "error",
     "traceback": [
      "\u001b[1;31m---------------------------------------------------------------------------\u001b[0m",
      "\u001b[1;31mNameError\u001b[0m                                 Traceback (most recent call last)",
      "\u001b[1;32m~\\AppData\\Local\\Temp\\ipykernel_948\\1716202492.py\u001b[0m in \u001b[0;36m<module>\u001b[1;34m\u001b[0m\n\u001b[1;32m----> 1\u001b[1;33m \u001b[0mprint\u001b[0m\u001b[1;33m(\u001b[0m\u001b[0mnoble_gases\u001b[0m\u001b[1;33m)\u001b[0m\u001b[1;33m\u001b[0m\u001b[1;33m\u001b[0m\u001b[0m\n\u001b[0m",
      "\u001b[1;31mNameError\u001b[0m: name 'noble_gases' is not defined"
     ]
    }
   ],
   "source": [
    "print(noble_gases)"
   ]
  },
  {
   "cell_type": "markdown",
   "id": "c2492d30",
   "metadata": {},
   "source": [
    "### Sets"
   ]
  },
  {
   "cell_type": "markdown",
   "id": "df79a331",
   "metadata": {},
   "source": [
    "#### Creating sets"
   ]
  },
  {
   "cell_type": "code",
   "execution_count": 69,
   "id": "70dfa5f4",
   "metadata": {},
   "outputs": [],
   "source": [
    "ametals=set([\"Lithium\", \"Sodium\",\"Potassium\",\"Rubidium\",\"Caesium\"])"
   ]
  },
  {
   "cell_type": "code",
   "execution_count": 70,
   "id": "82113886",
   "metadata": {},
   "outputs": [
    {
     "data": {
      "text/plain": [
       "set"
      ]
     },
     "execution_count": 70,
     "metadata": {},
     "output_type": "execute_result"
    }
   ],
   "source": [
    "type(ametals)"
   ]
  },
  {
   "cell_type": "code",
   "execution_count": 71,
   "id": "8586f681",
   "metadata": {},
   "outputs": [],
   "source": [
    "amass={6.9410,22.990,39.098,85.468,132.91}"
   ]
  },
  {
   "cell_type": "code",
   "execution_count": 72,
   "id": "5ab7bc4a",
   "metadata": {},
   "outputs": [
    {
     "name": "stdout",
     "output_type": "stream",
     "text": [
      "{'Rubidium', 'Lithium', 'Sodium', 'Caesium', 'Potassium'}\n"
     ]
    }
   ],
   "source": [
    "print(ametals)"
   ]
  },
  {
   "cell_type": "code",
   "execution_count": 73,
   "id": "eb50f456",
   "metadata": {},
   "outputs": [
    {
     "name": "stdout",
     "output_type": "stream",
     "text": [
      "{132.91, 6.941, 39.098, 85.468, 22.99}\n"
     ]
    }
   ],
   "source": [
    "print(amass)"
   ]
  },
  {
   "cell_type": "markdown",
   "id": "b0807d9e",
   "metadata": {},
   "source": [
    "#### Accessing values in set"
   ]
  },
  {
   "cell_type": "code",
   "execution_count": 74,
   "id": "6743fa60",
   "metadata": {},
   "outputs": [
    {
     "name": "stdout",
     "output_type": "stream",
     "text": [
      "Rubidium\n",
      "Lithium\n",
      "Sodium\n",
      "Caesium\n",
      "Potassium\n"
     ]
    }
   ],
   "source": [
    "for a in ametals:\n",
    "    print(a)"
   ]
  },
  {
   "cell_type": "markdown",
   "id": "3547fc90",
   "metadata": {},
   "source": [
    "#### Adding items to a set"
   ]
  },
  {
   "cell_type": "code",
   "execution_count": 75,
   "id": "57cdb336",
   "metadata": {},
   "outputs": [],
   "source": [
    "ametals={\"Lithium\", \"Sodium\",\"Potassium\",\"Rubidium\", \"Caesium\"}"
   ]
  },
  {
   "cell_type": "code",
   "execution_count": 76,
   "id": "87cd1c53",
   "metadata": {},
   "outputs": [],
   "source": [
    "ametals.add(\"Francium\")"
   ]
  },
  {
   "cell_type": "code",
   "execution_count": 77,
   "id": "67506518",
   "metadata": {},
   "outputs": [
    {
     "name": "stdout",
     "output_type": "stream",
     "text": [
      "{'Rubidium', 'Lithium', 'Francium', 'Sodium', 'Caesium', 'Potassium'}\n"
     ]
    }
   ],
   "source": [
    "print(ametals)"
   ]
  },
  {
   "cell_type": "code",
   "execution_count": 97,
   "id": "d706da5a",
   "metadata": {},
   "outputs": [],
   "source": [
    "ametals.update([\"Beryllium\", \"Magnesium\", \"Calcium\",\n",
    "                \"Strontium\",\"Barium\", \"Radium\"])"
   ]
  },
  {
   "cell_type": "code",
   "execution_count": 98,
   "id": "63f16fa5",
   "metadata": {},
   "outputs": [
    {
     "name": "stdout",
     "output_type": "stream",
     "text": [
      "{'Rubidium', 'Strontium', 'Magnesium', 'Lithium', 'Francium', 'Radium', 'Sodium', 'Caesium', 'Calcium', 'Barium', 'Potassium', 'Beryllium'}\n"
     ]
    }
   ],
   "source": [
    "print(ametals)"
   ]
  },
  {
   "cell_type": "markdown",
   "id": "41ba1ff4",
   "metadata": {},
   "source": [
    "#### Removing items from a set"
   ]
  },
  {
   "cell_type": "code",
   "execution_count": 99,
   "id": "01d269ab",
   "metadata": {},
   "outputs": [],
   "source": [
    "ametals.discard(\"Calcium\")"
   ]
  },
  {
   "cell_type": "code",
   "execution_count": 100,
   "id": "62f4c041",
   "metadata": {},
   "outputs": [
    {
     "name": "stdout",
     "output_type": "stream",
     "text": [
      "{'Rubidium', 'Strontium', 'Magnesium', 'Lithium', 'Francium', 'Radium', 'Sodium', 'Caesium', 'Barium', 'Potassium', 'Beryllium'}\n"
     ]
    }
   ],
   "source": [
    "print(ametals)"
   ]
  },
  {
   "cell_type": "code",
   "execution_count": 101,
   "id": "2ecd64c4",
   "metadata": {},
   "outputs": [],
   "source": [
    "ametals.discard(\"Hydrogen\")"
   ]
  },
  {
   "cell_type": "code",
   "execution_count": 102,
   "id": "6cd4d6f6",
   "metadata": {},
   "outputs": [
    {
     "ename": "KeyError",
     "evalue": "'Calcium'",
     "output_type": "error",
     "traceback": [
      "\u001b[1;31m---------------------------------------------------------------------------\u001b[0m",
      "\u001b[1;31mKeyError\u001b[0m                                  Traceback (most recent call last)",
      "\u001b[1;32m~\\AppData\\Local\\Temp\\ipykernel_948\\2560434520.py\u001b[0m in \u001b[0;36m<module>\u001b[1;34m\u001b[0m\n\u001b[1;32m----> 1\u001b[1;33m \u001b[0mametals\u001b[0m\u001b[1;33m.\u001b[0m\u001b[0mremove\u001b[0m\u001b[1;33m(\u001b[0m\u001b[1;34m\"Calcium\"\u001b[0m\u001b[1;33m)\u001b[0m\u001b[1;33m\u001b[0m\u001b[1;33m\u001b[0m\u001b[0m\n\u001b[0m",
      "\u001b[1;31mKeyError\u001b[0m: 'Calcium'"
     ]
    }
   ],
   "source": [
    "ametals.remove(\"Calcium\")"
   ]
  },
  {
   "cell_type": "code",
   "execution_count": 103,
   "id": "8e282a72",
   "metadata": {},
   "outputs": [
    {
     "name": "stdout",
     "output_type": "stream",
     "text": [
      "{'Rubidium', 'Strontium', 'Magnesium', 'Lithium', 'Francium', 'Radium', 'Sodium', 'Caesium', 'Barium', 'Potassium', 'Beryllium'}\n"
     ]
    }
   ],
   "source": [
    "print(ametals)"
   ]
  },
  {
   "cell_type": "code",
   "execution_count": 104,
   "id": "619562bb",
   "metadata": {},
   "outputs": [],
   "source": [
    "ametals.remove(\"Barium\")"
   ]
  },
  {
   "cell_type": "code",
   "execution_count": 105,
   "id": "13b3a72e",
   "metadata": {},
   "outputs": [
    {
     "name": "stdout",
     "output_type": "stream",
     "text": [
      "{'Rubidium', 'Strontium', 'Magnesium', 'Lithium', 'Francium', 'Radium', 'Sodium', 'Caesium', 'Potassium', 'Beryllium'}\n"
     ]
    }
   ],
   "source": [
    "print(ametals)"
   ]
  },
  {
   "cell_type": "code",
   "execution_count": 106,
   "id": "9f7352fe",
   "metadata": {},
   "outputs": [
    {
     "ename": "KeyError",
     "evalue": "'Hydrogen'",
     "output_type": "error",
     "traceback": [
      "\u001b[1;31m---------------------------------------------------------------------------\u001b[0m",
      "\u001b[1;31mKeyError\u001b[0m                                  Traceback (most recent call last)",
      "\u001b[1;32m~\\AppData\\Local\\Temp\\ipykernel_948\\1324586866.py\u001b[0m in \u001b[0;36m<module>\u001b[1;34m\u001b[0m\n\u001b[1;32m----> 1\u001b[1;33m \u001b[0mametals\u001b[0m\u001b[1;33m.\u001b[0m\u001b[0mremove\u001b[0m\u001b[1;33m(\u001b[0m\u001b[1;34m\"Hydrogen\"\u001b[0m\u001b[1;33m)\u001b[0m\u001b[1;33m\u001b[0m\u001b[1;33m\u001b[0m\u001b[0m\n\u001b[0m",
      "\u001b[1;31mKeyError\u001b[0m: 'Hydrogen'"
     ]
    }
   ],
   "source": [
    "ametals.remove(\"Hydrogen\")"
   ]
  },
  {
   "cell_type": "markdown",
   "id": "4253a75d",
   "metadata": {},
   "source": [
    "### Dictionary"
   ]
  },
  {
   "cell_type": "markdown",
   "id": "b1d5889e",
   "metadata": {},
   "source": [
    "#### Creating Dictionary"
   ]
  },
  {
   "cell_type": "code",
   "execution_count": 107,
   "id": "5622be0f",
   "metadata": {},
   "outputs": [],
   "source": [
    "Chlorine = {'chemical symbol': 'Cl', 'atomic number': 17, \n",
    "            'average mass number': 35.45}"
   ]
  },
  {
   "cell_type": "code",
   "execution_count": 108,
   "id": "99f26dd3",
   "metadata": {},
   "outputs": [
    {
     "name": "stdout",
     "output_type": "stream",
     "text": [
      "{'chemical symbol': 'Cl', 'atomic number': 17, 'average mass number': 35.45}\n"
     ]
    }
   ],
   "source": [
    "print(Chlorine)"
   ]
  },
  {
   "cell_type": "markdown",
   "id": "9fe91800",
   "metadata": {},
   "source": [
    "#### Accesing dictionary values"
   ]
  },
  {
   "cell_type": "code",
   "execution_count": 111,
   "id": "942fbba4",
   "metadata": {},
   "outputs": [
    {
     "name": "stdout",
     "output_type": "stream",
     "text": [
      "Chlorine chemical symbol: Cl\n"
     ]
    }
   ],
   "source": [
    "print (\"Chlorine chemical symbol:\",\n",
    "       Chlorine['chemical symbol'])"
   ]
  },
  {
   "cell_type": "code",
   "execution_count": 113,
   "id": "08897016",
   "metadata": {},
   "outputs": [
    {
     "name": "stdout",
     "output_type": "stream",
     "text": [
      "Chlorine atomic number: 17\n"
     ]
    }
   ],
   "source": [
    "print(\"Chlorine atomic number:\", \n",
    "      Chlorine['atomic number'])"
   ]
  },
  {
   "cell_type": "markdown",
   "id": "942f97ba",
   "metadata": {},
   "source": [
    "#### updating dictionary items"
   ]
  },
  {
   "cell_type": "code",
   "execution_count": 118,
   "id": "847a0511",
   "metadata": {},
   "outputs": [],
   "source": [
    "Chlorine = {'chemical symbol': 'Cl', \n",
    "            'atomic number': 17, \n",
    "            'Average Mass': 35.45}\n",
    "Chlorine['Average Mass'] = 35.5;\n",
    "Chlorine['Atomic Configuration']=\"[Ne]3s23p5\";"
   ]
  },
  {
   "cell_type": "code",
   "execution_count": 119,
   "id": "4a3e856b",
   "metadata": {},
   "outputs": [
    {
     "name": "stdout",
     "output_type": "stream",
     "text": [
      "{'chemical symbol': 'Cl', 'atomic number': 17, 'Average Mass': 35.5, 'Atomic Configuration': '[Ne]3s23p5'}\n"
     ]
    }
   ],
   "source": [
    "print(Chlorine)"
   ]
  },
  {
   "cell_type": "markdown",
   "id": "4a38d2a2",
   "metadata": {},
   "source": [
    "#### deleting dictionary items"
   ]
  },
  {
   "cell_type": "code",
   "execution_count": 121,
   "id": "f32e80f2",
   "metadata": {},
   "outputs": [],
   "source": [
    "del Chlorine['atomic number']"
   ]
  },
  {
   "cell_type": "code",
   "execution_count": 123,
   "id": "9c7c02f5",
   "metadata": {},
   "outputs": [
    {
     "name": "stdout",
     "output_type": "stream",
     "text": [
      "{'chemical symbol': 'Cl', 'Average Mass': 35.5, 'Atomic Configuration': '[Ne]3s23p5'}\n"
     ]
    }
   ],
   "source": [
    "print(Chlorine)"
   ]
  },
  {
   "cell_type": "code",
   "execution_count": 124,
   "id": "9d0303fd",
   "metadata": {},
   "outputs": [],
   "source": [
    "Chlorine.clear()"
   ]
  },
  {
   "cell_type": "code",
   "execution_count": 125,
   "id": "31291cc9",
   "metadata": {},
   "outputs": [
    {
     "name": "stdout",
     "output_type": "stream",
     "text": [
      "{}\n"
     ]
    }
   ],
   "source": [
    "print(Chlorine)"
   ]
  },
  {
   "cell_type": "code",
   "execution_count": 126,
   "id": "f2845ae1",
   "metadata": {},
   "outputs": [],
   "source": [
    "del Chlorine"
   ]
  },
  {
   "cell_type": "markdown",
   "id": "55c244bd",
   "metadata": {},
   "source": [
    "### Arrays"
   ]
  },
  {
   "cell_type": "markdown",
   "id": "f204f6b4",
   "metadata": {},
   "source": [
    "#### creating an array"
   ]
  },
  {
   "cell_type": "code",
   "execution_count": 135,
   "id": "ee578dfc",
   "metadata": {},
   "outputs": [],
   "source": [
    "import numpy"
   ]
  },
  {
   "cell_type": "code",
   "execution_count": 136,
   "id": "e9d77e46",
   "metadata": {},
   "outputs": [],
   "source": [
    "melting_point_data = numpy.array(['79.5°C','52°C',\n",
    "                                  '67°C','42°C','29°C',\n",
    "                                  '54°C','61°C','23°C',\n",
    "                                  '58°C','37°C','48°C']) "
   ]
  },
  {
   "cell_type": "markdown",
   "id": "f980f2db",
   "metadata": {},
   "source": [
    "#### Accessing array elements"
   ]
  },
  {
   "cell_type": "code",
   "execution_count": 138,
   "id": "090cd336",
   "metadata": {},
   "outputs": [
    {
     "name": "stdout",
     "output_type": "stream",
     "text": [
      "79.5°C\n",
      "52°C\n",
      "67°C\n",
      "42°C\n",
      "29°C\n",
      "54°C\n",
      "61°C\n",
      "23°C\n",
      "58°C\n",
      "37°C\n",
      "48°C\n"
     ]
    }
   ],
   "source": [
    "for x in melting_point_data:\n",
    "    print(x)"
   ]
  },
  {
   "cell_type": "code",
   "execution_count": 139,
   "id": "90cfcf23",
   "metadata": {},
   "outputs": [
    {
     "name": "stdout",
     "output_type": "stream",
     "text": [
      "54°C\n"
     ]
    }
   ],
   "source": [
    "#  indexing starts at zero in python\n",
    "print(melting_point_data[5]) "
   ]
  },
  {
   "cell_type": "code",
   "execution_count": 140,
   "id": "efb02fc2",
   "metadata": {},
   "outputs": [
    {
     "name": "stdout",
     "output_type": "stream",
     "text": [
      "['54°C' '61°C' '23°C' '58°C' '37°C' '48°C']\n"
     ]
    }
   ],
   "source": [
    "print(melting_point_data[5:])"
   ]
  },
  {
   "cell_type": "code",
   "execution_count": 142,
   "id": "aa6333cb",
   "metadata": {},
   "outputs": [
    {
     "name": "stdout",
     "output_type": "stream",
     "text": [
      "['54°C' '61°C']\n"
     ]
    }
   ],
   "source": [
    "print(melting_point_data[5: 8])"
   ]
  },
  {
   "cell_type": "code",
   "execution_count": null,
   "id": "23db489b",
   "metadata": {},
   "outputs": [],
   "source": []
  }
 ],
 "metadata": {
  "kernelspec": {
   "display_name": "Python 3 (ipykernel)",
   "language": "python",
   "name": "python3"
  },
  "language_info": {
   "codemirror_mode": {
    "name": "ipython",
    "version": 3
   },
   "file_extension": ".py",
   "mimetype": "text/x-python",
   "name": "python",
   "nbconvert_exporter": "python",
   "pygments_lexer": "ipython3",
   "version": "3.7.13"
  }
 },
 "nbformat": 4,
 "nbformat_minor": 5
}
