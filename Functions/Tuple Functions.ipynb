{
 "cells": [
  {
   "cell_type": "markdown",
   "id": "3ba50aa5",
   "metadata": {},
   "source": [
    "### Tuple Functions"
   ]
  },
  {
   "cell_type": "code",
   "execution_count": 2,
   "id": "99ac95b3",
   "metadata": {},
   "outputs": [
    {
     "name": "stdout",
     "output_type": "stream",
     "text": [
      "The count of boron is: 1\n"
     ]
    }
   ],
   "source": [
    "#Elements tuple\n",
    "ele1 = ('Helium', 'Helium','Helium','Lithium','Beryllium','Boron')\n",
    "ele2 = ('Helium', 'Helium','Lithium','Beryllium','Boron','Boron','boron')\n",
    "\n",
    "#Count boron in ele2\n",
    "count = ele2.count('boron')\n",
    "print(\"The count of boron is:\", count)"
   ]
  },
  {
   "cell_type": "code",
   "execution_count": 2,
   "id": "64e8d7e9",
   "metadata": {},
   "outputs": [
    {
     "name": "stdout",
     "output_type": "stream",
     "text": [
      "The maximum of tuple 'elements' is: Lithium\n"
     ]
    }
   ],
   "source": [
    "#Elements tuple\n",
    "elements = ('Hydrogen','Helium','Helium','Lithium','Beryllium','Boron')\n",
    "#maximum of 'elements'\n",
    "print(\"The maximum of tuple 'elements' is:\",max(elements))"
   ]
  },
  {
   "cell_type": "code",
   "execution_count": 3,
   "id": "8920e7b0",
   "metadata": {},
   "outputs": [
    {
     "name": "stdout",
     "output_type": "stream",
     "text": [
      "The maximum of tuple 'atomic_mass' is:  9.0121831\n"
     ]
    }
   ],
   "source": [
    "#Atomic Mass tuple\n",
    "atomic_mass = ('1.008','4.002602','6.94','9.0121831','10.81')\n",
    "\n",
    "#maximum of 'atomic_mass'\n",
    "print(\"The maximum of tuple 'atomic_mass' is: \",max(atomic_mass))"
   ]
  },
  {
   "cell_type": "code",
   "execution_count": 7,
   "id": "3202c8b1",
   "metadata": {},
   "outputs": [
    {
     "name": "stdout",
     "output_type": "stream",
     "text": [
      "The maximum of tuple 'elements' is: Beryllium\n"
     ]
    }
   ],
   "source": [
    "#Elements tuple\n",
    "elements = ('Hydrogen','Helium','Helium','Lithium','Beryllium','Boron')\n",
    "\n",
    "#minimum of 'elements'\n",
    "print(\"The maximum of tuple 'elements' is:\",min(elements))"
   ]
  },
  {
   "cell_type": "code",
   "execution_count": 8,
   "id": "d563043d",
   "metadata": {},
   "outputs": [
    {
     "name": "stdout",
     "output_type": "stream",
     "text": [
      "The minimum of tuple 'atomic_mass' is:  1.008\n"
     ]
    }
   ],
   "source": [
    "#Atomic Mass tuple\n",
    "atomic_mass = ('1.008','4.002602','6.94','9.0121831','10.81')\n",
    "\n",
    "#minimum of 'atomic_mass'\n",
    "print(\"The minimum of tuple 'atomic_mass' is: \",min(atomic_mass))"
   ]
  },
  {
   "cell_type": "code",
   "execution_count": null,
   "id": "e076e8b5",
   "metadata": {},
   "outputs": [],
   "source": []
  },
  {
   "cell_type": "code",
   "execution_count": null,
   "id": "7a65805c",
   "metadata": {},
   "outputs": [],
   "source": []
  },
  {
   "cell_type": "code",
   "execution_count": null,
   "id": "473a1bf6",
   "metadata": {},
   "outputs": [],
   "source": []
  },
  {
   "cell_type": "code",
   "execution_count": null,
   "id": "07d51a27",
   "metadata": {},
   "outputs": [],
   "source": []
  }
 ],
 "metadata": {
  "kernelspec": {
   "display_name": "Python [conda env:my-rdkit-env] *",
   "language": "python",
   "name": "conda-env-my-rdkit-env-py"
  },
  "language_info": {
   "codemirror_mode": {
    "name": "ipython",
    "version": 3
   },
   "file_extension": ".py",
   "mimetype": "text/x-python",
   "name": "python",
   "nbconvert_exporter": "python",
   "pygments_lexer": "ipython3",
   "version": "3.7.13"
  }
 },
 "nbformat": 4,
 "nbformat_minor": 5
}
