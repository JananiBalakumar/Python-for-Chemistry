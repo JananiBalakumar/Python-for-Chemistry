{
 "cells": [
  {
   "cell_type": "markdown",
   "id": "8178fb2b",
   "metadata": {},
   "source": [
    "# List Functions"
   ]
  },
  {
   "cell_type": "code",
   "execution_count": 3,
   "id": "4136965c",
   "metadata": {},
   "outputs": [
    {
     "name": "stdout",
     "output_type": "stream",
     "text": [
      "Original List: ['Hydrogen', 'Helium', 'Lithium', 'Beryllium', 'Boron']\n",
      "Updated List: ['Hydrogen', 'Helium', 'Lithium', 'Beryllium', 'Boron', 'Carbon']\n"
     ]
    }
   ],
   "source": [
    "#Elements list\n",
    "elements = ['Hydrogen','Helium','Lithium','Beryllium','Boron']\n",
    "\n",
    "print('Original List:', elements)\n",
    "\n",
    "#add'Carbon' to the list\n",
    "elements.append('Carbon')\n",
    "\n",
    "print('Updated List:', elements)"
   ]
  },
  {
   "cell_type": "code",
   "execution_count": 1,
   "id": "bb3d6f46",
   "metadata": {},
   "outputs": [
    {
     "name": "stdout",
     "output_type": "stream",
     "text": [
      "Original List: ['Hydrogen', 'Helium', 'Lithium', 'Beryllium', 'Boron']\n",
      "Updated List: ['Hydrogen', 'Helium', 'Lithium', 'Beryllium', 'Boron', ['1.008', '4.002602', '6.94', '9.012183', '10.81']]\n"
     ]
    }
   ],
   "source": [
    "#Elements list\n",
    "elements = ['Hydrogen','Helium','Lithium','Beryllium','Boron']\n",
    "\n",
    "print('Original List:', elements)\n",
    "\n",
    "#Atomic mass list\n",
    "atomic_mass = ['1.008','4.002602','6.94','9.012183','10.81']\n",
    "\n",
    "#Add Atomic mass to the list\n",
    "elements.append(atomic_mass)\n",
    "\n",
    "print('Updated List:', elements)\n"
   ]
  },
  {
   "cell_type": "code",
   "execution_count": 3,
   "id": "2dd3412e",
   "metadata": {},
   "outputs": [
    {
     "name": "stdout",
     "output_type": "stream",
     "text": [
      "Original List: ['Hydrogen', 'Helium', 'Lithium', 'Beryllium', 'Boron']\n",
      "After clear the list elements List: []\n"
     ]
    }
   ],
   "source": [
    "#Elements list\n",
    "elements = ['Hydrogen','Helium','Lithium','Beryllium','Boron']\n",
    "\n",
    "print('Original List:', elements)\n",
    "#clearing the list\n",
    "elements.clear()\n",
    "\n",
    "print('After clear the list elements List:', elements)"
   ]
  },
  {
   "cell_type": "code",
   "execution_count": 4,
   "id": "fb174519",
   "metadata": {},
   "outputs": [
    {
     "name": "stdout",
     "output_type": "stream",
     "text": [
      "Original List: ['Hydrogen', 'Helium', 'Lithium', 'Beryllium', 'Boron']\n",
      "After clear the list elements List: ['Hydrogen', 'Helium', 'Lithium', 'Beryllium', 'Boron']\n"
     ]
    }
   ],
   "source": [
    "#Elements list\n",
    "elements = ['Hydrogen','Helium','Lithium','Beryllium','Boron']\n",
    "\n",
    "print('Original List:', elements)\n",
    "#clearing the list\n",
    "elements.copy()\n",
    "\n",
    "print('After clear the list elements List:', elements)"
   ]
  },
  {
   "cell_type": "code",
   "execution_count": 8,
   "id": "c70f277d",
   "metadata": {},
   "outputs": [
    {
     "name": "stdout",
     "output_type": "stream",
     "text": [
      "Original List: ['Hydrogen', 'Helium', 'Helium', 'Lithium', 'Beryllium', 'Boron']\n",
      "The count of Helium is:  2\n"
     ]
    }
   ],
   "source": [
    "#Elements list\n",
    "elements = ['Hydrogen','Helium','Helium','Lithium','Beryllium','Boron']\n",
    "print('Original List:', elements)\n",
    "\n",
    "#count Helium\n",
    "count = elements.count('Helium')\n",
    "print(\"The count of Helium is: \", count)"
   ]
  },
  {
   "cell_type": "code",
   "execution_count": 3,
   "id": "e27008a7",
   "metadata": {},
   "outputs": [
    {
     "name": "stdout",
     "output_type": "stream",
     "text": [
      "Original List: ['Hydrogen', ['1.008', '4.002602'], 'Boron', ['1.008'], 'Boron']\n",
      "The count of Boron is:  2\n",
      "The count of ['1.0080','4.00260'] is :  1\n"
     ]
    }
   ],
   "source": [
    "element = ['Hydrogen',['1.008','4.002602'], 'Boron', ['1.008'], 'Boron']\n",
    "print('Original List:', element)\n",
    "\n",
    "#count Boron\n",
    "count = element.count('Boron')\n",
    "print(\"The count of Boron is: \", count)\n",
    "\n",
    "#count ['1.008','4.002602']\n",
    "count = element.count(['1.008','4.002602'])\n",
    "print(\"The count of ['1.0080','4.00260'] is : \",count)"
   ]
  },
  {
   "cell_type": "code",
   "execution_count": 4,
   "id": "74972cc7",
   "metadata": {},
   "outputs": [
    {
     "name": "stdout",
     "output_type": "stream",
     "text": [
      "Original List: ['Hydrogen', 'Helium', 'Lithium']\n",
      "Modified List:  ['Hydrogen', 'Helium', 'Lithium', 'Beryllium', 'Boron']\n"
     ]
    }
   ],
   "source": [
    "#Elements list\n",
    "elements = ['Hydrogen','Helium','Lithium']\n",
    "print('Original List:', elements)\n",
    "\n",
    "#another element list\n",
    "elements1 = ['Beryllium','Boron']\n",
    "\n",
    "#adding elements1 to elements\n",
    "elements.extend(elements1)\n",
    "print('Modified List: ', elements)"
   ]
  },
  {
   "cell_type": "code",
   "execution_count": 21,
   "id": "3091a703",
   "metadata": {},
   "outputs": [
    {
     "name": "stdout",
     "output_type": "stream",
     "text": [
      "Original List: ['Hydrogen', 'Helium', 'Lithium']\n",
      "Modified List using + Operator :  ['Hydrogen', 'Helium', 'Lithium', 'Beryllium', 'Boron']\n"
     ]
    }
   ],
   "source": [
    "#Elements list\n",
    "elements = ['Hydrogen','Helium','Lithium']\n",
    "print('Original List:', elements)\n",
    "\n",
    "#another element list\n",
    "elements1 = ['Beryllium','Boron']\n",
    "\n",
    "#adding elements usig '+' Operator\n",
    "elements = elements + elements1\n",
    "print('Modified List using + Operator : ', elements)"
   ]
  },
  {
   "cell_type": "code",
   "execution_count": 23,
   "id": "0475c38f",
   "metadata": {},
   "outputs": [
    {
     "name": "stdout",
     "output_type": "stream",
     "text": [
      "2\n"
     ]
    }
   ],
   "source": [
    "# Elements list\n",
    "elements = ['Hydrogen', 'Helium', 'Lithium', 'Beryllium', 'Boron']\n",
    " \n",
    "# index of 'Lithium'\n",
    "print(elements.index('Lithium'))"
   ]
  },
  {
   "cell_type": "code",
   "execution_count": 4,
   "id": "d58cf37e",
   "metadata": {},
   "outputs": [
    {
     "name": "stdout",
     "output_type": "stream",
     "text": [
      "3\n"
     ]
    }
   ],
   "source": [
    "# Elements list\n",
    "elements = ['Hydrogen', 'Helium', 'Lithium', 'Beryllium', 'Boron']\n",
    " \n",
    "# index of 'Beryllium'\n",
    "print(elements.index('Beryllium',1,4))"
   ]
  },
  {
   "cell_type": "code",
   "execution_count": 25,
   "id": "c2d3b800",
   "metadata": {},
   "outputs": [
    {
     "ename": "ValueError",
     "evalue": "'Lithium' is not in list",
     "output_type": "error",
     "traceback": [
      "\u001b[1;31m---------------------------------------------------------------------------\u001b[0m",
      "\u001b[1;31mValueError\u001b[0m                                Traceback (most recent call last)",
      "\u001b[1;32m~\\AppData\\Local\\Temp\\ipykernel_16144\\2247899073.py\u001b[0m in \u001b[0;36m<module>\u001b[1;34m\u001b[0m\n\u001b[0;32m      3\u001b[0m \u001b[1;33m\u001b[0m\u001b[0m\n\u001b[0;32m      4\u001b[0m \u001b[1;31m# index of 'Lithium'\u001b[0m\u001b[1;33m\u001b[0m\u001b[1;33m\u001b[0m\u001b[1;33m\u001b[0m\u001b[0m\n\u001b[1;32m----> 5\u001b[1;33m \u001b[0mprint\u001b[0m\u001b[1;33m(\u001b[0m\u001b[0melements\u001b[0m\u001b[1;33m.\u001b[0m\u001b[0mindex\u001b[0m\u001b[1;33m(\u001b[0m\u001b[1;34m'Lithium'\u001b[0m\u001b[1;33m,\u001b[0m\u001b[1;36m5\u001b[0m\u001b[1;33m)\u001b[0m\u001b[1;33m)\u001b[0m\u001b[1;33m\u001b[0m\u001b[1;33m\u001b[0m\u001b[0m\n\u001b[0m",
      "\u001b[1;31mValueError\u001b[0m: 'Lithium' is not in list"
     ]
    }
   ],
   "source": [
    "# Elements list\n",
    "elements = ['Hydrogen', 'Helium', 'Lithium', 'Beryllium', 'Boron']\n",
    " \n",
    "# index of 'Lithium'\n",
    "print(elements.index('Lithium',5))"
   ]
  },
  {
   "cell_type": "code",
   "execution_count": null,
   "id": "847ed80e",
   "metadata": {},
   "outputs": [],
   "source": [
    "# create a list of prime numbers\n",
    "prime_numbers = [2, 3, 5, 7]\n",
    "\n",
    "# insert 11 at index 4\n",
    "prime_numbers.insert(4, 11)\n",
    "\n",
    "\n",
    "print('List:', prime_numbers)"
   ]
  },
  {
   "cell_type": "code",
   "execution_count": 5,
   "id": "3ca6ded8",
   "metadata": {},
   "outputs": [
    {
     "name": "stdout",
     "output_type": "stream",
     "text": [
      "Original List: ['Hydrogen', 'Helium', 'Lithium', 'Boron']\n",
      "updated List: ['Beryllium', 'Hydrogen', 'Helium', 'Lithium', 'Boron']\n"
     ]
    }
   ],
   "source": [
    "#Elements list\n",
    "elements = ['Hydrogen','Helium','Lithium','Boron']\n",
    "print('Original List:', elements)\n",
    "\n",
    "#inserting element at index 0\n",
    "elements.insert(0,'Beryllium')\n",
    "print('updated List:', elements)"
   ]
  },
  {
   "cell_type": "code",
   "execution_count": 9,
   "id": "86d8ad69",
   "metadata": {},
   "outputs": [
    {
     "name": "stdout",
     "output_type": "stream",
     "text": [
      "Original List: ['Hydrogen', ['1.0080', '4.00260'], 'Boron', {'1.0080'}]\n",
      "updated List: ['Hydrogen', ['1.0080', '4.00260'], 'Boron', 'Lithium', {'1.0080'}]\n"
     ]
    }
   ],
   "source": [
    "#mixed elements list\n",
    "elements = ['Hydrogen',['1.0080','4.00260'], 'Boron', {'1.0080'}]\n",
    "print('Original List:', elements)\n",
    "\n",
    "#inserting element at index 3\n",
    "elements.insert(3,'Lithium')\n",
    "print('updated List:', elements)"
   ]
  },
  {
   "cell_type": "code",
   "execution_count": 12,
   "id": "b29e30a8",
   "metadata": {},
   "outputs": [
    {
     "name": "stdout",
     "output_type": "stream",
     "text": [
      "Original List: Hydrogen\n"
     ]
    },
    {
     "ename": "AttributeError",
     "evalue": "'str' object has no attribute 'insert'",
     "output_type": "error",
     "traceback": [
      "\u001b[1;31m---------------------------------------------------------------------------\u001b[0m",
      "\u001b[1;31mAttributeError\u001b[0m                            Traceback (most recent call last)",
      "\u001b[1;32m~\\AppData\\Local\\Temp\\ipykernel_3724\\1951461523.py\u001b[0m in \u001b[0;36m<module>\u001b[1;34m\u001b[0m\n\u001b[0;32m      4\u001b[0m \u001b[1;33m\u001b[0m\u001b[0m\n\u001b[0;32m      5\u001b[0m \u001b[1;31m#inserting element at index 0\u001b[0m\u001b[1;33m\u001b[0m\u001b[1;33m\u001b[0m\u001b[1;33m\u001b[0m\u001b[0m\n\u001b[1;32m----> 6\u001b[1;33m \u001b[0melements\u001b[0m\u001b[1;33m.\u001b[0m\u001b[0minsert\u001b[0m\u001b[1;33m(\u001b[0m\u001b[1;36m0\u001b[0m\u001b[1;33m,\u001b[0m\u001b[1;34m'Beryllium'\u001b[0m\u001b[1;33m)\u001b[0m\u001b[1;33m\u001b[0m\u001b[1;33m\u001b[0m\u001b[0m\n\u001b[0m\u001b[0;32m      7\u001b[0m \u001b[0mprint\u001b[0m\u001b[1;33m(\u001b[0m\u001b[1;34m'updated List:'\u001b[0m\u001b[1;33m,\u001b[0m \u001b[0melements\u001b[0m\u001b[1;33m)\u001b[0m\u001b[1;33m\u001b[0m\u001b[1;33m\u001b[0m\u001b[0m\n",
      "\u001b[1;31mAttributeError\u001b[0m: 'str' object has no attribute 'insert'"
     ]
    }
   ],
   "source": [
    "#Elements list\n",
    "elements = 'Hydrogen'\n",
    "print('Original List:', elements)\n",
    "\n",
    "#inserting element at index 0\n",
    "elements.insert(0,'Beryllium')\n",
    "print('updated List:', elements)"
   ]
  },
  {
   "cell_type": "code",
   "execution_count": 14,
   "id": "7bd5938b",
   "metadata": {},
   "outputs": [
    {
     "name": "stdout",
     "output_type": "stream",
     "text": [
      "Original List: ['Hydrogen', 'Helium', 'Lithium', 'Beryllium', 'Boron']\n",
      "Removed Element: Lithium\n",
      "Updated List: ['Hydrogen', 'Helium', 'Beryllium', 'Boron']\n"
     ]
    }
   ],
   "source": [
    "# Elements list\n",
    "elements = ['Hydrogen', 'Helium', 'Lithium', 'Beryllium', 'Boron']\n",
    "print('Original List:', elements)\n",
    "\n",
    "#Remove the index 2\n",
    "ele = elements.pop(2)\n",
    "print(\"Removed Element:\", ele)\n",
    "\n",
    "#Updated list\n",
    "print('Updated List:', elements)\n"
   ]
  },
  {
   "cell_type": "code",
   "execution_count": 15,
   "id": "25218b43",
   "metadata": {},
   "outputs": [
    {
     "name": "stdout",
     "output_type": "stream",
     "text": [
      "Original List: ['Hydrogen', 'Helium', 'Lithium', 'Beryllium', 'Boron']\n",
      "Removed Element: Boron\n",
      "Removed Element: Lithium\n",
      "Updated List: ['Hydrogen', 'Helium', 'Beryllium']\n"
     ]
    }
   ],
   "source": [
    "# Elements list\n",
    "elements = ['Hydrogen', 'Helium', 'Lithium', 'Beryllium', 'Boron']\n",
    "print('Original List:', elements)\n",
    "\n",
    "#No index value\n",
    "ele = elements.pop()\n",
    "print(\"Removed Element:\", ele)\n",
    "\n",
    "#Remove the index -2\n",
    "ele = elements.pop(-2)\n",
    "print(\"Removed Element:\", ele)\n",
    "\n",
    "#Updated list\n",
    "print('Updated List:', elements)\n"
   ]
  },
  {
   "cell_type": "code",
   "execution_count": 17,
   "id": "8cbd46ed",
   "metadata": {},
   "outputs": [
    {
     "name": "stdout",
     "output_type": "stream",
     "text": [
      "Original List: ['Hydrogen', 'Helium', 'Lithium', 'Beryllium', 'Boron']\n"
     ]
    },
    {
     "ename": "IndexError",
     "evalue": "pop index out of range",
     "output_type": "error",
     "traceback": [
      "\u001b[1;31m---------------------------------------------------------------------------\u001b[0m",
      "\u001b[1;31mIndexError\u001b[0m                                Traceback (most recent call last)",
      "\u001b[1;32m~\\AppData\\Local\\Temp\\ipykernel_3724\\3636135044.py\u001b[0m in \u001b[0;36m<module>\u001b[1;34m\u001b[0m\n\u001b[0;32m      4\u001b[0m \u001b[1;33m\u001b[0m\u001b[0m\n\u001b[0;32m      5\u001b[0m \u001b[1;31m#No index value\u001b[0m\u001b[1;33m\u001b[0m\u001b[1;33m\u001b[0m\u001b[1;33m\u001b[0m\u001b[0m\n\u001b[1;32m----> 6\u001b[1;33m \u001b[0mele\u001b[0m \u001b[1;33m=\u001b[0m \u001b[0melements\u001b[0m\u001b[1;33m.\u001b[0m\u001b[0mpop\u001b[0m\u001b[1;33m(\u001b[0m\u001b[1;36m5\u001b[0m\u001b[1;33m)\u001b[0m\u001b[1;33m\u001b[0m\u001b[1;33m\u001b[0m\u001b[0m\n\u001b[0m\u001b[0;32m      7\u001b[0m \u001b[0mprint\u001b[0m\u001b[1;33m(\u001b[0m\u001b[1;34m\"Removed Element:\"\u001b[0m\u001b[1;33m,\u001b[0m \u001b[0mele\u001b[0m\u001b[1;33m)\u001b[0m\u001b[1;33m\u001b[0m\u001b[1;33m\u001b[0m\u001b[0m\n\u001b[0;32m      8\u001b[0m \u001b[1;33m\u001b[0m\u001b[0m\n",
      "\u001b[1;31mIndexError\u001b[0m: pop index out of range"
     ]
    }
   ],
   "source": [
    "# Elements list\n",
    "elements = ['Hydrogen', 'Helium', 'Lithium', 'Beryllium', 'Boron']\n",
    "print('Original List:', elements)\n",
    "\n",
    "#Remove the index 5\n",
    "ele = elements.pop(5)\n",
    "print(\"Removed Element:\", ele)\n",
    "\n",
    "#Updated list\n",
    "print('Updated List:', elements)\n"
   ]
  },
  {
   "cell_type": "code",
   "execution_count": 19,
   "id": "cd99f152",
   "metadata": {},
   "outputs": [
    {
     "name": "stdout",
     "output_type": "stream",
     "text": [
      "Original List: ['Hydrogen', 'Helium', 'Lithium', 'Beryllium', 'Boron']\n",
      "Updated List: ['Hydrogen', 'Lithium', 'Beryllium', 'Boron']\n"
     ]
    }
   ],
   "source": [
    "# Elements list\n",
    "elements = ['Hydrogen', 'Helium', 'Lithium', 'Beryllium', 'Boron']\n",
    "print('Original List:', elements)\n",
    "\n",
    "#Remove the element 'Helium'\n",
    "ele = elements.remove('Helium')\n",
    "\n",
    "#Updated list\n",
    "print('Updated List:', elements)"
   ]
  },
  {
   "cell_type": "code",
   "execution_count": 20,
   "id": "fb7d9142",
   "metadata": {},
   "outputs": [
    {
     "name": "stdout",
     "output_type": "stream",
     "text": [
      "Original List: ['Hydrogen', 'Helium', 'Lithium', 'Helium', 'Beryllium', 'Boron', 'Helium']\n",
      "Updated List: ['Hydrogen', 'Lithium', 'Helium', 'Beryllium', 'Boron', 'Helium']\n"
     ]
    }
   ],
   "source": [
    "# Elements list\n",
    "elements = ['Hydrogen', 'Helium', 'Lithium', 'Helium',\n",
    "            'Beryllium', 'Boron','Helium']\n",
    "print('Original List:', elements)\n",
    "\n",
    "#Remove the element 'Helium'\n",
    "ele = elements.remove('Helium')\n",
    "\n",
    "#Updated list\n",
    "print('Updated List:', elements)"
   ]
  },
  {
   "cell_type": "code",
   "execution_count": 21,
   "id": "8f43892b",
   "metadata": {},
   "outputs": [
    {
     "name": "stdout",
     "output_type": "stream",
     "text": [
      "Original List: ['Hydrogen', 'Helium', 'Lithium', 'Beryllium', 'Boron']\n"
     ]
    },
    {
     "ename": "ValueError",
     "evalue": "list.remove(x): x not in list",
     "output_type": "error",
     "traceback": [
      "\u001b[1;31m---------------------------------------------------------------------------\u001b[0m",
      "\u001b[1;31mValueError\u001b[0m                                Traceback (most recent call last)",
      "\u001b[1;32m~\\AppData\\Local\\Temp\\ipykernel_3724\\2229437065.py\u001b[0m in \u001b[0;36m<module>\u001b[1;34m\u001b[0m\n\u001b[0;32m      4\u001b[0m \u001b[1;33m\u001b[0m\u001b[0m\n\u001b[0;32m      5\u001b[0m \u001b[1;31m#Remove the element 'Helium'\u001b[0m\u001b[1;33m\u001b[0m\u001b[1;33m\u001b[0m\u001b[1;33m\u001b[0m\u001b[0m\n\u001b[1;32m----> 6\u001b[1;33m \u001b[0mele\u001b[0m \u001b[1;33m=\u001b[0m \u001b[0melements\u001b[0m\u001b[1;33m.\u001b[0m\u001b[0mremove\u001b[0m\u001b[1;33m(\u001b[0m\u001b[1;34m'Oxygen'\u001b[0m\u001b[1;33m)\u001b[0m\u001b[1;33m\u001b[0m\u001b[1;33m\u001b[0m\u001b[0m\n\u001b[0m",
      "\u001b[1;31mValueError\u001b[0m: list.remove(x): x not in list"
     ]
    }
   ],
   "source": [
    "# Elements list\n",
    "elements = ['Hydrogen', 'Helium', 'Lithium', 'Beryllium', 'Boron']\n",
    "print('Original List:', elements)\n",
    "\n",
    "#Remove the element 'Helium'\n",
    "ele = elements.remove('Oxygen')"
   ]
  },
  {
   "cell_type": "code",
   "execution_count": 6,
   "id": "875de660",
   "metadata": {},
   "outputs": [
    {
     "name": "stdout",
     "output_type": "stream",
     "text": [
      "Original List: ['Hydrogen', 'Helium', 'Lithium', 'Beryllium', 'Boron']\n",
      "Reverse List: ['Boron', 'Beryllium', 'Lithium', 'Helium', 'Hydrogen']\n"
     ]
    }
   ],
   "source": [
    "#Elements list\n",
    "elements = ['Hydrogen', 'Helium', 'Lithium', 'Beryllium', 'Boron']\n",
    "print('Original List:', elements)\n",
    "\n",
    "#Reverse the list\n",
    "elements.reverse()\n",
    "\n",
    "#Reverse elements\n",
    "print(\"Reverse List:\", elements)"
   ]
  },
  {
   "cell_type": "code",
   "execution_count": 7,
   "id": "67e6e7ce",
   "metadata": {},
   "outputs": [
    {
     "name": "stdout",
     "output_type": "stream",
     "text": [
      "Original List: ['1.008', '4.002602', '6.94', '9.012183', '10.81']\n",
      "Reverse List: ['10.81', '9.012183', '6.94', '4.002602', '1.008']\n"
     ]
    }
   ],
   "source": [
    "#Atomic Mass list\n",
    "atomic_mass = ['1.008','4.002602','6.94','9.012183','10.81']\n",
    "print('Original List:', atomic_mass)\n",
    "\n",
    "#Reverse the list\n",
    "atomic_mass.reverse()\n",
    "\n",
    "#Reverse elements\n",
    "print(\"Reverse List:\", atomic_mass)"
   ]
  },
  {
   "cell_type": "code",
   "execution_count": 24,
   "id": "64aee49a",
   "metadata": {},
   "outputs": [
    {
     "name": "stdout",
     "output_type": "stream",
     "text": [
      "Original List: Hydrogen\n"
     ]
    },
    {
     "ename": "AttributeError",
     "evalue": "'str' object has no attribute 'reverse'",
     "output_type": "error",
     "traceback": [
      "\u001b[1;31m---------------------------------------------------------------------------\u001b[0m",
      "\u001b[1;31mAttributeError\u001b[0m                            Traceback (most recent call last)",
      "\u001b[1;32m~\\AppData\\Local\\Temp\\ipykernel_3724\\1057541366.py\u001b[0m in \u001b[0;36m<module>\u001b[1;34m\u001b[0m\n\u001b[0;32m      4\u001b[0m \u001b[1;33m\u001b[0m\u001b[0m\n\u001b[0;32m      5\u001b[0m \u001b[1;31m#Reverse the list\u001b[0m\u001b[1;33m\u001b[0m\u001b[1;33m\u001b[0m\u001b[1;33m\u001b[0m\u001b[0m\n\u001b[1;32m----> 6\u001b[1;33m \u001b[0melements\u001b[0m\u001b[1;33m.\u001b[0m\u001b[0mreverse\u001b[0m\u001b[1;33m(\u001b[0m\u001b[1;33m)\u001b[0m\u001b[1;33m\u001b[0m\u001b[1;33m\u001b[0m\u001b[0m\n\u001b[0m",
      "\u001b[1;31mAttributeError\u001b[0m: 'str' object has no attribute 'reverse'"
     ]
    }
   ],
   "source": [
    "#Elements list\n",
    "elements = 'Hydrogen'\n",
    "print('Original List:', elements)\n",
    "\n",
    "#Reverse the list\n",
    "elements.reverse()"
   ]
  },
  {
   "cell_type": "code",
   "execution_count": 26,
   "id": "b89c8573",
   "metadata": {},
   "outputs": [
    {
     "name": "stdout",
     "output_type": "stream",
     "text": [
      "Original List: ['Hydrogen', 'Helium', 'Lithium', 'Beryllium', 'Boron']\n",
      "Sorted List: ['Beryllium', 'Boron', 'Helium', 'Hydrogen', 'Lithium']\n"
     ]
    }
   ],
   "source": [
    "#Elements list\n",
    "elements = ['Hydrogen', 'Helium', 'Lithium', 'Beryllium', 'Boron']\n",
    "print('Original List:', elements)\n",
    "\n",
    "#sort the list\n",
    "elements.sort()\n",
    "\n",
    "#sorted elements\n",
    "print(\"Sorted List:\", elements)"
   ]
  },
  {
   "cell_type": "code",
   "execution_count": 27,
   "id": "a0addd4b",
   "metadata": {},
   "outputs": [
    {
     "name": "stdout",
     "output_type": "stream",
     "text": [
      "Original List: ['Hydrogen', 'Helium', 'Lithium', 'Beryllium', 'Boron']\n",
      "Sorted List: ['Lithium', 'Hydrogen', 'Helium', 'Boron', 'Beryllium']\n"
     ]
    }
   ],
   "source": [
    "#Elements list\n",
    "elements = ['Hydrogen', 'Helium', 'Lithium', 'Beryllium', 'Boron']\n",
    "print('Original List:', elements)\n",
    "\n",
    "#sort the list\n",
    "elements.sort(reverse=True)\n",
    "\n",
    "#sorted elements\n",
    "print(\"Sorted List:\", elements)"
   ]
  },
  {
   "cell_type": "code",
   "execution_count": 29,
   "id": "b3a9be7f",
   "metadata": {},
   "outputs": [
    {
     "name": "stdout",
     "output_type": "stream",
     "text": [
      "Original List: ['Hydrogen', 'Helium', 'Lithium', 'Beryllium', 'Boron']\n",
      "Sorted List: ['Boron', 'Helium', 'Lithium', 'Hydrogen', 'Beryllium']\n"
     ]
    }
   ],
   "source": [
    "#Elements list\n",
    "elements = ['Hydrogen', 'Helium', 'Lithium', 'Beryllium', 'Boron']\n",
    "print('Original List:', elements)\n",
    "\n",
    "#sort the list\n",
    "elements.sort(reverse = False, key=len)\n",
    "\n",
    "#sorted elements\n",
    "print(\"Sorted List:\", elements)"
   ]
  },
  {
   "cell_type": "code",
   "execution_count": 30,
   "id": "9de909a7",
   "metadata": {},
   "outputs": [
    {
     "name": "stdout",
     "output_type": "stream",
     "text": [
      "Maximum value : Lithium\n"
     ]
    }
   ],
   "source": [
    "#Elements list\n",
    "elements = ['Hydrogen', 'Helium', 'Lithium', 'Beryllium', 'Boron']\n",
    "\n",
    "#Maximum value\n",
    "print(\"Maximum value :\",max(elements))"
   ]
  },
  {
   "cell_type": "code",
   "execution_count": 9,
   "id": "2099a589",
   "metadata": {},
   "outputs": [
    {
     "name": "stdout",
     "output_type": "stream",
     "text": [
      "Maximum value : 9.0121831\n"
     ]
    }
   ],
   "source": [
    "#Atomic Mass list\n",
    "atomic_mass = ['1.008','4.002602','6.94','9.0121831','10.81']\n",
    "\n",
    "#Maximum value\n",
    "print(\"Maximum value :\",max(atomic_mass))"
   ]
  },
  {
   "cell_type": "code",
   "execution_count": 42,
   "id": "e2890f4a",
   "metadata": {},
   "outputs": [
    {
     "name": "stdout",
     "output_type": "stream",
     "text": [
      "Maximum value : 0\n"
     ]
    }
   ],
   "source": [
    "num = ['-9', '0', '']\n",
    "#Maximum value\n",
    "print(\"Maximum value :\",max(num))"
   ]
  },
  {
   "cell_type": "markdown",
   "id": "0a72120c",
   "metadata": {},
   "source": [
    "### Set Functions"
   ]
  },
  {
   "cell_type": "code",
   "execution_count": 1,
   "id": "71e3a063",
   "metadata": {},
   "outputs": [
    {
     "name": "stdout",
     "output_type": "stream",
     "text": [
      "Original Set {'Hydrogen', 'Lithium', 'Beryllium', 'Boron', 'Helium'}\n",
      "Updated Set is: {'Hydrogen', 'Lithium', 'Beryllium', 'Boron', 'Helium', 'Carbon'}\n"
     ]
    }
   ],
   "source": [
    "#Elements set\n",
    "elements = {'Hydrogen', 'Helium', 'Lithium', 'Beryllium', 'Boron'}\n",
    "print(\"Original Set\", elements)\n",
    "\n",
    "#adding 'Carbon'\n",
    "elements.add('Carbon')\n",
    "print(\"Updated Set is:\", elements)"
   ]
  },
  {
   "cell_type": "code",
   "execution_count": 2,
   "id": "ef31dc94",
   "metadata": {},
   "outputs": [
    {
     "name": "stdout",
     "output_type": "stream",
     "text": [
      "Original Set {'Hydrogen', 'Lithium', 'Beryllium', 'Boron', 'Helium'}\n",
      "Updated Set is: {'Hydrogen', 'Lithium', 'Beryllium', 'Boron', 'Helium'}\n"
     ]
    }
   ],
   "source": [
    "#Elements set\n",
    "elements = {'Hydrogen', 'Helium', 'Lithium', 'Beryllium', 'Boron'}\n",
    "print(\"Original Set\", elements)\n",
    "\n",
    "#adding 'Boron'\n",
    "elements.add('Boron')\n",
    "print(\"Updated Set is:\", elements)"
   ]
  },
  {
   "cell_type": "code",
   "execution_count": null,
   "id": "46018512",
   "metadata": {},
   "outputs": [],
   "source": []
  },
  {
   "cell_type": "code",
   "execution_count": 3,
   "id": "d1fde5e7",
   "metadata": {},
   "outputs": [
    {
     "name": "stdout",
     "output_type": "stream",
     "text": [
      "Original Set {'Lithium', 'Beryllium', 'Helium', 'Hydrogen', 'Boron'}\n",
      "Updated set: {'Lithium', 'Beryllium', 'Hydrogen', 'Boron'}\n"
     ]
    }
   ],
   "source": [
    "#Elements set\n",
    "elements = {'Hydrogen', 'Helium', 'Lithium', 'Beryllium', 'Boron'}\n",
    "print(\"Original Set\", elements)\n",
    "\n",
    "#remove element 'Helium'\n",
    "elements.discard(\"Helium\")\n",
    "print(\"Updated set:\", elements)"
   ]
  },
  {
   "cell_type": "code",
   "execution_count": 4,
   "id": "6d1a01dc",
   "metadata": {},
   "outputs": [
    {
     "name": "stdout",
     "output_type": "stream",
     "text": [
      "Original Set {'Lithium', 'Beryllium', 'Helium', 'Hydrogen', 'Boron'}\n",
      "Updated set: {'Lithium', 'Beryllium', 'Helium', 'Hydrogen', 'Boron'}\n"
     ]
    }
   ],
   "source": [
    "#Elements set\n",
    "elements = {'Hydrogen', 'Helium', 'Lithium', 'Beryllium', 'Boron'}\n",
    "print(\"Original Set\", elements)\n",
    "\n",
    "#remove element 'Carbon'\n",
    "elements.discard(\"Carbon\")\n",
    "print(\"Updated set:\", elements)"
   ]
  },
  {
   "cell_type": "code",
   "execution_count": 3,
   "id": "efe201d4",
   "metadata": {},
   "outputs": [
    {
     "name": "stdout",
     "output_type": "stream",
     "text": [
      "Original Set {'Hydrogen', 'Lithium', 'Beryllium', 'Boron', 'Helium'}\n",
      "After clear is: set()\n"
     ]
    }
   ],
   "source": [
    "#Elements set\n",
    "elements = {'Hydrogen', 'Helium', 'Lithium', 'Beryllium', 'Boron'}\n",
    "print(\"Original Set\", elements)\n",
    "\n",
    "#clear the set\n",
    "elements.clear()\n",
    "print(\"After clear is:\", elements)"
   ]
  },
  {
   "cell_type": "code",
   "execution_count": null,
   "id": "c97cc201",
   "metadata": {},
   "outputs": [],
   "source": []
  },
  {
   "cell_type": "code",
   "execution_count": null,
   "id": "6a26ffd7",
   "metadata": {},
   "outputs": [],
   "source": []
  },
  {
   "cell_type": "code",
   "execution_count": null,
   "id": "5b3f6e5a",
   "metadata": {},
   "outputs": [],
   "source": []
  },
  {
   "cell_type": "code",
   "execution_count": 8,
   "id": "ca90f2e6",
   "metadata": {},
   "outputs": [
    {
     "name": "stdout",
     "output_type": "stream",
     "text": [
      "Intersection of set1 and set2 {'Lithium', 'Helium', 'Hydrogen'}\n",
      "Intersection of set1 and set3 {'Boron', 'Helium'}\n",
      "Intersection of set2 and set3 {'Helium'}\n",
      "Intersection of set1 with set2 and set3 {'Helium'}\n"
     ]
    }
   ],
   "source": [
    "#Elements set\n",
    "set1 = {'Hydrogen', 'Helium', 'Lithium', 'Beryllium', 'Boron'}\n",
    "set2 = {'Hydrogen', 'Helium', 'Lithium'}\n",
    "set3 = {'Carbon','Helium', 'Boron', 'Nitrogen'}\n",
    "\n",
    "#intersection of set1 and set2\n",
    "print(\"Intersection of set1 and set2\",set1.intersection(set2))\n",
    "\n",
    "##intersection of set1 and set3\n",
    "print(\"Intersection of set1 and set3\",set1.intersection(set3))\n",
    "\n",
    "#intersection of set2 and set3\n",
    "print(\"Intersection of set2 and set3\",set2.intersection(set3))\n",
    "\n",
    "#intersection of set1 with set2 and set3\n",
    "print(\"Intersection of set1 with set2 and set3\",set1.intersection(set2,set3))"
   ]
  },
  {
   "cell_type": "code",
   "execution_count": 12,
   "id": "0184f440",
   "metadata": {},
   "outputs": [
    {
     "name": "stdout",
     "output_type": "stream",
     "text": [
      "Intersection of set1 and set2 {'Lithium', 'Helium', 'Hydrogen'}\n",
      "Intersection of set1 and set3 {'Boron', 'Helium'}\n",
      "Intersection of set2 and set3 {'Helium'}\n",
      "Intersection of set1 with set2 and set3 {'Helium'}\n"
     ]
    }
   ],
   "source": [
    "#Elements set\n",
    "set1 = {'Hydrogen', 'Helium', 'Lithium', 'Beryllium', 'Boron'}\n",
    "set2 = {'Hydrogen', 'Helium', 'Lithium'}\n",
    "set3 = {'Carbon','Helium', 'Boron', 'Nitrogen'}\n",
    "\n",
    "#intersection of set1 and set2\n",
    "print(\"Intersection of set1 and set2\",(set1&set2))\n",
    "\n",
    "##intersection of set1 and set3\n",
    "print(\"Intersection of set1 and set3\",(set1&set3))\n",
    "\n",
    "#intersection of set2 and set3\n",
    "print(\"Intersection of set2 and set3\",(set2&set3))\n",
    "\n",
    "#intersection of set1 with set2 and set3\n",
    "print(\"Intersection of set1 with set2 and set3\",(set1&set2&set3))\n"
   ]
  },
  {
   "cell_type": "code",
   "execution_count": 15,
   "id": "eec5bf97",
   "metadata": {},
   "outputs": [
    {
     "name": "stdout",
     "output_type": "stream",
     "text": [
      "Original set1 : {'Lithium', 'Boron', 'Helium', 'Beryllium'}\n",
      "Original set2 : {'Lithium', 'Hydrogen', 'Beryllium', 'Carbon'}\n",
      "set1 after updation: {'Lithium', 'Beryllium'}\n",
      "Set2 after updation: {'Lithium', 'Hydrogen', 'Beryllium', 'Carbon'}\n"
     ]
    }
   ],
   "source": [
    "#Elements set\n",
    "set1 = {'Helium', 'Lithium', 'Beryllium', 'Boron'}\n",
    "set2 = {'Hydrogen', 'Beryllium', 'Lithium','Carbon'}\n",
    "\n",
    "print(\"Original set1 :\", set1)\n",
    "print(\"Original set2 :\", set2)\n",
    "#set1 inersection_update set2\n",
    "set1.intersection_update(set2)\n",
    "print(\"set1 after updation:\", set1)\n",
    "print(\"Set2 after updation:\", set2)"
   ]
  },
  {
   "cell_type": "code",
   "execution_count": 16,
   "id": "e69e1b9e",
   "metadata": {},
   "outputs": [
    {
     "name": "stdout",
     "output_type": "stream",
     "text": [
      "Original set1 : {'Lithium', 'Boron', 'Helium', 'Beryllium'}\n",
      "Original set2 : {'Lithium', 'Hydrogen', 'Beryllium', 'Carbon'}\n",
      "set1 after updation: {'Lithium', 'Boron', 'Helium', 'Beryllium'}\n",
      "Set2 after updation: {'Lithium', 'Beryllium'}\n"
     ]
    }
   ],
   "source": [
    "#Elements set\n",
    "set1 = {'Helium', 'Lithium', 'Beryllium', 'Boron'}\n",
    "set2 = {'Hydrogen', 'Beryllium', 'Lithium','Carbon'}\n",
    "\n",
    "print(\"Original set1 :\", set1)\n",
    "print(\"Original set2 :\", set2)\n",
    "#set2 inersection_update set1\n",
    "set2.intersection_update(set1)\n",
    "print(\"set1 after updation:\", set1)\n",
    "print(\"Set2 after updation:\", set2)"
   ]
  },
  {
   "cell_type": "code",
   "execution_count": 21,
   "id": "fe1370b2",
   "metadata": {},
   "outputs": [
    {
     "name": "stdout",
     "output_type": "stream",
     "text": [
      "set1 is subset of set2:  True\n",
      "set2 is subset of set1:  False\n"
     ]
    }
   ],
   "source": [
    "#Elements set\n",
    "set1 = {'Helium', 'Lithium', 'Beryllium', 'Boron'}\n",
    "set2 = {'Hydrogen', 'Helium','Beryllium', 'Lithium','Carbon','Boron'}\n",
    "\n",
    "#set1 subset of set2\n",
    "print(\"set1 is subset of set2: \",set1.issubset(set2))\n",
    "\n",
    "#set2 subset of set1\n",
    "print(\"set2 is subset of set1: \",set2.issubset(set1))"
   ]
  },
  {
   "cell_type": "code",
   "execution_count": 35,
   "id": "67dae2e8",
   "metadata": {},
   "outputs": [
    {
     "name": "stdout",
     "output_type": "stream",
     "text": [
      "set1 is superset of set2:  False\n",
      "set2 is superset of set1:  True\n"
     ]
    }
   ],
   "source": [
    "#Elements set\n",
    "set1 = {'Helium', 'Lithium', 'Beryllium', 'Boron'}\n",
    "set2 = {'Hydrogen', 'Helium','Beryllium', 'Lithium','Carbon','Boron'}\n",
    "\n",
    "#set1 superset of set2\n",
    "print(\"set1 is superset of set2: \",set1.issuperset(set2))\n",
    "\n",
    "#set2 superset of set1\n",
    "print(\"set2 is superset of set1: \",set2.issuperset(set1))"
   ]
  },
  {
   "cell_type": "code",
   "execution_count": 36,
   "id": "b738739a",
   "metadata": {},
   "outputs": [
    {
     "name": "stdout",
     "output_type": "stream",
     "text": [
      "The pop() removes:  Lithium\n",
      "Updated set is:  {'Beryllium', 'Helium', 'Hydrogen', 'Carbon', 'Boron'}\n"
     ]
    }
   ],
   "source": [
    "#Elements set\n",
    "set1 = {'Hydrogen', 'Helium','Beryllium', 'Lithium','Carbon','Boron'}\n",
    "\n",
    "#removes random item of set1\n",
    "print(\"The pop() removes: \", set1.pop())\n",
    "\n",
    "#Updating set\n",
    "print(\"Updated set is: \", set1)"
   ]
  },
  {
   "cell_type": "code",
   "execution_count": 32,
   "id": "cfc36672",
   "metadata": {},
   "outputs": [
    {
     "ename": "TypeError",
     "evalue": "pop expected at least 1 arguments, got 0",
     "output_type": "error",
     "traceback": [
      "\u001b[1;31m---------------------------------------------------------------------------\u001b[0m",
      "\u001b[1;31mTypeError\u001b[0m                                 Traceback (most recent call last)",
      "\u001b[1;32m~\\AppData\\Local\\Temp\\ipykernel_10924\\1424313875.py\u001b[0m in \u001b[0;36m<module>\u001b[1;34m\u001b[0m\n\u001b[0;32m      3\u001b[0m \u001b[1;33m\u001b[0m\u001b[0m\n\u001b[0;32m      4\u001b[0m \u001b[1;31m#removes random item of set1\u001b[0m\u001b[1;33m\u001b[0m\u001b[1;33m\u001b[0m\u001b[1;33m\u001b[0m\u001b[0m\n\u001b[1;32m----> 5\u001b[1;33m \u001b[0mprint\u001b[0m\u001b[1;33m(\u001b[0m\u001b[1;34m\"The pop() removes: \"\u001b[0m\u001b[1;33m,\u001b[0m \u001b[0mset1\u001b[0m\u001b[1;33m.\u001b[0m\u001b[0mpop\u001b[0m\u001b[1;33m(\u001b[0m\u001b[1;33m)\u001b[0m\u001b[1;33m)\u001b[0m\u001b[1;33m\u001b[0m\u001b[1;33m\u001b[0m\u001b[0m\n\u001b[0m\u001b[0;32m      6\u001b[0m \u001b[1;33m\u001b[0m\u001b[0m\n\u001b[0;32m      7\u001b[0m \u001b[1;31m#Updating set\u001b[0m\u001b[1;33m\u001b[0m\u001b[1;33m\u001b[0m\u001b[1;33m\u001b[0m\u001b[0m\n",
      "\u001b[1;31mTypeError\u001b[0m: pop expected at least 1 arguments, got 0"
     ]
    }
   ],
   "source": [
    "#Empty set\n",
    "set1 = {}\n",
    "\n",
    "#removes random item of set1\n",
    "print(\"The pop() removes: \", set1.pop())\n",
    "\n",
    "#Updating set\n",
    "print(\"Updated set is: \", set1)"
   ]
  },
  {
   "cell_type": "code",
   "execution_count": 37,
   "id": "d8150756",
   "metadata": {},
   "outputs": [
    {
     "name": "stdout",
     "output_type": "stream",
     "text": [
      "Updated set is:  {'Lithium', 'Beryllium', 'Helium', 'Hydrogen', 'Carbon'}\n"
     ]
    }
   ],
   "source": [
    "#Elements set\n",
    "set1 = {'Hydrogen', 'Helium','Beryllium', 'Lithium','Carbon','Boron'}\n",
    "\n",
    "#removes the element 'Boron'\n",
    "set1.remove('Boron')\n",
    "\n",
    "#Updating set\n",
    "print(\"Updated set is: \", set1)"
   ]
  },
  {
   "cell_type": "code",
   "execution_count": 38,
   "id": "64994439",
   "metadata": {},
   "outputs": [
    {
     "ename": "KeyError",
     "evalue": "'Oxygen'",
     "output_type": "error",
     "traceback": [
      "\u001b[1;31m---------------------------------------------------------------------------\u001b[0m",
      "\u001b[1;31mKeyError\u001b[0m                                  Traceback (most recent call last)",
      "\u001b[1;32m~\\AppData\\Local\\Temp\\ipykernel_10924\\3942416308.py\u001b[0m in \u001b[0;36m<module>\u001b[1;34m\u001b[0m\n\u001b[0;32m      3\u001b[0m \u001b[1;33m\u001b[0m\u001b[0m\n\u001b[0;32m      4\u001b[0m \u001b[1;31m#removes the element 'Boron'\u001b[0m\u001b[1;33m\u001b[0m\u001b[1;33m\u001b[0m\u001b[1;33m\u001b[0m\u001b[0m\n\u001b[1;32m----> 5\u001b[1;33m \u001b[0mset1\u001b[0m\u001b[1;33m.\u001b[0m\u001b[0mremove\u001b[0m\u001b[1;33m(\u001b[0m\u001b[1;34m'Oxygen'\u001b[0m\u001b[1;33m)\u001b[0m\u001b[1;33m\u001b[0m\u001b[1;33m\u001b[0m\u001b[0m\n\u001b[0m\u001b[0;32m      6\u001b[0m \u001b[1;33m\u001b[0m\u001b[0m\n\u001b[0;32m      7\u001b[0m \u001b[1;31m#Updating set\u001b[0m\u001b[1;33m\u001b[0m\u001b[1;33m\u001b[0m\u001b[1;33m\u001b[0m\u001b[0m\n",
      "\u001b[1;31mKeyError\u001b[0m: 'Oxygen'"
     ]
    }
   ],
   "source": [
    "#Elements set\n",
    "set1 = {'Hydrogen', 'Helium','Beryllium', 'Lithium','Carbon','Boron'}\n",
    "\n",
    "#removes the element 'Boron'\n",
    "set1.remove('Oxygen')\n",
    "\n",
    "#Updating set\n",
    "print(\"Updated set is: \", set1)"
   ]
  },
  {
   "cell_type": "code",
   "execution_count": 41,
   "id": "eff9eabe",
   "metadata": {},
   "outputs": [
    {
     "name": "stdout",
     "output_type": "stream",
     "text": [
      "Elements are:  {'Hydrogen', 'Carbon'}\n"
     ]
    }
   ],
   "source": [
    "#Elements set\n",
    "set1 = {'Helium', 'Lithium', 'Beryllium','Carbon', 'Boron'}\n",
    "set2 = {'Hydrogen', 'Helium','Beryllium', 'Lithium','Boron'}\n",
    "\n",
    "#set1 symmetric_difference set2\n",
    "print(\"Elements are: \",set1.symmetric_difference(set2))\n"
   ]
  },
  {
   "cell_type": "code",
   "execution_count": 42,
   "id": "d034fc8a",
   "metadata": {},
   "outputs": [
    {
     "name": "stdout",
     "output_type": "stream",
     "text": [
      "Elements are:  set()\n"
     ]
    }
   ],
   "source": [
    "#Elements set\n",
    "set1 = {'Helium', 'Lithium', 'Beryllium','Carbon', 'Boron'}\n",
    "set2 = {'Helium', 'Lithium', 'Beryllium','Carbon', 'Boron'}\n",
    "\n",
    "#set1 symmetric_difference set2\n",
    "print(\"Elements are: \",set1.symmetric_difference(set2))"
   ]
  },
  {
   "cell_type": "code",
   "execution_count": 44,
   "id": "bb08d918",
   "metadata": {},
   "outputs": [
    {
     "name": "stdout",
     "output_type": "stream",
     "text": [
      "Elements are:  {'Hydrogen', 'Carbon'}\n"
     ]
    }
   ],
   "source": [
    "#Elements set\n",
    "set1 = {'Helium', 'Lithium', 'Beryllium','Carbon', 'Boron'}\n",
    "set2 = {'Hydrogen', 'Helium','Beryllium', 'Lithium','Boron'}\n",
    "\n",
    "#set1 ^ set2\n",
    "print(\"Elements are: \",(set1^set2))"
   ]
  },
  {
   "cell_type": "code",
   "execution_count": 48,
   "id": "bf7fb5c6",
   "metadata": {},
   "outputs": [
    {
     "name": "stdout",
     "output_type": "stream",
     "text": [
      "Updated set1 is: {'Hydrogen', 'Carbon'}\n",
      "Set2 is: {'Lithium', 'Beryllium', 'Helium', 'Hydrogen', 'Boron'}\n"
     ]
    }
   ],
   "source": [
    "#Elements set\n",
    "set1 = {'Helium', 'Lithium', 'Beryllium','Carbon', 'Boron'}\n",
    "set2 = {'Hydrogen', 'Helium','Beryllium', 'Lithium','Boron'}\n",
    "\n",
    "#set1 symmetric_difference_update set2\n",
    "set1.symmetric_difference_update(set2)\n",
    "print(\"Updated set1 is:\", set1)\n",
    "print(\"Set2 is:\", set2)"
   ]
  },
  {
   "cell_type": "code",
   "execution_count": 51,
   "id": "8f0907d8",
   "metadata": {},
   "outputs": [
    {
     "name": "stdout",
     "output_type": "stream",
     "text": [
      "set1 U set2: {'Lithium', 'Beryllium', 'Hydrogen', 'Helium', 'Boron', 'Oxygen'}\n",
      "set1 U set3: {'Lithium', 'Beryllium', 'Hydrogen', 'Helium', 'Boron', 'Oxygen'}\n",
      "set1 U set2 U set3: {'Lithium', 'Nitrogen', 'Beryllium', 'Hydrogen', 'Helium', 'Carbon', 'Boron', 'Oxygen'}\n"
     ]
    }
   ],
   "source": [
    "#Elements set\n",
    "set1 = {'Hydrogen', 'Helium', 'Lithium', 'Beryllium', 'Boron'}\n",
    "set2 = {'Hydrogen', 'Helium', 'Lithium','Oxygen'}\n",
    "set3 = {'Carbon','Helium', 'Boron', 'Nitrogen'}\n",
    "\n",
    "#union of set1 and set2\n",
    "print(\"set1 U set2:\",set1.union(set2))\n",
    "\n",
    "#union of set1 and set3\n",
    "print(\"set1 U set3:\",set1.union(set2))\n",
    "\n",
    "#union of set1 and set2 and set3\n",
    "print(\"set1 U set2 U set3:\",set1.union(set2,set3))"
   ]
  },
  {
   "cell_type": "code",
   "execution_count": 53,
   "id": "e0ad10d4",
   "metadata": {},
   "outputs": [
    {
     "name": "stdout",
     "output_type": "stream",
     "text": [
      "set1 U set2: {'Lithium', 'Beryllium', 'Hydrogen', 'Helium', 'Boron', 'Oxygen'}\n",
      "set1 U set3: {'Lithium', 'Beryllium', 'Hydrogen', 'Helium', 'Boron', 'Oxygen'}\n",
      "set1 U set2 U set3: {'Lithium', 'Nitrogen', 'Beryllium', 'Helium', 'Hydrogen', 'Carbon', 'Boron', 'Oxygen'}\n"
     ]
    }
   ],
   "source": [
    "#Elements set\n",
    "set1 = {'Hydrogen', 'Helium', 'Lithium', 'Beryllium', 'Boron'}\n",
    "set2 = {'Hydrogen', 'Helium', 'Lithium','Oxygen'}\n",
    "set3 = {'Carbon','Helium', 'Boron', 'Nitrogen'}\n",
    "\n",
    "#union of set1 and set2\n",
    "print(\"set1 U set2:\",set1|set2)\n",
    "\n",
    "#union of set1 and set3\n",
    "print(\"set1 U set3:\",(set1|set2))\n",
    "\n",
    "#union of set1 and set2 and set3\n",
    "print(\"set1 U set2 U set3:\",(set1|set2|set3))"
   ]
  },
  {
   "cell_type": "code",
   "execution_count": 59,
   "id": "a2eb148d",
   "metadata": {},
   "outputs": [
    {
     "name": "stdout",
     "output_type": "stream",
     "text": [
      "Update of set1 and set2 is: {'Lithium', 'Beryllium', 'Helium', 'Hydrogen', 'Boron', 'Oxygen'}\n",
      "Update of set1 and set3 is: {'Lithium', 'Nitrogen', 'Beryllium', 'Helium', 'Hydrogen', 'Carbon', 'Boron', 'Oxygen'}\n",
      "Update of set1, set2 and set3 is: {'Lithium', 'Nitrogen', 'Beryllium', 'Helium', 'Hydrogen', 'Carbon', 'Boron', 'Oxygen'}\n"
     ]
    }
   ],
   "source": [
    "#Elements set\n",
    "set1 = {'Hydrogen', 'Helium', 'Lithium', 'Beryllium', 'Boron'}\n",
    "set2 = {'Hydrogen', 'Helium', 'Lithium','Oxygen'}\n",
    "set3 = {'Carbon','Helium', 'Boron', 'Nitrogen'}\n",
    "\n",
    "#update of set1 and set2\n",
    "set1.update(set2)\n",
    "print(\"Update of set1 and set2 is:\",set1)\n",
    "\n",
    "#update of set1 and set3\n",
    "set1.update(set3)\n",
    "print(\"Update of set1 and set3 is:\",set1)\n",
    "\n",
    "#update of set1 and set2 and set3\n",
    "set1.update(set2,set3)\n",
    "print(\"Update of set1, set2 and set3 is:\",set1)"
   ]
  },
  {
   "cell_type": "code",
   "execution_count": null,
   "id": "0ad1e012",
   "metadata": {},
   "outputs": [],
   "source": []
  },
  {
   "cell_type": "markdown",
   "id": "5dff3830",
   "metadata": {},
   "source": [
    "### Dictionary Functions"
   ]
  },
  {
   "cell_type": "code",
   "execution_count": 2,
   "id": "7f1cee58",
   "metadata": {},
   "outputs": [
    {
     "name": "stdout",
     "output_type": "stream",
     "text": [
      "Dictionary before clear() is:  {'Hydrogen': 1, 'Helium': 2, 'Lithium': 3, 'Beryllium': 4, 'Boron': 5}\n",
      "Dictionary after clear() is:  {}\n"
     ]
    }
   ],
   "source": [
    "#Dictionary Creation\n",
    "atomicnum = {\"Hydrogen\" : 1,\"Helium\": 2, \"Lithium\": 3, \n",
    "             \"Beryllium\" : 4, \"Boron\": 5}\n",
    "print(\"Dictionary before clear() is: \", atomicnum)\n",
    "\n",
    "#clear the dictionary items\n",
    "atomicnum.clear()\n",
    "print(\"Dictionary after clear() is: \", atomicnum)"
   ]
  },
  {
   "cell_type": "code",
   "execution_count": 3,
   "id": "d10eaa35",
   "metadata": {},
   "outputs": [
    {
     "name": "stdout",
     "output_type": "stream",
     "text": [
      "Original dictionary is:  {'Hydrogen': 1, 'Helium': 2, 'Lithium': 3, 'Beryllium': 4, 'Boron': 5}\n",
      "New dictionary is:  {'Hydrogen': 1, 'Helium': 2, 'Lithium': 3, 'Beryllium': 4, 'Boron': 5}\n"
     ]
    }
   ],
   "source": [
    "#Dictionary Creation\n",
    "atomicnum = {\"Hydrogen\" : 1,\"Helium\": 2, \"Lithium\": 3, \n",
    "             \"Beryllium\" : 4, \"Boron\": 5}\n",
    "print(\"Original dictionary is: \", atomicnum)\n",
    "\n",
    "#copy of dictionary\n",
    "d1 = atomicnum.copy()\n",
    "print(\"New dictionary is: \", d1)"
   ]
  },
  {
   "cell_type": "code",
   "execution_count": 4,
   "id": "7d4d90b0",
   "metadata": {},
   "outputs": [
    {
     "name": "stdout",
     "output_type": "stream",
     "text": [
      "Original dictionary is:  {'Hydrogen': 1, 'Helium': 2, 'Lithium': 3, 'Beryllium': 4, 'Boron': 5}\n",
      "New dictionary is:  {'Hydrogen': 1, 'Helium': 2, 'Lithium': 3, 'Beryllium': 4, 'Boron': 5}\n"
     ]
    }
   ],
   "source": [
    "#Dictionary Creation\n",
    "atomicnum = {\"Hydrogen\" : 1,\"Helium\": 2, \"Lithium\": 3, \n",
    "             \"Beryllium\" : 4, \"Boron\": 5}\n",
    "print(\"Original dictionary is: \", atomicnum)\n",
    "\n",
    "#copy of dictionary\n",
    "d1 = atomicnum\n",
    "print(\"New dictionary is: \", d1)"
   ]
  },
  {
   "cell_type": "code",
   "execution_count": 5,
   "id": "8b0e339e",
   "metadata": {},
   "outputs": [
    {
     "name": "stdout",
     "output_type": "stream",
     "text": [
      "Original dictionary is:  {'Hydrogen': 1, 'Helium': 2, 'Lithium': 3, 'Beryllium': 4, 'Boron': 5}\n",
      "New dictionary is:  {}\n"
     ]
    }
   ],
   "source": [
    "#Dictionary Creation\n",
    "atomicnum = {\"Hydrogen\" : 1,\"Helium\": 2, \"Lithium\": 3, \n",
    "             \"Beryllium\" : 4, \"Boron\": 5}\n",
    "\n",
    "#copy of dictionary\n",
    "d1 = atomicnum.copy()\n",
    "\n",
    "#clear the d1 items\n",
    "d1.clear()\n",
    "print(\"Original dictionary is: \", atomicnum)\n",
    "print(\"New dictionary is: \", d1)"
   ]
  },
  {
   "cell_type": "code",
   "execution_count": 17,
   "id": "2a0afadf",
   "metadata": {},
   "outputs": [
    {
     "name": "stdout",
     "output_type": "stream",
     "text": [
      "Original dictionary is:  {}\n",
      "New dictionary is:  {}\n"
     ]
    }
   ],
   "source": [
    "#Dictionary Creation\n",
    "atomicnum = {\"Hydrogen\" : 1,\"Helium\": 2, \"Lithium\": 3, \n",
    "             \"Beryllium\" : 4, \"Boron\": 5}\n",
    "\n",
    "#copy of dictionary\n",
    "d1 = atomicnum\n",
    "\n",
    "#clear the d1 items\n",
    "d1.clear()\n",
    "print(\"Original dictionary is: \", atomicnum)\n",
    "print(\"New dictionary is: \", d1)"
   ]
  },
  {
   "cell_type": "code",
   "execution_count": 20,
   "id": "e3d7cc5e",
   "metadata": {},
   "outputs": [
    {
     "name": "stdout",
     "output_type": "stream",
     "text": [
      "{1.008: 'atomic mass', 4.0026: 'atomic mass', 7.0: 'atomic mass', 9.01218: 'atomic mass', 10.81: 'atomic mass'}\n"
     ]
    }
   ],
   "source": [
    "#Atomic number list - Keys\n",
    "keys = [1.0080,4.0026,7.0,9.01218,10.81]\n",
    "\n",
    "#Values \n",
    "values = \"atomic mass\"\n",
    "\n",
    "#Dictionary creation with keys and values\n",
    "dict1 = dict.fromkeys(keys,values)\n",
    "print(dict1)"
   ]
  },
  {
   "cell_type": "code",
   "execution_count": 21,
   "id": "de678221",
   "metadata": {},
   "outputs": [
    {
     "name": "stdout",
     "output_type": "stream",
     "text": [
      "{1.008: None, 4.0026: None, 7.0: None, 9.01218: None, 10.81: None}\n"
     ]
    }
   ],
   "source": [
    "#Atomic number list - Keys\n",
    "keys = [1.0080,4.0026,7.0,9.01218,10.81]\n",
    "\n",
    "#Dictionary creation with keys \n",
    "dict1 = dict.fromkeys(keys)\n",
    "print(dict1)"
   ]
  },
  {
   "cell_type": "code",
   "execution_count": 25,
   "id": "dd3ad60b",
   "metadata": {},
   "outputs": [
    {
     "name": "stdout",
     "output_type": "stream",
     "text": [
      "Atomic mass of Hydrogen is:  1.008\n",
      "Atomic mass of Carbon is:  None\n",
      "Atomic mass of Carbon is:  12.011\n"
     ]
    }
   ],
   "source": [
    "#Dictionary Creation\n",
    "atomicnum = {\"Hydrogen\" : 1.008,\"Helium\": 4.0026, \"Lithium\": 7.0, \n",
    "             \"Beryllium\" :9.01218, \"Boron\": 10.81}\n",
    "print(\"Atomic mass of Hydrogen is: \", atomicnum.get('Hydrogen'))\n",
    "print(\"Atomic mass of Carbon is: \", atomicnum.get('Carbon'))\n",
    "print(\"Atomic mass of Carbon is: \", atomicnum.get('Carbon',12.011))"
   ]
  },
  {
   "cell_type": "code",
   "execution_count": 27,
   "id": "6c4e9a15",
   "metadata": {},
   "outputs": [
    {
     "name": "stdout",
     "output_type": "stream",
     "text": [
      "dict_items([('Hydrogen', 1.008), ('Helium', 4.0026), ('Lithium', 7.0), ('Beryllium', 9.01218), ('Boron', 10.81)])\n"
     ]
    }
   ],
   "source": [
    "#Dictionary Creation\n",
    "atomicnum = {\"Hydrogen\" : 1.008,\"Helium\": 4.0026, \"Lithium\": 7.0, \n",
    "             \"Beryllium\" :9.01218, \"Boron\": 10.81}\n",
    "\n",
    "#get all the items\n",
    "print(atomicnum.items())"
   ]
  },
  {
   "cell_type": "code",
   "execution_count": 29,
   "id": "3a7f2849",
   "metadata": {},
   "outputs": [
    {
     "name": "stdout",
     "output_type": "stream",
     "text": [
      "Original dictionary: dict_items([('Hydrogen', 1.008), ('Helium', 4.0026), ('Lithium', 7.0), ('Beryllium', 9.01218), ('Boron', 10.81)])\n",
      "Updated dictionary: dict_items([('Hydrogen', 1.008), ('Helium', 4.0026), ('Lithium', 7.0), ('Boron', 10.81)])\n"
     ]
    }
   ],
   "source": [
    "#Dictionary Creation\n",
    "atomicnum = {\"Hydrogen\" : 1.008,\"Helium\": 4.0026, \"Lithium\": 7.0, \n",
    "             \"Beryllium\" :9.01218, \"Boron\": 10.81}\n",
    "\n",
    "#get all the items\n",
    "d1=atomicnum.items()\n",
    "print(\"Original dictionary:\", d1)\n",
    "\n",
    "#delete Beryllium from dictionary\n",
    "del[atomicnum['Beryllium']]\n",
    "print(\"Updated dictionary:\", d1)"
   ]
  },
  {
   "cell_type": "code",
   "execution_count": 31,
   "id": "c2cfe266",
   "metadata": {},
   "outputs": [
    {
     "name": "stdout",
     "output_type": "stream",
     "text": [
      "dict_keys(['Hydrogen', 'Helium', 'Lithium', 'Beryllium', 'Boron'])\n"
     ]
    }
   ],
   "source": [
    "#Dictionary Creation\n",
    "atomicnum = {\"Hydrogen\" : 1.008,\"Helium\": 4.0026, \"Lithium\": 7.0, \n",
    "             \"Beryllium\" :9.01218, \"Boron\": 10.81}\n",
    "\n",
    "#get all the keyss\n",
    "print(atomicnum.keys())"
   ]
  },
  {
   "cell_type": "code",
   "execution_count": 42,
   "id": "caad8945",
   "metadata": {},
   "outputs": [
    {
     "name": "stdout",
     "output_type": "stream",
     "text": [
      "Original dictionary: dict_keys(['Hydrogen', 'Helium', 'Lithium', 'Beryllium', 'Boron'])\n",
      "Updated dictionary: dict_keys(['Hydrogen', 'Helium', 'Lithium', 'Beryllium', 'Boron', 'Carbon'])\n"
     ]
    }
   ],
   "source": [
    "#Dictionary Creation\n",
    "atomicnum = {\"Hydrogen\" : 1.008,\"Helium\": 4.0026, \"Lithium\": 7.0, \n",
    "             \"Beryllium\" :9.01218, \"Boron\": 10.81}\n",
    "\n",
    "#get all the keys\n",
    "d1=atomicnum.keys()\n",
    "print(\"Original dictionary:\", d1)\n",
    "\n",
    "#update the dictionary\n",
    "atomicnum.update({'Carbon':12.011})\n",
    "print(\"Updated dictionary:\", d1)"
   ]
  },
  {
   "cell_type": "code",
   "execution_count": 35,
   "id": "6d2e0fcb",
   "metadata": {},
   "outputs": [
    {
     "name": "stdout",
     "output_type": "stream",
     "text": [
      "The poped element is: 10.81\n",
      "The dictionary is:  {'Hydrogen': 1.008, 'Helium': 4.0026, 'Lithium': 7.0, 'Beryllium': 9.01218}\n"
     ]
    }
   ],
   "source": [
    "#Dictionary Creation\n",
    "atomicnum = {\"Hydrogen\" : 1.008,\"Helium\": 4.0026, \"Lithium\": 7.0, \n",
    "             \"Beryllium\" :9.01218, \"Boron\": 10.81}\n",
    "\n",
    "#pop the element Boron\n",
    "d1=atomicnum.pop('Boron')\n",
    "print(\"The poped value is:\", d1)\n",
    "print(\"The dictionary is: \", atomicnum)"
   ]
  },
  {
   "cell_type": "code",
   "execution_count": 36,
   "id": "9c8ea86e",
   "metadata": {},
   "outputs": [
    {
     "ename": "KeyError",
     "evalue": "'Carbon'",
     "output_type": "error",
     "traceback": [
      "\u001b[1;31m---------------------------------------------------------------------------\u001b[0m",
      "\u001b[1;31mKeyError\u001b[0m                                  Traceback (most recent call last)",
      "\u001b[1;32m~\\AppData\\Local\\Temp\\ipykernel_17844\\4089644262.py\u001b[0m in \u001b[0;36m<module>\u001b[1;34m\u001b[0m\n\u001b[0;32m      4\u001b[0m \u001b[1;33m\u001b[0m\u001b[0m\n\u001b[0;32m      5\u001b[0m \u001b[1;31m#pop the element Carbon\u001b[0m\u001b[1;33m\u001b[0m\u001b[1;33m\u001b[0m\u001b[1;33m\u001b[0m\u001b[0m\n\u001b[1;32m----> 6\u001b[1;33m \u001b[0md1\u001b[0m\u001b[1;33m=\u001b[0m\u001b[0matomicnum\u001b[0m\u001b[1;33m.\u001b[0m\u001b[0mpop\u001b[0m\u001b[1;33m(\u001b[0m\u001b[1;34m'Carbon'\u001b[0m\u001b[1;33m)\u001b[0m\u001b[1;33m\u001b[0m\u001b[1;33m\u001b[0m\u001b[0m\n\u001b[0m\u001b[0;32m      7\u001b[0m \u001b[0mprint\u001b[0m\u001b[1;33m(\u001b[0m\u001b[1;34m\"The poped element is:\"\u001b[0m\u001b[1;33m,\u001b[0m \u001b[0md1\u001b[0m\u001b[1;33m)\u001b[0m\u001b[1;33m\u001b[0m\u001b[1;33m\u001b[0m\u001b[0m\n\u001b[0;32m      8\u001b[0m \u001b[0mprint\u001b[0m\u001b[1;33m(\u001b[0m\u001b[1;34m\"The dictionary is: \"\u001b[0m\u001b[1;33m,\u001b[0m \u001b[0matomicnum\u001b[0m\u001b[1;33m)\u001b[0m\u001b[1;33m\u001b[0m\u001b[1;33m\u001b[0m\u001b[0m\n",
      "\u001b[1;31mKeyError\u001b[0m: 'Carbon'"
     ]
    }
   ],
   "source": [
    "#Dictionary Creation\n",
    "atomicnum = {\"Hydrogen\" : 1.008,\"Helium\": 4.0026, \"Lithium\": 7.0, \n",
    "             \"Beryllium\" :9.01218, \"Boron\": 10.81}\n",
    "\n",
    "#pop the element Carbon\n",
    "d1=atomicnum.pop('Carbon')\n",
    "print(\"The poped element is:\", d1)\n",
    "print(\"The dictionary is: \", atomicnum)"
   ]
  },
  {
   "cell_type": "code",
   "execution_count": 38,
   "id": "5fa240e5",
   "metadata": {},
   "outputs": [
    {
     "name": "stdout",
     "output_type": "stream",
     "text": [
      "The poped element is: 12.011\n",
      "The dictionary is:  {'Hydrogen': 1.008, 'Helium': 4.0026, 'Lithium': 7.0, 'Beryllium': 9.01218, 'Boron': 10.81}\n"
     ]
    }
   ],
   "source": [
    "#Dictionary Creation\n",
    "atomicnum = {\"Hydrogen\" : 1.008,\"Helium\": 4.0026, \"Lithium\": 7.0, \n",
    "             \"Beryllium\" :9.01218, \"Boron\": 10.81}\n",
    "\n",
    "#pop the element Carbon\n",
    "d1=atomicnum.pop('Carbon','12.011')\n",
    "print(\"The poped element is:\", d1)\n",
    "print(\"The dictionary is: \", atomicnum)"
   ]
  },
  {
   "cell_type": "code",
   "execution_count": 39,
   "id": "f25f9b80",
   "metadata": {},
   "outputs": [
    {
     "name": "stdout",
     "output_type": "stream",
     "text": [
      "dict_values([1.008, 4.0026, 7.0, 9.01218, 10.81])\n"
     ]
    }
   ],
   "source": [
    "#Dictionary Creation\n",
    "atomicnum = {\"Hydrogen\" : 1.008,\"Helium\": 4.0026, \"Lithium\": 7.0, \n",
    "             \"Beryllium\" :9.01218, \"Boron\": 10.81}\n",
    "\n",
    "#get all the valuess\n",
    "print(atomicnum.values())"
   ]
  },
  {
   "cell_type": "code",
   "execution_count": 41,
   "id": "7f85c99f",
   "metadata": {},
   "outputs": [
    {
     "name": "stdout",
     "output_type": "stream",
     "text": [
      "Original dictionary: dict_values([1.008, 4.0026, 7.0, 9.01218, 10.81])\n",
      "Updated dictionary: dict_values([1.008, 4.0026, 7.0, 9.01218, 10.81, 12.011])\n"
     ]
    }
   ],
   "source": [
    "#Dictionary Creation\n",
    "atomicnum = {\"Hydrogen\" : 1.008,\"Helium\": 4.0026, \"Lithium\": 7.0, \n",
    "             \"Beryllium\" :9.01218, \"Boron\": 10.81}\n",
    "\n",
    "#get all the values\n",
    "d1=atomicnum.values()\n",
    "print(\"Original dictionary:\", d1)\n",
    "\n",
    "#update the dictionary\n",
    "atomicnum.update({'Carbon':12.011})\n",
    "print(\"Updated dictionary:\", d1)"
   ]
  },
  {
   "cell_type": "code",
   "execution_count": 45,
   "id": "8c3628e4",
   "metadata": {},
   "outputs": [
    {
     "name": "stdout",
     "output_type": "stream",
     "text": [
      "Popped item : ('Boron', 10.81)\n",
      "Updated dictionary: {'Hydrogen': 1.008, 'Helium': 4.0026, 'Lithium': 7.0, 'Beryllium': 9.01218}\n",
      "Popped item : ('Carbon', '12.011')\n",
      "Updated dictionary: {'Hydrogen': 1.008, 'Helium': 4.0026, 'Lithium': 7.0, 'Beryllium': 9.01218}\n"
     ]
    }
   ],
   "source": [
    "#Dictionary Creation\n",
    "atomicnum = {\"Hydrogen\" : 1.008,\"Helium\": 4.0026, \"Lithium\": 7.0, \n",
    "             \"Beryllium\" :9.01218, \"Boron\": 10.81}\n",
    "d1=atomicnum.popitem()\n",
    "print(\"Popped item :\", d1)\n",
    "print(\"Updated dictionary:\",atomicnum)\n",
    "\n",
    "#insert a new element pair\n",
    "atomicnum['Carbon'] = '12.011'\n",
    "d1=atomicnum.popitem()\n",
    "print(\"Popped item :\", d1)\n",
    "print(\"Updated dictionary:\",atomicnum)"
   ]
  },
  {
   "cell_type": "code",
   "execution_count": 47,
   "id": "bfd0e27b",
   "metadata": {},
   "outputs": [
    {
     "name": "stdout",
     "output_type": "stream",
     "text": [
      "The dictionary is : {'Hydrogen': 1.008, 'Helium': 4.0026, 'Lithium': 7.0, 'Beryllium': 9.01218, 'Boron': 10.81}\n",
      "Atomic mass of Lithium : 7.0\n"
     ]
    }
   ],
   "source": [
    "#Dictionary Creation\n",
    "atomicnum = {\"Hydrogen\" : 1.008,\"Helium\": 4.0026,\n",
    "             \"Lithium\": 7.0,\"Beryllium\" :9.01218, \n",
    "             \"Boron\": 10.81}\n",
    "d1=atomicnum.setdefault('Lithium')\n",
    "print(\"The dictionary is :\",atomicnum)\n",
    "print(\"Atomic mass of Lithium :\", d1)"
   ]
  },
  {
   "cell_type": "code",
   "execution_count": 52,
   "id": "95afa6ec",
   "metadata": {},
   "outputs": [
    {
     "name": "stdout",
     "output_type": "stream",
     "text": [
      "The dictionary is : {'Hydrogen': 1.008, 'Helium': 4.0026, 'Lithium': 7.0, 'Beryllium': 9.01218, 'Boron': 10.81, 'Carbon': None}\n",
      "Atomic mass of Carbon is : None\n"
     ]
    }
   ],
   "source": [
    "#Dictionary Creation\n",
    "atomicnum = {\"Hydrogen\" : 1.008,\"Helium\": 4.0026,\n",
    "             \"Lithium\": 7.0,\"Beryllium\" :9.01218, \n",
    "             \"Boron\": 10.81}\n",
    "#key is not in the dictionary\n",
    "Carbon = atomicnum.setdefault('Carbon')\n",
    "\n",
    "print(\"The dictionary is :\",atomicnum)\n",
    "print(\"Atomic mass of Carbon is :\", Carbon)"
   ]
  },
  {
   "cell_type": "code",
   "execution_count": 53,
   "id": "368b32df",
   "metadata": {},
   "outputs": [
    {
     "name": "stdout",
     "output_type": "stream",
     "text": [
      "The dictionary is : {'Hydrogen': 1.008, 'Helium': 4.0026, 'Lithium': 7.0, 'Beryllium': 9.01218, 'Boron': 10.81, 'Carbon': '12.011'}\n",
      "Atomic mass of Carbon is : 12.011\n"
     ]
    }
   ],
   "source": [
    "#Dictionary Creation\n",
    "atomicnum = {\"Hydrogen\" : 1.008,\"Helium\": 4.0026,\n",
    "             \"Lithium\": 7.0,\"Beryllium\" :9.01218, \n",
    "             \"Boron\": 10.81}\n",
    "\n",
    "#default value is given\n",
    "Carbon = atomicnum.setdefault('Carbon','12.011')\n",
    "\n",
    "print(\"The dictionary is :\",atomicnum)\n",
    "print(\"Atomic mass of Carbon is :\", Carbon)"
   ]
  },
  {
   "cell_type": "code",
   "execution_count": 54,
   "id": "a698fb91",
   "metadata": {},
   "outputs": [
    {
     "name": "stdout",
     "output_type": "stream",
     "text": [
      "{'Physics': 67, 'Maths': 87, 'Practical': 48}\n"
     ]
    }
   ],
   "source": [
    "marks = {'Physics':67, 'Maths':87}\n",
    "internal_marks = {'Practical':48,'Maths':87}\n",
    "\n",
    "marks.update(internal_marks)\n",
    "\n",
    "\n",
    "print(marks)\n",
    "\n",
    "# Output: {'Physics': 67, 'Maths': 87, 'Practical': 48}"
   ]
  },
  {
   "cell_type": "code",
   "execution_count": 57,
   "id": "73c584c7",
   "metadata": {},
   "outputs": [
    {
     "name": "stdout",
     "output_type": "stream",
     "text": [
      "{'Hydrogen': 1.008, 'Helium': 4.0026, 'Boron': 10.81, 'Lithium': 7.0, 'Beryllium': 9.01218}\n",
      "{'Hydrogen': 1.008, 'Helium': 4.0026, 'Boron': 10.81, 'Lithium': 7.0, 'Beryllium': 9.01218}\n"
     ]
    }
   ],
   "source": [
    "#Dictionary Creation\n",
    "d1 = {\"Hydrogen\" : 1.008,\"Helium\": 4.0026,\"Boron\": 10.81}\n",
    "d2 = {\"Helium\": 4.0026, \"Lithium\": 7.0,\"Beryllium\" :9.01218}\n",
    "d1.update(d2)\n",
    "print(d1)\n",
    "\n",
    "d1 = {\"Hydrogen\" : 1.008,\"Helium\": 5.079,\"Boron\": 10.81}\n",
    "d2 = {\"Helium\": 4.0026, \"Lithium\": 7.0,\"Beryllium\" :9.01218}\n",
    "d1.update(d2)\n",
    "print(d1)"
   ]
  },
  {
   "cell_type": "code",
   "execution_count": null,
   "id": "ab7c7f02",
   "metadata": {},
   "outputs": [],
   "source": []
  }
 ],
 "metadata": {
  "kernelspec": {
   "display_name": "Python 3 (ipykernel)",
   "language": "python",
   "name": "python3"
  },
  "language_info": {
   "codemirror_mode": {
    "name": "ipython",
    "version": 3
   },
   "file_extension": ".py",
   "mimetype": "text/x-python",
   "name": "python",
   "nbconvert_exporter": "python",
   "pygments_lexer": "ipython3",
   "version": "3.7.13"
  }
 },
 "nbformat": 4,
 "nbformat_minor": 5
}
