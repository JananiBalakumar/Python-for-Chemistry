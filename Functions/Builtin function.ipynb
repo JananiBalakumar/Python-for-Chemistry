{
 "cells": [
  {
   "cell_type": "markdown",
   "id": "4a4a9a27",
   "metadata": {},
   "source": [
    "# Builtin functions"
   ]
  },
  {
   "cell_type": "markdown",
   "id": "4fbd5c5a",
   "metadata": {},
   "source": [
    "### abs()"
   ]
  },
  {
   "cell_type": "code",
   "execution_count": 6,
   "id": "caa17a81",
   "metadata": {},
   "outputs": [
    {
     "name": "stdout",
     "output_type": "stream",
     "text": [
      "6.941\n",
      "30\n",
      "5.0\n",
      "72.36\n"
     ]
    }
   ],
   "source": [
    "a=6.9410\n",
    "b=30\n",
    "c= 3-4j\n",
    "d= -72.36\n",
    "print(abs(a))\n",
    "print(abs(b))\n",
    "print(abs(c))\n",
    "print(abs(d))"
   ]
  },
  {
   "cell_type": "markdown",
   "id": "6c1ef1a0",
   "metadata": {},
   "source": [
    "### all()"
   ]
  },
  {
   "cell_type": "code",
   "execution_count": 3,
   "id": "8324a2e7",
   "metadata": {},
   "outputs": [
    {
     "name": "stdout",
     "output_type": "stream",
     "text": [
      "True\n"
     ]
    }
   ],
   "source": [
    "s = \"This is good\"\n",
    "print(all(s))"
   ]
  },
  {
   "cell_type": "code",
   "execution_count": 1,
   "id": "7cdfcd2b",
   "metadata": {},
   "outputs": [
    {
     "data": {
      "text/plain": [
       "dict"
      ]
     },
     "execution_count": 1,
     "metadata": {},
     "output_type": "execute_result"
    }
   ],
   "source": [
    "elements = {0: 'Hydrogen', 1: 'Helium',2: 'Lithium', \n",
    "            3: 'Beryllium', 4: 'Boron'}\n",
    "type(elements)"
   ]
  },
  {
   "cell_type": "code",
   "execution_count": 2,
   "id": "8197f07f",
   "metadata": {},
   "outputs": [
    {
     "name": "stdout",
     "output_type": "stream",
     "text": [
      "{0: 'Hydrogen', 1: 'Helium', 2: 'Lithium', 3: 'Beryllium', 4: 'Boron'}\n"
     ]
    }
   ],
   "source": [
    "print(elements)"
   ]
  },
  {
   "cell_type": "code",
   "execution_count": 3,
   "id": "3373b476",
   "metadata": {},
   "outputs": [
    {
     "name": "stdout",
     "output_type": "stream",
     "text": [
      "False\n"
     ]
    }
   ],
   "source": [
    "print(all(elements))"
   ]
  },
  {
   "cell_type": "code",
   "execution_count": 5,
   "id": "728af616",
   "metadata": {},
   "outputs": [
    {
     "data": {
      "text/plain": [
       "dict"
      ]
     },
     "execution_count": 5,
     "metadata": {},
     "output_type": "execute_result"
    }
   ],
   "source": [
    "elements = {1: 'Hydrogen', 2: 'Helium',3: 'Lithium', \n",
    "            4: 'Beryllium', 5: 'Boron'}\n",
    "type(elements)"
   ]
  },
  {
   "cell_type": "code",
   "execution_count": 6,
   "id": "65398fe9",
   "metadata": {},
   "outputs": [
    {
     "name": "stdout",
     "output_type": "stream",
     "text": [
      "True\n"
     ]
    }
   ],
   "source": [
    "print(all(elements))"
   ]
  },
  {
   "cell_type": "code",
   "execution_count": 8,
   "id": "fb245a7f",
   "metadata": {},
   "outputs": [
    {
     "data": {
      "text/plain": [
       "dict"
      ]
     },
     "execution_count": 8,
     "metadata": {},
     "output_type": "execute_result"
    }
   ],
   "source": [
    "elements = {0: 'Hydrogen', 1: 'Helium',2: 'Lithium', \n",
    "            3: 'Beryllium', 4: 'Boron'}\n",
    "type(elements)"
   ]
  },
  {
   "cell_type": "markdown",
   "id": "9bb689da",
   "metadata": {},
   "source": [
    "### any()"
   ]
  },
  {
   "cell_type": "code",
   "execution_count": 9,
   "id": "bea73468",
   "metadata": {},
   "outputs": [
    {
     "name": "stdout",
     "output_type": "stream",
     "text": [
      "True\n"
     ]
    }
   ],
   "source": [
    "print(any(elements))"
   ]
  },
  {
   "cell_type": "code",
   "execution_count": 11,
   "id": "98e7acb8",
   "metadata": {},
   "outputs": [
    {
     "data": {
      "text/plain": [
       "dict"
      ]
     },
     "execution_count": 11,
     "metadata": {},
     "output_type": "execute_result"
    }
   ],
   "source": [
    "elements = {0: 'Hydrogen', 0: 'Helium',0: 'Lithium', \n",
    "            0: 'Beryllium', 0: 'Boron'}\n",
    "type(elements)"
   ]
  },
  {
   "cell_type": "code",
   "execution_count": 12,
   "id": "28cc8241",
   "metadata": {},
   "outputs": [
    {
     "name": "stdout",
     "output_type": "stream",
     "text": [
      "False\n"
     ]
    }
   ],
   "source": [
    "print(any(elements))"
   ]
  },
  {
   "cell_type": "markdown",
   "id": "a57bd2c3",
   "metadata": {},
   "source": [
    "### ascii()"
   ]
  },
  {
   "cell_type": "code",
   "execution_count": 21,
   "id": "c8c5aac5",
   "metadata": {},
   "outputs": [
    {
     "name": "stdout",
     "output_type": "stream",
     "text": [
      "'Pyth\\xf6n for Chemistry'\n"
     ]
    }
   ],
   "source": [
    "text = 'Pythön for Chemistry'\n",
    "print(ascii(text))"
   ]
  },
  {
   "cell_type": "code",
   "execution_count": 22,
   "id": "1d01ce9e",
   "metadata": {},
   "outputs": [
    {
     "name": "stdout",
     "output_type": "stream",
     "text": [
      "'\\u221a of atomic Radius of Hydrogrn is 10.954 '\n"
     ]
    }
   ],
   "source": [
    "text1=\"√ of atomic Radius of Hydrogrn is 10.954 \"\n",
    "print(ascii(text1))"
   ]
  },
  {
   "cell_type": "markdown",
   "id": "86a4b2d3",
   "metadata": {},
   "source": [
    "### bin()"
   ]
  },
  {
   "cell_type": "code",
   "execution_count": 2,
   "id": "c013c861",
   "metadata": {},
   "outputs": [
    {
     "name": "stdout",
     "output_type": "stream",
     "text": [
      "0b100010000100\n"
     ]
    }
   ],
   "source": [
    "cr_melt = 2180\n",
    "print(bin(cr_melt))"
   ]
  },
  {
   "cell_type": "code",
   "execution_count": 4,
   "id": "988b69da",
   "metadata": {},
   "outputs": [
    {
     "ename": "TypeError",
     "evalue": "'float' object cannot be interpreted as an integer",
     "output_type": "error",
     "traceback": [
      "\u001b[1;31m---------------------------------------------------------------------------\u001b[0m",
      "\u001b[1;31mTypeError\u001b[0m                                 Traceback (most recent call last)",
      "\u001b[1;32m~\\AppData\\Local\\Temp\\ipykernel_1828\\594429610.py\u001b[0m in \u001b[0;36m<module>\u001b[1;34m\u001b[0m\n\u001b[0;32m      1\u001b[0m \u001b[0mcr_electronegativity\u001b[0m\u001b[1;33m=\u001b[0m\u001b[1;36m1.66\u001b[0m\u001b[1;33m\u001b[0m\u001b[1;33m\u001b[0m\u001b[0m\n\u001b[1;32m----> 2\u001b[1;33m \u001b[0mprint\u001b[0m\u001b[1;33m(\u001b[0m\u001b[0mbin\u001b[0m\u001b[1;33m(\u001b[0m\u001b[0mcr_electronegativity\u001b[0m\u001b[1;33m)\u001b[0m\u001b[1;33m)\u001b[0m\u001b[1;33m\u001b[0m\u001b[1;33m\u001b[0m\u001b[0m\n\u001b[0m",
      "\u001b[1;31mTypeError\u001b[0m: 'float' object cannot be interpreted as an integer"
     ]
    }
   ],
   "source": [
    "cr_electronegativity=1.66\n",
    "print(bin(cr_electronegativity))"
   ]
  },
  {
   "cell_type": "code",
   "execution_count": 30,
   "id": "5e945248",
   "metadata": {},
   "outputs": [],
   "source": [
    "class Radius:\n",
    "    H= 120\n",
    "    He = 140\n",
    "    Li = 182\n",
    "    Be = 153\n",
    "        \n",
    "    def func():\n",
    "        return H + He + Li + Be       "
   ]
  },
  {
   "cell_type": "code",
   "execution_count": 32,
   "id": "96961c1c",
   "metadata": {},
   "outputs": [
    {
     "ename": "TypeError",
     "evalue": "'Radius' object cannot be interpreted as an integer",
     "output_type": "error",
     "traceback": [
      "\u001b[1;31m---------------------------------------------------------------------------\u001b[0m",
      "\u001b[1;31mTypeError\u001b[0m                                 Traceback (most recent call last)",
      "\u001b[1;32m~\\AppData\\Local\\Temp\\ipykernel_18876\\1467679259.py\u001b[0m in \u001b[0;36m<module>\u001b[1;34m\u001b[0m\n\u001b[1;32m----> 1\u001b[1;33m \u001b[0mprint\u001b[0m\u001b[1;33m(\u001b[0m\u001b[1;34m'The binary equivalent of Radius is:'\u001b[0m\u001b[1;33m,\u001b[0m \u001b[0mbin\u001b[0m\u001b[1;33m(\u001b[0m\u001b[0mRadius\u001b[0m\u001b[1;33m(\u001b[0m\u001b[1;33m)\u001b[0m\u001b[1;33m)\u001b[0m\u001b[1;33m)\u001b[0m\u001b[1;33m\u001b[0m\u001b[1;33m\u001b[0m\u001b[0m\n\u001b[0m",
      "\u001b[1;31mTypeError\u001b[0m: 'Radius' object cannot be interpreted as an integer"
     ]
    }
   ],
   "source": [
    "print('The binary equivalent of Radius is:', bin(Radius()))"
   ]
  },
  {
   "cell_type": "code",
   "execution_count": 34,
   "id": "e45d3f8b",
   "metadata": {},
   "outputs": [],
   "source": [
    "class Radius:\n",
    "    H= 120\n",
    "    He = 140\n",
    "    Li = 182\n",
    "    Be = 153\n",
    "        \n",
    "    def __index__(self):\n",
    "        return self.H + self.He + self.Li + self.Be "
   ]
  },
  {
   "cell_type": "code",
   "execution_count": 35,
   "id": "0c67fbbc",
   "metadata": {},
   "outputs": [
    {
     "name": "stdout",
     "output_type": "stream",
     "text": [
      "The binary equivalent of Radius is: 0b1001010011\n"
     ]
    }
   ],
   "source": [
    "print('The binary equivalent of Radius is:', bin(Radius()))"
   ]
  },
  {
   "cell_type": "code",
   "execution_count": 1,
   "id": "26162b9f",
   "metadata": {},
   "outputs": [
    {
     "name": "stdout",
     "output_type": "stream",
     "text": [
      "True\n"
     ]
    }
   ],
   "source": [
    "Ti_radius = 136\n",
    "print(bool(Ti_radius))"
   ]
  },
  {
   "cell_type": "code",
   "execution_count": 3,
   "id": "ad4be85c",
   "metadata": {},
   "outputs": [
    {
     "name": "stdout",
     "output_type": "stream",
     "text": [
      "True\n"
     ]
    }
   ],
   "source": [
    "Ti_ienergy =658.81\n",
    "print(bool(Ti_ienergy))"
   ]
  },
  {
   "cell_type": "code",
   "execution_count": 4,
   "id": "31931931",
   "metadata": {},
   "outputs": [
    {
     "name": "stdout",
     "output_type": "stream",
     "text": [
      "False\n"
     ]
    }
   ],
   "source": [
    "Titanium = []\n",
    "print(bool(Titanium))"
   ]
  },
  {
   "cell_type": "code",
   "execution_count": 6,
   "id": "b47f656e",
   "metadata": {},
   "outputs": [
    {
     "name": "stdout",
     "output_type": "stream",
     "text": [
      "False\n"
     ]
    }
   ],
   "source": [
    "Titanium = 0\n",
    "print(bool(Titanium))"
   ]
  },
  {
   "cell_type": "code",
   "execution_count": 42,
   "id": "4affd229",
   "metadata": {},
   "outputs": [
    {
     "name": "stdout",
     "output_type": "stream",
     "text": [
      "bytearray(b'Python for Chemistry.')\n"
     ]
    }
   ],
   "source": [
    "string = \"Python for Chemistry.\"\n",
    "\n",
    "# string with encoding 'utf-8'\n",
    "arr = bytearray(string, 'utf-8')\n",
    "print(arr)"
   ]
  },
  {
   "cell_type": "code",
   "execution_count": 7,
   "id": "b14fb83b",
   "metadata": {},
   "outputs": [
    {
     "name": "stdout",
     "output_type": "stream",
     "text": [
      "bytearray(b'\\x94\\x88\\x86z')\n"
     ]
    }
   ],
   "source": [
    "rList = [148, 136, 134, 122]\n",
    "\n",
    "arr = bytearray(rList)\n",
    "print(arr)"
   ]
  },
  {
   "cell_type": "code",
   "execution_count": 8,
   "id": "376ba744",
   "metadata": {},
   "outputs": [
    {
     "name": "stdout",
     "output_type": "stream",
     "text": [
      "b'\\x00\\x00\\x00\\x00\\x00\\x00\\x00\\x00\\x00\\x00\\x00\\x00\\x00\\x00\\x00\\x00\\x00\\x00\\x00\\x00\\x00\\x00\\x00\\x00\\x00\\x00\\x00\\x00\\x00\\x00\\x00\\x00\\x00\\x00\\x00\\x00\\x00\\x00\\x00\\x00\\x00\\x00\\x00\\x00\\x00\\x00\\x00\\x00\\x00\\x00\\x00\\x00\\x00\\x00\\x00\\x00\\x00\\x00\\x00\\x00\\x00\\x00\\x00\\x00\\x00\\x00\\x00\\x00\\x00\\x00\\x00\\x00\\x00\\x00\\x00\\x00\\x00\\x00\\x00\\x00\\x00\\x00\\x00\\x00\\x00\\x00\\x00\\x00\\x00\\x00\\x00\\x00\\x00\\x00\\x00\\x00\\x00\\x00\\x00\\x00\\x00\\x00\\x00\\x00\\x00\\x00\\x00\\x00\\x00\\x00\\x00\\x00\\x00\\x00\\x00\\x00\\x00\\x00\\x00\\x00\\x00\\x00\\x00\\x00\\x00\\x00\\x00\\x00\\x00\\x00\\x00\\x00\\x00\\x00\\x00\\x00'\n"
     ]
    }
   ],
   "source": [
    "Ti_radius = 136\n",
    "arr = bytes(Ti_radius)\n",
    "print(arr)"
   ]
  },
  {
   "cell_type": "code",
   "execution_count": 9,
   "id": "4475b507",
   "metadata": {},
   "outputs": [
    {
     "name": "stdout",
     "output_type": "stream",
     "text": [
      "b'\\x94\\x88\\x86z'\n"
     ]
    }
   ],
   "source": [
    "rList = [148, 136, 134, 122]\n",
    "\n",
    "arr = bytes(rList)\n",
    "print(arr)"
   ]
  },
  {
   "cell_type": "code",
   "execution_count": 14,
   "id": "7510a245",
   "metadata": {},
   "outputs": [
    {
     "name": "stdout",
     "output_type": "stream",
     "text": [
      "False\n"
     ]
    }
   ],
   "source": [
    "Fe_ionisation = 762.47 \n",
    "print(callable(Fe_ionisation))"
   ]
  },
  {
   "cell_type": "code",
   "execution_count": 15,
   "id": "b7f31954",
   "metadata": {},
   "outputs": [
    {
     "name": "stdout",
     "output_type": "stream",
     "text": [
      "True\n"
     ]
    }
   ],
   "source": [
    "def energy():\n",
    "    print(\"The ionisation energy of Iron is 762.47 KJ mol^-1\")\n",
    "x= energy\n",
    "print(callable(x))"
   ]
  },
  {
   "cell_type": "code",
   "execution_count": 16,
   "id": "d2797728",
   "metadata": {},
   "outputs": [
    {
     "name": "stdout",
     "output_type": "stream",
     "text": [
      "o\n"
     ]
    }
   ],
   "source": [
    "print(chr(111))"
   ]
  },
  {
   "cell_type": "code",
   "execution_count": 17,
   "id": "3a8678d6",
   "metadata": {},
   "outputs": [
    {
     "name": "stdout",
     "output_type": "stream",
     "text": [
      "Ұ\n"
     ]
    }
   ],
   "source": [
    "print(chr(1200))"
   ]
  },
  {
   "cell_type": "code",
   "execution_count": 18,
   "id": "a383e295",
   "metadata": {},
   "outputs": [
    {
     "ename": "TypeError",
     "evalue": "integer argument expected, got float",
     "output_type": "error",
     "traceback": [
      "\u001b[1;31m---------------------------------------------------------------------------\u001b[0m",
      "\u001b[1;31mTypeError\u001b[0m                                 Traceback (most recent call last)",
      "\u001b[1;32m~\\AppData\\Local\\Temp\\ipykernel_13700\\3500789971.py\u001b[0m in \u001b[0;36m<module>\u001b[1;34m\u001b[0m\n\u001b[1;32m----> 1\u001b[1;33m \u001b[0mprint\u001b[0m\u001b[1;33m(\u001b[0m\u001b[0mchr\u001b[0m\u001b[1;33m(\u001b[0m\u001b[1;36m762.47\u001b[0m \u001b[1;33m)\u001b[0m\u001b[1;33m)\u001b[0m\u001b[1;33m\u001b[0m\u001b[1;33m\u001b[0m\u001b[0m\n\u001b[0m",
      "\u001b[1;31mTypeError\u001b[0m: integer argument expected, got float"
     ]
    }
   ],
   "source": [
    "print(chr(762.47 ))"
   ]
  },
  {
   "cell_type": "code",
   "execution_count": 19,
   "id": "b9927b77",
   "metadata": {},
   "outputs": [
    {
     "ename": "TypeError",
     "evalue": "an integer is required (got type str)",
     "output_type": "error",
     "traceback": [
      "\u001b[1;31m---------------------------------------------------------------------------\u001b[0m",
      "\u001b[1;31mTypeError\u001b[0m                                 Traceback (most recent call last)",
      "\u001b[1;32m~\\AppData\\Local\\Temp\\ipykernel_13700\\2189305648.py\u001b[0m in \u001b[0;36m<module>\u001b[1;34m\u001b[0m\n\u001b[1;32m----> 1\u001b[1;33m \u001b[0mprint\u001b[0m\u001b[1;33m(\u001b[0m\u001b[0mchr\u001b[0m\u001b[1;33m(\u001b[0m\u001b[1;34m\"Lithium\"\u001b[0m\u001b[1;33m)\u001b[0m\u001b[1;33m)\u001b[0m\u001b[1;33m\u001b[0m\u001b[1;33m\u001b[0m\u001b[0m\n\u001b[0m",
      "\u001b[1;31mTypeError\u001b[0m: an integer is required (got type str)"
     ]
    }
   ],
   "source": [
    "print(chr(\"Lithium\"))"
   ]
  },
  {
   "cell_type": "code",
   "execution_count": 20,
   "id": "cfbd3c69",
   "metadata": {},
   "outputs": [
    {
     "ename": "ValueError",
     "evalue": "chr() arg not in range(0x110000)",
     "output_type": "error",
     "traceback": [
      "\u001b[1;31m---------------------------------------------------------------------------\u001b[0m",
      "\u001b[1;31mValueError\u001b[0m                                Traceback (most recent call last)",
      "\u001b[1;32m~\\AppData\\Local\\Temp\\ipykernel_13700\\2524490502.py\u001b[0m in \u001b[0;36m<module>\u001b[1;34m\u001b[0m\n\u001b[1;32m----> 1\u001b[1;33m \u001b[0mprint\u001b[0m\u001b[1;33m(\u001b[0m\u001b[0mchr\u001b[0m\u001b[1;33m(\u001b[0m\u001b[1;33m-\u001b[0m\u001b[1;36m10\u001b[0m\u001b[1;33m)\u001b[0m\u001b[1;33m)\u001b[0m\u001b[1;33m\u001b[0m\u001b[1;33m\u001b[0m\u001b[0m\n\u001b[0m",
      "\u001b[1;31mValueError\u001b[0m: chr() arg not in range(0x110000)"
     ]
    }
   ],
   "source": [
    "print(chr(-10))"
   ]
  },
  {
   "cell_type": "code",
   "execution_count": 21,
   "id": "a6aad6a4",
   "metadata": {},
   "outputs": [
    {
     "ename": "ValueError",
     "evalue": "chr() arg not in range(0x110000)",
     "output_type": "error",
     "traceback": [
      "\u001b[1;31m---------------------------------------------------------------------------\u001b[0m",
      "\u001b[1;31mValueError\u001b[0m                                Traceback (most recent call last)",
      "\u001b[1;32m~\\AppData\\Local\\Temp\\ipykernel_13700\\144127339.py\u001b[0m in \u001b[0;36m<module>\u001b[1;34m\u001b[0m\n\u001b[1;32m----> 1\u001b[1;33m \u001b[0mprint\u001b[0m\u001b[1;33m(\u001b[0m\u001b[0mchr\u001b[0m\u001b[1;33m(\u001b[0m\u001b[1;36m1114112\u001b[0m\u001b[1;33m)\u001b[0m\u001b[1;33m)\u001b[0m\u001b[1;33m\u001b[0m\u001b[1;33m\u001b[0m\u001b[0m\n\u001b[0m",
      "\u001b[1;31mValueError\u001b[0m: chr() arg not in range(0x110000)"
     ]
    }
   ],
   "source": [
    "print(chr(1114112))"
   ]
  },
  {
   "cell_type": "code",
   "execution_count": 26,
   "id": "86b9cdb5",
   "metadata": {},
   "outputs": [
    {
     "name": "stdout",
     "output_type": "stream",
     "text": [
      "The Ionisation energy of Zinc: 906.4  KJ mol^(-1)\n"
     ]
    }
   ],
   "source": [
    "class Zinc:\n",
    "    melt = 692.68\n",
    "    boil = 1180 \n",
    "    cradius = 118 \n",
    "    ionisation = 906.40 \n",
    "    \n",
    "    def printIE(cls):\n",
    "        print(\"The Ionisation energy of Zinc:\", cls.ionisation, \" KJ mol^(-1)\")\n",
    "Zinc.printIE = classmethod(Zinc.printIE)\n",
    "Zinc.printIE()"
   ]
  },
  {
   "cell_type": "code",
   "execution_count": 27,
   "id": "21f08a06",
   "metadata": {},
   "outputs": [
    {
     "name": "stdout",
     "output_type": "stream",
     "text": [
      "mul = 60\n"
     ]
    }
   ],
   "source": [
    "codeInString = 'a = 10\\nb=6\\nmul=a*b\\nprint(\"mul =\",mul)'\n",
    "codeObject = compile(codeInString, 'sumstring', 'exec')\n",
    "\n",
    "exec(codeObject)"
   ]
  },
  {
   "cell_type": "code",
   "execution_count": 1,
   "id": "15f2aa57",
   "metadata": {},
   "outputs": [
    {
     "ename": "SyntaxError",
     "evalue": "invalid syntax (2742765631.py, line 12)",
     "output_type": "error",
     "traceback": [
      "\u001b[1;36m  File \u001b[1;32m\"C:\\Users\\BalaS\\AppData\\Local\\Temp\\ipykernel_16992\\2742765631.py\"\u001b[1;36m, line \u001b[1;32m12\u001b[0m\n\u001b[1;33m    for count, item in\u001b[0m\n\u001b[1;37m                       ^\u001b[0m\n\u001b[1;31mSyntaxError\u001b[0m\u001b[1;31m:\u001b[0m invalid syntax\n"
     ]
    }
   ],
   "source": [
    "elements=[\"hydrogen\", \"helium\", \"lithium\", \"beryllium\", \"boron\", \n",
    "          1.0078,4.0026,6.9410,9.0122,10.811]\n",
    "for i in enumerate(elements):\n",
    "    print(i)\n",
    "    \n",
    "print('\\n')\n",
    "\n",
    "for count, i in enumerate(elements):\n",
    "    print(count, i)\n",
    "    \n",
    "print(\"\\n\")\n",
    "for count, item in "
   ]
  },
  {
   "cell_type": "code",
   "execution_count": 10,
   "id": "5701842e",
   "metadata": {},
   "outputs": [
    {
     "name": "stdout",
     "output_type": "stream",
     "text": [
      "Enter a program:print(10+5)\n",
      "15\n"
     ]
    }
   ],
   "source": [
    "#get an entire program as input\n",
    "program = input('Enter a program:')\n",
    "\n",
    "# execute the program\n",
    "exec(program)"
   ]
  },
  {
   "cell_type": "code",
   "execution_count": 4,
   "id": "f6134889",
   "metadata": {},
   "outputs": [
    {
     "name": "stdout",
     "output_type": "stream",
     "text": [
      "hydrogen\n",
      "helium\n",
      "lithium\n",
      "beryllium\n",
      "boron\n"
     ]
    }
   ],
   "source": [
    "elements=[\"hydrogen\", \"helium\", \"lithium\", \"beryllium\", \"boron\"]\n",
    "for i in (elements):\n",
    "    print(i)"
   ]
  },
  {
   "cell_type": "code",
   "execution_count": 11,
   "id": "4ca113bb",
   "metadata": {},
   "outputs": [
    {
     "name": "stdout",
     "output_type": "stream",
     "text": [
      "231.0\n"
     ]
    }
   ],
   "source": [
    "#integer value\n",
    "print(float(231))"
   ]
  },
  {
   "cell_type": "code",
   "execution_count": 12,
   "id": "2d76f6a4",
   "metadata": {},
   "outputs": [
    {
     "name": "stdout",
     "output_type": "stream",
     "text": [
      "40.08\n"
     ]
    }
   ],
   "source": [
    "#floating value\n",
    "print(float(40.08))"
   ]
  },
  {
   "cell_type": "code",
   "execution_count": 13,
   "id": "45bad598",
   "metadata": {},
   "outputs": [
    {
     "name": "stdout",
     "output_type": "stream",
     "text": [
      "6.113\n"
     ]
    }
   ],
   "source": [
    "#string floats\n",
    "print(float(\"6.113\"))"
   ]
  },
  {
   "cell_type": "code",
   "execution_count": 14,
   "id": "2a98f191",
   "metadata": {},
   "outputs": [
    {
     "name": "stdout",
     "output_type": "stream",
     "text": [
      "1.54\n"
     ]
    }
   ],
   "source": [
    "#string floats with whitespaces\n",
    "print(float(\"    1.54\"))"
   ]
  },
  {
   "cell_type": "code",
   "execution_count": 16,
   "id": "991e32ad",
   "metadata": {},
   "outputs": [
    {
     "ename": "ValueError",
     "evalue": "could not convert string to float: 'Calcium'",
     "output_type": "error",
     "traceback": [
      "\u001b[1;31m---------------------------------------------------------------------------\u001b[0m",
      "\u001b[1;31mValueError\u001b[0m                                Traceback (most recent call last)",
      "\u001b[1;32m~\\AppData\\Local\\Temp\\ipykernel_13060\\3901785010.py\u001b[0m in \u001b[0;36m<module>\u001b[1;34m\u001b[0m\n\u001b[0;32m      1\u001b[0m \u001b[1;31m#ValueError\u001b[0m\u001b[1;33m\u001b[0m\u001b[1;33m\u001b[0m\u001b[1;33m\u001b[0m\u001b[0m\n\u001b[1;32m----> 2\u001b[1;33m \u001b[0mprint\u001b[0m\u001b[1;33m(\u001b[0m\u001b[0mfloat\u001b[0m\u001b[1;33m(\u001b[0m\u001b[1;34m\"Calcium\"\u001b[0m\u001b[1;33m)\u001b[0m\u001b[1;33m)\u001b[0m\u001b[1;33m\u001b[0m\u001b[1;33m\u001b[0m\u001b[0m\n\u001b[0m",
      "\u001b[1;31mValueError\u001b[0m: could not convert string to float: 'Calcium'"
     ]
    }
   ],
   "source": [
    "#ValueError\n",
    "print(float(\"Calcium\"))"
   ]
  },
  {
   "cell_type": "code",
   "execution_count": 26,
   "id": "414add2f",
   "metadata": {},
   "outputs": [
    {
     "name": "stdout",
     "output_type": "stream",
     "text": [
      "153\n",
      "153.000000\n",
      "10011001\n",
      "15.999000\n",
      "1.599900e+01\n",
      "1.599900E+01\n",
      "1000\n"
     ]
    }
   ],
   "source": [
    "# integer\n",
    "print(format(153, \"d\"))\n",
    "print(format(153,\"f\"))\n",
    "print(format(153, \"b\"))\n",
    "\n",
    "# float arguments\n",
    "print(format(15.999000, \"f\"))\n",
    "print(format(15.999000, \"e\"))\n",
    "print(format(15.999000, \"E\"))\n",
    "\n",
    "# binary format\n",
    "print(format(8, \"b\"))\n"
   ]
  },
  {
   "cell_type": "code",
   "execution_count": 27,
   "id": "c80d5784",
   "metadata": {},
   "outputs": [
    {
     "name": "stdout",
     "output_type": "stream",
     "text": [
      "***+152\n",
      "013.61800\n"
     ]
    }
   ],
   "source": [
    "# integer \n",
    "print(format(152, \"*>+7,d\"))\n",
    "\n",
    "# float number\n",
    "print(format(13.618, \"^-09.3f\"))\n",
    "\n"
   ]
  },
  {
   "cell_type": "code",
   "execution_count": 1,
   "id": "bcaf267f",
   "metadata": {},
   "outputs": [
    {
     "name": "stdout",
     "output_type": "stream",
     "text": [
      "\n"
     ]
    }
   ],
   "source": [
    "print()"
   ]
  },
  {
   "cell_type": "code",
   "execution_count": 2,
   "id": "57b974bf",
   "metadata": {},
   "outputs": [
    {
     "name": "stdout",
     "output_type": "stream",
     "text": [
      "\n",
      "Welcome to Python 3.7's help utility!\n",
      "\n",
      "If this is your first time using Python, you should definitely check out\n",
      "the tutorial on the Internet at https://docs.python.org/3.7/tutorial/.\n",
      "\n",
      "Enter the name of any module, keyword, or topic to get help on writing\n",
      "Python programs and using Python modules.  To quit this help utility and\n",
      "return to the interpreter, just type \"quit\".\n",
      "\n",
      "To get a list of available modules, keywords, symbols, or topics, type\n",
      "\"modules\", \"keywords\", \"symbols\", or \"topics\".  Each module also comes\n",
      "with a one-line summary of what it does; to list the modules whose name\n",
      "or summary contain a given string such as \"spam\", type \"modules spam\".\n",
      "\n",
      "help> dict\n",
      "Help on class dict in module builtins:\n",
      "\n",
      "class dict(object)\n",
      " |  dict() -> new empty dictionary\n",
      " |  dict(mapping) -> new dictionary initialized from a mapping object's\n",
      " |      (key, value) pairs\n",
      " |  dict(iterable) -> new dictionary initialized as if via:\n",
      " |      d = {}\n",
      " |      for k, v in iterable:\n",
      " |          d[k] = v\n",
      " |  dict(**kwargs) -> new dictionary initialized with the name=value pairs\n",
      " |      in the keyword argument list.  For example:  dict(one=1, two=2)\n",
      " |  \n",
      " |  Methods defined here:\n",
      " |  \n",
      " |  __contains__(self, key, /)\n",
      " |      True if the dictionary has the specified key, else False.\n",
      " |  \n",
      " |  __delitem__(self, key, /)\n",
      " |      Delete self[key].\n",
      " |  \n",
      " |  __eq__(self, value, /)\n",
      " |      Return self==value.\n",
      " |  \n",
      " |  __ge__(self, value, /)\n",
      " |      Return self>=value.\n",
      " |  \n",
      " |  __getattribute__(self, name, /)\n",
      " |      Return getattr(self, name).\n",
      " |  \n",
      " |  __getitem__(...)\n",
      " |      x.__getitem__(y) <==> x[y]\n",
      " |  \n",
      " |  __gt__(self, value, /)\n",
      " |      Return self>value.\n",
      " |  \n",
      " |  __init__(self, /, *args, **kwargs)\n",
      " |      Initialize self.  See help(type(self)) for accurate signature.\n",
      " |  \n",
      " |  __iter__(self, /)\n",
      " |      Implement iter(self).\n",
      " |  \n",
      " |  __le__(self, value, /)\n",
      " |      Return self<=value.\n",
      " |  \n",
      " |  __len__(self, /)\n",
      " |      Return len(self).\n",
      " |  \n",
      " |  __lt__(self, value, /)\n",
      " |      Return self<value.\n",
      " |  \n",
      " |  __ne__(self, value, /)\n",
      " |      Return self!=value.\n",
      " |  \n",
      " |  __repr__(self, /)\n",
      " |      Return repr(self).\n",
      " |  \n",
      " |  __setitem__(self, key, value, /)\n",
      " |      Set self[key] to value.\n",
      " |  \n",
      " |  __sizeof__(...)\n",
      " |      D.__sizeof__() -> size of D in memory, in bytes\n",
      " |  \n",
      " |  clear(...)\n",
      " |      D.clear() -> None.  Remove all items from D.\n",
      " |  \n",
      " |  copy(...)\n",
      " |      D.copy() -> a shallow copy of D\n",
      " |  \n",
      " |  get(self, key, default=None, /)\n",
      " |      Return the value for key if key is in the dictionary, else default.\n",
      " |  \n",
      " |  items(...)\n",
      " |      D.items() -> a set-like object providing a view on D's items\n",
      " |  \n",
      " |  keys(...)\n",
      " |      D.keys() -> a set-like object providing a view on D's keys\n",
      " |  \n",
      " |  pop(...)\n",
      " |      D.pop(k[,d]) -> v, remove specified key and return the corresponding value.\n",
      " |      If key is not found, d is returned if given, otherwise KeyError is raised\n",
      " |  \n",
      " |  popitem(...)\n",
      " |      D.popitem() -> (k, v), remove and return some (key, value) pair as a\n",
      " |      2-tuple; but raise KeyError if D is empty.\n",
      " |  \n",
      " |  setdefault(self, key, default=None, /)\n",
      " |      Insert key with a value of default if key is not in the dictionary.\n",
      " |      \n",
      " |      Return the value for key if key is in the dictionary, else default.\n",
      " |  \n",
      " |  update(...)\n",
      " |      D.update([E, ]**F) -> None.  Update D from dict/iterable E and F.\n",
      " |      If E is present and has a .keys() method, then does:  for k in E: D[k] = E[k]\n",
      " |      If E is present and lacks a .keys() method, then does:  for k, v in E: D[k] = v\n",
      " |      In either case, this is followed by: for k in F:  D[k] = F[k]\n",
      " |  \n",
      " |  values(...)\n",
      " |      D.values() -> an object providing a view on D's values\n",
      " |  \n",
      " |  ----------------------------------------------------------------------\n",
      " |  Class methods defined here:\n",
      " |  \n",
      " |  fromkeys(iterable, value=None, /) from builtins.type\n",
      " |      Create a new dictionary with keys from iterable and values set to value.\n",
      " |  \n",
      " |  ----------------------------------------------------------------------\n",
      " |  Static methods defined here:\n",
      " |  \n",
      " |  __new__(*args, **kwargs) from builtins.type\n",
      " |      Create and return a new object.  See help(type) for accurate signature.\n",
      " |  \n",
      " |  ----------------------------------------------------------------------\n",
      " |  Data and other attributes defined here:\n",
      " |  \n",
      " |  __hash__ = None\n",
      "\n",
      "help> dict\n",
      "Help on class dict in module builtins:\n",
      "\n",
      "class dict(object)\n",
      " |  dict() -> new empty dictionary\n",
      " |  dict(mapping) -> new dictionary initialized from a mapping object's\n",
      " |      (key, value) pairs\n",
      " |  dict(iterable) -> new dictionary initialized as if via:\n",
      " |      d = {}\n",
      " |      for k, v in iterable:\n",
      " |          d[k] = v\n",
      " |  dict(**kwargs) -> new dictionary initialized with the name=value pairs\n",
      " |      in the keyword argument list.  For example:  dict(one=1, two=2)\n",
      " |  \n",
      " |  Methods defined here:\n",
      " |  \n",
      " |  __contains__(self, key, /)\n",
      " |      True if the dictionary has the specified key, else False.\n",
      " |  \n",
      " |  __delitem__(self, key, /)\n",
      " |      Delete self[key].\n",
      " |  \n",
      " |  __eq__(self, value, /)\n",
      " |      Return self==value.\n",
      " |  \n",
      " |  __ge__(self, value, /)\n",
      " |      Return self>=value.\n",
      " |  \n",
      " |  __getattribute__(self, name, /)\n",
      " |      Return getattr(self, name).\n",
      " |  \n",
      " |  __getitem__(...)\n",
      " |      x.__getitem__(y) <==> x[y]\n",
      " |  \n",
      " |  __gt__(self, value, /)\n",
      " |      Return self>value.\n",
      " |  \n",
      " |  __init__(self, /, *args, **kwargs)\n",
      " |      Initialize self.  See help(type(self)) for accurate signature.\n",
      " |  \n",
      " |  __iter__(self, /)\n",
      " |      Implement iter(self).\n",
      " |  \n",
      " |  __le__(self, value, /)\n",
      " |      Return self<=value.\n",
      " |  \n",
      " |  __len__(self, /)\n",
      " |      Return len(self).\n",
      " |  \n",
      " |  __lt__(self, value, /)\n",
      " |      Return self<value.\n",
      " |  \n",
      " |  __ne__(self, value, /)\n",
      " |      Return self!=value.\n",
      " |  \n",
      " |  __repr__(self, /)\n",
      " |      Return repr(self).\n",
      " |  \n",
      " |  __setitem__(self, key, value, /)\n",
      " |      Set self[key] to value.\n",
      " |  \n",
      " |  __sizeof__(...)\n",
      " |      D.__sizeof__() -> size of D in memory, in bytes\n",
      " |  \n",
      " |  clear(...)\n",
      " |      D.clear() -> None.  Remove all items from D.\n",
      " |  \n",
      " |  copy(...)\n",
      " |      D.copy() -> a shallow copy of D\n",
      " |  \n",
      " |  get(self, key, default=None, /)\n",
      " |      Return the value for key if key is in the dictionary, else default.\n",
      " |  \n",
      " |  items(...)\n",
      " |      D.items() -> a set-like object providing a view on D's items\n",
      " |  \n",
      " |  keys(...)\n",
      " |      D.keys() -> a set-like object providing a view on D's keys\n",
      " |  \n",
      " |  pop(...)\n",
      " |      D.pop(k[,d]) -> v, remove specified key and return the corresponding value.\n",
      " |      If key is not found, d is returned if given, otherwise KeyError is raised\n",
      " |  \n",
      " |  popitem(...)\n",
      " |      D.popitem() -> (k, v), remove and return some (key, value) pair as a\n",
      " |      2-tuple; but raise KeyError if D is empty.\n",
      " |  \n",
      " |  setdefault(self, key, default=None, /)\n",
      " |      Insert key with a value of default if key is not in the dictionary.\n",
      " |      \n",
      " |      Return the value for key if key is in the dictionary, else default.\n",
      " |  \n",
      " |  update(...)\n",
      " |      D.update([E, ]**F) -> None.  Update D from dict/iterable E and F.\n",
      " |      If E is present and has a .keys() method, then does:  for k in E: D[k] = E[k]\n",
      " |      If E is present and lacks a .keys() method, then does:  for k, v in E: D[k] = v\n",
      " |      In either case, this is followed by: for k in F:  D[k] = F[k]\n",
      " |  \n",
      " |  values(...)\n",
      " |      D.values() -> an object providing a view on D's values\n",
      " |  \n",
      " |  ----------------------------------------------------------------------\n",
      " |  Class methods defined here:\n",
      " |  \n",
      " |  fromkeys(iterable, value=None, /) from builtins.type\n",
      " |      Create a new dictionary with keys from iterable and values set to value.\n",
      " |  \n",
      " |  ----------------------------------------------------------------------\n",
      " |  Static methods defined here:\n",
      " |  \n",
      " |  __new__(*args, **kwargs) from builtins.type\n",
      " |      Create and return a new object.  See help(type) for accurate signature.\n",
      " |  \n",
      " |  ----------------------------------------------------------------------\n",
      " |  Data and other attributes defined here:\n",
      " |  \n",
      " |  __hash__ = None\n",
      "\n",
      "help> Exit\n",
      "No Python documentation found for 'Exit'.\n",
      "Use help() to get the interactive help utility.\n",
      "Use help(str) for help on the str class.\n",
      "\n",
      "\n",
      "You are now leaving help and returning to the Python interpreter.\n",
      "If you want to ask for help on a particular object directly from the\n",
      "interpreter, you can type \"help(object)\".  Executing \"help('string')\"\n",
      "has the same effect as typing a particular string at the help> prompt.\n"
     ]
    }
   ],
   "source": [
    "help()"
   ]
  },
  {
   "cell_type": "code",
   "execution_count": 4,
   "id": "f54bbfc2",
   "metadata": {},
   "outputs": [
    {
     "name": "stdout",
     "output_type": "stream",
     "text": [
      "The hexadecimal number of 152 is: 0x98\n"
     ]
    }
   ],
   "source": [
    "radius = 152\n",
    "\n",
    "print(\"The hexadecimal number of 152 is:\",hex(radius))"
   ]
  },
  {
   "cell_type": "code",
   "execution_count": 6,
   "id": "059dfa34",
   "metadata": {},
   "outputs": [
    {
     "name": "stdout",
     "output_type": "stream",
     "text": [
      "The hexadecimal number of 15.999 is: 0x1.fff7ced916873p+3\n"
     ]
    }
   ],
   "source": [
    "amass = 15.999\n",
    "print(\"The hexadecimal number of 15.999 is:\",float.hex(amass))"
   ]
  },
  {
   "cell_type": "code",
   "execution_count": null,
   "id": "f7d82bc5",
   "metadata": {},
   "outputs": [],
   "source": [
    "vegetables = (\"asparagus\", \"basil\", \"cabbage\")\n",
    "\n",
    "# id() with vegetable\n",
    "print(\"The id of the vegetables set is\", id(vegetables))"
   ]
  },
  {
   "cell_type": "code",
   "execution_count": 9,
   "id": "1e9e0e4e",
   "metadata": {},
   "outputs": [
    {
     "name": "stdout",
     "output_type": "stream",
     "text": [
      "The id of the set of chemical elements are:  1670778712616\n"
     ]
    }
   ],
   "source": [
    "elements=(\"hydrogen\", \"helium\", \"lithium\", \"beryllium\", \"boron\")\n",
    "print(\"The id of the set of chemical elements are: \",id(elements))"
   ]
  },
  {
   "cell_type": "code",
   "execution_count": 11,
   "id": "4842367c",
   "metadata": {},
   "outputs": [
    {
     "name": "stdout",
     "output_type": "stream",
     "text": [
      "Python for Chemistry\n",
      "The inputted string is: Python for Chemistry\n"
     ]
    }
   ],
   "source": [
    "inputString = input()\n",
    "\n",
    "print('The inputted string is:', inputString)"
   ]
  },
  {
   "cell_type": "code",
   "execution_count": 13,
   "id": "5cbd7ec8",
   "metadata": {},
   "outputs": [
    {
     "name": "stdout",
     "output_type": "stream",
     "text": [
      "Enter number 148625\n",
      "['1', '4', '8', '6', '2', '5']\n"
     ]
    }
   ],
   "source": [
    "# Taking input from the user as list\n",
    " \n",
    "li =list(input(\"Enter number \"))\n",
    " \n",
    "# output\n",
    "print(li)"
   ]
  },
  {
   "cell_type": "code",
   "execution_count": 2,
   "id": "5f0a1cfb",
   "metadata": {},
   "outputs": [
    {
     "name": "stdout",
     "output_type": "stream",
     "text": [
      "int(152) is: 152\n",
      "int(152.23) is: 152\n",
      "int('152') is: 152\n"
     ]
    }
   ],
   "source": [
    "# int() with an integer value\n",
    "print(\"int(152) is:\", int(152))\n",
    "\n",
    "# int() with a floating point value\n",
    "print(\"int(152.23) is:\", int(152.23))\n",
    "\n",
    "# int() with a numeric-string value\n",
    "print(\"int('152') is:\", int(\"152\"))"
   ]
  },
  {
   "cell_type": "code",
   "execution_count": 3,
   "id": "b8a5f40e",
   "metadata": {},
   "outputs": [
    {
     "name": "stdout",
     "output_type": "stream",
     "text": [
      "For 0b101, int is: 5\n"
     ]
    }
   ],
   "source": [
    "#converting a binary to integer with int()\n",
    "print(\"For 0b101, int is:\", int(\"0b101\", 2))\n"
   ]
  },
  {
   "cell_type": "code",
   "execution_count": 4,
   "id": "08bc1380",
   "metadata": {},
   "outputs": [
    {
     "name": "stdout",
     "output_type": "stream",
     "text": [
      "0\n"
     ]
    }
   ],
   "source": [
    "a= int()\n",
    "print(a)"
   ]
  },
  {
   "cell_type": "code",
   "execution_count": 5,
   "id": "d1bc579b",
   "metadata": {},
   "outputs": [
    {
     "ename": "ValueError",
     "evalue": "invalid literal for int() with base 10: 'Simple'",
     "output_type": "error",
     "traceback": [
      "\u001b[1;31m---------------------------------------------------------------------------\u001b[0m",
      "\u001b[1;31mValueError\u001b[0m                                Traceback (most recent call last)",
      "\u001b[1;32m~\\AppData\\Local\\Temp\\ipykernel_11716\\1910392359.py\u001b[0m in \u001b[0;36m<module>\u001b[1;34m\u001b[0m\n\u001b[1;32m----> 1\u001b[1;33m \u001b[0ma\u001b[0m\u001b[1;33m=\u001b[0m\u001b[0mint\u001b[0m\u001b[1;33m(\u001b[0m\u001b[1;34m\"Simple\"\u001b[0m\u001b[1;33m)\u001b[0m\u001b[1;33m\u001b[0m\u001b[1;33m\u001b[0m\u001b[0m\n\u001b[0m\u001b[0;32m      2\u001b[0m \u001b[0mprint\u001b[0m\u001b[1;33m(\u001b[0m\u001b[0ma\u001b[0m\u001b[1;33m)\u001b[0m\u001b[1;33m\u001b[0m\u001b[1;33m\u001b[0m\u001b[0m\n",
      "\u001b[1;31mValueError\u001b[0m: invalid literal for int() with base 10: 'Simple'"
     ]
    }
   ],
   "source": [
    "a=int(\"Simple\")\n",
    "print(a)"
   ]
  },
  {
   "cell_type": "code",
   "execution_count": 28,
   "id": "90f5d835",
   "metadata": {},
   "outputs": [
    {
     "name": "stdout",
     "output_type": "stream",
     "text": [
      "(658.81+0j)\n"
     ]
    }
   ],
   "source": [
    "Ti_ionisation = complex(658.81)\n",
    "print(Ti_ionisation)"
   ]
  },
  {
   "cell_type": "code",
   "execution_count": 29,
   "id": "80b706d0",
   "metadata": {},
   "outputs": [
    {
     "name": "stdout",
     "output_type": "stream",
     "text": [
      "(1941+1j)\n"
     ]
    }
   ],
   "source": [
    "Ti_melt=complex(1941,1)\n",
    "print(Ti_melt)"
   ]
  },
  {
   "cell_type": "code",
   "execution_count": 30,
   "id": "06fec49a",
   "metadata": {},
   "outputs": [
    {
     "ename": "ValueError",
     "evalue": "complex() arg is a malformed string",
     "output_type": "error",
     "traceback": [
      "\u001b[1;31m---------------------------------------------------------------------------\u001b[0m",
      "\u001b[1;31mValueError\u001b[0m                                Traceback (most recent call last)",
      "\u001b[1;32m~\\AppData\\Local\\Temp\\ipykernel_13700\\1060313362.py\u001b[0m in \u001b[0;36m<module>\u001b[1;34m\u001b[0m\n\u001b[1;32m----> 1\u001b[1;33m \u001b[0mTi_name\u001b[0m \u001b[1;33m=\u001b[0m \u001b[0mcomplex\u001b[0m\u001b[1;33m(\u001b[0m\u001b[1;34m\"Titanium\"\u001b[0m\u001b[1;33m)\u001b[0m\u001b[1;33m\u001b[0m\u001b[1;33m\u001b[0m\u001b[0m\n\u001b[0m\u001b[0;32m      2\u001b[0m \u001b[0mprint\u001b[0m\u001b[1;33m(\u001b[0m\u001b[0mTi_name\u001b[0m\u001b[1;33m)\u001b[0m\u001b[1;33m\u001b[0m\u001b[1;33m\u001b[0m\u001b[0m\n",
      "\u001b[1;31mValueError\u001b[0m: complex() arg is a malformed string"
     ]
    }
   ],
   "source": [
    "Ti_name = complex(\"Titanium\")\n",
    "print(Ti_name)"
   ]
  },
  {
   "cell_type": "code",
   "execution_count": 32,
   "id": "fc0cceb3",
   "metadata": {},
   "outputs": [
    {
     "name": "stdout",
     "output_type": "stream",
     "text": [
      "Melting Point:  692.68 K\n",
      "Boiling Point:  1180 K\n",
      "Covalent Radius:  118 ppm\n",
      "Ionisation Energy:  906.4 KJ mol^-1\n"
     ]
    }
   ],
   "source": [
    "class Zinc:\n",
    "    melt = 692.68\n",
    "    boil = 1180 \n",
    "    cradius = 118 \n",
    "    ionisation = 906.40 \n",
    "x = Zinc()\n",
    "print (\"Melting Point: \", x.melt , \"K\")\n",
    "print (\"Boiling Point: \", x.boil, \"K\")\n",
    "print (\"Covalent Radius: \", x.cradius, \"ppm\")\n",
    "print (\"Ionisation Energy: \", x.ionisation, \"KJ mol^-1\")"
   ]
  },
  {
   "cell_type": "code",
   "execution_count": 33,
   "id": "61ee92c3",
   "metadata": {},
   "outputs": [],
   "source": [
    "delattr(Zinc, 'melt')"
   ]
  },
  {
   "cell_type": "code",
   "execution_count": 34,
   "id": "662e4ab2",
   "metadata": {},
   "outputs": [
    {
     "name": "stdout",
     "output_type": "stream",
     "text": [
      "Boiling Point:  1180 K\n",
      "Covalent Radius:  118 ppm\n",
      "Ionisation Energy:  906.4 KJ mol^-1\n"
     ]
    }
   ],
   "source": [
    "print (\"Boiling Point: \", x.boil, \"K\")\n",
    "print (\"Covalent Radius: \", x.cradius, \"ppm\")\n",
    "print (\"Ionisation Energy: \", x.ionisation, \"KJ mol^-1\")"
   ]
  },
  {
   "cell_type": "code",
   "execution_count": 35,
   "id": "92a7c325",
   "metadata": {},
   "outputs": [
    {
     "ename": "AttributeError",
     "evalue": "'Zinc' object has no attribute 'melt'",
     "output_type": "error",
     "traceback": [
      "\u001b[1;31m---------------------------------------------------------------------------\u001b[0m",
      "\u001b[1;31mAttributeError\u001b[0m                            Traceback (most recent call last)",
      "\u001b[1;32m~\\AppData\\Local\\Temp\\ipykernel_13700\\69927158.py\u001b[0m in \u001b[0;36m<module>\u001b[1;34m\u001b[0m\n\u001b[1;32m----> 1\u001b[1;33m \u001b[0mprint\u001b[0m \u001b[1;33m(\u001b[0m\u001b[1;34m\"Melting Point: \"\u001b[0m\u001b[1;33m,\u001b[0m \u001b[0mx\u001b[0m\u001b[1;33m.\u001b[0m\u001b[0mmelt\u001b[0m \u001b[1;33m,\u001b[0m \u001b[1;34m\"K\"\u001b[0m\u001b[1;33m)\u001b[0m\u001b[1;33m\u001b[0m\u001b[1;33m\u001b[0m\u001b[0m\n\u001b[0m",
      "\u001b[1;31mAttributeError\u001b[0m: 'Zinc' object has no attribute 'melt'"
     ]
    }
   ],
   "source": [
    "print (\"Melting Point: \", x.melt , \"K\")"
   ]
  },
  {
   "cell_type": "code",
   "execution_count": 36,
   "id": "fc10743f",
   "metadata": {},
   "outputs": [
    {
     "name": "stdout",
     "output_type": "stream",
     "text": [
      "{}\n"
     ]
    }
   ],
   "source": [
    "Cu = dict()\n",
    "print(Cu)"
   ]
  },
  {
   "cell_type": "code",
   "execution_count": 37,
   "id": "89cd3b05",
   "metadata": {},
   "outputs": [
    {
     "name": "stdout",
     "output_type": "stream",
     "text": [
      "{'melt': 1357.77, 'boil': 3200, 'cradius': 112, 'ionisation': 745.48}\n"
     ]
    }
   ],
   "source": [
    "Cu = dict(melt = 1357.77, boil = 3200, \n",
    "         cradius = 112, ionisation = 745.48)\n",
    "print(Cu)"
   ]
  },
  {
   "cell_type": "code",
   "execution_count": 39,
   "id": "90bf1a90",
   "metadata": {},
   "outputs": [
    {
     "name": "stdout",
     "output_type": "stream",
     "text": [
      "{'melt': 1811, 'boil': 3134, 'cradius': 116, 'ionisation': 762.47}\n"
     ]
    }
   ],
   "source": [
    "Fe= dict({'melt' : 1811, 'boil' : 3134}, \n",
    "         cradius = 116, ionisation = 762.47)\n",
    "print(Fe)"
   ]
  },
  {
   "cell_type": "code",
   "execution_count": 1,
   "id": "315a570d",
   "metadata": {},
   "outputs": [
    {
     "name": "stdout",
     "output_type": "stream",
     "text": [
      "{'melt': 1728, 'boil': 3186, 'cradius': 112, 'ionisation': 745.48}\n"
     ]
    }
   ],
   "source": [
    "Ni= dict([('melt', 1728), ['boil' ,3186], \n",
    "         ['cradius' , 112], ['ionisation' , 745.48]])\n",
    "print(Ni)"
   ]
  },
  {
   "cell_type": "code",
   "execution_count": 2,
   "id": "2c8266b2",
   "metadata": {},
   "outputs": [
    {
     "name": "stdout",
     "output_type": "stream",
     "text": [
      "['__add__', '__class__', '__contains__', '__delattr__', '__delitem__', '__dir__', '__doc__', '__eq__', '__format__', '__ge__', '__getattribute__', '__getitem__', '__gt__', '__hash__', '__iadd__', '__imul__', '__init__', '__init_subclass__', '__iter__', '__le__', '__len__', '__lt__', '__mul__', '__ne__', '__new__', '__reduce__', '__reduce_ex__', '__repr__', '__reversed__', '__rmul__', '__setattr__', '__setitem__', '__sizeof__', '__str__', '__subclasshook__', 'append', 'clear', 'copy', 'count', 'extend', 'index', 'insert', 'pop', 'remove', 'reverse', 'sort']\n"
     ]
    }
   ],
   "source": [
    "rList = [148, 136, 134, 122]\n",
    "print(dir(rList))"
   ]
  },
  {
   "cell_type": "code",
   "execution_count": 3,
   "id": "904c8fcf",
   "metadata": {},
   "outputs": [
    {
     "name": "stdout",
     "output_type": "stream",
     "text": [
      "['__add__', '__class__', '__contains__', '__delattr__', '__dir__', '__doc__', '__eq__', '__format__', '__ge__', '__getattribute__', '__getitem__', '__getnewargs__', '__gt__', '__hash__', '__init__', '__init_subclass__', '__iter__', '__le__', '__len__', '__lt__', '__mul__', '__ne__', '__new__', '__reduce__', '__reduce_ex__', '__repr__', '__rmul__', '__setattr__', '__sizeof__', '__str__', '__subclasshook__', 'count', 'index']\n"
     ]
    }
   ],
   "source": [
    "elements = (\"Scandium\", \"Titanium\",\"Vanadium\",\"Chromium\")\n",
    "print(dir(elements))"
   ]
  },
  {
   "cell_type": "code",
   "execution_count": 4,
   "id": "71a632b7",
   "metadata": {},
   "outputs": [
    {
     "name": "stdout",
     "output_type": "stream",
     "text": [
      "['__add__', '__class__', '__contains__', '__delattr__', '__dir__', '__doc__', '__eq__', '__format__', '__ge__', '__getattribute__', '__getitem__', '__getnewargs__', '__gt__', '__hash__', '__init__', '__init_subclass__', '__iter__', '__le__', '__len__', '__lt__', '__mul__', '__ne__', '__new__', '__reduce__', '__reduce_ex__', '__repr__', '__rmul__', '__setattr__', '__sizeof__', '__str__', '__subclasshook__', 'count', 'index']\n"
     ]
    }
   ],
   "source": [
    "atomicmass = (44.955908,47.867,51.9961,50.9415)\n",
    "print(dir(atomicmass))"
   ]
  },
  {
   "cell_type": "code",
   "execution_count": 5,
   "id": "054fee27",
   "metadata": {},
   "outputs": [
    {
     "name": "stdout",
     "output_type": "stream",
     "text": [
      "(4.0, 1.0120000000000005)\n"
     ]
    }
   ],
   "source": [
    "Number = divmod(9.012,2)\n",
    "print(Number)"
   ]
  },
  {
   "cell_type": "code",
   "execution_count": 7,
   "id": "5990b3c1",
   "metadata": {},
   "outputs": [
    {
     "name": "stdout",
     "output_type": "stream",
     "text": [
      "(17, 3)\n"
     ]
    }
   ],
   "source": [
    "Number = divmod(173,10)\n",
    "print(Number)"
   ]
  },
  {
   "cell_type": "code",
   "execution_count": 8,
   "id": "5e40761a",
   "metadata": {},
   "outputs": [
    {
     "ename": "TypeError",
     "evalue": "can't take floor or mod of complex number.",
     "output_type": "error",
     "traceback": [
      "\u001b[1;31m---------------------------------------------------------------------------\u001b[0m",
      "\u001b[1;31mTypeError\u001b[0m                                 Traceback (most recent call last)",
      "\u001b[1;32m~\\AppData\\Local\\Temp\\ipykernel_4152\\2387462557.py\u001b[0m in \u001b[0;36m<module>\u001b[1;34m\u001b[0m\n\u001b[1;32m----> 1\u001b[1;33m \u001b[0mNumber\u001b[0m \u001b[1;33m=\u001b[0m \u001b[0mdivmod\u001b[0m\u001b[1;33m(\u001b[0m\u001b[1;36m1\u001b[0m\u001b[1;33m+\u001b[0m\u001b[1;36m5j\u001b[0m\u001b[1;33m,\u001b[0m\u001b[1;36m3\u001b[0m\u001b[1;33m)\u001b[0m\u001b[1;33m\u001b[0m\u001b[1;33m\u001b[0m\u001b[0m\n\u001b[0m\u001b[0;32m      2\u001b[0m \u001b[0mprint\u001b[0m\u001b[1;33m(\u001b[0m\u001b[0mNumber\u001b[0m\u001b[1;33m)\u001b[0m\u001b[1;33m\u001b[0m\u001b[1;33m\u001b[0m\u001b[0m\n",
      "\u001b[1;31mTypeError\u001b[0m: can't take floor or mod of complex number."
     ]
    }
   ],
   "source": [
    "Number = divmod(1+5j,3)\n",
    "print(Number)"
   ]
  },
  {
   "cell_type": "code",
   "execution_count": 9,
   "id": "7bcf24ef",
   "metadata": {},
   "outputs": [
    {
     "name": "stdout",
     "output_type": "stream",
     "text": [
      "(0, 'Hydrogen')\n",
      "(1, 'Helium')\n",
      "(2, 'Lithium')\n",
      "(3, 'Beryllium')\n",
      "(4, 'Boron')\n",
      "(5, 'Carbon')\n",
      "(6, 'Nitrogen')\n",
      "(7, 'Oxygen')\n"
     ]
    }
   ],
   "source": [
    "elements =[\"Hydrogen\", \"Helium\", \"Lithium\", \"Beryllium\",\n",
    "          \"Boron\", \"Carbon\", \"Nitrogen\", \"Oxygen\"]\n",
    "for i in enumerate(elements):\n",
    "    print(i)"
   ]
  },
  {
   "cell_type": "code",
   "execution_count": 10,
   "id": "1bb80786",
   "metadata": {},
   "outputs": [
    {
     "name": "stdout",
     "output_type": "stream",
     "text": [
      "0 Hydrogen\n",
      "1 Helium\n",
      "2 Lithium\n",
      "3 Beryllium\n",
      "4 Boron\n",
      "5 Carbon\n",
      "6 Nitrogen\n",
      "7 Oxygen\n"
     ]
    }
   ],
   "source": [
    "for count,i in enumerate(elements):\n",
    "    print(count,i)"
   ]
  },
  {
   "cell_type": "code",
   "execution_count": 11,
   "id": "602aaada",
   "metadata": {},
   "outputs": [
    {
     "name": "stdout",
     "output_type": "stream",
     "text": [
      "51 Hydrogen\n",
      "52 Helium\n",
      "53 Lithium\n",
      "54 Beryllium\n",
      "55 Boron\n",
      "56 Carbon\n",
      "57 Nitrogen\n",
      "58 Oxygen\n"
     ]
    }
   ],
   "source": [
    "for count,i in enumerate(elements,51):\n",
    "    print(count,i)"
   ]
  },
  {
   "cell_type": "code",
   "execution_count": 12,
   "id": "49480fe2",
   "metadata": {},
   "outputs": [
    {
     "name": "stdout",
     "output_type": "stream",
     "text": [
      "25.305\n"
     ]
    }
   ],
   "source": [
    "a = 24.305\n",
    "print (eval('a+1'))"
   ]
  },
  {
   "cell_type": "code",
   "execution_count": 14,
   "id": "eecee864",
   "metadata": {},
   "outputs": [
    {
     "name": "stdout",
     "output_type": "stream",
     "text": [
      "Carbon in elements tuple :  True\n"
     ]
    }
   ],
   "source": [
    "elements = (\"Hydrogen\", \"Helium\", \"Lithium\", \"Beryllium\",\n",
    "          \"Boron\", \"Carbon\", \"Nitrogen\", \"Oxygen\")\n",
    "print(\"Carbon in elements tuple : \", eval(\"'Carbon' in elements\"))"
   ]
  },
  {
   "cell_type": "code",
   "execution_count": 15,
   "id": "6169e74e",
   "metadata": {},
   "outputs": [
    {
     "name": "stdout",
     "output_type": "stream",
     "text": [
      "Iron in elements tuple :  False\n"
     ]
    }
   ],
   "source": [
    "print(\"Iron in elements tuple : \", eval(\"'Iron' in elements\"))"
   ]
  },
  {
   "cell_type": "code",
   "execution_count": 17,
   "id": "3f342fc3",
   "metadata": {},
   "outputs": [
    {
     "ename": "TypeError",
     "evalue": "eval() arg 1 must be a string, bytes or code object",
     "output_type": "error",
     "traceback": [
      "\u001b[1;31m---------------------------------------------------------------------------\u001b[0m",
      "\u001b[1;31mTypeError\u001b[0m                                 Traceback (most recent call last)",
      "\u001b[1;32m~\\AppData\\Local\\Temp\\ipykernel_4152\\1594088091.py\u001b[0m in \u001b[0;36m<module>\u001b[1;34m\u001b[0m\n\u001b[0;32m      1\u001b[0m \u001b[0mx\u001b[0m \u001b[1;33m=\u001b[0m \u001b[1;36m40.82\u001b[0m\u001b[1;33m\u001b[0m\u001b[1;33m\u001b[0m\u001b[0m\n\u001b[1;32m----> 2\u001b[1;33m \u001b[0mprint\u001b[0m\u001b[1;33m(\u001b[0m\u001b[0meval\u001b[0m\u001b[1;33m(\u001b[0m\u001b[0mx\u001b[0m\u001b[1;33m+\u001b[0m\u001b[1;36m1\u001b[0m\u001b[1;33m)\u001b[0m\u001b[1;33m)\u001b[0m\u001b[1;33m\u001b[0m\u001b[1;33m\u001b[0m\u001b[0m\n\u001b[0m",
      "\u001b[1;31mTypeError\u001b[0m: eval() arg 1 must be a string, bytes or code object"
     ]
    }
   ],
   "source": [
    " x = 40.82\n",
    "print(eval(x+1))"
   ]
  },
  {
   "cell_type": "code",
   "execution_count": 19,
   "id": "81bb1698",
   "metadata": {},
   "outputs": [
    {
     "name": "stdout",
     "output_type": "stream",
     "text": [
      "('Helium', 'Helium')\n"
     ]
    }
   ],
   "source": [
    "elements = [\"Hydrogen\", \"Helium\", \"Lithium\", \"Beryllium\",\n",
    "          \"Boron\", \"Carbon\", \"Nitrogen\", \"Oxygen\",\"Helium\"]\n",
    "def filter_He(letter):\n",
    "    He = ['Helium']\n",
    "    return True if letter in He else False\n",
    "\n",
    "filtered_He = filter(filter_He,elements)\n",
    "He = tuple(filtered_He)\n",
    "print(He)"
   ]
  },
  {
   "cell_type": "code",
   "execution_count": 21,
   "id": "e612f165",
   "metadata": {},
   "outputs": [
    {
     "name": "stdout",
     "output_type": "stream",
     "text": [
      "()\n"
     ]
    }
   ],
   "source": [
    "elements = [\"Hydrogen\", \"Helium\", \"Lithium\", \"Beryllium\",\n",
    "          \"Boron\", \"Carbon\", \"Nitrogen\", \"Oxygen\",\"Helium\"]\n",
    "def filter_He(letter):\n",
    "    He = ['Iron']\n",
    "    return True if letter in He else False\n",
    "\n",
    "filtered_He = filter(filter_He,elements)\n",
    "He = tuple(filtered_He)\n",
    "print(He)"
   ]
  },
  {
   "cell_type": "code",
   "execution_count": 22,
   "id": "70e26920",
   "metadata": {},
   "outputs": [
    {
     "name": "stdout",
     "output_type": "stream",
     "text": [
      "171.0\n"
     ]
    }
   ],
   "source": [
    "#integer value\n",
    "print(float(171))"
   ]
  },
  {
   "cell_type": "code",
   "execution_count": 23,
   "id": "ff32ae6d",
   "metadata": {},
   "outputs": [
    {
     "name": "stdout",
     "output_type": "stream",
     "text": [
      "40.078\n"
     ]
    }
   ],
   "source": [
    "#floating Point value\n",
    "print(float(40.078))"
   ]
  },
  {
   "cell_type": "code",
   "execution_count": 25,
   "id": "75e66f1a",
   "metadata": {},
   "outputs": [
    {
     "name": "stdout",
     "output_type": "stream",
     "text": [
      "589.83\n"
     ]
    }
   ],
   "source": [
    "#string floats\n",
    "print(float(\"589.83\"))"
   ]
  },
  {
   "cell_type": "code",
   "execution_count": 26,
   "id": "b9c81da4",
   "metadata": {},
   "outputs": [
    {
     "name": "stdout",
     "output_type": "stream",
     "text": [
      "589.83\n"
     ]
    }
   ],
   "source": [
    "#string floats with whitespaces\n",
    "print(float(\"     589.83\"))"
   ]
  },
  {
   "cell_type": "code",
   "execution_count": 27,
   "id": "f2a721f6",
   "metadata": {},
   "outputs": [
    {
     "ename": "ValueError",
     "evalue": "could not convert string to float: 'Calcium'",
     "output_type": "error",
     "traceback": [
      "\u001b[1;31m---------------------------------------------------------------------------\u001b[0m",
      "\u001b[1;31mValueError\u001b[0m                                Traceback (most recent call last)",
      "\u001b[1;32m~\\AppData\\Local\\Temp\\ipykernel_4152\\3901785010.py\u001b[0m in \u001b[0;36m<module>\u001b[1;34m\u001b[0m\n\u001b[0;32m      1\u001b[0m \u001b[1;31m#ValueError\u001b[0m\u001b[1;33m\u001b[0m\u001b[1;33m\u001b[0m\u001b[1;33m\u001b[0m\u001b[0m\n\u001b[1;32m----> 2\u001b[1;33m \u001b[0mprint\u001b[0m\u001b[1;33m(\u001b[0m\u001b[0mfloat\u001b[0m\u001b[1;33m(\u001b[0m\u001b[1;34m\"Calcium\"\u001b[0m\u001b[1;33m)\u001b[0m\u001b[1;33m)\u001b[0m\u001b[1;33m\u001b[0m\u001b[1;33m\u001b[0m\u001b[0m\n\u001b[0m",
      "\u001b[1;31mValueError\u001b[0m: could not convert string to float: 'Calcium'"
     ]
    }
   ],
   "source": [
    "#ValueError\n",
    "print(float(\"Calcium\"))"
   ]
  },
  {
   "cell_type": "code",
   "execution_count": 31,
   "id": "e77ff83f",
   "metadata": {},
   "outputs": [
    {
     "name": "stdout",
     "output_type": "stream",
     "text": [
      "The frozen set is : frozenset({'Radius', 'Ionisation Energy', 'Chemical Symbol', 'Atomic Number', 'Atomic Mass'})\n"
     ]
    }
   ],
   "source": [
    "Iron = {'Chemical Symbol' : 'Fe', 'Atomic Number':26,\n",
    "         'Atomic Mass': 55.845,'Ionisation Energy': 762.47,\n",
    "       'Radius': 116}\n",
    "fset = frozenset(Iron)\n",
    "print(\"The frozen set is :\" ,fset)"
   ]
  },
  {
   "cell_type": "code",
   "execution_count": 32,
   "id": "c26399f7",
   "metadata": {},
   "outputs": [
    {
     "ename": "AttributeError",
     "evalue": "'frozenset' object has no attribute 'add'",
     "output_type": "error",
     "traceback": [
      "\u001b[1;31m---------------------------------------------------------------------------\u001b[0m",
      "\u001b[1;31mAttributeError\u001b[0m                            Traceback (most recent call last)",
      "\u001b[1;32m~\\AppData\\Local\\Temp\\ipykernel_4152\\1156877402.py\u001b[0m in \u001b[0;36m<module>\u001b[1;34m\u001b[0m\n\u001b[1;32m----> 1\u001b[1;33m \u001b[0mfset\u001b[0m\u001b[1;33m.\u001b[0m\u001b[0madd\u001b[0m\u001b[1;33m(\u001b[0m\u001b[1;33m{\u001b[0m\u001b[1;34m'Melt'\u001b[0m\u001b[1;33m:\u001b[0m \u001b[1;36m1811\u001b[0m\u001b[1;33m}\u001b[0m\u001b[1;33m)\u001b[0m\u001b[1;33m\u001b[0m\u001b[1;33m\u001b[0m\u001b[0m\n\u001b[0m",
      "\u001b[1;31mAttributeError\u001b[0m: 'frozenset' object has no attribute 'add'"
     ]
    }
   ],
   "source": [
    "fset.add({'Melt': 1811})"
   ]
  },
  {
   "cell_type": "code",
   "execution_count": 33,
   "id": "c4f64fce",
   "metadata": {},
   "outputs": [
    {
     "name": "stdout",
     "output_type": "stream",
     "text": [
      "The frozen set is : frozenset()\n"
     ]
    }
   ],
   "source": [
    "Copper = {}\n",
    "fset = frozenset(Copper)\n",
    "print(\"The frozen set is :\",fset)"
   ]
  },
  {
   "cell_type": "code",
   "execution_count": 2,
   "id": "06756515",
   "metadata": {},
   "outputs": [
    {
     "name": "stdout",
     "output_type": "stream",
     "text": [
      "Melting Point:  692.68 K\n",
      "Boiling Point:  1180 K\n",
      "Covalent Radius:  118 ppm\n",
      "Ionisation Energy:  906.4 KJ mol^-1\n"
     ]
    }
   ],
   "source": [
    "class Zinc:\n",
    "    melt = 692.68\n",
    "    boil = 1180 \n",
    "    cradius = 118 \n",
    "    ionisation = 906.40 \n",
    "x = Zinc()\n",
    "print (\"Melting Point: \", getattr(x,\"melt\") , \"K\")\n",
    "print (\"Boiling Point: \", getattr(x,\"boil\"), \"K\")\n",
    "print (\"Covalent Radius: \", getattr(x,\"cradius\"), \"ppm\")\n",
    "print (\"Ionisation Energy: \", getattr(x,\"ionisation\"), \"KJ mol^-1\")"
   ]
  },
  {
   "cell_type": "code",
   "execution_count": 3,
   "id": "2cb3c61c",
   "metadata": {},
   "outputs": [
    {
     "ename": "AttributeError",
     "evalue": "'Zinc' object has no attribute 'molar'",
     "output_type": "error",
     "traceback": [
      "\u001b[1;31m---------------------------------------------------------------------------\u001b[0m",
      "\u001b[1;31mAttributeError\u001b[0m                            Traceback (most recent call last)",
      "\u001b[1;32m~\\AppData\\Local\\Temp\\ipykernel_9936\\4262683310.py\u001b[0m in \u001b[0;36m<module>\u001b[1;34m\u001b[0m\n\u001b[1;32m----> 1\u001b[1;33m \u001b[0mprint\u001b[0m\u001b[1;33m(\u001b[0m\u001b[1;34m\"Molar Volume:\"\u001b[0m\u001b[1;33m,\u001b[0m \u001b[0mgetattr\u001b[0m\u001b[1;33m(\u001b[0m\u001b[0mx\u001b[0m\u001b[1;33m,\u001b[0m\u001b[1;34m\"molar\"\u001b[0m\u001b[1;33m)\u001b[0m\u001b[1;33m,\u001b[0m\u001b[1;34m\"cm^3\"\u001b[0m\u001b[1;33m)\u001b[0m\u001b[1;33m\u001b[0m\u001b[1;33m\u001b[0m\u001b[0m\n\u001b[0m",
      "\u001b[1;31mAttributeError\u001b[0m: 'Zinc' object has no attribute 'molar'"
     ]
    }
   ],
   "source": [
    "print(\"Molar Volume:\", getattr(x,\"molar\"),\"cm^3\")"
   ]
  },
  {
   "cell_type": "code",
   "execution_count": 5,
   "id": "26470c88",
   "metadata": {},
   "outputs": [
    {
     "name": "stdout",
     "output_type": "stream",
     "text": [
      "145\n"
     ]
    }
   ],
   "source": [
    "a = 5\n",
    "def func():\n",
    "    c = 140\n",
    "    d = c + a\n",
    "    \n",
    "    #Calling globals()\n",
    "    globals()['a'] = d\n",
    "    print(d)\n",
    "#Calling Function\n",
    "func()"
   ]
  },
  {
   "cell_type": "code",
   "execution_count": 7,
   "id": "2dfb39fb",
   "metadata": {},
   "outputs": [
    {
     "name": "stdout",
     "output_type": "stream",
     "text": [
      "Before Modification :  Helium\n",
      "After Modification :  Noble Gas Helium\n"
     ]
    }
   ],
   "source": [
    "name = 'Helium'\n",
    "print(\"Before Modification : \",name)\n",
    "\n",
    "#Calling global()\n",
    "globals()['name'] = \"Noble Gas Helium\"\n",
    "print(\"After Modification : \", name)"
   ]
  },
  {
   "cell_type": "code",
   "execution_count": 9,
   "id": "1d33c04c",
   "metadata": {},
   "outputs": [
    {
     "name": "stdout",
     "output_type": "stream",
     "text": [
      "Class Zinc has Melting Point:  True\n",
      "Class Zinc has Boiling Point:  True\n",
      "Class Zinc has Molar Volume:  False\n"
     ]
    }
   ],
   "source": [
    "class Zinc:\n",
    "    melt = 692.68\n",
    "    boil = 1180 \n",
    "    cradius = 118 \n",
    "    ionisation = 906.40 \n",
    "x = Zinc()\n",
    "print (\"Class Zinc has Melting Point: \", hasattr(x,\"melt\"))\n",
    "print (\"Class Zinc has Boiling Point: \", hasattr(x,\"boil\"))\n",
    "print (\"Class Zinc has Molar Volume: \", hasattr(x,\"molar\"))\n"
   ]
  },
  {
   "cell_type": "code",
   "execution_count": 10,
   "id": "f46e38e7",
   "metadata": {},
   "outputs": [
    {
     "name": "stdout",
     "output_type": "stream",
     "text": [
      "Help on built-in function print in module builtins:\n",
      "\n",
      "print(...)\n",
      "    print(value, ..., sep=' ', end='\\n', file=sys.stdout, flush=False)\n",
      "    \n",
      "    Prints the values to a stream, or to sys.stdout by default.\n",
      "    Optional keyword arguments:\n",
      "    file:  a file-like object (stream); defaults to the current sys.stdout.\n",
      "    sep:   string inserted between values, default a space.\n",
      "    end:   string appended after the last value, default a newline.\n",
      "    flush: whether to forcibly flush the stream.\n",
      "\n"
     ]
    }
   ],
   "source": [
    "help(print)"
   ]
  },
  {
   "cell_type": "code",
   "execution_count": 11,
   "id": "5104ff20",
   "metadata": {},
   "outputs": [
    {
     "name": "stdout",
     "output_type": "stream",
     "text": [
      " Hexadecimal of 148 is:  0x94\n"
     ]
    }
   ],
   "source": [
    "Sc_radius = 148\n",
    "print(\" Hexadecimal of 148 is: \", hex(Sc_radius))"
   ]
  },
  {
   "cell_type": "code",
   "execution_count": 12,
   "id": "4ea5f023",
   "metadata": {},
   "outputs": [
    {
     "name": "stdout",
     "output_type": "stream",
     "text": [
      "Hexadecimal of 633.09 is: 0x1.3c8b851eb851fp+9\n"
     ]
    }
   ],
   "source": [
    "Sc_ionisation = 633.09\n",
    "print(\"Hexadecimal of 633.09 is:\", float.hex(Sc_ionisation))"
   ]
  },
  {
   "cell_type": "code",
   "execution_count": 13,
   "id": "b85f0372",
   "metadata": {},
   "outputs": [
    {
     "name": "stdout",
     "output_type": "stream",
     "text": [
      "The id of 'elements' are : 2305652501224\n"
     ]
    }
   ],
   "source": [
    "elements = (\"Hydrogen\", \"Helium\",\"Lithium\",\"Beryllium\")\n",
    "print(\"The id of 'elements' are :\", id(elements))"
   ]
  },
  {
   "cell_type": "code",
   "execution_count": 14,
   "id": "c4effb3c",
   "metadata": {},
   "outputs": [
    {
     "name": "stdout",
     "output_type": "stream",
     "text": [
      "Python for Chemistry\n",
      "The inputted string is: Python for Chemistry\n"
     ]
    }
   ],
   "source": [
    "inputstring = input()\n",
    "print(\"The inputted string is:\", inputstring)"
   ]
  },
  {
   "cell_type": "markdown",
   "id": "16c917b4",
   "metadata": {},
   "source": [
    "#### int() Function"
   ]
  },
  {
   "cell_type": "code",
   "execution_count": 16,
   "id": "73780305",
   "metadata": {},
   "outputs": [
    {
     "name": "stdout",
     "output_type": "stream",
     "text": [
      "int(152) is :  152\n",
      "int(152.23) is :  152\n",
      "int('152') is :  152\n"
     ]
    }
   ],
   "source": [
    "#integer value\n",
    "print(\"int(152) is : \", int(152))\n",
    "\n",
    "#floating-point value\n",
    "print(\"int(152.23) is : \", int(152.23))\n",
    "\n",
    "#numeric-string value\n",
    "print(\"int('152') is : \", int('152'))"
   ]
  },
  {
   "cell_type": "code",
   "execution_count": 17,
   "id": "0fc11aaa",
   "metadata": {},
   "outputs": [
    {
     "name": "stdout",
     "output_type": "stream",
     "text": [
      "int(0b101) is :  5\n"
     ]
    }
   ],
   "source": [
    "#binary value\n",
    "print(\"int(0b101) is : \", int(\"0b101\",2))"
   ]
  },
  {
   "cell_type": "code",
   "execution_count": 18,
   "id": "0eb08eb8",
   "metadata": {},
   "outputs": [
    {
     "name": "stdout",
     "output_type": "stream",
     "text": [
      "0\n"
     ]
    }
   ],
   "source": [
    "a = int()\n",
    "print(a)"
   ]
  },
  {
   "cell_type": "markdown",
   "id": "2c99575c",
   "metadata": {},
   "source": [
    "#### isinstance() function"
   ]
  },
  {
   "cell_type": "code",
   "execution_count": 24,
   "id": "a4ff8b91",
   "metadata": {},
   "outputs": [
    {
     "name": "stdout",
     "output_type": "stream",
     "text": [
      "True\n",
      "False\n"
     ]
    }
   ],
   "source": [
    "class Zinc:\n",
    "    melt = 692.68\n",
    "    boil = 1180 \n",
    "    cradius = 118 \n",
    "    ionisation = 906.40 \n",
    "Zn = Zinc()\n",
    "print (isinstance(Zn,Zinc))\n",
    "print (isinstance(Zn, (list)))"
   ]
  },
  {
   "cell_type": "code",
   "execution_count": 31,
   "id": "c470dd8d",
   "metadata": {},
   "outputs": [
    {
     "name": "stdout",
     "output_type": "stream",
     "text": [
      "True\n",
      "True\n",
      "False\n",
      "True\n"
     ]
    }
   ],
   "source": [
    "class Noblegas:\n",
    "  def __init__():\n",
    "    print('This is a class Noble Gas')\n",
    "\n",
    "class Helium(Noblegas):\n",
    "  def __init__(self):\n",
    "    Noblegas.__init__('Helium')\n",
    "class Neon(Noblegas):\n",
    "    def __init__(self):\n",
    "        Noblegas.__init__('Neon')\n",
    "    \n",
    "print(issubclass(Helium, Noblegas))\n",
    "print(issubclass(Neon, Noblegas))\n",
    "print(issubclass(Helium, list))\n",
    "print(issubclass(Neon, (list, Noblegas)))"
   ]
  },
  {
   "cell_type": "code",
   "execution_count": 32,
   "id": "bd7aa917",
   "metadata": {},
   "outputs": [
    {
     "name": "stdout",
     "output_type": "stream",
     "text": [
      "Hydrogen\n",
      "Helium\n",
      "Lithium\n",
      "Beryllium\n",
      "Boron\n",
      "1.008\n",
      "4.0026\n",
      "6.94\n",
      "9.0122\n",
      "10.81\n"
     ]
    }
   ],
   "source": [
    "elements=[\"Hydrogen\", \"Helium\", \"Lithium\", \n",
    "          \"Beryllium\", \"Boron\", \n",
    "          1.008,4.0026,6.94,9.0122,10.81]\n",
    "ele_iter = iter(elements)\n",
    "print(next(ele_iter))\n",
    "print(next(ele_iter))\n",
    "print(next(ele_iter))\n",
    "print(next(ele_iter))\n",
    "print(next(ele_iter))\n",
    "print(next(ele_iter))\n",
    "print(next(ele_iter))\n",
    "print(next(ele_iter))\n",
    "print(next(ele_iter))\n",
    "print(next(ele_iter))"
   ]
  },
  {
   "cell_type": "code",
   "execution_count": 33,
   "id": "9f25bfb0",
   "metadata": {},
   "outputs": [
    {
     "name": "stdout",
     "output_type": "stream",
     "text": [
      "2\n",
      "4\n",
      "8\n",
      "16\n"
     ]
    }
   ],
   "source": [
    "class square:\n",
    "\n",
    "    def __init__(x):\n",
    "        x.start = 1\n",
    "\n",
    "    def __iter__(x):\n",
    "        return x\n",
    "\n",
    "    def __next__(x):\n",
    "        x.start *= 2\n",
    "        return x.start\n",
    "\n",
    "    __call__ = __next__\n",
    "    \n",
    "my_iter = iter(square(), 32)\n",
    "\n",
    "for x1 in my_iter:\n",
    "    print(x1)"
   ]
  },
  {
   "cell_type": "code",
   "execution_count": 34,
   "id": "fc64e805",
   "metadata": {},
   "outputs": [
    {
     "name": "stdout",
     "output_type": "stream",
     "text": [
      "The length is: 5\n"
     ]
    }
   ],
   "source": [
    "elements=(\"Hydrogen\", \"Helium\", \n",
    "          \"Lithium\", \"Beryllium\", \"Boron\")\n",
    "print(\"The length is:\", len(elements))"
   ]
  },
  {
   "cell_type": "code",
   "execution_count": 35,
   "id": "3c18c66d",
   "metadata": {},
   "outputs": [
    {
     "name": "stdout",
     "output_type": "stream",
     "text": [
      "The length is: 8\n"
     ]
    }
   ],
   "source": [
    "elements=(\"Hydrogen\")\n",
    "print(\"The length is:\", len(elements))"
   ]
  },
  {
   "cell_type": "code",
   "execution_count": 36,
   "id": "ceb12245",
   "metadata": {},
   "outputs": [
    {
     "name": "stdout",
     "output_type": "stream",
     "text": [
      "The length is: 0\n"
     ]
    }
   ],
   "source": [
    "elements = ()\n",
    "print(\"The length is:\", len(elements))"
   ]
  },
  {
   "cell_type": "code",
   "execution_count": 37,
   "id": "0a501548",
   "metadata": {},
   "outputs": [
    {
     "ename": "TypeError",
     "evalue": "object of type 'int' has no len()",
     "output_type": "error",
     "traceback": [
      "\u001b[1;31m---------------------------------------------------------------------------\u001b[0m",
      "\u001b[1;31mTypeError\u001b[0m                                 Traceback (most recent call last)",
      "\u001b[1;32m~\\AppData\\Local\\Temp\\ipykernel_9936\\910986098.py\u001b[0m in \u001b[0;36m<module>\u001b[1;34m\u001b[0m\n\u001b[0;32m      1\u001b[0m \u001b[0melements\u001b[0m \u001b[1;33m=\u001b[0m \u001b[1;33m(\u001b[0m\u001b[1;36m10\u001b[0m\u001b[1;33m*\u001b[0m\u001b[1;36m10\u001b[0m\u001b[1;33m)\u001b[0m\u001b[1;33m\u001b[0m\u001b[1;33m\u001b[0m\u001b[0m\n\u001b[1;32m----> 2\u001b[1;33m \u001b[0mprint\u001b[0m\u001b[1;33m(\u001b[0m\u001b[1;34m\"The length is:\"\u001b[0m\u001b[1;33m,\u001b[0m \u001b[0mlen\u001b[0m\u001b[1;33m(\u001b[0m\u001b[0melements\u001b[0m\u001b[1;33m)\u001b[0m\u001b[1;33m)\u001b[0m\u001b[1;33m\u001b[0m\u001b[1;33m\u001b[0m\u001b[0m\n\u001b[0m",
      "\u001b[1;31mTypeError\u001b[0m: object of type 'int' has no len()"
     ]
    }
   ],
   "source": [
    "elements = (10*10)\n",
    "print(\"The length is:\", len(elements))"
   ]
  },
  {
   "cell_type": "code",
   "execution_count": 38,
   "id": "2e19d89b",
   "metadata": {},
   "outputs": [
    {
     "ename": "TypeError",
     "evalue": "len() takes exactly one argument (0 given)",
     "output_type": "error",
     "traceback": [
      "\u001b[1;31m---------------------------------------------------------------------------\u001b[0m",
      "\u001b[1;31mTypeError\u001b[0m                                 Traceback (most recent call last)",
      "\u001b[1;32m~\\AppData\\Local\\Temp\\ipykernel_9936\\53171353.py\u001b[0m in \u001b[0;36m<module>\u001b[1;34m\u001b[0m\n\u001b[0;32m      1\u001b[0m \u001b[0melements\u001b[0m \u001b[1;33m=\u001b[0m \u001b[1;33m(\u001b[0m\u001b[1;34m\"Chemistry\"\u001b[0m\u001b[1;33m)\u001b[0m\u001b[1;33m\u001b[0m\u001b[1;33m\u001b[0m\u001b[0m\n\u001b[1;32m----> 2\u001b[1;33m \u001b[0mprint\u001b[0m\u001b[1;33m(\u001b[0m\u001b[1;34m\"The length is:\"\u001b[0m\u001b[1;33m,\u001b[0m \u001b[0mlen\u001b[0m\u001b[1;33m(\u001b[0m\u001b[1;33m)\u001b[0m\u001b[1;33m)\u001b[0m\u001b[1;33m\u001b[0m\u001b[1;33m\u001b[0m\u001b[0m\n\u001b[0m",
      "\u001b[1;31mTypeError\u001b[0m: len() takes exactly one argument (0 given)"
     ]
    }
   ],
   "source": [
    "elements = (\"Chemistry\")\n",
    "print(\"The length is:\", len())"
   ]
  },
  {
   "cell_type": "code",
   "execution_count": 18,
   "id": "75740c41",
   "metadata": {},
   "outputs": [
    {
     "name": "stdout",
     "output_type": "stream",
     "text": [
      "[]\n"
     ]
    }
   ],
   "source": [
    "print(list())"
   ]
  },
  {
   "cell_type": "code",
   "execution_count": 39,
   "id": "75b0b654",
   "metadata": {},
   "outputs": [
    {
     "name": "stdout",
     "output_type": "stream",
     "text": [
      "['C', 'h', 'e', 'm', 'i', 's', 't', 'r', 'y']\n"
     ]
    }
   ],
   "source": [
    "name = \"Chemistry\"\n",
    "print(list(name))"
   ]
  },
  {
   "cell_type": "code",
   "execution_count": 40,
   "id": "1333b289",
   "metadata": {},
   "outputs": [
    {
     "name": "stdout",
     "output_type": "stream",
     "text": [
      "['Hydrogen', 'Helium', 'Lithium', 'Beryllium', 'Boron']\n"
     ]
    }
   ],
   "source": [
    "elements=[\"Hydrogen\", \"Helium\", \"Lithium\", \n",
    "          \"Beryllium\", \"Boron\"]\n",
    "print(list(elements))"
   ]
  },
  {
   "cell_type": "code",
   "execution_count": 41,
   "id": "91d8925d",
   "metadata": {
    "scrolled": true
   },
   "outputs": [
    {
     "name": "stdout",
     "output_type": "stream",
     "text": [
      "[1, 2, 3, 4, 5]\n"
     ]
    }
   ],
   "source": [
    "elements = {1: 'Hydrogen', 2: 'Helium',\n",
    "            3: 'Lithium',  4: 'Beryllium', \n",
    "            5: 'boron'}\n",
    "print(list(elements))"
   ]
  },
  {
   "cell_type": "code",
   "execution_count": 43,
   "id": "be711a44",
   "metadata": {},
   "outputs": [
    {
     "name": "stdout",
     "output_type": "stream",
     "text": [
      "Here no local variable :  {}\n",
      "Here local variables are present :  {'name': 'Oxygen'}\n"
     ]
    }
   ],
   "source": [
    "def c1():\n",
    "    print(\"Here no local variable : \", locals())\n",
    " \n",
    "# here local variables are present\n",
    "def c2():\n",
    "    name = \"Oxygen\"\n",
    "    print(\"Here local variables are present : \", locals())\n",
    "c1()\n",
    "c2()"
   ]
  },
  {
   "cell_type": "code",
   "execution_count": 45,
   "id": "c9f7ccb4",
   "metadata": {},
   "outputs": [
    {
     "name": "stdout",
     "output_type": "stream",
     "text": [
      "Here no local variable  :  {}\n",
      "Here local variables are present :  {'name': 'Oxygen'}\n",
      "Before updation  :  Oxygen\n",
      "After updation :  Oxygen\n"
     ]
    }
   ],
   "source": [
    "def c1():\n",
    "    print(\"Here no local variable  : \", locals())\n",
    " \n",
    "# here local variables are present\n",
    "def c2():\n",
    "    name = \"Oxygen\"\n",
    "    print(\"Here local variables are present : \", locals())\n",
    "    print(\"Before updation  : \", name)\n",
    " \n",
    "    # trying to change name value\n",
    "    locals()['name'] = \"Hydrogen\"\n",
    " \n",
    "    print(\"After updation : \", name)\n",
    "c1()\n",
    "c2()"
   ]
  },
  {
   "cell_type": "code",
   "execution_count": 46,
   "id": "122c7bc1",
   "metadata": {},
   "outputs": [
    {
     "name": "stdout",
     "output_type": "stream",
     "text": [
      "<map object at 0x00000218D3A634C8>\n",
      "['Hydrogen - Nonmetal', 'Helium - Noble Gas', 'Lithium - Alkali Metals']\n"
     ]
    }
   ],
   "source": [
    "def myfunc(a, b):\n",
    "  return a + b\n",
    " \n",
    "x = map(myfunc, ('Hydrogen', 'Helium', 'Lithium'), \n",
    "        (' - Nonmetal', ' - Noble Gas', ' - Alkali Metals'))\n",
    "\n",
    "print(x)\n",
    "\n",
    "#convert the map into a list, for readability:\n",
    "print(list(x))\n"
   ]
  },
  {
   "cell_type": "code",
   "execution_count": 5,
   "id": "7f8d8f8b",
   "metadata": {},
   "outputs": [
    {
     "name": "stdout",
     "output_type": "stream",
     "text": [
      "40.08\n"
     ]
    }
   ],
   "source": [
    "Be = 9.012\n",
    "Mg = 24.305\n",
    "Ca = 40.08\n",
    " \n",
    "max_val = max(Be, Mg, Ca)\n",
    "print(max_val)"
   ]
  },
  {
   "cell_type": "code",
   "execution_count": 47,
   "id": "d96df538",
   "metadata": {},
   "outputs": [
    {
     "name": "stdout",
     "output_type": "stream",
     "text": [
      "Magnesium\n"
     ]
    }
   ],
   "source": [
    "ele1 = \"Beryllium\"\n",
    "ele2 = \"Magnesium\"\n",
    "ele3 = \"Calcium\"\n",
    " \n",
    "max_val = max(ele1,ele2,ele3)\n",
    "print(max_val)"
   ]
  },
  {
   "cell_type": "code",
   "execution_count": 10,
   "id": "d4f8b159",
   "metadata": {},
   "outputs": [
    {
     "name": "stdout",
     "output_type": "stream",
     "text": [
      "Beryllium\n"
     ]
    }
   ],
   "source": [
    "ele1 = \"Beryllium\"\n",
    "ele2 = \"Oxygen\"\n",
    "ele3 = \"Calcium\"\n",
    " \n",
    "max_val = max(ele1,ele2,ele3, key=len)\n",
    "print(max_val)"
   ]
  },
  {
   "cell_type": "code",
   "execution_count": 12,
   "id": "6bad25ce",
   "metadata": {},
   "outputs": [
    {
     "ename": "TypeError",
     "evalue": "'>' not supported between instances of 'str' and 'float'",
     "output_type": "error",
     "traceback": [
      "\u001b[1;31m---------------------------------------------------------------------------\u001b[0m",
      "\u001b[1;31mTypeError\u001b[0m                                 Traceback (most recent call last)",
      "\u001b[1;32m~\\AppData\\Local\\Temp\\ipykernel_7088\\3745567582.py\u001b[0m in \u001b[0;36m<module>\u001b[1;34m\u001b[0m\n\u001b[0;32m      3\u001b[0m \u001b[1;33m\u001b[0m\u001b[0m\n\u001b[0;32m      4\u001b[0m \u001b[1;33m\u001b[0m\u001b[0m\n\u001b[1;32m----> 5\u001b[1;33m \u001b[0mmax_val\u001b[0m \u001b[1;33m=\u001b[0m \u001b[0mmax\u001b[0m\u001b[1;33m(\u001b[0m\u001b[0mBe\u001b[0m\u001b[1;33m,\u001b[0m \u001b[0mele1\u001b[0m\u001b[1;33m)\u001b[0m\u001b[1;33m\u001b[0m\u001b[1;33m\u001b[0m\u001b[0m\n\u001b[0m\u001b[0;32m      6\u001b[0m \u001b[0mprint\u001b[0m\u001b[1;33m(\u001b[0m\u001b[0mmax_val\u001b[0m\u001b[1;33m)\u001b[0m\u001b[1;33m\u001b[0m\u001b[1;33m\u001b[0m\u001b[0m\n",
      "\u001b[1;31mTypeError\u001b[0m: '>' not supported between instances of 'str' and 'float'"
     ]
    }
   ],
   "source": [
    "Be = 9.012\n",
    "ele1 = \"Beryllium\"\n",
    "\n",
    " \n",
    "max_val = max(Be, ele1)\n",
    "print(max_val)"
   ]
  },
  {
   "cell_type": "code",
   "execution_count": 48,
   "id": "acd38dfb",
   "metadata": {},
   "outputs": [
    {
     "name": "stdout",
     "output_type": "stream",
     "text": [
      "y\n"
     ]
    }
   ],
   "source": [
    "str1 = \"Python for Chemistry\"\n",
    "\n",
    " \n",
    "max_val = max(str1)\n",
    "print(max_val)"
   ]
  },
  {
   "cell_type": "code",
   "execution_count": 49,
   "id": "b6f5576e",
   "metadata": {},
   "outputs": [
    {
     "name": "stdout",
     "output_type": "stream",
     "text": [
      "The Largest key value: 54\n",
      "The key with the largest value: 54\n",
      "The largest value: Xenon\n"
     ]
    }
   ],
   "source": [
    "#dictionary Creation\n",
    "dictionary = {1: \"Hydrogen\", 49: \"Indium\",\n",
    "              17: \"Chlorine\", 54: \"Xenon\"}\n",
    "max_val = max(dictionary)\n",
    "print(\"The Largest key value:\", max_val)\n",
    "key2 = max(dictionary, key = lambda k: dictionary[k])\n",
    "print(\"The key with the largest value:\", key2) \n",
    "print(\"The largest value:\", dictionary[key2])"
   ]
  },
  {
   "cell_type": "code",
   "execution_count": 50,
   "id": "8853cccc",
   "metadata": {},
   "outputs": [
    {
     "name": "stdout",
     "output_type": "stream",
     "text": [
      "The key with the largest value: 54\n"
     ]
    }
   ],
   "source": [
    "\n",
    "key2 = max(dictionary, key = lambda k: dictionary[k])\n",
    "\n",
    "print(\"The key with the largest value:\", key2) \n"
   ]
  },
  {
   "cell_type": "code",
   "execution_count": 18,
   "id": "cdbe66e7",
   "metadata": {},
   "outputs": [
    {
     "name": "stdout",
     "output_type": "stream",
     "text": [
      "The largest key: 2\n",
      "The key with the largest value: -3\n",
      "The largest value: 9\n"
     ]
    }
   ],
   "source": [
    "square = {2: 4, -3: 9, -1: 1, -2: 4}\n",
    "\n",
    "# the largest key\n",
    "key1 = max(square)\n",
    "print(\"The largest key:\", key1)    # 2\n",
    "\n",
    "# the key whose value is the largest\n",
    "key2 = max(square, key = lambda k: square[k])\n",
    "\n",
    "print(\"The key with the largest value:\", key2)    # -3\n",
    "\n",
    "# getting the largest value\n",
    "print(\"The largest value:\", square[key2])    # 9"
   ]
  },
  {
   "cell_type": "code",
   "execution_count": 25,
   "id": "a40bf09f",
   "metadata": {},
   "outputs": [
    {
     "ename": "ValueError",
     "evalue": "max() arg is an empty sequence",
     "output_type": "error",
     "traceback": [
      "\u001b[1;31m---------------------------------------------------------------------------\u001b[0m",
      "\u001b[1;31mValueError\u001b[0m                                Traceback (most recent call last)",
      "\u001b[1;32m~\\AppData\\Local\\Temp\\ipykernel_7088\\1084542600.py\u001b[0m in \u001b[0;36m<module>\u001b[1;34m\u001b[0m\n\u001b[0;32m      1\u001b[0m \u001b[0mdictionary\u001b[0m \u001b[1;33m=\u001b[0m \u001b[1;33m{\u001b[0m\u001b[1;33m}\u001b[0m\u001b[1;33m\u001b[0m\u001b[1;33m\u001b[0m\u001b[0m\n\u001b[0;32m      2\u001b[0m \u001b[1;33m\u001b[0m\u001b[0m\n\u001b[1;32m----> 3\u001b[1;33m \u001b[0mmax_val\u001b[0m \u001b[1;33m=\u001b[0m \u001b[0mmax\u001b[0m\u001b[1;33m(\u001b[0m\u001b[0mdictionary\u001b[0m\u001b[1;33m)\u001b[0m\u001b[1;33m\u001b[0m\u001b[1;33m\u001b[0m\u001b[0m\n\u001b[0m\u001b[0;32m      4\u001b[0m \u001b[1;33m\u001b[0m\u001b[0m\n\u001b[0;32m      5\u001b[0m \u001b[0mprint\u001b[0m\u001b[1;33m(\u001b[0m\u001b[0mmax_val\u001b[0m\u001b[1;33m)\u001b[0m\u001b[1;33m\u001b[0m\u001b[1;33m\u001b[0m\u001b[0m\n",
      "\u001b[1;31mValueError\u001b[0m: max() arg is an empty sequence"
     ]
    }
   ],
   "source": [
    "dictionary = {}\n",
    " \n",
    "max_val = max(dictionary)\n",
    "              \n",
    "print(max_val)"
   ]
  },
  {
   "cell_type": "code",
   "execution_count": 26,
   "id": "04822092",
   "metadata": {},
   "outputs": [
    {
     "name": "stdout",
     "output_type": "stream",
     "text": [
      "Before updation: bytearray(b'ABC')\n",
      "After updation: bytearray(b'AZC')\n"
     ]
    }
   ],
   "source": [
    "# random bytearray\n",
    "random_byte_array = bytearray('ABC', 'utf-8')\n",
    "print('Before updation:', random_byte_array)\n",
    "\n",
    "mv = memoryview(random_byte_array)\n",
    "\n",
    "# update 1st index of mv to Z\n",
    "mv[1] = 90\n",
    "print('After updation:', random_byte_array)"
   ]
  },
  {
   "cell_type": "code",
   "execution_count": 38,
   "id": "2a3e3c85",
   "metadata": {},
   "outputs": [
    {
     "name": "stdout",
     "output_type": "stream",
     "text": [
      "67\n",
      "b'CHEMI'\n",
      "[67, 72, 69, 77, 73, 83, 84, 82]\n"
     ]
    }
   ],
   "source": [
    "#random bytearray\n",
    "random_byte_array = bytearray('CHEMISTRY', 'utf-8')\n",
    "\n",
    "mv = memoryview(random_byte_array)\n",
    "\n",
    "# access memory view's zeroth index\n",
    "print(mv[0])\n",
    "\n",
    "# create byte from memory view\n",
    "print(bytes(mv[0:5]))\n",
    "\n",
    "# create list from memory view\n",
    "print(list(mv[0:8]))"
   ]
  },
  {
   "cell_type": "code",
   "execution_count": 40,
   "id": "d44b9e75",
   "metadata": {},
   "outputs": [
    {
     "name": "stdout",
     "output_type": "stream",
     "text": [
      "Before updation: bytearray(b'Chemistr')\n",
      "After updation: bytearray(b'Chemists')\n"
     ]
    }
   ],
   "source": [
    "# random bytearray\n",
    "random_byte_array = bytearray('Chemistr', 'utf-8')\n",
    "print('Before updation:', random_byte_array)\n",
    "\n",
    "mv = memoryview(random_byte_array)\n",
    "\n",
    "# update 1st index of mv to Z\n",
    "mv[7] = 115\n",
    "print('After updation:', random_byte_array)"
   ]
  },
  {
   "cell_type": "code",
   "execution_count": 45,
   "id": "b3bf0fd1",
   "metadata": {},
   "outputs": [
    {
     "name": "stdout",
     "output_type": "stream",
     "text": [
      "9.012\n"
     ]
    }
   ],
   "source": [
    "Be = 9.012\n",
    "Mg = 24.305\n",
    "Ca = 40.08\n",
    " \n",
    "min_val = min(Be, Mg, Ca)\n",
    "print(min_val)"
   ]
  },
  {
   "cell_type": "code",
   "execution_count": 51,
   "id": "0baa6b52",
   "metadata": {},
   "outputs": [
    {
     "name": "stdout",
     "output_type": "stream",
     "text": [
      "Beryllium\n"
     ]
    }
   ],
   "source": [
    "ele1 = \"Beryllium\"\n",
    "ele2 = \"Magnesium\"\n",
    "ele3 = \"Calcium\"\n",
    " \n",
    "min_val = min(ele1,ele2,ele3)\n",
    "print(min_val)"
   ]
  },
  {
   "cell_type": "code",
   "execution_count": 52,
   "id": "1dd05edf",
   "metadata": {},
   "outputs": [
    {
     "name": "stdout",
     "output_type": "stream",
     "text": [
      "Calcium\n"
     ]
    }
   ],
   "source": [
    "ele1 = \"Beryllium\"\n",
    "ele2 = \"Magnesium\"\n",
    "ele3 = \"Calcium\"\n",
    " \n",
    "min_val = min(ele1,ele2,ele3, key=len)\n",
    "print(min_val)"
   ]
  },
  {
   "cell_type": "code",
   "execution_count": 57,
   "id": "4d6f7d97",
   "metadata": {},
   "outputs": [
    {
     "name": "stdout",
     "output_type": "stream",
     "text": [
      "C\n"
     ]
    }
   ],
   "source": [
    "str1 = \"Chemistry\"\n",
    " \n",
    "min_val = min(str1)\n",
    "print(min_val)"
   ]
  },
  {
   "cell_type": "code",
   "execution_count": 56,
   "id": "3cee57f3",
   "metadata": {},
   "outputs": [
    {
     "name": "stdout",
     "output_type": "stream",
     "text": [
      "The smallest key value: 1\n",
      "The key with the smallest value: 17\n",
      "The smallest value: Chlorine\n"
     ]
    }
   ],
   "source": [
    "dictionary = {1: \"Hydrogen\", 49: \"Indium\",\n",
    "              17: \"Chlorine\", 54: \"Xenon\"}\n",
    " \n",
    "min_val = min(dictionary)\n",
    "print(\"The smallest key value:\", min_val)\n",
    "\n",
    "key2 = min(dictionary, key = lambda k: dictionary[k])\n",
    "\n",
    "print(\"The key with the smallest value:\", key2) \n",
    "print(\"The smallest value:\", dictionary[key2])"
   ]
  },
  {
   "cell_type": "code",
   "execution_count": 57,
   "id": "547f6839",
   "metadata": {},
   "outputs": [
    {
     "name": "stdout",
     "output_type": "stream",
     "text": [
      "<list_iterator object at 0x00000202912E98C8>\n",
      "5\n",
      "9\n",
      "cat\n"
     ]
    },
    {
     "ename": "StopIteration",
     "evalue": "",
     "output_type": "error",
     "traceback": [
      "\u001b[1;31m---------------------------------------------------------------------------\u001b[0m",
      "\u001b[1;31mStopIteration\u001b[0m                             Traceback (most recent call last)",
      "\u001b[1;32m~\\AppData\\Local\\Temp\\ipykernel_7088\\3849511120.py\u001b[0m in \u001b[0;36m<module>\u001b[1;34m\u001b[0m\n\u001b[0;32m     16\u001b[0m \u001b[1;31m# This will raise Error\u001b[0m\u001b[1;33m\u001b[0m\u001b[1;33m\u001b[0m\u001b[1;33m\u001b[0m\u001b[0m\n\u001b[0;32m     17\u001b[0m \u001b[1;31m# iterator is exhausted\u001b[0m\u001b[1;33m\u001b[0m\u001b[1;33m\u001b[0m\u001b[1;33m\u001b[0m\u001b[0m\n\u001b[1;32m---> 18\u001b[1;33m \u001b[0mprint\u001b[0m\u001b[1;33m(\u001b[0m\u001b[0mnext\u001b[0m\u001b[1;33m(\u001b[0m\u001b[0mrandom_iterator\u001b[0m\u001b[1;33m)\u001b[0m\u001b[1;33m)\u001b[0m\u001b[1;33m\u001b[0m\u001b[1;33m\u001b[0m\u001b[0m\n\u001b[0m",
      "\u001b[1;31mStopIteration\u001b[0m: "
     ]
    }
   ],
   "source": [
    "random = [5, 9, 'cat']\n",
    "\n",
    "# converting the list to an iterator\n",
    "random_iterator = iter(random)\n",
    "print(random_iterator)\n",
    "\n",
    "# Output: 5\n",
    "print(next(random_iterator))\n",
    "\n",
    "# Output: 9\n",
    "print(next(random_iterator))\n",
    "\n",
    "# Output: 'cat'\n",
    "print(next(random_iterator))\n",
    "\n",
    "# This will raise Error\n",
    "# iterator is exhausted\n",
    "print(next(random_iterator))"
   ]
  },
  {
   "cell_type": "code",
   "execution_count": 58,
   "id": "c9ba6ec3",
   "metadata": {},
   "outputs": [
    {
     "name": "stdout",
     "output_type": "stream",
     "text": [
      "51.9961\n",
      "54.938044\n",
      "55.845\n",
      "58.933194\n"
     ]
    }
   ],
   "source": [
    "#Creating a list\n",
    "mass = [51.9961,54.938044,55.845,58.933194] \n",
    "# create list_iterator\n",
    "mass_iter = iter(mass)  \n",
    " \n",
    "while True:\n",
    "    # item will be \"end\" if iteration is complete\n",
    "    item = next(mass_iter, \"end\")\n",
    "    if item == \"end\":\n",
    "        break\n",
    "    print(item)"
   ]
  },
  {
   "cell_type": "code",
   "execution_count": 59,
   "id": "18893e0c",
   "metadata": {},
   "outputs": [
    {
     "name": "stdout",
     "output_type": "stream",
     "text": [
      "First item in List: 51.9961\n",
      "Second item in List: 54.938044\n"
     ]
    }
   ],
   "source": [
    "mass = [51.9961,54.938044,55.845,58.933194]\n",
    " \n",
    "# converting list to iterator\n",
    "mass_iter = iter(mass)\n",
    " \n",
    "print(\"First item in List:\", next(mass_iter))\n",
    "print(\"Second item in List:\", next(mass_iter))"
   ]
  },
  {
   "cell_type": "code",
   "execution_count": 61,
   "id": "4e1bfa33",
   "metadata": {},
   "outputs": [
    {
     "name": "stdout",
     "output_type": "stream",
     "text": [
      "58.693\n",
      "No more element\n"
     ]
    }
   ],
   "source": [
    "Ni_mass = [58.693]\n",
    " \n",
    "# converting list to iterator\n",
    "list_iter = iter(Ni_mass)\n",
    " \n",
    "print(next(list_iter))\n",
    "print(next(list_iter, \"No more element\"))"
   ]
  },
  {
   "cell_type": "code",
   "execution_count": 63,
   "id": "99443c4b",
   "metadata": {},
   "outputs": [
    {
     "name": "stdout",
     "output_type": "stream",
     "text": [
      "Next Item: 63.546\n",
      "Next Item: 65.38\n"
     ]
    },
    {
     "ename": "StopIteration",
     "evalue": "",
     "output_type": "error",
     "traceback": [
      "\u001b[1;31m---------------------------------------------------------------------------\u001b[0m",
      "\u001b[1;31mStopIteration\u001b[0m                             Traceback (most recent call last)",
      "\u001b[1;32m~\\AppData\\Local\\Temp\\ipykernel_9936\\1150058732.py\u001b[0m in \u001b[0;36m<module>\u001b[1;34m\u001b[0m\n\u001b[0;32m      5\u001b[0m \u001b[1;33m\u001b[0m\u001b[0m\n\u001b[0;32m      6\u001b[0m \u001b[1;31m# this line should raise StopIteration exception\u001b[0m\u001b[1;33m\u001b[0m\u001b[1;33m\u001b[0m\u001b[1;33m\u001b[0m\u001b[0m\n\u001b[1;32m----> 7\u001b[1;33m \u001b[0mprint\u001b[0m\u001b[1;33m(\u001b[0m\u001b[1;34m\"Next Item:\"\u001b[0m\u001b[1;33m,\u001b[0m \u001b[0mnext\u001b[0m\u001b[1;33m(\u001b[0m\u001b[0mmass\u001b[0m\u001b[1;33m)\u001b[0m\u001b[1;33m)\u001b[0m\u001b[1;33m\u001b[0m\u001b[1;33m\u001b[0m\u001b[0m\n\u001b[0m",
      "\u001b[1;31mStopIteration\u001b[0m: "
     ]
    }
   ],
   "source": [
    "mass = iter([63.546,65.38])\n",
    " \n",
    "print(\"Next Item:\", next(mass))\n",
    "print(\"Next Item:\", next(mass))\n",
    " \n",
    "# this line should raise StopIteration exception\n",
    "print(\"Next Item:\", next(mass))"
   ]
  },
  {
   "cell_type": "code",
   "execution_count": 65,
   "id": "ca554198",
   "metadata": {},
   "outputs": [
    {
     "name": "stdout",
     "output_type": "stream",
     "text": [
      "The type of object class object is:  <class 'object'>\n",
      "The attributes of its class are:  ['__class__', '__delattr__', '__dir__', '__doc__', '__eq__', '__format__', '__ge__', '__getattribute__', '__gt__', '__hash__', '__init__', '__init_subclass__', '__le__', '__lt__', '__ne__', '__new__', '__reduce__', '__reduce_ex__', '__repr__', '__setattr__', '__sizeof__', '__str__', '__subclasshook__']\n"
     ]
    }
   ],
   "source": [
    "# declaring the object of class object\n",
    "obj = object()\n",
    " \n",
    "# printing its type\n",
    "print(\"The type of object class object is: \", type(obj))\n",
    " \n",
    "# printing its attributes\n",
    "print(\"The attributes of its class are: \", dir(obj))"
   ]
  },
  {
   "cell_type": "markdown",
   "id": "0c7638e8",
   "metadata": {},
   "source": [
    "#### oct() function"
   ]
  },
  {
   "cell_type": "code",
   "execution_count": 66,
   "id": "58e01051",
   "metadata": {},
   "outputs": [
    {
     "name": "stdout",
     "output_type": "stream",
     "text": [
      "oct(10) is: 0o12\n",
      "oct(0b101) is: 0o5\n",
      "oct(0XA) is: 0o12\n"
     ]
    }
   ],
   "source": [
    "# decimal to octal\n",
    "print('oct(10) is:', oct(10))\n",
    "\n",
    "# binary to octal\n",
    "print('oct(0b101) is:', oct(0b101))\n",
    "\n",
    "# hexadecimal to octal\n",
    "print('oct(0XA) is:', oct(0XA))"
   ]
  },
  {
   "cell_type": "markdown",
   "id": "9c4d7710",
   "metadata": {},
   "source": [
    "#### open() function"
   ]
  },
  {
   "cell_type": "code",
   "execution_count": 67,
   "id": "c0673649",
   "metadata": {},
   "outputs": [],
   "source": [
    "my_file = open(\"ChemPy.txt\",\"x\")"
   ]
  },
  {
   "cell_type": "code",
   "execution_count": 68,
   "id": "7d78236b",
   "metadata": {},
   "outputs": [],
   "source": [
    "my_file = open(\"C:\\\\Janu\\\\PyChem.txt\",\"x\")"
   ]
  },
  {
   "cell_type": "code",
   "execution_count": 71,
   "id": "2b1cf0b6",
   "metadata": {},
   "outputs": [],
   "source": [
    "my_file = open(\"ChemPy.txt\",\"w\")\n",
    "my_file.write(\"Programming is increasingly valuable in modern Chemistry.\")\n",
    "my_file.close()"
   ]
  },
  {
   "cell_type": "code",
   "execution_count": 72,
   "id": "27ce5679",
   "metadata": {},
   "outputs": [],
   "source": [
    "my_file = open(\"PyChem.txt\",\"wb\")\n",
    "my_file.write(b\"Programming is increasingly valuable in modern Chemistry.\")\n",
    "my_file.close()"
   ]
  },
  {
   "cell_type": "code",
   "execution_count": 73,
   "id": "5e80862b",
   "metadata": {},
   "outputs": [],
   "source": [
    "my_file = open(\"C:\\\\Janu\\\\PyChem.txt\",\"w\")\n",
    "my_file.write(\"This is an introductory textbook covering all aspects of Python programming for Chemistry students.\")\n",
    "my_file.close()"
   ]
  },
  {
   "cell_type": "code",
   "execution_count": 74,
   "id": "d5112cf3",
   "metadata": {},
   "outputs": [
    {
     "name": "stdout",
     "output_type": "stream",
     "text": [
      "Programming is increasingly valuable in modern Chemistry.\n"
     ]
    }
   ],
   "source": [
    "#read the contents of the file\n",
    "my_file = open(\"ChemPy.txt\",\"r\")\n",
    "print(my_file.read())"
   ]
  },
  {
   "cell_type": "code",
   "execution_count": 75,
   "id": "996b0f75",
   "metadata": {},
   "outputs": [
    {
     "name": "stdout",
     "output_type": "stream",
     "text": [
      "b'Programming is increasingly valuable in modern Chemistry.'\n"
     ]
    }
   ],
   "source": [
    "#read the contents of the file\n",
    "my_file = open(\"ChemPy.txt\",\"rb\")\n",
    "print(my_file.read())"
   ]
  },
  {
   "cell_type": "code",
   "execution_count": 76,
   "id": "da3af332",
   "metadata": {},
   "outputs": [
    {
     "name": "stdout",
     "output_type": "stream",
     "text": [
      "This is an introductory textbook covering all aspects of Python programming for Chemistry students.\n"
     ]
    }
   ],
   "source": [
    "#read the contents of the file\n",
    "my_file = open(\"C:\\\\Janu\\\\PyChem.txt\",\"r\")\n",
    "print(my_file.read())"
   ]
  },
  {
   "cell_type": "code",
   "execution_count": 83,
   "id": "0e6f021c",
   "metadata": {},
   "outputs": [],
   "source": [
    "my_file = open(\"ChemPy.txt\",\"a\")\n",
    "my_file.write(\"The chemical data of interest typically includes information on small molecule formulas,structures,properties,spectra, and activities.\")\n",
    "my_file.close()"
   ]
  },
  {
   "cell_type": "code",
   "execution_count": 84,
   "id": "4c4c9054",
   "metadata": {},
   "outputs": [
    {
     "name": "stdout",
     "output_type": "stream",
     "text": [
      "Programming is increasingly valuable in modern Chemistry.The chemical data of interest typically includes information on small molecule formulas,structures,properties,spectra, and activities.\n"
     ]
    }
   ],
   "source": [
    "#read the contents of the file\n",
    "my_file = open(\"ChemPy.txt\",\"r\")\n",
    "print(my_file.read())"
   ]
  },
  {
   "cell_type": "markdown",
   "id": "4bdb01ad",
   "metadata": {},
   "source": [
    "#### ord() function"
   ]
  },
  {
   "cell_type": "code",
   "execution_count": 78,
   "id": "8a080d6f",
   "metadata": {},
   "outputs": [
    {
     "name": "stdout",
     "output_type": "stream",
     "text": [
      "80 80 67\n"
     ]
    }
   ],
   "source": [
    "value = ord(\"P\")\n",
    " \n",
    "# writing in ' ' gives the same result\n",
    "value1 = ord('P')\n",
    "\n",
    "value2 = ord(\"C\")\n",
    " \n",
    "# prints the unicode value\n",
    "print (value, value1, value2)"
   ]
  },
  {
   "cell_type": "code",
   "execution_count": 79,
   "id": "3df1f2f1",
   "metadata": {},
   "outputs": [
    {
     "ename": "TypeError",
     "evalue": "ord() expected a character, but string of length 8 found",
     "output_type": "error",
     "traceback": [
      "\u001b[1;31m---------------------------------------------------------------------------\u001b[0m",
      "\u001b[1;31mTypeError\u001b[0m                                 Traceback (most recent call last)",
      "\u001b[1;32m~\\AppData\\Local\\Temp\\ipykernel_7088\\978506174.py\u001b[0m in \u001b[0;36m<module>\u001b[1;34m\u001b[0m\n\u001b[1;32m----> 1\u001b[1;33m \u001b[0mename\u001b[0m \u001b[1;33m=\u001b[0m \u001b[0mord\u001b[0m\u001b[1;33m(\u001b[0m\u001b[1;34m\"Hydrogen\"\u001b[0m\u001b[1;33m)\u001b[0m\u001b[1;33m\u001b[0m\u001b[1;33m\u001b[0m\u001b[0m\n\u001b[0m\u001b[0;32m      2\u001b[0m \u001b[0mprint\u001b[0m\u001b[1;33m(\u001b[0m\u001b[0mename\u001b[0m\u001b[1;33m)\u001b[0m\u001b[1;33m\u001b[0m\u001b[1;33m\u001b[0m\u001b[0m\n",
      "\u001b[1;31mTypeError\u001b[0m: ord() expected a character, but string of length 8 found"
     ]
    }
   ],
   "source": [
    "ename = ord(\"Hydrogen\")\n",
    "print(ename)"
   ]
  },
  {
   "cell_type": "code",
   "execution_count": 82,
   "id": "0ce18f72",
   "metadata": {},
   "outputs": [
    {
     "name": "stdout",
     "output_type": "stream",
     "text": [
      "9\n",
      "4\n",
      "0.25\n",
      "0.25\n"
     ]
    }
   ],
   "source": [
    "# returns 3^2\n",
    "print(pow(3, 2))  \n",
    "\n",
    "# returns -2^2\n",
    "print(pow(-2, 2))    \n",
    "\n",
    "# returns 1/2^2 \n",
    "print(pow(2, -2))   \n",
    " \n",
    "# returns -1/-2^2 \n",
    "print(pow(-2, -2))"
   ]
  },
  {
   "cell_type": "code",
   "execution_count": 8,
   "id": "ec16085b",
   "metadata": {},
   "outputs": [
    {
     "name": "stdout",
     "output_type": "stream",
     "text": [
      "Positive x and positive y : 64\n",
      "Negative x and positive y : -64\n"
     ]
    }
   ],
   "source": [
    "# Pow() for positive and negative   \n",
    "# positive x, positive y (x**y)\n",
    "print(\"Positive x and positive y : \", end=\"\")\n",
    "print(pow(4, 3))\n",
    "  \n",
    "print(\"Negative x and positive y : \", end=\"\")\n",
    "# negative x, positive y (-x**y)\n",
    "print(pow(-4, 3))"
   ]
  },
  {
   "cell_type": "code",
   "execution_count": 9,
   "id": "9cdf006d",
   "metadata": {},
   "outputs": [
    {
     "name": "stdout",
     "output_type": "stream",
     "text": [
      "Positive x and negative y : 0.015625\n",
      "Negative x and negative y : -0.015625\n"
     ]
    }
   ],
   "source": [
    "# Pow() for positive and negative \n",
    "print(\"Positive x and negative y : \", end=\"\")\n",
    "# positive x, negative y (x**-y)\n",
    "print(pow(4, -3))\n",
    "  \n",
    "print(\"Negative x and negative y : \", end=\"\")\n",
    "# negative x, negative y (-x**-y)\n",
    "print(pow(-4, -3))"
   ]
  },
  {
   "cell_type": "code",
   "execution_count": 3,
   "id": "8fe98518",
   "metadata": {},
   "outputs": [
    {
     "ename": "FileExistsError",
     "evalue": "[Errno 17] File exists: 'python.txt'",
     "output_type": "error",
     "traceback": [
      "\u001b[1;31m---------------------------------------------------------------------------\u001b[0m",
      "\u001b[1;31mFileExistsError\u001b[0m                           Traceback (most recent call last)",
      "\u001b[1;32m~\\AppData\\Local\\Temp\\ipykernel_9868\\1128516191.py\u001b[0m in \u001b[0;36m<module>\u001b[1;34m\u001b[0m\n\u001b[1;32m----> 1\u001b[1;33m \u001b[0mcreated_file\u001b[0m \u001b[1;33m=\u001b[0m \u001b[0mopen\u001b[0m\u001b[1;33m(\u001b[0m\u001b[1;34m\"python.txt\"\u001b[0m\u001b[1;33m,\u001b[0m\u001b[1;34m\"x\"\u001b[0m\u001b[1;33m)\u001b[0m\u001b[1;33m\u001b[0m\u001b[1;33m\u001b[0m\u001b[0m\n\u001b[0m\u001b[0;32m      2\u001b[0m \u001b[1;33m\u001b[0m\u001b[0m\n\u001b[0;32m      3\u001b[0m \u001b[1;31m# Check the file\u001b[0m\u001b[1;33m\u001b[0m\u001b[1;33m\u001b[0m\u001b[1;33m\u001b[0m\u001b[0m\n\u001b[0;32m      4\u001b[0m \u001b[0mprint\u001b[0m\u001b[1;33m(\u001b[0m\u001b[0mopen\u001b[0m\u001b[1;33m(\u001b[0m\u001b[1;34m\"python.txt\"\u001b[0m\u001b[1;33m,\u001b[0m\u001b[1;34m\"r\"\u001b[0m\u001b[1;33m)\u001b[0m\u001b[1;33m.\u001b[0m\u001b[0mread\u001b[0m\u001b[1;33m(\u001b[0m\u001b[1;33m)\u001b[0m \u001b[1;33m==\u001b[0m \u001b[1;32mFalse\u001b[0m\u001b[1;33m)\u001b[0m\u001b[1;33m\u001b[0m\u001b[1;33m\u001b[0m\u001b[0m\n",
      "\u001b[1;31mFileExistsError\u001b[0m: [Errno 17] File exists: 'python.txt'"
     ]
    }
   ],
   "source": [
    "created_file = open(\"python.txt\",\"x\")\n",
    "\n",
    "# Check the file\n",
    "print(open(\"python.txt\",\"r\").read() == False)\n"
   ]
  },
  {
   "cell_type": "code",
   "execution_count": 64,
   "id": "022bc34c",
   "metadata": {},
   "outputs": [
    {
     "name": "stdout",
     "output_type": "stream",
     "text": [
      "Pyhton for Chemistry\n"
     ]
    }
   ],
   "source": [
    "my_file = open(\"python.txt\", \"w\")\n",
    "my_file.write(\"Pyhton for Chemistry\")\n",
    "my_file.close()\n",
    "  \n",
    "#let's read the contents of the file now\n",
    "my_file = open(\"python.txt\",\"r\")\n",
    "print(my_file.read())"
   ]
  },
  {
   "cell_type": "code",
   "execution_count": 65,
   "id": "4927a934",
   "metadata": {},
   "outputs": [
    {
     "name": "stdout",
     "output_type": "stream",
     "text": [
      "Pyhton for Chemistry    Welcome..\n"
     ]
    }
   ],
   "source": [
    "my_file = open(\"python.txt\",\"a\")\n",
    "my_file.write(\"    Welcome..\")\n",
    "my_file.close()\n",
    "  \n",
    "# reading the file\n",
    "my_file = open(\"python.txt\",\"r\")\n",
    "print(my_file.read())"
   ]
  },
  {
   "cell_type": "code",
   "execution_count": 5,
   "id": "95583e0f",
   "metadata": {},
   "outputs": [
    {
     "ename": "FileExistsError",
     "evalue": "[Errno 17] File exists: 'chem.txt'",
     "output_type": "error",
     "traceback": [
      "\u001b[1;31m---------------------------------------------------------------------------\u001b[0m",
      "\u001b[1;31mFileExistsError\u001b[0m                           Traceback (most recent call last)",
      "\u001b[1;32m~\\AppData\\Local\\Temp\\ipykernel_16992\\2114071344.py\u001b[0m in \u001b[0;36m<module>\u001b[1;34m\u001b[0m\n\u001b[1;32m----> 1\u001b[1;33m \u001b[0mcreated_file\u001b[0m \u001b[1;33m=\u001b[0m \u001b[0mopen\u001b[0m\u001b[1;33m(\u001b[0m\u001b[1;34m\"chem.txt\"\u001b[0m\u001b[1;33m,\u001b[0m\u001b[1;34m\"x\"\u001b[0m\u001b[1;33m)\u001b[0m\u001b[1;33m\u001b[0m\u001b[1;33m\u001b[0m\u001b[0m\n\u001b[0m\u001b[0;32m      2\u001b[0m \u001b[1;33m\u001b[0m\u001b[0m\n\u001b[0;32m      3\u001b[0m \u001b[1;31m# Check the file\u001b[0m\u001b[1;33m\u001b[0m\u001b[1;33m\u001b[0m\u001b[1;33m\u001b[0m\u001b[0m\n\u001b[0;32m      4\u001b[0m \u001b[1;31m#print(open(\"chem.txt\",\"r\"))\u001b[0m\u001b[1;33m\u001b[0m\u001b[1;33m\u001b[0m\u001b[1;33m\u001b[0m\u001b[0m\n",
      "\u001b[1;31mFileExistsError\u001b[0m: [Errno 17] File exists: 'chem.txt'"
     ]
    }
   ],
   "source": [
    "created_file = open(\"chem.txt\",\"x\")\n",
    "\n",
    "# Check the file\n",
    "#print(open(\"chem.txt\",\"r\"))"
   ]
  },
  {
   "cell_type": "code",
   "execution_count": null,
   "id": "368c7a96",
   "metadata": {},
   "outputs": [],
   "source": []
  },
  {
   "cell_type": "code",
   "execution_count": null,
   "id": "9f1f62c7",
   "metadata": {},
   "outputs": [],
   "source": []
  },
  {
   "cell_type": "code",
   "execution_count": 4,
   "id": "ea1a6ebd",
   "metadata": {},
   "outputs": [
    {
     "name": "stdout",
     "output_type": "stream",
     "text": [
      "Welcome\n"
     ]
    }
   ],
   "source": [
    "my_file = open(\"chem.txt\", \"w\")\n",
    "my_file.write(\"Welcome\")\n",
    "my_file.close()\n",
    "  \n",
    "#let's read the contents of the file now\n",
    "my_file = open(\"chem.txt\",\"r\")\n",
    "print(my_file.read())"
   ]
  },
  {
   "cell_type": "code",
   "execution_count": 15,
   "id": "31eb96af",
   "metadata": {},
   "outputs": [
    {
     "name": "stdout",
     "output_type": "stream",
     "text": [
      "Pyhton for Chemistry\n"
     ]
    }
   ],
   "source": [
    "my_file = open(\"chem.txt\", \"w\")\n",
    "my_file.write(\"Pyhton for Chemistry\")\n",
    "my_file.close()\n",
    "  \n",
    "#let's read the contents of the file now\n",
    "my_file = open(\"chem.txt\",\"r\")\n",
    "print(my_file.read())"
   ]
  },
  {
   "cell_type": "code",
   "execution_count": 17,
   "id": "22a13014",
   "metadata": {},
   "outputs": [
    {
     "name": "stdout",
     "output_type": "stream",
     "text": [
      "Pyhton for Chemistry    Welcome..\n"
     ]
    }
   ],
   "source": [
    "my_file = open(\"chem.txt\",\"a\")\n",
    "my_file.write(\"    Welcome..\")\n",
    "my_file.close()\n",
    "  \n",
    "# reading the file\n",
    "my_file = open(\"chem.txt\",\"r\")\n",
    "print(my_file.read())"
   ]
  },
  {
   "cell_type": "code",
   "execution_count": 19,
   "id": "2602210f",
   "metadata": {},
   "outputs": [
    {
     "name": "stdout",
     "output_type": "stream",
     "text": [
      "Python for Chemistry\n",
      "a = 10.008\n",
      "a = 10.008 = b\n"
     ]
    }
   ],
   "source": [
    "print(\"Python for Chemistry\")\n",
    "\n",
    "a = 10.008\n",
    "# Two objects are passed\n",
    "print(\"a =\", a)\n",
    "\n",
    "b = a\n",
    "# Three objects are passed\n",
    "print('a =', a, '= b')"
   ]
  },
  {
   "cell_type": "code",
   "execution_count": 23,
   "id": "2cdc247f",
   "metadata": {},
   "outputs": [],
   "source": [
    "sourceFile = open('python.txt', 'w')\n",
    "print(\"Welcome All\", file = sourceFile)\n",
    "sourceFile.close()"
   ]
  },
  {
   "cell_type": "code",
   "execution_count": 6,
   "id": "107c9d13",
   "metadata": {},
   "outputs": [
    {
     "name": "stdout",
     "output_type": "stream",
     "text": [
      "***Getting value***\n",
      "Python for Chemisty\n",
      "\n",
      "***Setting value***\n",
      "Chemistry\n",
      "\n",
      "***Deleting value***\n",
      "The value is deleted\n"
     ]
    }
   ],
   "source": [
    "class Prop:\n",
    "    def __init__(self, value):\n",
    "        self._value = value\n",
    "     # getting the values\n",
    "    def getValue(self):\n",
    "        print('***Getting value***')\n",
    "        return self._value\n",
    "     # setting the values\n",
    "    def setValue(self, value):\n",
    "        print('\\n***Setting value***')\n",
    "        print(value)\n",
    "        self._value = value\n",
    "     # deleting the values\n",
    "    def delValue(self):\n",
    "        print('\\n***Deleting value***')\n",
    "        del self._value\n",
    "        print(\"The value is deleted\")\n",
    "    value = property(getValue, setValue,\n",
    "                     delValue, )\n",
    "  # passing the value\n",
    "x = Prop('Python for Chemisty')\n",
    "print(x.value)\n",
    "x.value = 'Chemistry'\n",
    "del x.value"
   ]
  },
  {
   "cell_type": "code",
   "execution_count": 17,
   "id": "ecc24fd5",
   "metadata": {},
   "outputs": [
    {
     "name": "stdout",
     "output_type": "stream",
     "text": [
      "'10'\n",
      "10\n"
     ]
    }
   ],
   "source": [
    "var = \"10\"\n",
    "\n",
    "print(repr(var))\n",
    "print(var)"
   ]
  },
  {
   "cell_type": "code",
   "execution_count": 18,
   "id": "28f0d48e",
   "metadata": {},
   "outputs": [
    {
     "data": {
      "text/plain": [
       "'10'"
      ]
     },
     "execution_count": 18,
     "metadata": {},
     "output_type": "execute_result"
    }
   ],
   "source": [
    "eval(repr(var))"
   ]
  },
  {
   "cell_type": "code",
   "execution_count": 19,
   "id": "cd179e93",
   "metadata": {},
   "outputs": [
    {
     "name": "stdout",
     "output_type": "stream",
     "text": [
      "'Post Transition Metal Indium'\n"
     ]
    }
   ],
   "source": [
    "class Elements:\n",
    "    name = 'Indium'\n",
    "\n",
    "    def __repr__(self):\n",
    "        return repr('Post Transition Metal ' + self.name )\n",
    "\n",
    "print(repr(Elements()))"
   ]
  },
  {
   "cell_type": "code",
   "execution_count": 23,
   "id": "9541a3a6",
   "metadata": {},
   "outputs": [
    {
     "name": "stdout",
     "output_type": "stream",
     "text": [
      "['Lithium', 'Helium', 'Hydrogen']\n",
      "[5, 4, 3, 2, 1]\n",
      "['y', 'r', 't', 's', 'i', 'm', 'e', 'h', 'C', ' ', 'r', 'o', 'f', ' ', 'n', 'o', 't', 'h', 'y', 'P']\n"
     ]
    }
   ],
   "source": [
    "# For tuple\n",
    "Ex1 = ('Hydrogen', 'Helium', 'Lithium')\n",
    "print(list(reversed(Ex1)))\n",
    " \n",
    "# For range\n",
    "Ex2 = range(1, 6)\n",
    "print(list(reversed(Ex2)))\n",
    "\n",
    "# For String\n",
    "str = \"Pyhton for Chemistry\"\n",
    "print(list(reversed(str)))"
   ]
  },
  {
   "cell_type": "code",
   "execution_count": 25,
   "id": "54396b93",
   "metadata": {},
   "outputs": [
    {
     "name": "stdout",
     "output_type": "stream",
     "text": [
      "['Radium', 'Barium', 'Strontium', 'Calcium', 'Magnesium', 'Beryllium']\n"
     ]
    }
   ],
   "source": [
    "class Elements:\n",
    "    element = ['Beryllium', 'Magnesium', 'Calcium', \n",
    "              'Strontium', 'Barium', 'Radium']\n",
    "\n",
    "    def __reversed__(self):\n",
    "        return reversed(self.element)\n",
    "\n",
    "v = Elements()\n",
    "\n",
    "# reverse a custom object v\n",
    "print(list(reversed(v)))"
   ]
  },
  {
   "cell_type": "code",
   "execution_count": 26,
   "id": "316a68bd",
   "metadata": {},
   "outputs": [
    {
     "name": "stdout",
     "output_type": "stream",
     "text": [
      "10\n",
      "11\n",
      "13\n",
      "23\n"
     ]
    }
   ],
   "source": [
    "# for integers\n",
    "print(round(10))\n",
    "\n",
    "# for floating point\n",
    "print(round(10.7))\n",
    "\n",
    "#for round() up\n",
    "print(round(12.7))\n",
    "\n",
    "#for round() down\n",
    "print(round(23.3))"
   ]
  },
  {
   "cell_type": "code",
   "execution_count": 27,
   "id": "2e86be9c",
   "metadata": {},
   "outputs": [
    {
     "ename": "TypeError",
     "evalue": "type str doesn't define __round__ method",
     "output_type": "error",
     "traceback": [
      "\u001b[1;31m---------------------------------------------------------------------------\u001b[0m",
      "\u001b[1;31mTypeError\u001b[0m                                 Traceback (most recent call last)",
      "\u001b[1;32m~\\AppData\\Local\\Temp\\ipykernel_12004\\27036494.py\u001b[0m in \u001b[0;36m<module>\u001b[1;34m\u001b[0m\n\u001b[1;32m----> 1\u001b[1;33m \u001b[0mprint\u001b[0m\u001b[1;33m(\u001b[0m\u001b[0mround\u001b[0m\u001b[1;33m(\u001b[0m\u001b[1;34m\"a\"\u001b[0m\u001b[1;33m,\u001b[0m \u001b[1;36m2\u001b[0m\u001b[1;33m)\u001b[0m\u001b[1;33m)\u001b[0m\u001b[1;33m\u001b[0m\u001b[1;33m\u001b[0m\u001b[0m\n\u001b[0m",
      "\u001b[1;31mTypeError\u001b[0m: type str doesn't define __round__ method"
     ]
    }
   ],
   "source": [
    "print(round(\"a\", 2))"
   ]
  },
  {
   "cell_type": "code",
   "execution_count": 30,
   "id": "446872d9",
   "metadata": {},
   "outputs": [
    {
     "name": "stdout",
     "output_type": "stream",
     "text": [
      "10.665\n",
      "35.45\n"
     ]
    }
   ],
   "source": [
    "print(round(10.6655, 3))\n",
    "print(round(35.455, 2))"
   ]
  },
  {
   "cell_type": "code",
   "execution_count": null,
   "id": "5f9cc03a",
   "metadata": {},
   "outputs": [],
   "source": [
    "class Person:\n",
    "    name = 'Adam'\n",
    "    \n",
    "p = Person()\n",
    "print('Before modification:', p.name)\n",
    "\n",
    "# setting name to 'John'\n",
    "setattr(p, 'name', 'John')\n",
    "\n",
    "print('After modification:', p.name)"
   ]
  },
  {
   "cell_type": "code",
   "execution_count": 31,
   "id": "8b9a4152",
   "metadata": {},
   "outputs": [
    {
     "name": "stdout",
     "output_type": "stream",
     "text": [
      "Before modification: Indium\n",
      "After modification: Beryllium\n"
     ]
    }
   ],
   "source": [
    "class Elements:\n",
    "    name = 'Indium'\n",
    "e = Elements()\n",
    "print('Before modification:', e.name)\n",
    "#setting name to Beryllium\n",
    "setattr(e,'name','Beryllium')\n",
    "print(\"After modification:\", e.name)"
   ]
  },
  {
   "cell_type": "code",
   "execution_count": 33,
   "id": "a8670ca2",
   "metadata": {},
   "outputs": [
    {
     "name": "stdout",
     "output_type": "stream",
     "text": [
      "Element Name: Beryllium\n",
      "Atomic Mass is : 9.012\n"
     ]
    }
   ],
   "source": [
    "class Elements:\n",
    "    name = 'Indium'\n",
    "e = Elements()\n",
    "\n",
    "#setting name to Beryllium\n",
    "setattr(e,'name','Beryllium')\n",
    "print(\"Element Name:\", e.name)\n",
    "\n",
    "#setting an attribute not present in Elements\n",
    "setattr(e, 'amass', '9.012')\n",
    "print(\"Atomic Mass is :\", e.amass)"
   ]
  },
  {
   "cell_type": "code",
   "execution_count": 85,
   "id": "f841d135",
   "metadata": {},
   "outputs": [
    {
     "name": "stdout",
     "output_type": "stream",
     "text": [
      "String slicing\n",
      "Python\n",
      "frCe\n"
     ]
    }
   ],
   "source": [
    "# String slicing\n",
    "String = 'Python for Chemistry'\n",
    "s1 = slice(6)\n",
    "s2 = slice(7, 15, 2)\n",
    " \n",
    "print(\"String slicing\")\n",
    "print(String[s1])\n",
    "print(String[s2])"
   ]
  },
  {
   "cell_type": "code",
   "execution_count": 43,
   "id": "7b4e3df2",
   "metadata": {},
   "outputs": [
    {
     "name": "stdout",
     "output_type": "stream",
     "text": [
      "list slicing: ['Barium', 'Strontium', 'Calcium', 'Magnesium']\n",
      "string slicing: Python for Chemistr\n"
     ]
    }
   ],
   "source": [
    "# list negative index slicing\n",
    "l = ['Beryllium', 'Magnesium', 'Calcium', \n",
    "              'Strontium', 'Barium', 'Radium']\n",
    "slice_obj = slice(-2, -6, -1)\n",
    "print(\"list slicing:\", l[slice_obj])\n",
    " \n",
    "# string -ve index slicing\n",
    "s = \"Python for Chemistry\"\n",
    "slice_obj = slice(-1)\n",
    "print(\"string slicing:\", s[slice_obj])"
   ]
  },
  {
   "cell_type": "code",
   "execution_count": 45,
   "id": "c12ffaf5",
   "metadata": {},
   "outputs": [
    {
     "name": "stdout",
     "output_type": "stream",
     "text": [
      "['Barium', 'Beryllium', 'Calcium', 'Magnesium', 'Radium', 'Strontium']\n",
      "['Barium', 'Beryllium', 'Calcium', 'Magnesium', 'Radium', 'Strontium']\n",
      "['c', 'e', 'h', 'i', 'm', 'r', 's', 't', 'y']\n",
      "[1, 17, 49, 54]\n",
      "['Barium', 'Beryllium', 'Calcium', 'Magnesium', 'Radium', 'Strontium']\n",
      "['Barium', 'Beryllium', 'Calcium', 'Magnesium', 'Radium', 'Strontium']\n"
     ]
    }
   ],
   "source": [
    "# List\n",
    "x = ['Beryllium', 'Magnesium', 'Calcium', \n",
    "              'Strontium', 'Barium', 'Radium']\n",
    "print(sorted(x))\n",
    "  \n",
    "# Tuple\n",
    "x = ('Beryllium', 'Magnesium', 'Calcium', \n",
    "              'Strontium', 'Barium', 'Radium')\n",
    "print(sorted(x))\n",
    "  \n",
    "# String-sorted based on ASCII translations\n",
    "x = \"chemistry\"\n",
    "print(sorted(x))\n",
    "  \n",
    "# Dictionary\n",
    "x = {1: \"Hydrogen\", 49: \"Indium\",\n",
    "              17: \"Chlorine\", 54: \"Xenon\"}\n",
    "print(sorted(x))\n",
    "  \n",
    "# Set\n",
    "x = {'Beryllium', 'Magnesium', 'Calcium', \n",
    "              'Strontium', 'Barium', 'Radium'}\n",
    "print(sorted(x))\n",
    "  \n",
    "# Frozen Set\n",
    "x = frozenset(('Beryllium', 'Magnesium', 'Calcium', \n",
    "              'Strontium', 'Barium', 'Radium'))\n",
    "print(sorted(x))"
   ]
  },
  {
   "cell_type": "code",
   "execution_count": 47,
   "id": "99e7ea67",
   "metadata": {},
   "outputs": [
    {
     "name": "stdout",
     "output_type": "stream",
     "text": [
      "['Strontium', 'Radium', 'Magnesium', 'Calcium', 'Beryllium', 'Barium']\n"
     ]
    }
   ],
   "source": [
    "x = ['Beryllium', 'Magnesium', 'Calcium', \n",
    "              'Strontium', 'Barium', 'Radium']\n",
    "print(sorted(x,reverse =True))"
   ]
  },
  {
   "cell_type": "code",
   "execution_count": 48,
   "id": "4b1d5558",
   "metadata": {},
   "outputs": [
    {
     "name": "stdout",
     "output_type": "stream",
     "text": [
      "Normal sort : ['Barium', 'Beryllium', 'Calcium', 'Magnesium', 'Radium', 'Strontium']\n",
      "Sort with len : ['Barium', 'Radium', 'Calcium', 'Beryllium', 'Magnesium', 'Strontium']\n"
     ]
    }
   ],
   "source": [
    "L = ['Beryllium', 'Magnesium', 'Calcium', \n",
    "              'Strontium', 'Barium', 'Radium']\n",
    "  \n",
    "print(\"Normal sort :\", sorted(L))\n",
    "  \n",
    "print(\"Sort with len :\", sorted(L, key=len))"
   ]
  },
  {
   "cell_type": "code",
   "execution_count": 50,
   "id": "12374126",
   "metadata": {},
   "outputs": [
    {
     "name": "stdout",
     "output_type": "stream",
     "text": [
      "Python for Chemistry\n"
     ]
    }
   ],
   "source": [
    "class Element:\n",
    " \n",
    "    def chem(msg):\n",
    "        return msg\n",
    " \n",
    " \n",
    "# convert the add to a static method\n",
    "Element.chem = staticmethod(Element.chem)\n",
    " \n",
    "# we can access the method without\n",
    "# creating the instance of class\n",
    "print(Element.chem(\"Python for Chemistry\"))"
   ]
  },
  {
   "cell_type": "code",
   "execution_count": null,
   "id": "32d9d24d",
   "metadata": {},
   "outputs": [],
   "source": [
    "class Elements:\n",
    " \n",
    "    def __init__(self, a, b):\n",
    "        self.a = a\n",
    "        self.b = b\n",
    " \n",
    "    def add(a, b):\n",
    "        return a+b\n",
    " \n",
    "    def diff(self):\n",
    "        return self.a-self.b\n",
    " \n",
    " \n",
    "# convert the add to a static method\n",
    "Elements.add = staticmethod(Elements.add)\n",
    " \n",
    "# we can access the method without creating\n",
    "# the instance of class\n",
    "print(demoClass.add(1, 2))\n",
    " \n",
    "# if we want to use properties of a class\n",
    "# then we need to create a object\n",
    "Object = demoClass(1, 2)\n",
    "print(Object.diff())"
   ]
  },
  {
   "cell_type": "code",
   "execution_count": 87,
   "id": "8ceef0cd",
   "metadata": {},
   "outputs": [
    {
     "name": "stdout",
     "output_type": "stream",
     "text": [
      "Name:  Iron\n",
      "Atomic Mass:  55.845\n",
      "Melting Point:  1811k\n"
     ]
    }
   ],
   "source": [
    "# string representation of name \n",
    "name = str('Iron')\n",
    "print(\"Name: \", name)\n",
    "\n",
    "# string representation of an numbers \n",
    "amass = str(55.845)\n",
    "print(\"Atomic Mass: \", amass)\n",
    "\n",
    "# string representation of a numeric string \n",
    "melt = str('1811k')\n",
    "print(\"Melting Point: \",melt)"
   ]
  },
  {
   "cell_type": "code",
   "execution_count": 3,
   "id": "a94a5732",
   "metadata": {},
   "outputs": [
    {
     "name": "stdout",
     "output_type": "stream",
     "text": [
      "\n",
      "GFG\n"
     ]
    }
   ],
   "source": [
    "# Python program to demonstrate\n",
    "# strings\n",
    " \n",
    "# Empty string\n",
    "s = str()\n",
    "print(s)\n",
    " \n",
    "# String with values\n",
    "s = str(\"GFG\")\n",
    "print(s)"
   ]
  },
  {
   "cell_type": "code",
   "execution_count": 56,
   "id": "0e40c4d5",
   "metadata": {},
   "outputs": [
    {
     "name": "stdout",
     "output_type": "stream",
     "text": [
      "17.5\n",
      "27.5\n"
     ]
    }
   ],
   "source": [
    "numbers = [2.5, 3, 4, -5,13]\n",
    "\n",
    "# start parameter is not provided\n",
    "numbers_sum = sum(numbers)\n",
    "print(numbers_sum)\n",
    "\n",
    "# start = 10\n",
    "numbers_sum = sum(numbers, 10)\n",
    "print(numbers_sum)"
   ]
  },
  {
   "cell_type": "code",
   "execution_count": 88,
   "id": "665c32b2",
   "metadata": {},
   "outputs": [
    {
     "name": "stdout",
     "output_type": "stream",
     "text": [
      "Barium is an 56th element in a periodic table.\n",
      "Barium is a alkaline earth metal.\n"
     ]
    }
   ],
   "source": [
    "class element(object):\n",
    "  def __init__(self, ename):\n",
    "    print(ename, 'is a alkaline earth metal.')\n",
    "    \n",
    "class Ba(element):\n",
    "  def __init__(self):\n",
    "    print('Barium is an 56th element in a periodic table.')\n",
    "    super().__init__('Barium')\n",
    "    \n",
    "d1 = Ba()"
   ]
  },
  {
   "cell_type": "code",
   "execution_count": 90,
   "id": "e8bbb8fb",
   "metadata": {},
   "outputs": [
    {
     "name": "stdout",
     "output_type": "stream",
     "text": [
      "Barium is an 56th element.\n",
      "Barium is not a post-transition metal.\n",
      "Barium is not a non metal.\n",
      "Barium is also a periodic table element.\n",
      "Barium is an alkaline earth metal.\n",
      "\n",
      "Radium is not a non metal.\n",
      "Radium is also a periodic table element.\n",
      "Radium is an alkaline earth metal.\n"
     ]
    }
   ],
   "source": [
    "class element:\n",
    "  def __init__(self, element):\n",
    "    print(element, 'is an alkaline earth metal.');\n",
    "\n",
    "class p_table(element):\n",
    "  def __init__(self, p_table):\n",
    "    print(p_table, 'is also a periodic table element.')\n",
    "    super().__init__(p_table)\n",
    "    \n",
    "class posttrans_metal(p_table):\n",
    "  def __init__(self, posttrans_metal):\n",
    "    print(posttrans_metal, \"is not a post-transition metal.\")\n",
    "    super().__init__(posttrans_metal)\n",
    "\n",
    "class nonmetal(p_table):\n",
    "  def __init__(self, nonmetal):\n",
    "    print(nonmetal, \"is not a non metal.\")\n",
    "    super().__init__(nonmetal)\n",
    "\n",
    "class Barium(posttrans_metal,nonmetal):\n",
    "  def __init__(self):\n",
    "    print('Barium is an 56th element.');\n",
    "    super().__init__('Barium')\n",
    "    \n",
    "Ba = Barium()\n",
    "print('')\n",
    "Ra= nonmetal('Radium')"
   ]
  },
  {
   "cell_type": "code",
   "execution_count": 71,
   "id": "e44336d1",
   "metadata": {},
   "outputs": [
    {
     "name": "stdout",
     "output_type": "stream",
     "text": [
      "<class 'list'>\n",
      "<class 'dict'>\n",
      "<class '__main__.Elements'>\n"
     ]
    }
   ],
   "source": [
    "ele = ['Beryllium', 'Magnesium', 'Calcium', \n",
    "              'Strontium', 'Barium', 'Radium']\n",
    "print(type(ele))\n",
    "\n",
    "eledict = {1: \"Hydrogen\", 49: \"Indium\",\n",
    "              17: \"Chlorine\", 54: \"Xenon\"}\n",
    "print(type(eledict))\n",
    "\n",
    "class Elements:\n",
    "    a = 0\n",
    "\n",
    "element = Elements()\n",
    "print(type(element))"
   ]
  },
  {
   "cell_type": "code",
   "execution_count": 2,
   "id": "9bb27f15",
   "metadata": {},
   "outputs": [
    {
     "name": "stdout",
     "output_type": "stream",
     "text": [
      "<class 'type'>\n",
      "{'a': 'Beryllium', 'b': 4, '__module__': '__main__', '__dict__': <attribute '__dict__' of 'X' objects>, '__weakref__': <attribute '__weakref__' of 'X' objects>, '__doc__': None}\n",
      "<class 'type'>\n",
      "{'a': 'Berylliumo', 'b': 4, '__module__': '__main__', '__doc__': None}\n"
     ]
    }
   ],
   "source": [
    "o1 = type('X', (object,), dict(a='Beryllium', b=4))\n",
    "print(type(o1))\n",
    "\n",
    "print(vars(o1))\n",
    "\n",
    "class elements:\n",
    "  a = 'Beryllium'\n",
    "  b = 4\n",
    "  \n",
    "o2 = type('Y', (elements,), dict(a='Berylliumo', b=4))\n",
    "print(type(o2))\n",
    "print(vars(o2))"
   ]
  },
  {
   "cell_type": "code",
   "execution_count": 5,
   "id": "933d6c6c",
   "metadata": {},
   "outputs": [
    {
     "name": "stdout",
     "output_type": "stream",
     "text": [
      "{'__name__': '__main__', '__doc__': 'Automatically created module for IPython interactive environment', '__package__': None, '__loader__': None, '__spec__': None, '__builtin__': <module 'builtins' (built-in)>, '__builtins__': <module 'builtins' (built-in)>, '_ih': ['', \"o1 = type('X', (object,), dict(a='Beryllium', b=12))\\nprint(type(o1))\\n\\nprint(vars(o1))\\n\\nclass elements:\\n  a = 'Beryllium'\\n  b = 12\\n  \\no2 = type('Y', (elements,), dict(a='Berylliumo', b=12))\\nprint(type(o2))\\nprint(vars(o2))\", \"o1 = type('X', (object,), dict(a='Beryllium', b=4))\\nprint(type(o1))\\n\\nprint(vars(o1))\\n\\nclass elements:\\n  a = 'Beryllium'\\n  b = 4\\n  \\no2 = type('Y', (elements,), dict(a='Berylliumo', b=4))\\nprint(type(o2))\\nprint(vars(o2))\", '# Python program to demonstrate\\n# strings\\n \\n# Empty string\\ns = str()\\nprint(s)\\n \\n# String with values\\ns = str(\"GFG\")\\nprint(s)', \"# string representation of Luke\\nname = str('Helium')\\nprint(name)\\n\\n# string representation of an integer 40\\namass = str(4.00860)\\nprint(amass)\\n\\n# string representation of a numeric string 7ft\\nmelt = str('0.95k')\\nprint(melt)\", '# vars() with no argument\\nprint (vars())\\n\\n# returns __dict__  of a dictionary object\\nprint(vars(dict))'], '_oh': {}, '_dh': ['C:\\\\Users\\\\BalaS'], 'In': ['', \"o1 = type('X', (object,), dict(a='Beryllium', b=12))\\nprint(type(o1))\\n\\nprint(vars(o1))\\n\\nclass elements:\\n  a = 'Beryllium'\\n  b = 12\\n  \\no2 = type('Y', (elements,), dict(a='Berylliumo', b=12))\\nprint(type(o2))\\nprint(vars(o2))\", \"o1 = type('X', (object,), dict(a='Beryllium', b=4))\\nprint(type(o1))\\n\\nprint(vars(o1))\\n\\nclass elements:\\n  a = 'Beryllium'\\n  b = 4\\n  \\no2 = type('Y', (elements,), dict(a='Berylliumo', b=4))\\nprint(type(o2))\\nprint(vars(o2))\", '# Python program to demonstrate\\n# strings\\n \\n# Empty string\\ns = str()\\nprint(s)\\n \\n# String with values\\ns = str(\"GFG\")\\nprint(s)', \"# string representation of Luke\\nname = str('Helium')\\nprint(name)\\n\\n# string representation of an integer 40\\namass = str(4.00860)\\nprint(amass)\\n\\n# string representation of a numeric string 7ft\\nmelt = str('0.95k')\\nprint(melt)\", '# vars() with no argument\\nprint (vars())\\n\\n# returns __dict__  of a dictionary object\\nprint(vars(dict))'], 'Out': {}, 'get_ipython': <bound method InteractiveShell.get_ipython of <ipykernel.zmqshell.ZMQInteractiveShell object at 0x000001F75BE3F448>>, 'exit': <IPython.core.autocall.ZMQExitAutocall object at 0x000001F75BE4F748>, 'quit': <IPython.core.autocall.ZMQExitAutocall object at 0x000001F75BE4F748>, '_': '', '__': '', '___': '', '_i': \"# string representation of Luke\\nname = str('Helium')\\nprint(name)\\n\\n# string representation of an integer 40\\namass = str(4.00860)\\nprint(amass)\\n\\n# string representation of a numeric string 7ft\\nmelt = str('0.95k')\\nprint(melt)\", '_ii': '# Python program to demonstrate\\n# strings\\n \\n# Empty string\\ns = str()\\nprint(s)\\n \\n# String with values\\ns = str(\"GFG\")\\nprint(s)', '_iii': \"o1 = type('X', (object,), dict(a='Beryllium', b=4))\\nprint(type(o1))\\n\\nprint(vars(o1))\\n\\nclass elements:\\n  a = 'Beryllium'\\n  b = 4\\n  \\no2 = type('Y', (elements,), dict(a='Berylliumo', b=4))\\nprint(type(o2))\\nprint(vars(o2))\", '_i1': \"o1 = type('X', (object,), dict(a='Beryllium', b=12))\\nprint(type(o1))\\n\\nprint(vars(o1))\\n\\nclass elements:\\n  a = 'Beryllium'\\n  b = 12\\n  \\no2 = type('Y', (elements,), dict(a='Berylliumo', b=12))\\nprint(type(o2))\\nprint(vars(o2))\", 'o1': <class '__main__.X'>, 'elements': <class '__main__.elements'>, 'o2': <class '__main__.Y'>, '_i2': \"o1 = type('X', (object,), dict(a='Beryllium', b=4))\\nprint(type(o1))\\n\\nprint(vars(o1))\\n\\nclass elements:\\n  a = 'Beryllium'\\n  b = 4\\n  \\no2 = type('Y', (elements,), dict(a='Berylliumo', b=4))\\nprint(type(o2))\\nprint(vars(o2))\", '_i3': '# Python program to demonstrate\\n# strings\\n \\n# Empty string\\ns = str()\\nprint(s)\\n \\n# String with values\\ns = str(\"GFG\")\\nprint(s)', 's': 'GFG', '_i4': \"# string representation of Luke\\nname = str('Helium')\\nprint(name)\\n\\n# string representation of an integer 40\\namass = str(4.00860)\\nprint(amass)\\n\\n# string representation of a numeric string 7ft\\nmelt = str('0.95k')\\nprint(melt)\", 'name': 'Helium', 'amass': '4.0086', 'melt': '0.95k', '_i5': '# vars() with no argument\\nprint (vars())\\n\\n# returns __dict__  of a dictionary object\\nprint(vars(dict))'}\n",
      "{'__repr__': <slot wrapper '__repr__' of 'dict' objects>, '__hash__': None, '__getattribute__': <slot wrapper '__getattribute__' of 'dict' objects>, '__lt__': <slot wrapper '__lt__' of 'dict' objects>, '__le__': <slot wrapper '__le__' of 'dict' objects>, '__eq__': <slot wrapper '__eq__' of 'dict' objects>, '__ne__': <slot wrapper '__ne__' of 'dict' objects>, '__gt__': <slot wrapper '__gt__' of 'dict' objects>, '__ge__': <slot wrapper '__ge__' of 'dict' objects>, '__iter__': <slot wrapper '__iter__' of 'dict' objects>, '__init__': <slot wrapper '__init__' of 'dict' objects>, '__len__': <slot wrapper '__len__' of 'dict' objects>, '__getitem__': <method '__getitem__' of 'dict' objects>, '__setitem__': <slot wrapper '__setitem__' of 'dict' objects>, '__delitem__': <slot wrapper '__delitem__' of 'dict' objects>, '__contains__': <method '__contains__' of 'dict' objects>, '__new__': <built-in method __new__ of type object at 0x00007FFE4E98C860>, '__sizeof__': <method '__sizeof__' of 'dict' objects>, 'get': <method 'get' of 'dict' objects>, 'setdefault': <method 'setdefault' of 'dict' objects>, 'pop': <method 'pop' of 'dict' objects>, 'popitem': <method 'popitem' of 'dict' objects>, 'keys': <method 'keys' of 'dict' objects>, 'items': <method 'items' of 'dict' objects>, 'values': <method 'values' of 'dict' objects>, 'update': <method 'update' of 'dict' objects>, 'fromkeys': <method 'fromkeys' of 'dict' objects>, 'clear': <method 'clear' of 'dict' objects>, 'copy': <method 'copy' of 'dict' objects>, '__doc__': \"dict() -> new empty dictionary\\ndict(mapping) -> new dictionary initialized from a mapping object's\\n    (key, value) pairs\\ndict(iterable) -> new dictionary initialized as if via:\\n    d = {}\\n    for k, v in iterable:\\n        d[k] = v\\ndict(**kwargs) -> new dictionary initialized with the name=value pairs\\n    in the keyword argument list.  For example:  dict(one=1, two=2)\"}\n"
     ]
    }
   ],
   "source": [
    "# vars() with no argument\n",
    "print (vars())\n",
    "\n",
    "# returns __dict__  of a dictionary object\n",
    "print(vars(dict))"
   ]
  },
  {
   "cell_type": "code",
   "execution_count": 6,
   "id": "5047d46c",
   "metadata": {},
   "outputs": [
    {
     "name": "stdout",
     "output_type": "stream",
     "text": [
      "{'__name__': '__main__', '__doc__': 'Automatically created module for IPython interactive environment', '__package__': None, '__loader__': None, '__spec__': None, '__builtin__': <module 'builtins' (built-in)>, '__builtins__': <module 'builtins' (built-in)>, '_ih': ['', \"o1 = type('X', (object,), dict(a='Beryllium', b=12))\\nprint(type(o1))\\n\\nprint(vars(o1))\\n\\nclass elements:\\n  a = 'Beryllium'\\n  b = 12\\n  \\no2 = type('Y', (elements,), dict(a='Berylliumo', b=12))\\nprint(type(o2))\\nprint(vars(o2))\", \"o1 = type('X', (object,), dict(a='Beryllium', b=4))\\nprint(type(o1))\\n\\nprint(vars(o1))\\n\\nclass elements:\\n  a = 'Beryllium'\\n  b = 4\\n  \\no2 = type('Y', (elements,), dict(a='Berylliumo', b=4))\\nprint(type(o2))\\nprint(vars(o2))\", '# Python program to demonstrate\\n# strings\\n \\n# Empty string\\ns = str()\\nprint(s)\\n \\n# String with values\\ns = str(\"GFG\")\\nprint(s)', \"# string representation of Luke\\nname = str('Helium')\\nprint(name)\\n\\n# string representation of an integer 40\\namass = str(4.00860)\\nprint(amass)\\n\\n# string representation of a numeric string 7ft\\nmelt = str('0.95k')\\nprint(melt)\", '# vars() with no argument\\nprint (vars())\\n\\n# returns __dict__  of a dictionary object\\nprint(vars(dict))', '# vars() with no argument\\nprint (vars())\\n\\n# returns __dict__  of a dictionary object\\nprint(vars(dict))'], '_oh': {}, '_dh': ['C:\\\\Users\\\\BalaS'], 'In': ['', \"o1 = type('X', (object,), dict(a='Beryllium', b=12))\\nprint(type(o1))\\n\\nprint(vars(o1))\\n\\nclass elements:\\n  a = 'Beryllium'\\n  b = 12\\n  \\no2 = type('Y', (elements,), dict(a='Berylliumo', b=12))\\nprint(type(o2))\\nprint(vars(o2))\", \"o1 = type('X', (object,), dict(a='Beryllium', b=4))\\nprint(type(o1))\\n\\nprint(vars(o1))\\n\\nclass elements:\\n  a = 'Beryllium'\\n  b = 4\\n  \\no2 = type('Y', (elements,), dict(a='Berylliumo', b=4))\\nprint(type(o2))\\nprint(vars(o2))\", '# Python program to demonstrate\\n# strings\\n \\n# Empty string\\ns = str()\\nprint(s)\\n \\n# String with values\\ns = str(\"GFG\")\\nprint(s)', \"# string representation of Luke\\nname = str('Helium')\\nprint(name)\\n\\n# string representation of an integer 40\\namass = str(4.00860)\\nprint(amass)\\n\\n# string representation of a numeric string 7ft\\nmelt = str('0.95k')\\nprint(melt)\", '# vars() with no argument\\nprint (vars())\\n\\n# returns __dict__  of a dictionary object\\nprint(vars(dict))', '# vars() with no argument\\nprint (vars())\\n\\n# returns __dict__  of a dictionary object\\nprint(vars(dict))'], 'Out': {}, 'get_ipython': <bound method InteractiveShell.get_ipython of <ipykernel.zmqshell.ZMQInteractiveShell object at 0x000001F75BE3F448>>, 'exit': <IPython.core.autocall.ZMQExitAutocall object at 0x000001F75BE4F748>, 'quit': <IPython.core.autocall.ZMQExitAutocall object at 0x000001F75BE4F748>, '_': '', '__': '', '___': '', '_i': '# vars() with no argument\\nprint (vars())\\n\\n# returns __dict__  of a dictionary object\\nprint(vars(dict))', '_ii': \"# string representation of Luke\\nname = str('Helium')\\nprint(name)\\n\\n# string representation of an integer 40\\namass = str(4.00860)\\nprint(amass)\\n\\n# string representation of a numeric string 7ft\\nmelt = str('0.95k')\\nprint(melt)\", '_iii': '# Python program to demonstrate\\n# strings\\n \\n# Empty string\\ns = str()\\nprint(s)\\n \\n# String with values\\ns = str(\"GFG\")\\nprint(s)', '_i1': \"o1 = type('X', (object,), dict(a='Beryllium', b=12))\\nprint(type(o1))\\n\\nprint(vars(o1))\\n\\nclass elements:\\n  a = 'Beryllium'\\n  b = 12\\n  \\no2 = type('Y', (elements,), dict(a='Berylliumo', b=12))\\nprint(type(o2))\\nprint(vars(o2))\", 'o1': <class '__main__.X'>, 'elements': <class '__main__.elements'>, 'o2': <class '__main__.Y'>, '_i2': \"o1 = type('X', (object,), dict(a='Beryllium', b=4))\\nprint(type(o1))\\n\\nprint(vars(o1))\\n\\nclass elements:\\n  a = 'Beryllium'\\n  b = 4\\n  \\no2 = type('Y', (elements,), dict(a='Berylliumo', b=4))\\nprint(type(o2))\\nprint(vars(o2))\", '_i3': '# Python program to demonstrate\\n# strings\\n \\n# Empty string\\ns = str()\\nprint(s)\\n \\n# String with values\\ns = str(\"GFG\")\\nprint(s)', 's': 'GFG', '_i4': \"# string representation of Luke\\nname = str('Helium')\\nprint(name)\\n\\n# string representation of an integer 40\\namass = str(4.00860)\\nprint(amass)\\n\\n# string representation of a numeric string 7ft\\nmelt = str('0.95k')\\nprint(melt)\", 'name': 'Helium', 'amass': '4.0086', 'melt': '0.95k', '_i5': '# vars() with no argument\\nprint (vars())\\n\\n# returns __dict__  of a dictionary object\\nprint(vars(dict))', '_i6': '# vars() with no argument\\nprint (vars())\\n\\n# returns __dict__  of a dictionary object\\nprint(vars(dict))'}\n",
      "{'__repr__': <slot wrapper '__repr__' of 'dict' objects>, '__hash__': None, '__getattribute__': <slot wrapper '__getattribute__' of 'dict' objects>, '__lt__': <slot wrapper '__lt__' of 'dict' objects>, '__le__': <slot wrapper '__le__' of 'dict' objects>, '__eq__': <slot wrapper '__eq__' of 'dict' objects>, '__ne__': <slot wrapper '__ne__' of 'dict' objects>, '__gt__': <slot wrapper '__gt__' of 'dict' objects>, '__ge__': <slot wrapper '__ge__' of 'dict' objects>, '__iter__': <slot wrapper '__iter__' of 'dict' objects>, '__init__': <slot wrapper '__init__' of 'dict' objects>, '__len__': <slot wrapper '__len__' of 'dict' objects>, '__getitem__': <method '__getitem__' of 'dict' objects>, '__setitem__': <slot wrapper '__setitem__' of 'dict' objects>, '__delitem__': <slot wrapper '__delitem__' of 'dict' objects>, '__contains__': <method '__contains__' of 'dict' objects>, '__new__': <built-in method __new__ of type object at 0x00007FFE4E98C860>, '__sizeof__': <method '__sizeof__' of 'dict' objects>, 'get': <method 'get' of 'dict' objects>, 'setdefault': <method 'setdefault' of 'dict' objects>, 'pop': <method 'pop' of 'dict' objects>, 'popitem': <method 'popitem' of 'dict' objects>, 'keys': <method 'keys' of 'dict' objects>, 'items': <method 'items' of 'dict' objects>, 'values': <method 'values' of 'dict' objects>, 'update': <method 'update' of 'dict' objects>, 'fromkeys': <method 'fromkeys' of 'dict' objects>, 'clear': <method 'clear' of 'dict' objects>, 'copy': <method 'copy' of 'dict' objects>, '__doc__': \"dict() -> new empty dictionary\\ndict(mapping) -> new dictionary initialized from a mapping object's\\n    (key, value) pairs\\ndict(iterable) -> new dictionary initialized as if via:\\n    d = {}\\n    for k, v in iterable:\\n        d[k] = v\\ndict(**kwargs) -> new dictionary initialized with the name=value pairs\\n    in the keyword argument list.  For example:  dict(one=1, two=2)\"}\n"
     ]
    }
   ],
   "source": [
    "# vars() with no argument\n",
    "print (vars())\n",
    "\n",
    "# returns __dict__  of a dictionary object\n",
    "print(vars(dict))"
   ]
  },
  {
   "cell_type": "code",
   "execution_count": 1,
   "id": "f8f7787a",
   "metadata": {},
   "outputs": [
    {
     "name": "stdout",
     "output_type": "stream",
     "text": [
      "{'Beryllium': 4, 'Helium': 2}\n"
     ]
    }
   ],
   "source": [
    "class Element:\n",
    "  def __init__(self, Beryllium = 4, Helium = 2):\n",
    "    self.Beryllium = Beryllium\n",
    "    self.Helium = Helium\n",
    "  \n",
    "atomic = Element()\n",
    "\n",
    "# returns __dict__ of the atomic object\n",
    "print(vars(atomic))"
   ]
  },
  {
   "cell_type": "code",
   "execution_count": 12,
   "id": "37898085",
   "metadata": {},
   "outputs": [
    {
     "name": "stdout",
     "output_type": "stream",
     "text": [
      "{(2, 'Beryllium'), (1, 'Helium'), (3, 'Radium')}\n",
      "{(2, 'Boron', 'Beryllium'), (1, 'Oxygen', 'Helium')}\n"
     ]
    }
   ],
   "source": [
    "numbersList = [1, 2, 3]\n",
    "str_list = ['Oxygen', 'Boron']\n",
    "numbers_tuple = ('Helium', 'Beryllium', 'Radium', 'Indium')\n",
    "\n",
    "# Notice, the size of numbersList and numbers_tuple is different\n",
    "result = zip(numbersList, numbers_tuple)\n",
    "\n",
    "# Converting to set\n",
    "result_set = set(result)\n",
    "print(result_set)\n",
    "\n",
    "result = zip(numbersList, str_list, numbers_tuple)\n",
    "\n",
    "# Converting to set\n",
    "result_set = set(result)\n",
    "print(result_set)"
   ]
  },
  {
   "cell_type": "code",
   "execution_count": 13,
   "id": "0cb25b56",
   "metadata": {},
   "outputs": [
    {
     "name": "stdout",
     "output_type": "stream",
     "text": [
      "[('Beryllium', 3), ('Boron', 4), ('Helium', 5)]\n",
      "c = ('Beryllium', 'Boron', 'Helium')\n",
      "v = (3, 4, 5)\n"
     ]
    }
   ],
   "source": [
    "coordinate = ['Beryllium', 'Boron', 'Helium']\n",
    "value = [3, 4, 5]\n",
    "\n",
    "result = zip(coordinate, value)\n",
    "result_list = list(result)\n",
    "print(result_list)\n",
    "\n",
    "c, v =  zip(*result_list)\n",
    "print('c =', c)\n",
    "print('v =', v)"
   ]
  },
  {
   "cell_type": "code",
   "execution_count": 14,
   "id": "8dc7a5fc",
   "metadata": {},
   "outputs": [
    {
     "name": "stdout",
     "output_type": "stream",
     "text": [
      "2.5\n"
     ]
    }
   ],
   "source": [
    "mathematics = __import__('math', globals(), locals(), [], 0)\n",
    "print(mathematics.fabs(-2.5))"
   ]
  },
  {
   "cell_type": "code",
   "execution_count": 19,
   "id": "00ffcbbb",
   "metadata": {},
   "outputs": [
    {
     "data": {
      "text/plain": [
       "10.0"
      ]
     },
     "execution_count": 19,
     "metadata": {},
     "output_type": "execute_result"
    }
   ],
   "source": [
    "import math\n",
    "x= -10\n",
    "math.fabs(x)"
   ]
  },
  {
   "cell_type": "code",
   "execution_count": 20,
   "id": "33619fec",
   "metadata": {},
   "outputs": [
    {
     "name": "stdout",
     "output_type": "stream",
     "text": [
      "pythn\n"
     ]
    },
    {
     "ename": "UnicodeDecodeError",
     "evalue": "'ascii' codec can't decode byte 0xc3 in position 4: ordinal not in range(128)",
     "output_type": "error",
     "traceback": [
      "\u001b[1;31m---------------------------------------------------------------------------\u001b[0m",
      "\u001b[1;31mUnicodeDecodeError\u001b[0m                        Traceback (most recent call last)",
      "\u001b[1;32m~\\AppData\\Local\\Temp\\ipykernel_12924\\133384382.py\u001b[0m in \u001b[0;36m<module>\u001b[1;34m\u001b[0m\n\u001b[0;32m      6\u001b[0m \u001b[1;33m\u001b[0m\u001b[0m\n\u001b[0;32m      7\u001b[0m \u001b[1;31m# convert a utf-8 byte object to ascii with strict error\u001b[0m\u001b[1;33m\u001b[0m\u001b[1;33m\u001b[0m\u001b[1;33m\u001b[0m\u001b[0m\n\u001b[1;32m----> 8\u001b[1;33m \u001b[0mprint\u001b[0m\u001b[1;33m(\u001b[0m\u001b[0mstr\u001b[0m\u001b[1;33m(\u001b[0m\u001b[0mb\u001b[0m\u001b[1;33m,\u001b[0m \u001b[0mencoding\u001b[0m\u001b[1;33m=\u001b[0m\u001b[1;34m'ascii'\u001b[0m\u001b[1;33m,\u001b[0m \u001b[0merrors\u001b[0m\u001b[1;33m=\u001b[0m\u001b[1;34m'strict'\u001b[0m\u001b[1;33m)\u001b[0m\u001b[1;33m)\u001b[0m\u001b[1;33m\u001b[0m\u001b[1;33m\u001b[0m\u001b[0m\n\u001b[0m",
      "\u001b[1;31mUnicodeDecodeError\u001b[0m: 'ascii' codec can't decode byte 0xc3 in position 4: ordinal not in range(128)"
     ]
    }
   ],
   "source": [
    "# declare a byte object\n",
    "b = bytes('pythön', encoding='utf-8')\n",
    "\n",
    "# convert a utf-8 byte object to ascii with errors ignored\n",
    "print(str(b, encoding='ascii', errors='ignore'))\n",
    "\n",
    "# convert a utf-8 byte object to ascii with strict error\n",
    "print(str(b, encoding='ascii', errors='strict'))"
   ]
  },
  {
   "cell_type": "code",
   "execution_count": 10,
   "id": "7eed0f41",
   "metadata": {},
   "outputs": [
    {
     "name": "stdout",
     "output_type": "stream",
     "text": [
      "a : 0000020\n",
      "\n",
      "\n",
      "a : 020"
     ]
    }
   ],
   "source": [
    "#Variable declaration\n",
    "a = 20\n",
    "print(\"a : \", a, sep='00000', end='\\n\\n\\n')\n",
    "print(\"a : \", a, sep='0', end='')"
   ]
  },
  {
   "cell_type": "code",
   "execution_count": 11,
   "id": "38a1617f",
   "metadata": {},
   "outputs": [
    {
     "name": "stdout",
     "output_type": "stream",
     "text": [
      "Python for Chemistry\n",
      "a = 10.008\n",
      "a =  10.008 = b\n"
     ]
    }
   ],
   "source": [
    "print(\"Python for Chemistry\")\n",
    "a = 10.008\n",
    "\n",
    "#Two objects are passed\n",
    "print(\"a =\", a)\n",
    "b = a\n",
    "\n",
    "#Three objects are passed\n",
    "print(\"a = \",a,\"= b\")"
   ]
  },
  {
   "cell_type": "code",
   "execution_count": 13,
   "id": "b2aba6b5",
   "metadata": {},
   "outputs": [],
   "source": [
    "My_File = open('python.txt', 'w')\n",
    "print(\"The chemical data of interest typically includes information on small molecule formulas, structures, properties, spectra, and activities.\", \n",
    "      file = My_File)\n",
    "My_File.close()"
   ]
  },
  {
   "cell_type": "code",
   "execution_count": 15,
   "id": "8b884d00",
   "metadata": {},
   "outputs": [
    {
     "name": "stdout",
     "output_type": "stream",
     "text": [
      "The chemical data of interest typically includes information on small molecule formulas, structures, properties, spectra, and activities.\n",
      "\n"
     ]
    }
   ],
   "source": [
    "My_File = open('python.txt','r')\n",
    "print(My_File.read())"
   ]
  },
  {
   "cell_type": "code",
   "execution_count": null,
   "id": "69258fec",
   "metadata": {},
   "outputs": [],
   "source": []
  }
 ],
 "metadata": {
  "kernelspec": {
   "display_name": "Python [conda env:my-rdkit-env] *",
   "language": "python",
   "name": "conda-env-my-rdkit-env-py"
  },
  "language_info": {
   "codemirror_mode": {
    "name": "ipython",
    "version": 3
   },
   "file_extension": ".py",
   "mimetype": "text/x-python",
   "name": "python",
   "nbconvert_exporter": "python",
   "pygments_lexer": "ipython3",
   "version": "3.7.13"
  }
 },
 "nbformat": 4,
 "nbformat_minor": 5
}
