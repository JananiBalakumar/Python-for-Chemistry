{
 "cells": [
  {
   "cell_type": "markdown",
   "id": "2f545031",
   "metadata": {},
   "source": [
    "# User defined functions"
   ]
  },
  {
   "cell_type": "markdown",
   "id": "b5a299df",
   "metadata": {},
   "source": [
    "### Function Definition"
   ]
  },
  {
   "cell_type": "code",
   "execution_count": 1,
   "id": "fc53d6e6",
   "metadata": {},
   "outputs": [],
   "source": [
    "def Element(name,number):\n",
    "    '''\n",
    "    This is a function to print the \n",
    "    element name and its atomic number\n",
    "    '''\n",
    "    print(\"The Element name is \"+ name + \n",
    "          \"and its atomic number is \", number)"
   ]
  },
  {
   "cell_type": "markdown",
   "id": "e54147b6",
   "metadata": {},
   "source": [
    "### Calling a function"
   ]
  },
  {
   "cell_type": "code",
   "execution_count": 7,
   "id": "6f04a874",
   "metadata": {},
   "outputs": [
    {
     "name": "stdout",
     "output_type": "stream",
     "text": [
      "The Element name is Tin and its atomic number is  50\n"
     ]
    }
   ],
   "source": [
    "#function definition\n",
    "def Element(name,number):\n",
    "    '''\n",
    "    This is a function to print the \n",
    "    element name and its atomic number\n",
    "    '''\n",
    "    print(\"The Element name is \"+ name + \n",
    "          \" and its atomic number is \", number)\n",
    "#Calling the function\n",
    "    Element(\"Tin\",\"50\")"
   ]
  },
  {
   "cell_type": "code",
   "execution_count": 13,
   "id": "4f95e02b",
   "metadata": {},
   "outputs": [
    {
     "ename": "NameError",
     "evalue": "name 'Element1' is not defined",
     "output_type": "error",
     "traceback": [
      "\u001b[1;31m---------------------------------------------------------------------------\u001b[0m",
      "\u001b[1;31mNameError\u001b[0m                                 Traceback (most recent call last)",
      "\u001b[1;32m~\\AppData\\Local\\Temp\\ipykernel_19720\\81468564.py\u001b[0m in \u001b[0;36m<module>\u001b[1;34m\u001b[0m\n\u001b[0;32m      1\u001b[0m \u001b[1;31m#Calling the function\u001b[0m\u001b[1;33m\u001b[0m\u001b[1;33m\u001b[0m\u001b[1;33m\u001b[0m\u001b[0m\n\u001b[1;32m----> 2\u001b[1;33m \u001b[0mElement1\u001b[0m\u001b[1;33m(\u001b[0m\u001b[1;34m\"Calcium\"\u001b[0m\u001b[1;33m,\u001b[0m\u001b[1;34m\"20\"\u001b[0m\u001b[1;33m)\u001b[0m\u001b[1;33m\u001b[0m\u001b[1;33m\u001b[0m\u001b[0m\n\u001b[0m\u001b[0;32m      3\u001b[0m \u001b[1;33m\u001b[0m\u001b[0m\n\u001b[0;32m      4\u001b[0m \u001b[1;31m#function definition\u001b[0m\u001b[1;33m\u001b[0m\u001b[1;33m\u001b[0m\u001b[1;33m\u001b[0m\u001b[0m\n\u001b[0;32m      5\u001b[0m \u001b[1;32mdef\u001b[0m \u001b[0mElement1\u001b[0m\u001b[1;33m(\u001b[0m\u001b[0mname\u001b[0m\u001b[1;33m,\u001b[0m\u001b[0mnumber\u001b[0m\u001b[1;33m)\u001b[0m\u001b[1;33m:\u001b[0m\u001b[1;33m\u001b[0m\u001b[1;33m\u001b[0m\u001b[0m\n",
      "\u001b[1;31mNameError\u001b[0m: name 'Element1' is not defined"
     ]
    }
   ],
   "source": [
    "#Calling the function\n",
    "Element1(\"Calcium\",\"20\")\n",
    "\n",
    "#function definition\n",
    "def Element1(name,number):\n",
    "    '''\n",
    "    This is a function to print the \n",
    "    element name and its atomic number\n",
    "    '''\n",
    "    print(\"The Element name is \"+ name + \n",
    "          \" and its atomic number is \", number)"
   ]
  },
  {
   "cell_type": "markdown",
   "id": "a483109f",
   "metadata": {},
   "source": [
    "### Docstring"
   ]
  },
  {
   "cell_type": "code",
   "execution_count": 17,
   "id": "1979ab36",
   "metadata": {},
   "outputs": [
    {
     "name": "stdout",
     "output_type": "stream",
     "text": [
      "This is a function Element\n"
     ]
    }
   ],
   "source": [
    "def Element(name,number):\n",
    "    '''This is a function Element'''\n",
    "    print(\"The Element name is \"+ name + \n",
    "          \"and its atomic number is \", number)\n",
    "print(Element.__doc__)"
   ]
  },
  {
   "cell_type": "code",
   "execution_count": 18,
   "id": "3b36c57e",
   "metadata": {},
   "outputs": [
    {
     "name": "stdout",
     "output_type": "stream",
     "text": [
      "\n",
      "    This is a function to print the \n",
      "    element name and its atomic number\n",
      "    \n"
     ]
    }
   ],
   "source": [
    "def Element(name,number):\n",
    "    \"\"\"\n",
    "    This is a function to print the \n",
    "    element name and its atomic number\n",
    "    \"\"\"\n",
    "    print(\"The Element name is \"+ name + \n",
    "          \"and its atomic number is \", number)\n",
    "print(Element.__doc__)"
   ]
  },
  {
   "cell_type": "code",
   "execution_count": 20,
   "id": "5134fc01",
   "metadata": {},
   "outputs": [
    {
     "name": "stdout",
     "output_type": "stream",
     "text": [
      "The element name is Helium\n"
     ]
    }
   ],
   "source": [
    "def Element(name):\n",
    "    '''This is a function \n",
    "    to print the element name \n",
    "    and its atomic number'''\n",
    "    print(\"The element name is \"+ name)\n",
    "Element(\"Helium\")"
   ]
  },
  {
   "cell_type": "markdown",
   "id": "c81161f4",
   "metadata": {},
   "source": [
    "### Default Arguments"
   ]
  },
  {
   "cell_type": "code",
   "execution_count": 4,
   "id": "abf11529",
   "metadata": {},
   "outputs": [
    {
     "name": "stdout",
     "output_type": "stream",
     "text": [
      "Element Name :  Gallium\n",
      "Atomic Number :  31\n",
      "\n",
      "\n",
      "Element Name :  Germanium\n",
      "Atomic Number :  32\n",
      "\n",
      "\n",
      "Element Name :  Arsenic\n",
      "Atomic Number :  33\n",
      "\n",
      "\n"
     ]
    }
   ],
   "source": [
    "# Function definition \n",
    "def Element( name = \"Arsenic\", num = 31 ):\n",
    "    \"This prints a passed info into this function\"\n",
    "    print (\"Element Name : \", name)\n",
    "    print (\"Atomic Number : \", num)\n",
    "    print(\"\\n\")\n",
    "    return;\n",
    "\n",
    "# function call with arguments\n",
    "Element( name=\"Gallium\" )\n",
    "Element( num=32, name=\"Germanium\" )\n",
    "Element(num = 33)"
   ]
  },
  {
   "cell_type": "markdown",
   "id": "72bd83c6",
   "metadata": {},
   "source": [
    "### Keyword Arguments"
   ]
  },
  {
   "cell_type": "code",
   "execution_count": 5,
   "id": "88cf8085",
   "metadata": {},
   "outputs": [
    {
     "name": "stdout",
     "output_type": "stream",
     "text": [
      "Element Name :  Germanium\n",
      "Atomic Number :  32\n",
      "\n",
      "\n"
     ]
    }
   ],
   "source": [
    "# Function definition \n",
    "def Element( name = \"Arsenic\", num = 31 ):\n",
    "    \"This prints a passed info into this function\"\n",
    "    print (\"Element Name : \", name)\n",
    "    print (\"Atomic Number : \", num)\n",
    "    print(\"\\n\")\n",
    "    return;\n",
    "\n",
    "# function call with arguments\n",
    "Element( num=32, name=\"Germanium\" )"
   ]
  },
  {
   "cell_type": "code",
   "execution_count": 6,
   "id": "6f95a467",
   "metadata": {},
   "outputs": [
    {
     "name": "stdout",
     "output_type": "stream",
     "text": [
      "Element Name :  32\n",
      "Atomic Number :  Germanium\n",
      "\n",
      "\n"
     ]
    }
   ],
   "source": [
    "# Function definition \n",
    "def Element( name = \"Arsenic\", num = 31 ):\n",
    "    \"This prints a passed info into this function\"\n",
    "    print (\"Element Name : \", name)\n",
    "    print (\"Atomic Number : \", num)\n",
    "    print(\"\\n\")\n",
    "    return;\n",
    "\n",
    "# function call with arguments\n",
    "Element(32,\"Germanium\" )"
   ]
  },
  {
   "cell_type": "markdown",
   "id": "cff43ac9",
   "metadata": {},
   "source": [
    "### Required Arguments"
   ]
  },
  {
   "cell_type": "code",
   "execution_count": 8,
   "id": "fabf40b8",
   "metadata": {},
   "outputs": [
    {
     "ename": "TypeError",
     "evalue": "Element() missing 1 required positional argument: 'num'",
     "output_type": "error",
     "traceback": [
      "\u001b[1;31m---------------------------------------------------------------------------\u001b[0m",
      "\u001b[1;31mTypeError\u001b[0m                                 Traceback (most recent call last)",
      "\u001b[1;32m~\\AppData\\Local\\Temp\\ipykernel_4792\\2462213263.py\u001b[0m in \u001b[0;36m<module>\u001b[1;34m\u001b[0m\n\u001b[0;32m      7\u001b[0m \u001b[1;33m\u001b[0m\u001b[0m\n\u001b[0;32m      8\u001b[0m \u001b[1;31m# function call with arguments\u001b[0m\u001b[1;33m\u001b[0m\u001b[1;33m\u001b[0m\u001b[1;33m\u001b[0m\u001b[0m\n\u001b[1;32m----> 9\u001b[1;33m \u001b[0mElement\u001b[0m\u001b[1;33m(\u001b[0m\u001b[1;34m\"Helium\"\u001b[0m \u001b[1;33m)\u001b[0m\u001b[1;33m\u001b[0m\u001b[1;33m\u001b[0m\u001b[0m\n\u001b[0m",
      "\u001b[1;31mTypeError\u001b[0m: Element() missing 1 required positional argument: 'num'"
     ]
    }
   ],
   "source": [
    "# Function definition \n",
    "def Element(name , num):\n",
    "    \"This prints a passed info into this function\"\n",
    "    print (\"Element Name : \", name)\n",
    "    print (\"Atomic Number : \", num)\n",
    "    return;\n",
    "\n",
    "# function call with arguments\n",
    "Element(\"Helium\" )"
   ]
  },
  {
   "cell_type": "markdown",
   "id": "b2b41079",
   "metadata": {},
   "source": [
    "### Vaiable length arguments"
   ]
  },
  {
   "cell_type": "code",
   "execution_count": 12,
   "id": "09709f3f",
   "metadata": {},
   "outputs": [
    {
     "name": "stdout",
     "output_type": "stream",
     "text": [
      "Element Name :  ('Helium',)\n",
      "Element Name :  ('Helium', 'Lithium')\n"
     ]
    }
   ],
   "source": [
    "# Function definition \n",
    "def Element(*name):\n",
    "    \"This prints a passed info into this function\"\n",
    "    print (\"Element Name : \", name)\n",
    "    return;\n",
    "\n",
    "# function call with arguments\n",
    "Element(\"Helium\" )\n",
    "Element(\"Helium\", \"Lithium\")"
   ]
  },
  {
   "cell_type": "code",
   "execution_count": 15,
   "id": "61a88af3",
   "metadata": {},
   "outputs": [
    {
     "name": "stdout",
     "output_type": "stream",
     "text": [
      "x = Helium\n",
      "y = Lithium\n"
     ]
    }
   ],
   "source": [
    "# Function definition \n",
    "def Element(**kwargs):\n",
    "    for a,b in kwargs.items():\n",
    "        \"This prints a passed info into this function\"\n",
    "        print (a,\"=\", b)\n",
    "    \n",
    "# function call with arguments\n",
    "Element(x=\"Helium\", y = \"Lithium\" )"
   ]
  },
  {
   "cell_type": "code",
   "execution_count": 17,
   "id": "d904fd8e",
   "metadata": {},
   "outputs": [
    {
     "ename": "TypeError",
     "evalue": "Element() takes 0 positional arguments but 2 were given",
     "output_type": "error",
     "traceback": [
      "\u001b[1;31m---------------------------------------------------------------------------\u001b[0m",
      "\u001b[1;31mTypeError\u001b[0m                                 Traceback (most recent call last)",
      "\u001b[1;32m~\\AppData\\Local\\Temp\\ipykernel_4792\\3381783793.py\u001b[0m in \u001b[0;36m<module>\u001b[1;34m\u001b[0m\n\u001b[0;32m      6\u001b[0m \u001b[1;33m\u001b[0m\u001b[0m\n\u001b[0;32m      7\u001b[0m \u001b[1;31m# function call with arguments\u001b[0m\u001b[1;33m\u001b[0m\u001b[1;33m\u001b[0m\u001b[1;33m\u001b[0m\u001b[0m\n\u001b[1;32m----> 8\u001b[1;33m \u001b[0mElement\u001b[0m\u001b[1;33m(\u001b[0m\u001b[1;34m\"Helium\"\u001b[0m\u001b[1;33m,\u001b[0m \u001b[1;34m\"Lithium\"\u001b[0m \u001b[1;33m)\u001b[0m\u001b[1;33m\u001b[0m\u001b[1;33m\u001b[0m\u001b[0m\n\u001b[0m",
      "\u001b[1;31mTypeError\u001b[0m: Element() takes 0 positional arguments but 2 were given"
     ]
    }
   ],
   "source": [
    "# Function definition \n",
    "def Element(**kwargs):\n",
    "    for a,b in kwargs.items():\n",
    "        \"This prints a passed info into this function\"\n",
    "        print (a,\"=\", b)\n",
    "    \n",
    "# function call with arguments\n",
    "Element(\"Helium\", \"Lithium\" )"
   ]
  },
  {
   "cell_type": "markdown",
   "id": "f7bd644e",
   "metadata": {},
   "source": [
    "### Anonymous Function"
   ]
  },
  {
   "cell_type": "code",
   "execution_count": 3,
   "id": "1814f718",
   "metadata": {},
   "outputs": [
    {
     "name": "stdout",
     "output_type": "stream",
     "text": [
      "Total number of atoms in Na2CO3 :  6\n",
      "Total number of atoms in CaCO3 :  5\n"
     ]
    }
   ],
   "source": [
    "# Function definition \n",
    "sum = lambda arg1, arg2, arg3: arg1 + arg2 + arg3;\n",
    "\n",
    "# function call\n",
    "print (\"Total number of atoms in Na2CO3 : \", sum( 2,1,3))\n",
    "print (\"Total number of atoms in CaCO3 : \", sum( 1,1,3 ))"
   ]
  },
  {
   "cell_type": "markdown",
   "id": "4834a17f",
   "metadata": {},
   "source": [
    "### Local and global variables"
   ]
  },
  {
   "cell_type": "code",
   "execution_count": 2,
   "id": "624fc099",
   "metadata": {},
   "outputs": [
    {
     "name": "stdout",
     "output_type": "stream",
     "text": [
      "----Local Variable----\n",
      "Total number of atoms in Na2CO3 :  6\n",
      "----Global Variable----\n",
      "Total number of atoms in Na2CO3 :  0\n"
     ]
    }
   ],
   "source": [
    "# This is global variable\n",
    "total = 0; \n",
    "# Function definition \n",
    "def sum( arg1, arg2, arg3 ):\n",
    "    # Add the arguments and return\"\n",
    "    # Here total is local variable\n",
    "    total = arg1 + arg2 + arg3; \n",
    "    print(\"----Local Variable----\")\n",
    "    print (\"Total number of atoms in Na2CO3 : \", total)\n",
    "    return total;\n",
    "\n",
    "# function call\n",
    "sum( 2,1,3 );\n",
    "print (\"----Global Variable----\")\n",
    "print (\"Total number of atoms in Na2CO3 : \", total)"
   ]
  },
  {
   "cell_type": "markdown",
   "id": "16d8484c",
   "metadata": {},
   "source": [
    "### return statement"
   ]
  },
  {
   "cell_type": "code",
   "execution_count": 1,
   "id": "09875ee4",
   "metadata": {},
   "outputs": [
    {
     "name": "stdout",
     "output_type": "stream",
     "text": [
      "Total number of atoms in CaCO3 :  5\n"
     ]
    }
   ],
   "source": [
    "# Function definition \n",
    "def sum( arg1, arg2, arg3 ):\n",
    "    # Add the arguments and return\"\n",
    "    total = arg1 + arg2 + arg3; \n",
    "    print (\"Total number of atoms in CaCO3 : \", total)\n",
    "    return total;\n",
    "\n",
    "# function call\n",
    "sum( 1,1,3 );"
   ]
  },
  {
   "cell_type": "markdown",
   "id": "12f8762a",
   "metadata": {},
   "source": [
    "### recursion function"
   ]
  },
  {
   "cell_type": "code",
   "execution_count": 34,
   "id": "b5ac467d",
   "metadata": {},
   "outputs": [
    {
     "name": "stdout",
     "output_type": "stream",
     "text": [
      "----Atomic Numbers----\n",
      "1\n",
      "2\n",
      "3\n",
      "4\n",
      "5\n",
      "6\n",
      "7\n",
      "8\n",
      "9\n",
      "10\n"
     ]
    }
   ],
   "source": [
    "# Function definition \n",
    "def Atomic(n):\n",
    "    print(n)\n",
    "    if n == 10:\n",
    "        #Recursion Ends\n",
    "        return\n",
    "    else:\n",
    "        #Recursion Call\n",
    "        Atomic(n+1)\n",
    "print(\"----Atomic Numbers----\")\n",
    "#Function call\n",
    "Atomic(1)"
   ]
  },
  {
   "cell_type": "code",
   "execution_count": 37,
   "id": "aeee628a",
   "metadata": {},
   "outputs": [
    {
     "name": "stdout",
     "output_type": "stream",
     "text": [
      "***Atomic Number***\n",
      "10\n",
      "9\n",
      "8\n",
      "7\n",
      "6\n",
      "5\n",
      "4\n",
      "3\n",
      "2\n",
      "1\n"
     ]
    }
   ],
   "source": [
    "#function definition\n",
    "def Atomic(n):\n",
    "    print(n)\n",
    "    if n== 1:\n",
    "        return\n",
    "    else:\n",
    "        Atomic(n-1)\n",
    "print(\"***Atomic Number***\")\n",
    "#Function Call\n",
    "Atomic(10)"
   ]
  },
  {
   "cell_type": "code",
   "execution_count": null,
   "id": "6232b923",
   "metadata": {},
   "outputs": [],
   "source": []
  }
 ],
 "metadata": {
  "kernelspec": {
   "display_name": "Python 3 (ipykernel)",
   "language": "python",
   "name": "python3"
  },
  "language_info": {
   "codemirror_mode": {
    "name": "ipython",
    "version": 3
   },
   "file_extension": ".py",
   "mimetype": "text/x-python",
   "name": "python",
   "nbconvert_exporter": "python",
   "pygments_lexer": "ipython3",
   "version": "3.7.13"
  }
 },
 "nbformat": 4,
 "nbformat_minor": 5
}
