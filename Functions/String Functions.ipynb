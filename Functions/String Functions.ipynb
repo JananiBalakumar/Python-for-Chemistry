{
 "cells": [
  {
   "cell_type": "code",
   "execution_count": 1,
   "id": "32b4829e",
   "metadata": {},
   "outputs": [
    {
     "name": "stdout",
     "output_type": "stream",
     "text": [
      "Erbium is a chemical element with symbol er.\n"
     ]
    }
   ],
   "source": [
    "text = \"erbium is a chemical element with symbol Er.\"\n",
    "\n",
    "# capitalize the first character \n",
    "cstring = text.capitalize()\n",
    "\n",
    "print(cstring)"
   ]
  },
  {
   "cell_type": "code",
   "execution_count": 2,
   "id": "488bd1ef",
   "metadata": {
    "scrolled": true
   },
   "outputs": [
    {
     "name": "stdout",
     "output_type": "stream",
     "text": [
      "Before capitalize(): the atomic number of Erbium is 68.\n",
      "After capitalize(): The atomic number of erbium is 68.\n"
     ]
    }
   ],
   "source": [
    "tex = \"the atomic number of Erbium is 68.\"\n",
    "\n",
    "# capitalize the first character \n",
    "cstring = tex.capitalize()\n",
    "\n",
    "# the sentence string is not modified \n",
    "print('Before capitalize():',tex)\n",
    "\n",
    "print('After capitalize():', cstring)"
   ]
  },
  {
   "cell_type": "code",
   "execution_count": 7,
   "id": "40222b21",
   "metadata": {},
   "outputs": [
    {
     "name": "stdout",
     "output_type": "stream",
     "text": [
      "beryllium is an alkaline earth metal\n"
     ]
    }
   ],
   "source": [
    "text = \"BERYLLIUM is an Alkaline Earth Metal\"\n",
    "\n",
    "# converts text to lowercase\n",
    "print(text.casefold())"
   ]
  },
  {
   "cell_type": "code",
   "execution_count": 8,
   "id": "0a17a3bd",
   "metadata": {},
   "outputs": [
    {
     "name": "stdout",
     "output_type": "stream",
     "text": [
      "atomic number of sseryllium is 4.\n"
     ]
    }
   ],
   "source": [
    "text = \"Atomic number of ßeryllium is 4.\"\n",
    "\n",
    "# converts text to lowercase\n",
    "print(text.casefold())"
   ]
  },
  {
   "cell_type": "code",
   "execution_count": 13,
   "id": "0e236b11",
   "metadata": {},
   "outputs": [
    {
     "name": "stdout",
     "output_type": "stream",
     "text": [
      "*****Hydrogen is a nonmetal element*****\n"
     ]
    }
   ],
   "source": [
    "text = \"Hydrogen is a nonmetal element\"\n",
    "\n",
    "# returns the centered padded string of length 40 \n",
    "new_string = text.center(40, '*')\n",
    "\n",
    "print(new_string)"
   ]
  },
  {
   "cell_type": "code",
   "execution_count": 18,
   "id": "5dea98b2",
   "metadata": {},
   "outputs": [
    {
     "name": "stdout",
     "output_type": "stream",
     "text": [
      "Hydrogen is a nonmetal element, Hydrogen atomic number is 8\n"
     ]
    }
   ],
   "source": [
    "text = \"Hydrogen is a nonmetal element, Hydrogen atomic number is 8\"\n",
    "\n",
    "# returns the centered padded string of length 40 \n",
    "new_string = text.center(35)\n",
    "\n",
    "print(new_string)"
   ]
  },
  {
   "cell_type": "code",
   "execution_count": 1,
   "id": "f3f8c426",
   "metadata": {},
   "outputs": [
    {
     "name": "stdout",
     "output_type": "stream",
     "text": [
      "2\n"
     ]
    }
   ],
   "source": [
    "# string in which occurrence will be checked\n",
    "text = \"Hydrogen is a nonmetal element,Hydrogen atomic number is 1\" \n",
    "  \n",
    "# counts the number of times substring occurs in \n",
    "# the given string and returns an integer\n",
    "print(text.count(\"is\"))"
   ]
  },
  {
   "cell_type": "code",
   "execution_count": 2,
   "id": "d207b0cc",
   "metadata": {},
   "outputs": [
    {
     "name": "stdout",
     "output_type": "stream",
     "text": [
      "7\n"
     ]
    }
   ],
   "source": [
    "# string in which occurrence will be checked\n",
    "text = \"Hydrogen is a nonmetal element,Hydrogen atomic number is 1\" \n",
    "  \n",
    "# counts the number of times substring occurs in \n",
    "# the given string and returns an integer\n",
    "print(text.count(\"e\"))"
   ]
  },
  {
   "cell_type": "code",
   "execution_count": 24,
   "id": "478710b8",
   "metadata": {},
   "outputs": [
    {
     "name": "stdout",
     "output_type": "stream",
     "text": [
      "The count is: 3\n"
     ]
    }
   ],
   "source": [
    "# define string\n",
    "string = \"Hydrogen is a nonmetal element,Hydrogen atomic number is 1\"\n",
    "substring = \"a\"\n",
    "\n",
    "# count after first 'a' and before the last 'a'\n",
    "count = string.count(substring, 10, 45)\n",
    "\n",
    "# print count\n",
    "print(\"The count is:\", count)"
   ]
  },
  {
   "cell_type": "code",
   "execution_count": 25,
   "id": "9dcae95c",
   "metadata": {},
   "outputs": [
    {
     "name": "stdout",
     "output_type": "stream",
     "text": [
      "b'Python Programming'\n"
     ]
    }
   ],
   "source": [
    "title = 'Python Programming'\n",
    "\n",
    "# change encoding to utf-8\n",
    "print(title.encode())\n",
    "\n",
    "# Output: b'Python Programming'"
   ]
  },
  {
   "cell_type": "code",
   "execution_count": 28,
   "id": "06e149f3",
   "metadata": {},
   "outputs": [
    {
     "name": "stdout",
     "output_type": "stream",
     "text": [
      "The string is: Pythön for ChemĬstry\n",
      "The encoded version is: b'Pyth\\xc3\\xb6n for Chem\\xc4\\xacstry'\n"
     ]
    }
   ],
   "source": [
    "# unicode string\n",
    "string = 'Pythön for ChemĬstry'\n",
    "\n",
    "# print string\n",
    "print('The string is:', string)\n",
    "\n",
    "# default encoding to utf-8\n",
    "string_utf = string.encode()\n",
    "\n",
    "# print result\n",
    "print('The encoded version is:', string_utf)"
   ]
  },
  {
   "cell_type": "code",
   "execution_count": 30,
   "id": "418f9cbc",
   "metadata": {},
   "outputs": [
    {
     "name": "stdout",
     "output_type": "stream",
     "text": [
      "The string is: pythön for ChemĬstry\n",
      "The encoded version (with ignore) is: b'pythn for Chemstry'\n",
      "The encoded version (with replace) is: b'pyth?n for Chem?stry'\n"
     ]
    }
   ],
   "source": [
    "# unicode string\n",
    "string = 'pythön for ChemĬstry'\n",
    "\n",
    "# print string\n",
    "print('The string is:', string)\n",
    "\n",
    "# ignore error\n",
    "print('The encoded version (with ignore) is:', \n",
    "      string.encode(\"ascii\", \"ignore\"))\n",
    "\n",
    "# replace error\n",
    "print('The encoded version (with replace) is:', \n",
    "      string.encode(\"ascii\", \"replace\"))"
   ]
  },
  {
   "cell_type": "code",
   "execution_count": 31,
   "id": "8d2eeb9b",
   "metadata": {},
   "outputs": [
    {
     "name": "stdout",
     "output_type": "stream",
     "text": [
      "The available encodings are : \n",
      "dict_keys(['646', 'ansi_x3.4_1968', 'ansi_x3_4_1968', 'ansi_x3.4_1986', 'cp367', 'csascii', 'ibm367', 'iso646_us', 'iso_646.irv_1991', 'iso_ir_6', 'us', 'us_ascii', 'base64', 'base_64', 'big5_tw', 'csbig5', 'big5_hkscs', 'hkscs', 'bz2', '037', 'csibm037', 'ebcdic_cp_ca', 'ebcdic_cp_nl', 'ebcdic_cp_us', 'ebcdic_cp_wt', 'ibm037', 'ibm039', '1026', 'csibm1026', 'ibm1026', '1125', 'ibm1125', 'cp866u', 'ruscii', '1140', 'ibm1140', '1250', 'windows_1250', '1251', 'windows_1251', '1252', 'windows_1252', '1253', 'windows_1253', '1254', 'windows_1254', '1255', 'windows_1255', '1256', 'windows_1256', '1257', 'windows_1257', '1258', 'windows_1258', '273', 'ibm273', 'csibm273', '424', 'csibm424', 'ebcdic_cp_he', 'ibm424', '437', 'cspc8codepage437', 'ibm437', '500', 'csibm500', 'ebcdic_cp_be', 'ebcdic_cp_ch', 'ibm500', '775', 'cspc775baltic', 'ibm775', '850', 'cspc850multilingual', 'ibm850', '852', 'cspcp852', 'ibm852', '855', 'csibm855', 'ibm855', '857', 'csibm857', 'ibm857', '858', 'csibm858', 'ibm858', '860', 'csibm860', 'ibm860', '861', 'cp_is', 'csibm861', 'ibm861', '862', 'cspc862latinhebrew', 'ibm862', '863', 'csibm863', 'ibm863', '864', 'csibm864', 'ibm864', '865', 'csibm865', 'ibm865', '866', 'csibm866', 'ibm866', '869', 'cp_gr', 'csibm869', 'ibm869', '932', 'ms932', 'mskanji', 'ms_kanji', '949', 'ms949', 'uhc', '950', 'ms950', 'jisx0213', 'eucjis2004', 'euc_jis2004', 'eucjisx0213', 'eucjp', 'ujis', 'u_jis', 'euckr', 'korean', 'ksc5601', 'ks_c_5601', 'ks_c_5601_1987', 'ksx1001', 'ks_x_1001', 'gb18030_2000', 'chinese', 'csiso58gb231280', 'euc_cn', 'euccn', 'eucgb2312_cn', 'gb2312_1980', 'gb2312_80', 'iso_ir_58', '936', 'cp936', 'ms936', 'hex', 'roman8', 'r8', 'csHPRoman8', 'hzgb', 'hz_gb', 'hz_gb_2312', 'csiso2022jp', 'iso2022jp', 'iso_2022_jp', 'iso2022jp_1', 'iso_2022_jp_1', 'iso2022jp_2', 'iso_2022_jp_2', 'iso_2022_jp_2004', 'iso2022jp_2004', 'iso2022jp_3', 'iso_2022_jp_3', 'iso2022jp_ext', 'iso_2022_jp_ext', 'csiso2022kr', 'iso2022kr', 'iso_2022_kr', 'csisolatin6', 'iso_8859_10', 'iso_8859_10_1992', 'iso_ir_157', 'l6', 'latin6', 'thai', 'iso_8859_11', 'iso_8859_11_2001', 'iso_8859_13', 'l7', 'latin7', 'iso_8859_14', 'iso_8859_14_1998', 'iso_celtic', 'iso_ir_199', 'l8', 'latin8', 'iso_8859_15', 'l9', 'latin9', 'iso_8859_16', 'iso_8859_16_2001', 'iso_ir_226', 'l10', 'latin10', 'csisolatin2', 'iso_8859_2', 'iso_8859_2_1987', 'iso_ir_101', 'l2', 'latin2', 'csisolatin3', 'iso_8859_3', 'iso_8859_3_1988', 'iso_ir_109', 'l3', 'latin3', 'csisolatin4', 'iso_8859_4', 'iso_8859_4_1988', 'iso_ir_110', 'l4', 'latin4', 'csisolatincyrillic', 'cyrillic', 'iso_8859_5', 'iso_8859_5_1988', 'iso_ir_144', 'arabic', 'asmo_708', 'csisolatinarabic', 'ecma_114', 'iso_8859_6', 'iso_8859_6_1987', 'iso_ir_127', 'csisolatingreek', 'ecma_118', 'elot_928', 'greek', 'greek8', 'iso_8859_7', 'iso_8859_7_1987', 'iso_ir_126', 'csisolatinhebrew', 'hebrew', 'iso_8859_8', 'iso_8859_8_1988', 'iso_ir_138', 'csisolatin5', 'iso_8859_9', 'iso_8859_9_1989', 'iso_ir_148', 'l5', 'latin5', 'cp1361', 'ms1361', 'cskoi8r', 'kz_1048', 'rk1048', 'strk1048_2002', '8859', 'cp819', 'csisolatin1', 'ibm819', 'iso8859', 'iso8859_1', 'iso_8859_1', 'iso_8859_1_1987', 'iso_ir_100', 'l1', 'latin', 'latin1', 'maccyrillic', 'macgreek', 'maciceland', 'maccentraleurope', 'maclatin2', 'macintosh', 'macroman', 'macturkish', 'ansi', 'dbcs', 'csptcp154', 'pt154', 'cp154', 'cyrillic_asian', 'quopri', 'quoted_printable', 'quotedprintable', 'rot13', 'csshiftjis', 'shiftjis', 'sjis', 's_jis', 'shiftjis2004', 'sjis_2004', 's_jis_2004', 'shiftjisx0213', 'sjisx0213', 's_jisx0213', 'tis260', 'tis620', 'tis_620_0', 'tis_620_2529_0', 'tis_620_2529_1', 'iso_ir_166', 'u16', 'utf16', 'unicodebigunmarked', 'utf_16be', 'unicodelittleunmarked', 'utf_16le', 'u32', 'utf32', 'utf_32be', 'utf_32le', 'u7', 'utf7', 'unicode_1_1_utf_7', 'u8', 'utf', 'utf8', 'utf8_ucs2', 'utf8_ucs4', 'uu', 'zip', 'zlib', 'x_mac_japanese', 'x_mac_korean', 'x_mac_simp_chinese', 'x_mac_trad_chinese'])\n"
     ]
    }
   ],
   "source": [
    "from encodings.aliases import aliases\n",
    " \n",
    "# Printing list available\n",
    "print(\"The available encodings are : \")\n",
    "print(aliases.keys())"
   ]
  },
  {
   "cell_type": "code",
   "execution_count": 32,
   "id": "a30100b0",
   "metadata": {},
   "outputs": [
    {
     "name": "stdout",
     "output_type": "stream",
     "text": [
      "False\n",
      "True\n",
      "True\n"
     ]
    }
   ],
   "source": [
    "text = \"Pyhton for Chemistry.\"\n",
    " \n",
    "# returns False\n",
    "result = text.endswith('for Chemistry')\n",
    "print (result)\n",
    " \n",
    "# returns True\n",
    "result = text.endswith('Chemistry.')\n",
    "print (result)\n",
    " \n",
    "# returns True\n",
    "result = text.endswith('for Chemistry.')\n",
    "print (result)"
   ]
  },
  {
   "cell_type": "code",
   "execution_count": 36,
   "id": "906d2c4c",
   "metadata": {},
   "outputs": [
    {
     "name": "stdout",
     "output_type": "stream",
     "text": [
      "True\n",
      "False\n",
      "True\n"
     ]
    }
   ],
   "source": [
    "text = \"Python for Chemistry.\"\n",
    " \n",
    "# start parameter: 11\n",
    "# Returns True\n",
    "result = text.endswith('Chemistry.', 11)\n",
    "print(result)\n",
    " \n",
    "# Both start and end is provided\n",
    "# start: 11, end: 20 \n",
    "# Returns False\n",
    "result = text.endswith('Chemistry', 11, 19)\n",
    "print(result)\n",
    " \n",
    "# returns True\n",
    "result = text.endswith('Chemistry', 11, 20)\n",
    "print(result)"
   ]
  },
  {
   "cell_type": "code",
   "execution_count": 37,
   "id": "8f747586",
   "metadata": {},
   "outputs": [
    {
     "name": "stdout",
     "output_type": "stream",
     "text": [
      "Python  for     Chemistry\n"
     ]
    }
   ],
   "source": [
    "str = 'Python\\tfor\\tChemistry'\n",
    "\n",
    "# no argument is passed\n",
    "# default tabsize is 8\n",
    "result = str.expandtabs()\n",
    "\n",
    "print(result)"
   ]
  },
  {
   "cell_type": "code",
   "execution_count": 38,
   "id": "967685bf",
   "metadata": {},
   "outputs": [
    {
     "name": "stdout",
     "output_type": "stream",
     "text": [
      "Original String: Python\tfor\tChemistry\n",
      "Tabsize 2: Python  for Chemistry\n",
      "Tabsize 3: Python   for   Chemistry\n",
      "Tabsize 4: Python  for Chemistry\n",
      "Tabsize 5: Python    for  Chemistry\n",
      "Tabsize 6: Python      for   Chemistry\n"
     ]
    }
   ],
   "source": [
    "str = 'Python\\tfor\\tChemistry'\n",
    "print('Original String:', str)\n",
    "\n",
    "# tabsize is set to 2\n",
    "print('Tabsize 2:', str.expandtabs(2))\n",
    "\n",
    "# tabsize is set to 3\n",
    "print('Tabsize 3:', str.expandtabs(3))\n",
    "\n",
    "# tabsize is set to 4\n",
    "print('Tabsize 4:', str.expandtabs(4))\n",
    "\n",
    "# tabsize is set to 5\n",
    "print('Tabsize 5:', str.expandtabs(5))\n",
    "\n",
    "# tabsize is set to 6\n",
    "print('Tabsize 6:', str.expandtabs(6))"
   ]
  },
  {
   "cell_type": "code",
   "execution_count": 3,
   "id": "f93fd1d7",
   "metadata": {},
   "outputs": [
    {
     "name": "stdout",
     "output_type": "stream",
     "text": [
      "Substring 'element' found at index: 21\n",
      "Substring 'and ' found at index: 29\n"
     ]
    }
   ],
   "source": [
    "word = 'Boron is a metalloid element and the atomic number is 5.'\n",
    " \n",
    "# returns first occurrence of Substring\n",
    "result = word.find('element')\n",
    "print(\"Substring 'element' found at index:\", result)\n",
    " \n",
    "result = word.find('and')\n",
    "print(\"Substring 'and ' found at index:\", result)"
   ]
  },
  {
   "cell_type": "code",
   "execution_count": 6,
   "id": "f716e1a6",
   "metadata": {},
   "outputs": [
    {
     "name": "stdout",
     "output_type": "stream",
     "text": [
      "The string contains given substring \n"
     ]
    }
   ],
   "source": [
    "# How to use find() in control statement\n",
    "word = 'Boron is a metalloid element'\n",
    "if word.find('Boron') != -1:\n",
    "    print(\"The string contains given substring \")\n",
    "else:\n",
    "    print(\"The string doesn't contains given substring\")"
   ]
  },
  {
   "cell_type": "code",
   "execution_count": 7,
   "id": "c208d874",
   "metadata": {},
   "outputs": [
    {
     "name": "stdout",
     "output_type": "stream",
     "text": [
      "The string doesn't contains given substring\n"
     ]
    }
   ],
   "source": [
    "# How to use find() in control statement\n",
    "word = 'Boron is a metalloid element'\n",
    "if word.find('6') != -1:\n",
    "    print(\"The string contains given substring \")\n",
    "else:\n",
    "    print(\"The string doesn't contains given substring\")"
   ]
  },
  {
   "cell_type": "code",
   "execution_count": 16,
   "id": "a73fdf1b",
   "metadata": {},
   "outputs": [
    {
     "name": "stdout",
     "output_type": "stream",
     "text": [
      "6\n",
      "-1\n",
      "9\n",
      "-1\n"
     ]
    }
   ],
   "source": [
    "word = 'Boron is a metalloid element'\n",
    " \n",
    "# Substring is searched in 'ron is a metalloid element'\n",
    "print(word.find('is', 2))\n",
    " \n",
    "# Substring is searched in 'lloid element'\n",
    "print(word.find('an', 15))\n",
    " \n",
    "# Substring is searched in 'is a metalloid e'\n",
    "print(word.find('a', 6, 20))\n",
    " \n",
    "# Substring is searched in 'n is a me'\n",
    "print(word.find('ele', 4, 11))"
   ]
  },
  {
   "cell_type": "code",
   "execution_count": 19,
   "id": "2392cdf7",
   "metadata": {},
   "outputs": [
    {
     "name": "stdout",
     "output_type": "stream",
     "text": [
      "Germanium is a metalloid element.\n",
      "Silicon is a metalloid element.\n",
      "The atomic number of silicon is 14 \n"
     ]
    }
   ],
   "source": [
    "# using format option in a simple string\n",
    "print(\"{} is a metalloid element.\"\n",
    "      .format(\"Germanium\"))\n",
    " \n",
    "# using format option for a\n",
    "# value stored in a variable\n",
    "str = \"Silicon is a {} element.\"\n",
    "print(str.format(\"metalloid\"))\n",
    " \n",
    "# formatting a string using a numeric constant\n",
    "print(\"The atomic number of silicon is {} \".format(14))"
   ]
  },
  {
   "cell_type": "code",
   "execution_count": 23,
   "id": "3e18b463",
   "metadata": {},
   "outputs": [
    {
     "name": "stdout",
     "output_type": "stream",
     "text": [
      "Potassium is a alkali metal element.\n",
      "Potassium is alkali metal and the atomic mass is 39.0983 \n",
      "Potassium is alkali metal and  the atomic number is 19\n"
     ]
    }
   ],
   "source": [
    "# Multiple placeholders in format() function\n",
    "my_string = \"{} is a {} element.\"\n",
    "print(my_string.format(\"Potassium\", \"alkali metal\"))\n",
    " \n",
    "# different datatypes can be used in formatting\n",
    "print(\"{} is {} metal and the {} mass is {} \"\n",
    "      .format(\"Potassium\",\"alkali\",\"atomic\", 39.0983))\n",
    " \n",
    "# The values passed as parameters\n",
    "# are replaced in order of their entry\n",
    "print(\"Potassium is {} {} {} {}\"\n",
    "      .format(\"alkali metal\", \"and \",\n",
    "              \"the atomic number is\", 19))"
   ]
  },
  {
   "cell_type": "code",
   "execution_count": 24,
   "id": "eebab08f",
   "metadata": {},
   "outputs": [
    {
     "name": "stdout",
     "output_type": "stream",
     "text": [
      "Substring 'is a' in index': 10\n"
     ]
    },
    {
     "ename": "ValueError",
     "evalue": "substring not found",
     "output_type": "error",
     "traceback": [
      "\u001b[1;31m---------------------------------------------------------------------------\u001b[0m",
      "\u001b[1;31mValueError\u001b[0m                                Traceback (most recent call last)",
      "\u001b[1;32m~\\AppData\\Local\\Temp\\ipykernel_16204\\3259657810.py\u001b[0m in \u001b[0;36m<module>\u001b[1;34m\u001b[0m\n\u001b[0;32m      4\u001b[0m \u001b[0mprint\u001b[0m\u001b[1;33m(\u001b[0m\u001b[1;34m\"Substring 'is a' in index':\"\u001b[0m\u001b[1;33m,\u001b[0m \u001b[0mresult\u001b[0m\u001b[1;33m)\u001b[0m\u001b[1;33m\u001b[0m\u001b[1;33m\u001b[0m\u001b[0m\n\u001b[0;32m      5\u001b[0m \u001b[1;33m\u001b[0m\u001b[0m\n\u001b[1;32m----> 6\u001b[1;33m \u001b[0mresult\u001b[0m \u001b[1;33m=\u001b[0m \u001b[0msentence\u001b[0m\u001b[1;33m.\u001b[0m\u001b[0mindex\u001b[0m\u001b[1;33m(\u001b[0m\u001b[1;34m'Boron'\u001b[0m\u001b[1;33m)\u001b[0m\u001b[1;33m\u001b[0m\u001b[1;33m\u001b[0m\u001b[0m\n\u001b[0m\u001b[0;32m      7\u001b[0m \u001b[0mprint\u001b[0m\u001b[1;33m(\u001b[0m\u001b[1;34m\"Substring 'Boron' in index':\"\u001b[0m\u001b[1;33m,\u001b[0m \u001b[0mresult\u001b[0m\u001b[1;33m)\u001b[0m\u001b[1;33m\u001b[0m\u001b[1;33m\u001b[0m\u001b[0m\n",
      "\u001b[1;31mValueError\u001b[0m: substring not found"
     ]
    }
   ],
   "source": [
    "sentence = 'Potassium is a alkali metal element.'\n",
    "\n",
    "result = sentence.index('is a')\n",
    "print(\"Substring 'is a' in index':\", result)\n",
    "\n",
    "result = sentence.index('Boron')\n",
    "print(\"Substring 'Boron' in index':\", result)"
   ]
  },
  {
   "cell_type": "code",
   "execution_count": 27,
   "id": "397a7212",
   "metadata": {},
   "outputs": [
    {
     "name": "stdout",
     "output_type": "stream",
     "text": [
      "17\n",
      "25\n"
     ]
    },
    {
     "ename": "ValueError",
     "evalue": "substring not found",
     "output_type": "error",
     "traceback": [
      "\u001b[1;31m---------------------------------------------------------------------------\u001b[0m",
      "\u001b[1;31mValueError\u001b[0m                                Traceback (most recent call last)",
      "\u001b[1;32m~\\AppData\\Local\\Temp\\ipykernel_16204\\3257104478.py\u001b[0m in \u001b[0;36m<module>\u001b[1;34m\u001b[0m\n\u001b[0;32m      8\u001b[0m \u001b[1;33m\u001b[0m\u001b[0m\n\u001b[0;32m      9\u001b[0m \u001b[1;31m# Substring is searched in 'otassium i'\u001b[0m\u001b[1;33m\u001b[0m\u001b[1;33m\u001b[0m\u001b[1;33m\u001b[0m\u001b[0m\n\u001b[1;32m---> 10\u001b[1;33m \u001b[0mprint\u001b[0m\u001b[1;33m(\u001b[0m\u001b[0msentence\u001b[0m\u001b[1;33m.\u001b[0m\u001b[0mindex\u001b[0m\u001b[1;33m(\u001b[0m\u001b[1;34m'met'\u001b[0m\u001b[1;33m,\u001b[0m \u001b[1;36m2\u001b[0m\u001b[1;33m,\u001b[0m \u001b[1;36m10\u001b[0m\u001b[1;33m)\u001b[0m\u001b[1;33m)\u001b[0m\u001b[1;33m\u001b[0m\u001b[1;33m\u001b[0m\u001b[0m\n\u001b[0m",
      "\u001b[1;31mValueError\u001b[0m: substring not found"
     ]
    }
   ],
   "source": [
    "sentence = 'Potassium is a alkali metal element.'\n",
    "\n",
    "# Substring is searched in 'alkali metal element.'\n",
    "print(sentence.index('kali', 15))\n",
    "\n",
    "# Substring is searched in 'alkali metal elem '\n",
    "print(sentence.index('al el', 15, -4))\n",
    "\n",
    "# Substring is searched in 'otassium i'\n",
    "print(sentence.index('met', 2, 10))"
   ]
  },
  {
   "cell_type": "code",
   "execution_count": 3,
   "id": "5a18f660",
   "metadata": {},
   "outputs": [
    {
     "name": "stdout",
     "output_type": "stream",
     "text": [
      "True\n",
      "False\n",
      "False\n"
     ]
    }
   ],
   "source": [
    "# contains  numeric or alphabet\n",
    "string1 = \"Hydrogen01\"\n",
    "\n",
    "print(string1.isalnum()) \n",
    "\n",
    "# contains '.'\n",
    "string2 = \"Hydrogen1.0080\"\n",
    "\n",
    "print(string2.isalnum()) \n",
    "\n",
    "# contains non-alphanumeric character \n",
    "string3 = \"Xenon@54\"\n",
    "\n",
    "print(string3.isalnum()) "
   ]
  },
  {
   "cell_type": "code",
   "execution_count": 39,
   "id": "ef71533b",
   "metadata": {},
   "outputs": [
    {
     "name": "stdout",
     "output_type": "stream",
     "text": [
      "All characters are not alphanumeric.\n"
     ]
    }
   ],
   "source": [
    "text = \"Python for Chemistry\"\n",
    "\n",
    "# checks if all the characters are alphanumeric \n",
    "if text.isalnum() == True:\n",
    "   print(\"All characters of string are alphanumeric.\")\n",
    "else:\n",
    "    print(\"All characters are not alphanumeric.\")\n"
   ]
  },
  {
   "cell_type": "code",
   "execution_count": 41,
   "id": "6d5f56d1",
   "metadata": {},
   "outputs": [
    {
     "name": "stdout",
     "output_type": "stream",
     "text": [
      "True\n",
      "False\n",
      "False\n"
     ]
    }
   ],
   "source": [
    "ename = \"Hydrogen\"\n",
    "print(ename.isalpha())\n",
    "\n",
    "# contains whitespace\n",
    "ename = \"Hydrogen Element\"\n",
    "print(ename.isalpha())\n",
    "\n",
    "# contains number\n",
    "ename = \"Hydrogen01\"\n",
    "print(ename.isalpha())"
   ]
  },
  {
   "cell_type": "code",
   "execution_count": 43,
   "id": "baa413f4",
   "metadata": {},
   "outputs": [
    {
     "name": "stdout",
     "output_type": "stream",
     "text": [
      "All characters are alphabets\n"
     ]
    }
   ],
   "source": [
    "ename = \"Hydrogen\"\n",
    "\n",
    "if ename.isalpha() == True:\n",
    "   print(\"All characters are alphabets\")\n",
    "else:\n",
    "    print(\"All characters are not alphabets.\")"
   ]
  },
  {
   "cell_type": "code",
   "execution_count": 47,
   "id": "b5bded9c",
   "metadata": {},
   "outputs": [
    {
     "name": "stdout",
     "output_type": "stream",
     "text": [
      "True\n",
      "True\n",
      "True\n",
      "True\n",
      "False\n",
      "False\n"
     ]
    }
   ],
   "source": [
    "mystr = 'Chemistry'\n",
    "print(mystr.isascii())\n",
    "\n",
    "mystr = '012345'\n",
    "print(mystr.isascii())\n",
    "\n",
    "mystr = '#'\n",
    "print(mystr.isascii())\n",
    "\n",
    "mystr = '/u0061'  # Unicode of a\n",
    "print(mystr.isascii())\n",
    "\n",
    "mystr = 'Å' \n",
    "print(mystr.isascii())\n",
    "\n",
    "mystr = 'ß'   # German letter\n",
    "print(mystr.isascii())"
   ]
  },
  {
   "cell_type": "code",
   "execution_count": 55,
   "id": "86484f8f",
   "metadata": {},
   "outputs": [
    {
     "name": "stdout",
     "output_type": "stream",
     "text": [
      "True\n",
      "False\n"
     ]
    },
    {
     "ename": "AttributeError",
     "evalue": "'int' object has no attribute 'isdecimal'",
     "output_type": "error",
     "traceback": [
      "\u001b[1;31m---------------------------------------------------------------------------\u001b[0m",
      "\u001b[1;31mAttributeError\u001b[0m                            Traceback (most recent call last)",
      "\u001b[1;32m~\\AppData\\Local\\Temp\\ipykernel_16204\\3948310807.py\u001b[0m in \u001b[0;36m<module>\u001b[1;34m\u001b[0m\n\u001b[0;32m      8\u001b[0m \u001b[1;31m# contains numbers and spaces\u001b[0m\u001b[1;33m\u001b[0m\u001b[1;33m\u001b[0m\u001b[1;33m\u001b[0m\u001b[0m\n\u001b[0;32m      9\u001b[0m \u001b[0ms\u001b[0m \u001b[1;33m=\u001b[0m \u001b[1;36m123\u001b[0m\u001b[1;33m\u001b[0m\u001b[1;33m\u001b[0m\u001b[0m\n\u001b[1;32m---> 10\u001b[1;33m \u001b[0mprint\u001b[0m\u001b[1;33m(\u001b[0m\u001b[0ms\u001b[0m\u001b[1;33m.\u001b[0m\u001b[0misdecimal\u001b[0m\u001b[1;33m(\u001b[0m\u001b[1;33m)\u001b[0m\u001b[1;33m)\u001b[0m\u001b[1;33m\u001b[0m\u001b[1;33m\u001b[0m\u001b[0m\n\u001b[0m\u001b[0;32m     11\u001b[0m \u001b[1;33m\u001b[0m\u001b[0m\n\u001b[0;32m     12\u001b[0m \u001b[0mexpr\u001b[0m \u001b[1;33m=\u001b[0m \u001b[1;34m\"4²\"\u001b[0m\u001b[1;33m\u001b[0m\u001b[1;33m\u001b[0m\u001b[0m\n",
      "\u001b[1;31mAttributeError\u001b[0m: 'int' object has no attribute 'isdecimal'"
     ]
    }
   ],
   "source": [
    "s = \"12345\"\n",
    "print(s.isdecimal())\n",
    "  \n",
    "# contains alphabets\n",
    "s = \"Chemistry123\"\n",
    "print(s.isdecimal())\n",
    "  \n",
    "# contains numbers and spaces\n",
    "s = \"123\"\n",
    "print(s.isdecimal())\n",
    "\n",
    "expr = \"4²\" \n",
    "print(expr.isdecimal())\n",
    "\n",
    "expr = \"10/5\"\n",
    "print(expr.isdecimal())"
   ]
  },
  {
   "cell_type": "code",
   "execution_count": 62,
   "id": "74a213f7",
   "metadata": {},
   "outputs": [
    {
     "ename": "ValueError",
     "evalue": "Unknown format code 'd' for object of type 'float'",
     "output_type": "error",
     "traceback": [
      "\u001b[1;31m---------------------------------------------------------------------------\u001b[0m",
      "\u001b[1;31mValueError\u001b[0m                                Traceback (most recent call last)",
      "\u001b[1;32m~\\AppData\\Local\\Temp\\ipykernel_16204\\2910373359.py\u001b[0m in \u001b[0;36m<module>\u001b[1;34m\u001b[0m\n\u001b[0;32m      1\u001b[0m \u001b[1;31m# integer arguments\u001b[0m\u001b[1;33m\u001b[0m\u001b[1;33m\u001b[0m\u001b[1;33m\u001b[0m\u001b[0m\n\u001b[1;32m----> 2\u001b[1;33m \u001b[0mprint\u001b[0m\u001b[1;33m(\u001b[0m\u001b[1;34m\"The number is:{:d}\"\u001b[0m\u001b[1;33m.\u001b[0m\u001b[0mformat\u001b[0m\u001b[1;33m(\u001b[0m\u001b[1;36m118.2\u001b[0m\u001b[1;33m)\u001b[0m\u001b[1;33m)\u001b[0m\u001b[1;33m\u001b[0m\u001b[1;33m\u001b[0m\u001b[0m\n\u001b[0m\u001b[0;32m      3\u001b[0m \u001b[1;33m\u001b[0m\u001b[0m\n\u001b[0;32m      4\u001b[0m \u001b[1;31m# float arguments\u001b[0m\u001b[1;33m\u001b[0m\u001b[1;33m\u001b[0m\u001b[1;33m\u001b[0m\u001b[0m\n\u001b[0;32m      5\u001b[0m \u001b[0mprint\u001b[0m\u001b[1;33m(\u001b[0m\u001b[1;34m\"The float number is:{:f}\"\u001b[0m\u001b[1;33m.\u001b[0m\u001b[0mformat\u001b[0m\u001b[1;33m(\u001b[0m\u001b[1;36m123\u001b[0m\u001b[1;33m)\u001b[0m\u001b[1;33m)\u001b[0m\u001b[1;33m\u001b[0m\u001b[1;33m\u001b[0m\u001b[0m\n",
      "\u001b[1;31mValueError\u001b[0m: Unknown format code 'd' for object of type 'float'"
     ]
    }
   ],
   "source": [
    "# integer arguments\n",
    "print(\"The number is:{:d}\".format(118))\n",
    "\n",
    "# float arguments\n",
    "print(\"The float number is:{:f}\".format(123.4567898))\n",
    "\n",
    "# octal, binary and hexadecimal format\n",
    "print(\"bin: {0:b}, oct: {0:o}, hex: {0:x}\".format(12))"
   ]
  },
  {
   "cell_type": "code",
   "execution_count": 67,
   "id": "300377a1",
   "metadata": {},
   "outputs": [
    {
     "name": "stdout",
     "output_type": "stream",
     "text": [
      "Chemistry      \n",
      "      Chemistry\n",
      "Chemist\n"
     ]
    }
   ],
   "source": [
    "# string padding with left alignment\n",
    "print(\"{:15}\".format(\"Chemistry\"))\n",
    "\n",
    "# string padding with right alignment\n",
    "print(\"{:>15}\".format(\"Chemistry\"))\n",
    "\n",
    "#truncating strings to 3 letters\n",
    "print(\"{:.7}\".format(\"Chemistry\"))"
   ]
  },
  {
   "cell_type": "code",
   "execution_count": 71,
   "id": "73f754aa",
   "metadata": {},
   "outputs": [
    {
     "name": "stdout",
     "output_type": "stream",
     "text": [
      "10 -5\n"
     ]
    },
    {
     "ename": "NameError",
     "evalue": "name 'a' is not defined",
     "output_type": "error",
     "traceback": [
      "\u001b[1;31m---------------------------------------------------------------------------\u001b[0m",
      "\u001b[1;31mNameError\u001b[0m                                 Traceback (most recent call last)",
      "\u001b[1;32m~\\AppData\\Local\\Temp\\ipykernel_16204\\3358284130.py\u001b[0m in \u001b[0;36m<module>\u001b[1;34m\u001b[0m\n\u001b[0;32m      2\u001b[0m \u001b[0mprint\u001b[0m\u001b[1;33m(\u001b[0m\u001b[1;34m'{x} {y}'\u001b[0m\u001b[1;33m.\u001b[0m\u001b[0mformat_map\u001b[0m\u001b[1;33m(\u001b[0m\u001b[0mpoint\u001b[0m\u001b[1;33m)\u001b[0m\u001b[1;33m)\u001b[0m\u001b[1;33m\u001b[0m\u001b[1;33m\u001b[0m\u001b[0m\n\u001b[0;32m      3\u001b[0m \u001b[1;33m\u001b[0m\u001b[0m\n\u001b[1;32m----> 4\u001b[1;33m \u001b[0mpoint\u001b[0m \u001b[1;33m=\u001b[0m \u001b[1;33m{\u001b[0m\u001b[1;34m'x'\u001b[0m\u001b[1;33m:\u001b[0m\u001b[1;36m4\u001b[0m\u001b[1;33m,\u001b[0m\u001b[1;34m'y'\u001b[0m\u001b[1;33m:\u001b[0m\u001b[1;33m-\u001b[0m\u001b[1;36m5\u001b[0m\u001b[1;33m,\u001b[0m \u001b[1;34m'z'\u001b[0m\u001b[1;33m:\u001b[0m \u001b[0ma\u001b[0m\u001b[1;33m}\u001b[0m\u001b[1;33m\u001b[0m\u001b[1;33m\u001b[0m\u001b[0m\n\u001b[0m\u001b[0;32m      5\u001b[0m \u001b[0mprint\u001b[0m\u001b[1;33m(\u001b[0m\u001b[1;34m'{x} {y} {z}'\u001b[0m\u001b[1;33m.\u001b[0m\u001b[0mformat_map\u001b[0m\u001b[1;33m(\u001b[0m\u001b[0mpoint\u001b[0m\u001b[1;33m)\u001b[0m\u001b[1;33m)\u001b[0m\u001b[1;33m\u001b[0m\u001b[1;33m\u001b[0m\u001b[0m\n",
      "\u001b[1;31mNameError\u001b[0m: name 'a' is not defined"
     ]
    }
   ],
   "source": [
    "point = {'x':10,'y':-5}\n",
    "print('{x} {y}'.format_map(point))\n",
    "\n",
    "point = {'x':4,'y':-5, 'z': a}\n",
    "print('{x} {y} {z}'.format_map(point))"
   ]
  },
  {
   "cell_type": "code",
   "execution_count": 70,
   "id": "10c361e1",
   "metadata": {},
   "outputs": [
    {
     "name": "stdout",
     "output_type": "stream",
     "text": [
      "(10, y)\n",
      "(x, 5)\n",
      "(6, 5)\n"
     ]
    }
   ],
   "source": [
    "class Coordinate(dict):\n",
    "    def __missing__(self, key):\n",
    "      return key\n",
    "\n",
    "\n",
    "print('({x}, {y})'.format_map(Coordinate(x='10')))\n",
    "print('({x}, {y})'.format_map(Coordinate(y='5')))\n",
    "print('({x}, {y})'.format_map(Coordinate(x='6', y='5')))"
   ]
  },
  {
   "cell_type": "code",
   "execution_count": 6,
   "id": "104d850f",
   "metadata": {},
   "outputs": [
    {
     "name": "stdout",
     "output_type": "stream",
     "text": [
      "True\n",
      "False\n"
     ]
    }
   ],
   "source": [
    "s = \"118\"\n",
    "print(s.isdigit())\n",
    "\n",
    "# contains alphabets and spaces\n",
    "s = \"1. Python for Chemistry\"\n",
    "print(s.isdigit())"
   ]
  },
  {
   "cell_type": "code",
   "execution_count": 13,
   "id": "25f0ec91",
   "metadata": {},
   "outputs": [
    {
     "name": "stdout",
     "output_type": "stream",
     "text": [
      "False\n",
      "True\n",
      "False\n"
     ]
    }
   ],
   "source": [
    "s = '-118'\n",
    "print(s.isdigit())\n",
    "\n",
    "# superscript is a digit\n",
    "s = '52²'\n",
    "print(s.isdigit())\n",
    "\n",
    "# fraction is not a digit\n",
    "s = '1/2'\n",
    "print(s.isdigit())"
   ]
  },
  {
   "cell_type": "code",
   "execution_count": 18,
   "id": "4242df37",
   "metadata": {},
   "outputs": [
    {
     "name": "stdout",
     "output_type": "stream",
     "text": [
      "True\n",
      "False\n",
      "True\n",
      "False\n"
     ]
    }
   ],
   "source": [
    "str = 'Chemistry'\n",
    "print(str.isidentifier())\n",
    "\n",
    "str = 'Chemi stry'\n",
    "print(str.isidentifier())\n",
    "\n",
    "str = 'Python_Chemistry'\n",
    "print(str.isidentifier())\n",
    "\n",
    "str = \"\"\n",
    "print(str.isidentifier())"
   ]
  },
  {
   "cell_type": "code",
   "execution_count": 20,
   "id": "d0c95326",
   "metadata": {},
   "outputs": [
    {
     "name": "stdout",
     "output_type": "stream",
     "text": [
      "Chemistry123 is a valid identifier.\n",
      "123Chemistry is not a valid identifier.\n"
     ]
    }
   ],
   "source": [
    "str = 'Chemistry123'\n",
    "if str.isidentifier() == True:\n",
    "  print(str, 'is a valid identifier.')\n",
    "else:\n",
    "  print(str, 'is not a valid identifier.')\n",
    "  \n",
    "str = '123Chemistry'\n",
    "if str.isidentifier() == True:\n",
    "  print(str, 'is a valid identifier.')\n",
    "else:\n",
    "  print(str, 'is not a valid identifier.')"
   ]
  },
  {
   "cell_type": "code",
   "execution_count": 24,
   "id": "ef0e4fdc",
   "metadata": {},
   "outputs": [
    {
     "name": "stdout",
     "output_type": "stream",
     "text": [
      "True\n",
      "True\n",
      "False\n"
     ]
    }
   ],
   "source": [
    "s = 'python for chemistry'\n",
    "print(s.islower())\n",
    "\n",
    "s = 'welcome! python for chemistry part 1'\n",
    "print(s.islower())\n",
    "\n",
    "s = 'Python for Chemistry'\n",
    "print(s.islower())"
   ]
  },
  {
   "cell_type": "code",
   "execution_count": 27,
   "id": "95c77c68",
   "metadata": {},
   "outputs": [
    {
     "name": "stdout",
     "output_type": "stream",
     "text": [
      "It does not contain uppercase letter.\n",
      "It contains uppercase letter.\n"
     ]
    }
   ],
   "source": [
    "s = 'welcome! python for chemistry part 1'\n",
    "if s.islower() == True:\n",
    "  print('It does not contain uppercase letter.')\n",
    "else:\n",
    "  print('It contains uppercase letter.')\n",
    "  \n",
    "s = 'Welcome! Python for Chemistry Part 1'\n",
    "if s.islower() == True:\n",
    "  print('It does not contain uppercase letter.')\n",
    "else:\n",
    "  print('It contains uppercase letter.')"
   ]
  },
  {
   "cell_type": "code",
   "execution_count": 29,
   "id": "1c148e16",
   "metadata": {},
   "outputs": [
    {
     "name": "stdout",
     "output_type": "stream",
     "text": [
      "True\n",
      "False\n"
     ]
    }
   ],
   "source": [
    "input1= \"118\" \n",
    "print(input1.isnumeric()) \n",
    "\n",
    "input2 = \"Chemistry1\"\n",
    "print(input2.isnumeric())"
   ]
  },
  {
   "cell_type": "code",
   "execution_count": 30,
   "id": "4a9eee67",
   "metadata": {},
   "outputs": [
    {
     "name": "stdout",
     "output_type": "stream",
     "text": [
      "True\n",
      "True\n"
     ]
    }
   ],
   "source": [
    "# string with superscript \n",
    "superscript_string = '²3455'\n",
    "print(superscript_string.isnumeric())\n",
    "\n",
    "# string with fraction value \n",
    "fraction_string = '½123'\n",
    "print(fraction_string.isnumeric())"
   ]
  },
  {
   "cell_type": "code",
   "execution_count": 33,
   "id": "3d8e10c7",
   "metadata": {},
   "outputs": [
    {
     "name": "stdout",
     "output_type": "stream",
     "text": [
      "True\n",
      "False\n",
      "True\n"
     ]
    }
   ],
   "source": [
    "text1 = '***Python for Chemistry***'\n",
    "\n",
    "result1 = text1.isprintable()\n",
    "print(result1)\n",
    "\n",
    "text2 = 'python for Chemistry\\n'\n",
    "\n",
    "result2 = text2.isprintable() \n",
    "print(result2)\n",
    "\n",
    "empty_string = ' '\n",
    "print(empty_string.isprintable())"
   ]
  },
  {
   "cell_type": "code",
   "execution_count": 41,
   "id": "f3d3698d",
   "metadata": {},
   "outputs": [
    {
     "name": "stdout",
     "output_type": "stream",
     "text": [
      "True\n",
      "True\n",
      "False\n"
     ]
    }
   ],
   "source": [
    "s = '   \\t'\n",
    "print(s.isspace())\n",
    "\n",
    "s = ' '\n",
    "print(s.isspace())\n",
    "\n",
    "s = ''\n",
    "print(s.isspace())"
   ]
  },
  {
   "cell_type": "code",
   "execution_count": 38,
   "id": "209d72cd",
   "metadata": {},
   "outputs": [
    {
     "name": "stdout",
     "output_type": "stream",
     "text": [
      "Contains all whitespace characters\n",
      "Contains non-whitespace characters\n"
     ]
    }
   ],
   "source": [
    "s = '\\t  \\n'\n",
    "if s.isspace() == True:\n",
    "  print('Contains all whitespace characters')\n",
    "else:\n",
    "  print('Contains non-whitespace characters')\n",
    "  \n",
    "s = 'Addition of 2+2 = 4'\n",
    "\n",
    "if s.isspace() == True:\n",
    "  print('Contains all whitespace characters')\n",
    "else:\n",
    "  print('Contains non-whitespace characters')"
   ]
  },
  {
   "cell_type": "code",
   "execution_count": 41,
   "id": "150acc7d",
   "metadata": {},
   "outputs": [
    {
     "name": "stdout",
     "output_type": "stream",
     "text": [
      "True\n",
      "False\n",
      "True\n",
      "False\n"
     ]
    }
   ],
   "source": [
    "s = 'Python For Chemistry.'\n",
    "print(s.istitle())\n",
    "\n",
    "s = 'Python for Chemistry'\n",
    "print(s.istitle())\n",
    "\n",
    "s = '@@@Python For Chemistry@@@'\n",
    "print(s.istitle())\n",
    "\n",
    "s = 'PYHTON FOR CHEMISTRY'\n",
    "print(s.istitle())"
   ]
  },
  {
   "cell_type": "code",
   "execution_count": 43,
   "id": "9fa60c6e",
   "metadata": {},
   "outputs": [
    {
     "name": "stdout",
     "output_type": "stream",
     "text": [
      "Titlecased String\n",
      "Not a Titlecased String\n"
     ]
    }
   ],
   "source": [
    "s = 'Python For Chemistry.'\n",
    "if s.istitle() == True:\n",
    "  print('Titlecased String')\n",
    "else:\n",
    "  print('Not a Titlecased String')\n",
    "  \n",
    "s = 'Python for Chemistry'\n",
    "if s.istitle() == True:\n",
    "  print('Titlecased String')\n",
    "else:\n",
    "  print('Not a Titlecased String')\n"
   ]
  },
  {
   "cell_type": "code",
   "execution_count": 45,
   "id": "ccad225f",
   "metadata": {},
   "outputs": [
    {
     "name": "stdout",
     "output_type": "stream",
     "text": [
      "True\n",
      "True\n",
      "False\n"
     ]
    }
   ],
   "source": [
    "string = \"WELCOME! PYTHON FOR CHEMISTRY\"\n",
    "print(string.isupper());\n",
    "\n",
    "\n",
    "string = \"PYTHOH FOR CHEMISTRY\\n\"\n",
    "print(string.isupper());\n",
    "\n",
    "\n",
    "string = \"Python for CHEMISTRY\"\n",
    "print(string.isupper());"
   ]
  },
  {
   "cell_type": "code",
   "execution_count": 47,
   "id": "b7a27d26",
   "metadata": {},
   "outputs": [
    {
     "name": "stdout",
     "output_type": "stream",
     "text": [
      "Does not contain lowercase letter.\n",
      "Contains lowercase letter.\n"
     ]
    }
   ],
   "source": [
    "string = 'PYTHON FOR CHEMISTRY'\n",
    "if string.isupper() == True:\n",
    "  print('Does not contain lowercase letter.')\n",
    "else:\n",
    "  print('Contains lowercase letter.')\n",
    "  \n",
    "string = 'Python For Chemistry'\n",
    "if string.isupper() == True:\n",
    "  print('Does not contain lowercase letter.')\n",
    "else:\n",
    "  print('Contains lowercase letter.')"
   ]
  },
  {
   "cell_type": "code",
   "execution_count": 55,
   "id": "7e00a250",
   "metadata": {},
   "outputs": [
    {
     "name": "stdout",
     "output_type": "stream",
     "text": [
      "Python-> for-> Chemistry\n",
      "atomic values-> 24.587-> 15.760-> 12.130\n",
      "1XYZ2XYZ3\n",
      "X123Y123Z\n"
     ]
    }
   ],
   "source": [
    " #.join() in lists\n",
    "numList = ['Python', 'for', 'Chemistry']\n",
    "separator = '-> '\n",
    "print(separator.join(numList))\n",
    "\n",
    "# .join() in tuples\n",
    "numTuple = ('atomic values','24.587', '15.760', '12.130')\n",
    "print(separator.join(numTuple))\n",
    "\n",
    "s1 = 'XYZ'\n",
    "s2 = '123'\n",
    "\n",
    "# each element of s2 is separated by s1\n",
    "print(s1.join(s2))\n",
    "\n",
    "# each element of s1 is separated by s2\n",
    "print(s2.join(s1))"
   ]
  },
  {
   "cell_type": "code",
   "execution_count": 63,
   "id": "ef0aca1b",
   "metadata": {},
   "outputs": [
    {
     "name": "stdout",
     "output_type": "stream",
     "text": [
      "Chemistry.....for.....Python\n",
      "Python~~~~Chemistry\n"
     ]
    },
    {
     "ename": "TypeError",
     "evalue": "sequence item 0: expected str instance, int found",
     "output_type": "error",
     "traceback": [
      "\u001b[1;31m---------------------------------------------------------------------------\u001b[0m",
      "\u001b[1;31mTypeError\u001b[0m                                 Traceback (most recent call last)",
      "\u001b[1;32m~\\AppData\\Local\\Temp\\ipykernel_10576\\881317439.py\u001b[0m in \u001b[0;36m<module>\u001b[1;34m\u001b[0m\n\u001b[0;32m     14\u001b[0m \u001b[1;33m\u001b[0m\u001b[0m\n\u001b[0;32m     15\u001b[0m \u001b[1;31m# this gives error since key isn't string\u001b[0m\u001b[1;33m\u001b[0m\u001b[1;33m\u001b[0m\u001b[1;33m\u001b[0m\u001b[0m\n\u001b[1;32m---> 16\u001b[1;33m \u001b[0mprint\u001b[0m\u001b[1;33m(\u001b[0m\u001b[0ms\u001b[0m\u001b[1;33m.\u001b[0m\u001b[0mjoin\u001b[0m\u001b[1;33m(\u001b[0m\u001b[0mtest\u001b[0m\u001b[1;33m)\u001b[0m\u001b[1;33m)\u001b[0m\u001b[1;33m\u001b[0m\u001b[1;33m\u001b[0m\u001b[0m\n\u001b[0m",
      "\u001b[1;31mTypeError\u001b[0m: sequence item 0: expected str instance, int found"
     ]
    }
   ],
   "source": [
    "test = {'Python', 'for', 'Chemistry'}\n",
    "s = '.....'\n",
    "print(s.join(test))\n",
    "\n",
    "# .join() with dictionaries\n",
    "test = {'Python': 1, 'Chemistry': 2}\n",
    "s = '~~~~'\n",
    "\n",
    "# joins the keys only\n",
    "print(s.join(test))\n",
    "\n",
    "test = {1: 'Python', 2: 'Chemistry'}\n",
    "s = ', '\n",
    "\n",
    "# this gives error since key isn't string\n",
    "print(s.join(test))\n"
   ]
  },
  {
   "cell_type": "code",
   "execution_count": 65,
   "id": "abbc7176",
   "metadata": {},
   "outputs": [
    {
     "name": "stdout",
     "output_type": "stream",
     "text": [
      "Chemistry      \n"
     ]
    }
   ],
   "source": []
  },
  {
   "cell_type": "code",
   "execution_count": 68,
   "id": "a282f8b0",
   "metadata": {},
   "outputs": [
    {
     "name": "stdout",
     "output_type": "stream",
     "text": [
      "Chemistry      \n",
      "Chemistry@@@@@@\n",
      "Chemistry\n"
     ]
    }
   ],
   "source": [
    "string = 'Chemistry'\n",
    "width = 15\n",
    "\n",
    "# print left justified string\n",
    "print(string.ljust(width))\n",
    "string = 'Chemistry'\n",
    "width = 15\n",
    "fillchar = '@'\n",
    "\n",
    "# print left justified string\n",
    "print(string.ljust(width, fillchar))\n",
    "\n",
    "\n",
    "string = 'Chemistry'\n",
    "width = 5\n",
    "fillchar = '*'\n",
    "\n",
    "# print left justified string\n",
    "print(string.ljust(width, fillchar))"
   ]
  },
  {
   "cell_type": "code",
   "execution_count": 2,
   "id": "d81216bb",
   "metadata": {},
   "outputs": [
    {
     "name": "stdout",
     "output_type": "stream",
     "text": [
      "welcome! python for chemistry\n",
      "****python for chemistry - part 1\n"
     ]
    }
   ],
   "source": [
    "string = \"WELCOME! PYTHON FOR CHEMISTRY\"\n",
    "print(string.lower())\n",
    "\n",
    "# string with numbers\n",
    "string = \"****Python For Chemistry - Part 1\"\n",
    "print(string.lower())"
   ]
  },
  {
   "cell_type": "code",
   "execution_count": 4,
   "id": "48ed7fca",
   "metadata": {},
   "outputs": [
    {
     "name": "stdout",
     "output_type": "stream",
     "text": [
      "The strings are same.\n"
     ]
    }
   ],
   "source": [
    "# first string\n",
    "firstString = \"PYTHON FOR CHEMISTRY\"\n",
    "\n",
    "# second string\n",
    "secondString = \"Python for chemistry\"\n",
    "\n",
    "if(firstString.lower() == secondString.lower()):\n",
    "    print(\"The strings are same.\")\n",
    "else:\n",
    "    print(\"The strings are not same.\")"
   ]
  },
  {
   "cell_type": "code",
   "execution_count": 14,
   "id": "3c34b22c",
   "metadata": {},
   "outputs": [
    {
     "name": "stdout",
     "output_type": "stream",
     "text": [
      "Python for Chemistry \n",
      "   Python for Chemistry \n",
      "thon for Chemistry \n",
      "Pythoninchemistry.org/\n"
     ]
    }
   ],
   "source": [
    "random_string = '   Python for Chemistry '\n",
    "\n",
    "# Leading whitepsace are removed\n",
    "print(random_string.lstrip())\n",
    "\n",
    "# No characters are removed.\n",
    "print(random_string.lstrip('py'))\n",
    "\n",
    "print(random_string.lstrip(' Py'))\n",
    "\n",
    "website = 'https://Pythoninchemistry.org/'\n",
    "print(website.lstrip('htps:/'))"
   ]
  },
  {
   "cell_type": "code",
   "execution_count": 19,
   "id": "0c9f7890",
   "metadata": {},
   "outputs": [
    {
     "name": "stdout",
     "output_type": "stream",
     "text": [
      "{97: 'Hydrogen', 98: 'Oxygen', 99: 'Helium'}\n",
      "{1: 'Hydrogen', 2: 'Oxygen', 3: 'Helium'}\n"
     ]
    }
   ],
   "source": [
    "# dictionary creation\n",
    "dict = {\"a\": \"Hydrogen\", \"b\": \"Oxygen\", \"c\": \"Helium\"}\n",
    "string = \"abc\"\n",
    "print(string.maketrans(dict))\n",
    "\n",
    "dict = {1: \"Hydrogen\", 2: \"Oxygen\",3: \"Helium\"}\n",
    "string = \"abc\"\n",
    "print(string.maketrans(dict))"
   ]
  },
  {
   "cell_type": "code",
   "execution_count": 26,
   "id": "f5be7015",
   "metadata": {},
   "outputs": [
    {
     "name": "stdout",
     "output_type": "stream",
     "text": [
      "{79: 72, 120: 101, 121: 108, 103: 105, 101: 117, 110: 109}\n"
     ]
    },
    {
     "ename": "ValueError",
     "evalue": "the first two maketrans arguments must have equal length",
     "output_type": "error",
     "traceback": [
      "\u001b[1;31m---------------------------------------------------------------------------\u001b[0m",
      "\u001b[1;31mValueError\u001b[0m                                Traceback (most recent call last)",
      "\u001b[1;32m~\\AppData\\Local\\Temp\\ipykernel_11536\\802625120.py\u001b[0m in \u001b[0;36m<module>\u001b[1;34m\u001b[0m\n\u001b[0;32m      7\u001b[0m \u001b[0mfirstString\u001b[0m \u001b[1;33m=\u001b[0m \u001b[1;34m\"Oxygen\"\u001b[0m\u001b[1;33m\u001b[0m\u001b[1;33m\u001b[0m\u001b[0m\n\u001b[0;32m      8\u001b[0m \u001b[0msecondString\u001b[0m \u001b[1;33m=\u001b[0m \u001b[1;34m\"Hydrogen\"\u001b[0m\u001b[1;33m\u001b[0m\u001b[1;33m\u001b[0m\u001b[0m\n\u001b[1;32m----> 9\u001b[1;33m \u001b[0mprint\u001b[0m\u001b[1;33m(\u001b[0m\u001b[0mstring\u001b[0m\u001b[1;33m.\u001b[0m\u001b[0mmaketrans\u001b[0m\u001b[1;33m(\u001b[0m\u001b[0mfirstString\u001b[0m\u001b[1;33m,\u001b[0m \u001b[0msecondString\u001b[0m\u001b[1;33m)\u001b[0m\u001b[1;33m)\u001b[0m\u001b[1;33m\u001b[0m\u001b[1;33m\u001b[0m\u001b[0m\n\u001b[0m",
      "\u001b[1;31mValueError\u001b[0m: the first two maketrans arguments must have equal length"
     ]
    }
   ],
   "source": [
    "firstString = \"Oxygen\"\n",
    "secondString = \"Helium\"\n",
    "print(string.maketrans(firstString, secondString))\n",
    "\n",
    "firstString = \"Oxygen\"\n",
    "secondString = \"Hydrogen\"\n",
    "print(string.maketrans(firstString, secondString))\n"
   ]
  },
  {
   "cell_type": "code",
   "execution_count": 29,
   "id": "a060546d",
   "metadata": {},
   "outputs": [
    {
     "name": "stdout",
     "output_type": "stream",
     "text": [
      "{72: 79, 101: 120, 108: 121, 105: 103, 117: 101, 109: 110, 67: None, 97: None, 114: None, 98: None, 111: None, 110: None}\n"
     ]
    }
   ],
   "source": [
    "firstString = \"Helium\"\n",
    "secondString = \"Oxygen\"\n",
    "thirdString = \"Carbon\"\n",
    "print(string.maketrans(firstString, secondString, thirdString))"
   ]
  },
  {
   "cell_type": "code",
   "execution_count": 4,
   "id": "d5c6386e",
   "metadata": {},
   "outputs": [
    {
     "name": "stdout",
     "output_type": "stream",
     "text": [
      "('Python ', 'for ', 'Chemistry')\n",
      "('Python for Chemistry', '', '')\n",
      "('Python ', 'for', ' Chemists and for Chemical engineer')\n"
     ]
    }
   ],
   "source": [
    "string = \"Python for Chemistry\"\n",
    "\n",
    "# 'for' separator is found\n",
    "print(string.partition('for '))\n",
    "\n",
    "# 'is' separator is not found\n",
    "print(string.partition('is '))\n",
    "\n",
    "string = \"Python for Chemists and for Chemical engineer\"\n",
    "\n",
    "# splits at first occurence of 'for'\n",
    "print(string.partition('for'))"
   ]
  },
  {
   "cell_type": "code",
   "execution_count": 6,
   "id": "d4421e3a",
   "metadata": {},
   "outputs": [
    {
     "name": "stdout",
     "output_type": "stream",
     "text": [
      "Fe is a chemical element. Atomic number of Fe is 26.\n",
      "\n",
      "Fe is a chemical element. Atomic number of Fe is 26. Iron atoms have 26 electrons. Iron shell structure is 2.8.14.2.\n"
     ]
    }
   ],
   "source": [
    "element = 'Iron is a chemical element. Atomic number of Iron is 26.'\n",
    "\n",
    "# replacing 'Erbium' with 'Er'\n",
    "print(element.replace('Iron', 'Fe'))\n",
    "\n",
    "element = '\\nIron is a chemical element. Atomic number of Iron is 26. Iron atoms have 26 electrons. Iron shell structure is 2.8.14.2.'\n",
    "\n",
    "# replacing only two occurences of 'not'\n",
    "print(element.replace('Iron', \"Fe\", 2))"
   ]
  },
  {
   "cell_type": "code",
   "execution_count": 7,
   "id": "406d93be",
   "metadata": {},
   "outputs": [
    {
     "name": "stdout",
     "output_type": "stream",
     "text": [
      "Substring 'element' found at index: 21\n"
     ]
    },
    {
     "ename": "ValueError",
     "evalue": "substring not found",
     "output_type": "error",
     "traceback": [
      "\u001b[1;31m---------------------------------------------------------------------------\u001b[0m",
      "\u001b[1;31mValueError\u001b[0m                                Traceback (most recent call last)",
      "\u001b[1;32m~\\AppData\\Local\\Temp\\ipykernel_20752\\1114601695.py\u001b[0m in \u001b[0;36m<module>\u001b[1;34m\u001b[0m\n\u001b[0;32m      5\u001b[0m \u001b[0mprint\u001b[0m\u001b[1;33m(\u001b[0m\u001b[1;34m\"Substring 'element' found at index:\"\u001b[0m\u001b[1;33m,\u001b[0m \u001b[0mresult\u001b[0m\u001b[1;33m)\u001b[0m\u001b[1;33m\u001b[0m\u001b[1;33m\u001b[0m\u001b[0m\n\u001b[0;32m      6\u001b[0m \u001b[1;33m\u001b[0m\u001b[0m\n\u001b[1;32m----> 7\u001b[1;33m \u001b[0mresult\u001b[0m \u001b[1;33m=\u001b[0m \u001b[0mtext\u001b[0m\u001b[1;33m.\u001b[0m\u001b[0mrindex\u001b[0m\u001b[1;33m(\u001b[0m\u001b[1;34m'is5'\u001b[0m\u001b[1;33m)\u001b[0m\u001b[1;33m\u001b[0m\u001b[1;33m\u001b[0m\u001b[0m\n\u001b[0m\u001b[0;32m      8\u001b[0m \u001b[0mprint\u001b[0m\u001b[1;33m(\u001b[0m\u001b[1;34m\"Substring 'and ' found at index:\"\u001b[0m\u001b[1;33m,\u001b[0m \u001b[0mresult\u001b[0m\u001b[1;33m)\u001b[0m\u001b[1;33m\u001b[0m\u001b[1;33m\u001b[0m\u001b[0m\n",
      "\u001b[1;31mValueError\u001b[0m: substring not found"
     ]
    }
   ],
   "source": [
    "text = 'Boron is a metalloid element and the atomic number is 5.'\n",
    " \n",
    "# returns last occurrence of Substring\n",
    "result = text.rindex('element')\n",
    "print(\"Substring 'element' found at index:\", result)\n",
    " \n",
    "result = text.rindex('is5')\n",
    "print(\"Substring 'and ' found at index:\", result)"
   ]
  },
  {
   "cell_type": "code",
   "execution_count": 10,
   "id": "e3117041",
   "metadata": {},
   "outputs": [
    {
     "name": "stdout",
     "output_type": "stream",
     "text": [
      "29\n",
      "38\n",
      "51\n"
     ]
    },
    {
     "ename": "ValueError",
     "evalue": "substring not found",
     "output_type": "error",
     "traceback": [
      "\u001b[1;31m---------------------------------------------------------------------------\u001b[0m",
      "\u001b[1;31mValueError\u001b[0m                                Traceback (most recent call last)",
      "\u001b[1;32m~\\AppData\\Local\\Temp\\ipykernel_7924\\4254995150.py\u001b[0m in \u001b[0;36m<module>\u001b[1;34m\u001b[0m\n\u001b[0;32m     11\u001b[0m \u001b[1;33m\u001b[0m\u001b[0m\n\u001b[0;32m     12\u001b[0m \u001b[1;31m# Substring is searched in ' metalloid element '\u001b[0m\u001b[1;33m\u001b[0m\u001b[1;33m\u001b[0m\u001b[1;33m\u001b[0m\u001b[0m\n\u001b[1;32m---> 13\u001b[1;33m \u001b[0mprint\u001b[0m\u001b[1;33m(\u001b[0m\u001b[0mtext\u001b[0m\u001b[1;33m.\u001b[0m\u001b[0mrindex\u001b[0m\u001b[1;33m(\u001b[0m\u001b[1;34m'5.'\u001b[0m\u001b[1;33m,\u001b[0m\u001b[1;36m10\u001b[0m\u001b[1;33m,\u001b[0m \u001b[1;36m20\u001b[0m\u001b[1;33m)\u001b[0m\u001b[1;33m)\u001b[0m\u001b[1;33m\u001b[0m\u001b[1;33m\u001b[0m\u001b[0m\n\u001b[0m",
      "\u001b[1;31mValueError\u001b[0m: substring not found"
     ]
    }
   ],
   "source": [
    "text = 'Boron is a metalloid element and the atomic number is 5.'\n",
    "\n",
    "# Substring is searched in ' element and the atomic number is 5.'\n",
    "print(text.rindex('and', 20))\n",
    "\n",
    "# Substring is searched in ' element and the atomic number is 5.' \n",
    "print(text.rindex('t', 20))\n",
    "\n",
    "# Substring is searched in 'mic number is 5.'\n",
    "print(text.rindex('i', 40, -1))\n",
    "\n",
    "# Substring is searched in ' metalloid element '\n",
    "print(text.rindex('5.',10, 20))"
   ]
  },
  {
   "cell_type": "code",
   "execution_count": 3,
   "id": "e6f7772b",
   "metadata": {},
   "outputs": [
    {
     "name": "stdout",
     "output_type": "stream",
     "text": [
      "Substring 'element' found at index: 21\n",
      "Substring 'is ' found at index: 51\n"
     ]
    }
   ],
   "source": [
    "text1 = \n",
    " \n",
    "# returns last occurrence of Substring\n",
    "result = text1.rfind('element')\n",
    "print(\"Substring 'element' found at index:\", result)\n",
    " \n",
    "result = text1.rfind('is')\n",
    "print(\"Substring 'is ' found at index:\", result)"
   ]
  },
  {
   "cell_type": "code",
   "execution_count": 9,
   "id": "380f582a",
   "metadata": {},
   "outputs": [
    {
     "name": "stdout",
     "output_type": "stream",
     "text": [
      "29\n",
      "38\n",
      "51\n",
      "-1\n"
     ]
    }
   ],
   "source": [
    "text1 = 'Boron is a metalloid element and the atomic number is 5.'\n",
    " \n",
    "# Substring is searched in ' element and the atomic number is 5.'\n",
    "print(text1.rfind('and', 20))\n",
    " \n",
    "# Substring is searched in ' element and the atomic number is 5.'\n",
    "print(text1.rfind('t', 15))\n",
    " \n",
    "# Substring is searched in 'mic number is 5.'\n",
    "print(text1.rfind('i', 40, -1))\n",
    " \n",
    "# Substring is searched in ' metalloid element '\n",
    "print(text1.rfind('5.', 10, 20))"
   ]
  },
  {
   "cell_type": "code",
   "execution_count": null,
   "id": "7dd44f67",
   "metadata": {},
   "outputs": [],
   "source": []
  },
  {
   "cell_type": "code",
   "execution_count": 15,
   "id": "39eaea8d",
   "metadata": {},
   "outputs": [
    {
     "name": "stdout",
     "output_type": "stream",
     "text": [
      "      Chemistry\n",
      "******Chemistry\n",
      "Chemistry\n"
     ]
    }
   ],
   "source": [
    "string = 'Chemistry'\n",
    "width = 15\n",
    "\n",
    "# print right justified string\n",
    "print(string.rjust(width))\n",
    "string = 'Chemistry'\n",
    "width = 15\n",
    "fillchar = '*'\n",
    "\n",
    "# print right justified string\n",
    "print(string.rjust(width, fillchar))\n",
    "\n",
    "\n",
    "string = 'Chemistry'\n",
    "width = 5\n",
    "fillchar = '@'\n",
    "\n",
    "# print right justified string\n",
    "print(string.rjust(width, fillchar))"
   ]
  },
  {
   "cell_type": "code",
   "execution_count": 2,
   "id": "5dcd49ea",
   "metadata": {},
   "outputs": [
    {
     "name": "stdout",
     "output_type": "stream",
     "text": [
      "('Python ', 'for ', 'Chemistry')\n",
      "('', '', 'Python for Chemistry')\n",
      "('Python for Chemists and ', 'for', ' Chemical engineer')\n"
     ]
    }
   ],
   "source": [
    "string = \"Python for Chemistry\"\n",
    "\n",
    "# 'for' separator is found\n",
    "print(string.rpartition('for '))\n",
    "\n",
    "# 'is' separator is not found\n",
    "print(string.rpartition('is '))\n",
    "\n",
    "string = \"Python for Chemists and for Chemical engineer\"\n",
    "\n",
    "# splits at first occurence of 'for'\n",
    "print(string.rpartition('for'))"
   ]
  },
  {
   "cell_type": "code",
   "execution_count": 3,
   "id": "f93e0c24",
   "metadata": {},
   "outputs": [
    {
     "name": "stdout",
     "output_type": "stream",
     "text": [
      "['Python', 'for', 'Chemistry']\n",
      "['Python', 'for Chemists', 'and', 'for Chemical Engineer']\n"
     ]
    }
   ],
   "source": [
    "text= 'Python for Chemistry'\n",
    "\n",
    "# splits at space\n",
    "print(text.rsplit())\n",
    "\n",
    "text1 = 'Python, for Chemists, and, for Chemical Engineer'\n",
    "\n",
    "# splits at ','\n",
    "print(text1.rsplit(', '))"
   ]
  },
  {
   "cell_type": "code",
   "execution_count": 30,
   "id": "4b1ed5ba",
   "metadata": {},
   "outputs": [
    {
     "name": "stdout",
     "output_type": "stream",
     "text": [
      "['Python for Chemists and for', 'Chemical', 'Engineer']\n",
      "['Python for Chemists and for Chemical', 'Engineer']\n",
      "['Python for', 'Chemists', 'and', 'for', 'Chemical', 'Engineer']\n",
      "['Python for Chemists and for Chemical Engineer']\n"
     ]
    }
   ],
   "source": [
    "text2 = \"Python for Chemists and for Chemical Engineer\"\n",
    "# maxsplit: 2\n",
    "print(text2.rsplit(' ', 2))\n",
    "\n",
    "# maxsplit: 1\n",
    "print(text2.rsplit(' ', 1))\n",
    "\n",
    "# maxsplit: 5\n",
    "print(text2.rsplit(' ', 5))\n",
    "\n",
    "# maxsplit: 0\n",
    "print(text2.rsplit(' ', 0))"
   ]
  },
  {
   "cell_type": "code",
   "execution_count": 36,
   "id": "27899080",
   "metadata": {},
   "outputs": [
    {
     "name": "stdout",
     "output_type": "stream",
     "text": [
      "Python for Chemistry\n",
      "Python for Chemistry     \n",
      "Python for Chemis\n",
      "https://Pythoninchemistry\n"
     ]
    }
   ],
   "source": [
    "text = 'Python for Chemistry     '\n",
    "\n",
    "# Trailing whitepsace are removed\n",
    "print(text.rstrip())\n",
    "\n",
    "# No characters are removed.\n",
    "print(text.rstrip('try.'))\n",
    "\n",
    "print(text.rstrip(' try'))\n",
    "\n",
    "website = 'https://Pythoninchemistry.org/'\n",
    "print(website.rstrip('.org/'))"
   ]
  },
  {
   "cell_type": "code",
   "execution_count": 4,
   "id": "4e85699e",
   "metadata": {},
   "outputs": [
    {
     "name": "stdout",
     "output_type": "stream",
     "text": [
      "['Python', 'for', 'Chemistry']\n",
      "['Python', 'for Chemists', 'and', 'for Chemical Engineer']\n"
     ]
    }
   ],
   "source": [
    "text= 'Python for Chemistry'\n",
    "\n",
    "# splits at space\n",
    "print(text.split())\n",
    "\n",
    "text1 = 'Python, for Chemists, and, for Chemical Engineer'\n",
    "\n",
    "# splits at ','\n",
    "print(text1.split(', '))"
   ]
  },
  {
   "cell_type": "code",
   "execution_count": 39,
   "id": "60e9f2e3",
   "metadata": {},
   "outputs": [
    {
     "name": "stdout",
     "output_type": "stream",
     "text": [
      "['Python', 'for', 'Chemists and for Chemical Engineer']\n",
      "['Python', 'for Chemists and for Chemical Engineer']\n",
      "['Python', 'for', 'Chemists', 'and', 'for', 'Chemical Engineer']\n",
      "['Python for Chemists and for Chemical Engineer']\n"
     ]
    }
   ],
   "source": [
    "text2 = \"Python for Chemists and for Chemical Engineer\"\n",
    "# maxsplit: 2\n",
    "print(text2.split(' ', 2))\n",
    "\n",
    "# maxsplit: 1\n",
    "print(text2.split(' ', 1))\n",
    "\n",
    "# maxsplit: 5\n",
    "print(text2.split(' ', 5))\n",
    "\n",
    "# maxsplit: 0\n",
    "print(text2.split(' ', 0))"
   ]
  },
  {
   "cell_type": "code",
   "execution_count": 43,
   "id": "baf4e026",
   "metadata": {},
   "outputs": [
    {
     "name": "stdout",
     "output_type": "stream",
     "text": [
      "False\n",
      "True\n"
     ]
    }
   ],
   "source": [
    "text = \"Boron is a metalloid element and the atomic number is 5.\"\n",
    "\n",
    "result = text.startswith('is a metalloid')\n",
    "# returns False\n",
    "print(result)\n",
    "\n",
    "result = text.startswith('Boron is ')\n",
    "# returns True\n",
    "print(result)"
   ]
  },
  {
   "cell_type": "code",
   "execution_count": 48,
   "id": "a11f6a39",
   "metadata": {},
   "outputs": [
    {
     "name": "stdout",
     "output_type": "stream",
     "text": [
      "True\n",
      "True\n",
      "False\n"
     ]
    }
   ],
   "source": [
    "text = \"Boron is a metalloid element and the atomic number is 5.\"\n",
    "\n",
    "# start parameter: 21\n",
    "result = text.startswith('element', 21)\n",
    "print(result)\n",
    "\n",
    "# start: 44, end: 55\n",
    "result = text.startswith('num', 44, 55)\n",
    "print(result)\n",
    "\n",
    "result = text.startswith('boron',0, 10)\n",
    "print(result)"
   ]
  },
  {
   "cell_type": "code",
   "execution_count": 58,
   "id": "85d31840",
   "metadata": {},
   "outputs": [
    {
     "name": "stdout",
     "output_type": "stream",
     "text": [
      "Python for chemistry\n",
      "hon for chemistr\n",
      "Python for chemistr\n"
     ]
    }
   ],
   "source": [
    "string = '  Python for chemistry   '\n",
    "\n",
    "# Leading and trailing whitespaces are removed\n",
    "print(string.strip())\n",
    "\n",
    "# All <whitespace>,P,y,t characters in the left\n",
    "# and right of string are removed\n",
    "print(string.strip(' Pyt'))\n",
    "\n",
    "# character y is removed from right\n",
    "print(string.strip(' py '))"
   ]
  },
  {
   "cell_type": "code",
   "execution_count": 60,
   "id": "80a61155",
   "metadata": {},
   "outputs": [
    {
     "name": "stdout",
     "output_type": "stream",
     "text": [
      "python for chemistry.\n",
      "PYTHON FOR CHEMISTRY.\n",
      "pYTHON fOR cHEMISTRY.\n"
     ]
    }
   ],
   "source": [
    "sentence1 = \"PYTHON FOR CHEMISTRY.\"\n",
    "\n",
    "# converts uppercase to lowercase\n",
    "print(sentence1.swapcase())\n",
    "\n",
    "sentence2 = \"python for chemistry.\"\n",
    "\n",
    "# converts lowercase to uppercase\n",
    "print(sentence2.swapcase())\n",
    "\n",
    "sentence3 = \"Python For Chemistry.\"\n",
    "\n",
    "# converts lowercase to uppercase and uppercase to lowercase\n",
    "print(sentence3.swapcase())"
   ]
  },
  {
   "cell_type": "code",
   "execution_count": 63,
   "id": "62361d6c",
   "metadata": {},
   "outputs": [
    {
     "name": "stdout",
     "output_type": "stream",
     "text": [
      "Python For Chemistry.\n",
      "Atomic Number Of Erbium Is 68.\n",
      "It'S Atomic Mass Is 167.26\n"
     ]
    }
   ],
   "source": [
    "text = 'pYthon for chemistry.'\n",
    "print(text.title())\n",
    "\n",
    "text = 'atomic number of erbium is 68.'\n",
    "print(text.title())\n",
    "\n",
    "text = \"It's atomic mass is 167.26\"\n",
    "print(text.title())"
   ]
  },
  {
   "cell_type": "code",
   "execution_count": 65,
   "id": "c1079dbc",
   "metadata": {},
   "outputs": [
    {
     "name": "stdout",
     "output_type": "stream",
     "text": [
      "abc\n",
      "abc\n"
     ]
    }
   ],
   "source": [
    "# dictionary creation\n",
    "dict = {\"a\": \"Hydrogen\", \"b\": \"Oxygen\", \"c\": \"Helium\"}\n",
    "string = \"abc\"\n",
    "print(string.translate(dict))\n",
    "\n",
    "dict = {1: \"Hydrogen\", 2: \"Oxygen\",3: \"Helium\"}\n",
    "string = \"abc\"\n",
    "print(string.translate(dict))"
   ]
  },
  {
   "cell_type": "code",
   "execution_count": 66,
   "id": "3753b8d4",
   "metadata": {},
   "outputs": [
    {
     "ename": "TypeError",
     "evalue": "translate() takes exactly one argument (2 given)",
     "output_type": "error",
     "traceback": [
      "\u001b[1;31m---------------------------------------------------------------------------\u001b[0m",
      "\u001b[1;31mTypeError\u001b[0m                                 Traceback (most recent call last)",
      "\u001b[1;32m~\\AppData\\Local\\Temp\\ipykernel_13432\\827458809.py\u001b[0m in \u001b[0;36m<module>\u001b[1;34m\u001b[0m\n\u001b[0;32m      1\u001b[0m \u001b[0mfirstString\u001b[0m \u001b[1;33m=\u001b[0m \u001b[1;34m\"Oxygen\"\u001b[0m\u001b[1;33m\u001b[0m\u001b[1;33m\u001b[0m\u001b[0m\n\u001b[0;32m      2\u001b[0m \u001b[0msecondString\u001b[0m \u001b[1;33m=\u001b[0m \u001b[1;34m\"Helium\"\u001b[0m\u001b[1;33m\u001b[0m\u001b[1;33m\u001b[0m\u001b[0m\n\u001b[1;32m----> 3\u001b[1;33m \u001b[0mprint\u001b[0m\u001b[1;33m(\u001b[0m\u001b[0mstring\u001b[0m\u001b[1;33m.\u001b[0m\u001b[0mtranslate\u001b[0m\u001b[1;33m(\u001b[0m\u001b[0mfirstString\u001b[0m\u001b[1;33m,\u001b[0m \u001b[0msecondString\u001b[0m\u001b[1;33m)\u001b[0m\u001b[1;33m)\u001b[0m\u001b[1;33m\u001b[0m\u001b[1;33m\u001b[0m\u001b[0m\n\u001b[0m\u001b[0;32m      4\u001b[0m \u001b[1;33m\u001b[0m\u001b[0m\n\u001b[0;32m      5\u001b[0m \u001b[0mfirstString\u001b[0m \u001b[1;33m=\u001b[0m \u001b[1;34m\"Oxygen\"\u001b[0m\u001b[1;33m\u001b[0m\u001b[1;33m\u001b[0m\u001b[0m\n",
      "\u001b[1;31mTypeError\u001b[0m: translate() takes exactly one argument (2 given)"
     ]
    }
   ],
   "source": [
    "firstString = \"Oxygen\"\n",
    "secondString = \"Helium\"\n",
    "print(string.translate(firstString, secondString))\n",
    "\n",
    "firstString = \"Oxygen\"\n",
    "secondString = \"Hydrogen\"\n",
    "print(string.maketrans(firstString, secondString))"
   ]
  },
  {
   "cell_type": "code",
   "execution_count": 75,
   "id": "04337d8f",
   "metadata": {},
   "outputs": [
    {
     "name": "stdout",
     "output_type": "stream",
     "text": [
      "Original string: abcdef\n",
      "Translated string: defdef\n"
     ]
    }
   ],
   "source": [
    "# first string\n",
    "firstString = \"abc\"\n",
    "secondString = \"def\"\n",
    "thirdString = \"igh\"\n",
    "\n",
    "string = \"abcdef\"\n",
    "print(\"Original string:\", string)\n",
    "\n",
    "translation = string.maketrans(firstString, secondString, thirdString)\n",
    "\n",
    "# translate string\n",
    "print(\"Translated string:\", string.translate(translation))\n"
   ]
  },
  {
   "cell_type": "code",
   "execution_count": 79,
   "id": "c5e985c2",
   "metadata": {},
   "outputs": [
    {
     "name": "stdout",
     "output_type": "stream",
     "text": [
      "PYTHON FOR CHEMISTRY.\n",
      "PYTHON FOR CHEMISTRY PART -1.\n",
      "****PYTHON FOR CHEMISTRY.****\n"
     ]
    }
   ],
   "source": [
    "t1 = \"PYTHON FOR CHEMISTRY.\"\n",
    "\n",
    "# returns the original string\n",
    "print(t1.upper())\n",
    "\n",
    "t2 = \"python for chemistry part -1.\"\n",
    "\n",
    "# converts lowercase to uppercase\n",
    "print(t2.upper())\n",
    "\n",
    "t3 = \"****Python For Chemistry.****\"\n",
    "\n",
    "# converts lowercase to uppercase\n",
    "print(t3.upper())"
   ]
  },
  {
   "cell_type": "code",
   "execution_count": 84,
   "id": "4d7a73d5",
   "metadata": {},
   "outputs": [
    {
     "name": "stdout",
     "output_type": "stream",
     "text": [
      "000000000000000Python for Chemistry\n",
      "0000000000Python for Chemistry\n",
      "Python for Chemistry\n",
      "-0010\n"
     ]
    }
   ],
   "source": [
    "text = \"Python for Chemistry\"\n",
    "print(text.zfill(35))\n",
    "print(text.zfill(30))\n",
    "print(text.zfill(10))\n",
    "\n",
    "num1 =\"-10\"\n",
    "print(num1.zfill(5))"
   ]
  },
  {
   "cell_type": "code",
   "execution_count": 18,
   "id": "ebe25003",
   "metadata": {},
   "outputs": [
    {
     "name": "stdout",
     "output_type": "stream",
     "text": [
      "The string before translating is : KhemisTry\n",
      "The string after translating is : Chemistry\n"
     ]
    }
   ],
   "source": [
    "# specifying the mapping \n",
    "# using ASCII \n",
    "table = { 75:67,84:116 } \n",
    "  \n",
    "# target string \n",
    "trg = \"KhemisTry\"\n",
    "  \n",
    "# Printing original string \n",
    "print (\"The string before translating is : \", end =\"\") \n",
    "print (trg) \n",
    "  \n",
    "# using translate() to make translations. \n",
    "print (\"The string after translating is : \", end =\"\") \n",
    "print (trg.translate(table)) "
   ]
  },
  {
   "cell_type": "code",
   "execution_count": 23,
   "id": "cde1e5a7",
   "metadata": {},
   "outputs": [
    {
     "name": "stdout",
     "output_type": "stream",
     "text": [
      "Original string: Pub Chem pub chem\n",
      "Translated string: P Chem c chem\n"
     ]
    }
   ],
   "source": [
    "# First String\n",
    "firstString = \"pub\"\n",
    "  \n",
    "# Second String\n",
    "secondString = \"che\"\n",
    "  \n",
    "# Third String\n",
    "thirdString = \"ub\"\n",
    "  \n",
    "# Original String\n",
    "string = \"Pub Chem pub chem\"\n",
    "print(\"Original string:\", string)\n",
    "  \n",
    "translation = string.maketrans(firstString, \n",
    "                               secondString, \n",
    "                               thirdString)\n",
    "  \n",
    "# Translated String\n",
    "print(\"Translated string:\", \n",
    "       string.translate(translation))"
   ]
  },
  {
   "cell_type": "code",
   "execution_count": 26,
   "id": "9e4c8aa7",
   "metadata": {},
   "outputs": [
    {
     "name": "stdout",
     "output_type": "stream",
     "text": [
      "['Hydrogen', 'Helium', 'Lithium', 'Beryllium', 'Boron', 'Carbon']\n"
     ]
    }
   ],
   "source": [
    "# '\\n' is a line break \n",
    "elements = 'Hydrogen\\nHelium\\nLithium\\nBeryllium\\nBoron\\nCarbon'\n",
    "\n",
    "# returns a list \n",
    "print(elements.splitlines())"
   ]
  },
  {
   "cell_type": "code",
   "execution_count": 28,
   "id": "252bab55",
   "metadata": {},
   "outputs": [
    {
     "name": "stdout",
     "output_type": "stream",
     "text": [
      "['Hydrogen', 'Helium', 'Lithium', 'Beryllium', 'Boron', 'Carbon']\n"
     ]
    }
   ],
   "source": [
    "#multiline string\n",
    "elements = '''Hydrogen\n",
    "Helium\n",
    "Lithium\n",
    "Beryllium\n",
    "Boron\n",
    "Carbon'''\n",
    "\n",
    "# returns a list \n",
    "print(elements.splitlines())"
   ]
  },
  {
   "cell_type": "code",
   "execution_count": 37,
   "id": "79cf8f88",
   "metadata": {},
   "outputs": [
    {
     "name": "stdout",
     "output_type": "stream",
     "text": [
      "['Hydrogen\\n', 'Helium\\n', 'Lithium\\n', 'Beryllium\\n', 'Boron\\n', 'Carbon']\n",
      "['Hydrogen', 'Helium', 'Lithium', 'Beryllium', 'Boron', 'Carbon']\n"
     ]
    }
   ],
   "source": [
    "elements = 'Hydrogen\\nHelium\\nLithium\\nBeryllium\\nBoron\\nCarbon'\n",
    "\n",
    "# returns list including line breaks \n",
    "resulting_list1 = elements.splitlines(True)\n",
    "print(resulting_list1)\n",
    "\n",
    "# returns list without including line breaks \n",
    "resulting_list2 = elements.splitlines(False)\n",
    "print(resulting_list2)"
   ]
  },
  {
   "cell_type": "code",
   "execution_count": null,
   "id": "145a6c84",
   "metadata": {},
   "outputs": [],
   "source": []
  }
 ],
 "metadata": {
  "kernelspec": {
   "display_name": "Python [conda env:my-rdkit-env] *",
   "language": "python",
   "name": "conda-env-my-rdkit-env-py"
  },
  "language_info": {
   "codemirror_mode": {
    "name": "ipython",
    "version": 3
   },
   "file_extension": ".py",
   "mimetype": "text/x-python",
   "name": "python",
   "nbconvert_exporter": "python",
   "pygments_lexer": "ipython3",
   "version": "3.7.13"
  }
 },
 "nbformat": 4,
 "nbformat_minor": 5
}
