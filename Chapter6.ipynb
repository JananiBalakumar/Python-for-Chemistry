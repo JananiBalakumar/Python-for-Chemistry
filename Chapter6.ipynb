{
 "cells": [
  {
   "cell_type": "markdown",
   "id": "37ac576d",
   "metadata": {},
   "source": [
    "# Chapter 6"
   ]
  },
  {
   "cell_type": "markdown",
   "id": "cbcd4005",
   "metadata": {},
   "source": [
    "### Arithmetic Operators"
   ]
  },
  {
   "cell_type": "code",
   "execution_count": 1,
   "id": "091300b2",
   "metadata": {},
   "outputs": [
    {
     "name": "stdout",
     "output_type": "stream",
     "text": [
      "Total number of atoms present in Sodium Carbonate is :  6\n"
     ]
    }
   ],
   "source": [
    "#Calculate the total number of atoms present in Sodium Carbonate\n",
    "#Atoms of Na is 2\n",
    "#Atom of C is 1\n",
    "#Atom of O is 3\n",
    "atoms = 2 + 1 + 3\n",
    "print(\"Total number of atoms present in Sodium Carbonate is : \", atoms)"
   ]
  },
  {
   "cell_type": "code",
   "execution_count": 2,
   "id": "cf82cf5b",
   "metadata": {},
   "outputs": [
    {
     "name": "stdout",
     "output_type": "stream",
     "text": [
      "Total number of Disodium atoms is :  2\n"
     ]
    }
   ],
   "source": [
    "#get the disodium atoms from Sodium Carbonate\n",
    "#total number of atoms present in Sodium Carbonate is 6\n",
    "#Atom of C is 1\n",
    "#Atom of O is 3\n",
    "disodium = 6 - 1 - 3\n",
    "print(\"Total number of Disodium atoms is : \",disodium)"
   ]
  },
  {
   "cell_type": "code",
   "execution_count": 3,
   "id": "af54d48a",
   "metadata": {},
   "outputs": [
    {
     "name": "stdout",
     "output_type": "stream",
     "text": [
      "The molar mass of Carbon dioxide is :  44 g/mol\n"
     ]
    }
   ],
   "source": [
    "#Calculate the molar mass of Carbon dioxide\n",
    "#Formula is atomic mass of Carbon + 2 * atomic mass of hydrogen\n",
    "camass = 12\n",
    "hamass = 16\n",
    "Mass = camass+2*hamass\n",
    "print(\"The molar mass of Carbon dioxide is : \", Mass,\"g/mol\")"
   ]
  },
  {
   "cell_type": "code",
   "execution_count": 10,
   "id": "4117288a",
   "metadata": {},
   "outputs": [
    {
     "name": "stdout",
     "output_type": "stream",
     "text": [
      "The Moles in 65.6 mg of Oxygen is :  4.1\n",
      "The Moles in 65.6 mg of Oxygen is :  4.0\n",
      "The remainder is :  1.5999999999999943\n"
     ]
    }
   ],
   "source": [
    "#Calculate the number of moles in 65.6 mg of Oxygen\n",
    "#Forumla is moles of oxygen = mass of Oxygen / atomic mass\n",
    "omass = 65.6\n",
    "amass = 16\n",
    "moles = omass/amass\n",
    "print(\"The Moles in 65.6 mg of Oxygen is : \", moles)\n",
    "\n",
    "#Floor division\n",
    "moles = omass//amass\n",
    "print(\"The Moles in 65.6 mg of Oxygen is : \", moles)\n",
    "\n",
    "#Modulus\n",
    "moles = omass%amass\n",
    "print(\"The remainder is : \", moles)"
   ]
  },
  {
   "cell_type": "code",
   "execution_count": 9,
   "id": "c6121934",
   "metadata": {},
   "outputs": [
    {
     "name": "stdout",
     "output_type": "stream",
     "text": [
      "The number of atoms in in 52 moles of He is :  3.13144e+25\n"
     ]
    }
   ],
   "source": [
    "#calculate the number of atoms in 52 moles of He\n",
    "#1 mol of He is 6.022*10^23\n",
    "total = 6.022*10**23*52/1\n",
    "print(\"The number of atoms in in 52 moles of He is : \", total)"
   ]
  },
  {
   "cell_type": "markdown",
   "id": "4ff32756",
   "metadata": {},
   "source": [
    "### Comparision Operator"
   ]
  },
  {
   "cell_type": "code",
   "execution_count": 27,
   "id": "171c2b9b",
   "metadata": {},
   "outputs": [
    {
     "name": "stdout",
     "output_type": "stream",
     "text": [
      "The density of Iridium is less than Osmium : True\n",
      "The density of Iridium is greater than Osmium : False\n",
      "The density of Iridium is equal to Osmium : False\n",
      "The density of Iridium is not equal to Osmium : True\n",
      "The density of Iridium is less than or equal to Osmium : True\n",
      "The density of Iridium is greater than or equal to Osmium : False\n"
     ]
    }
   ],
   "source": [
    "#check the density of Iridium (Ir) and Osmium (Os)\n",
    "Ir = 22.4\n",
    "Os = 22.6\n",
    "\n",
    "print(\"The density of Iridium is less than Osmium :\", Ir < Os)\n",
    "print(\"The density of Iridium is greater than Osmium :\", Ir > Os)\n",
    "print(\"The density of Iridium is equal to Osmium :\", Ir == Os)\n",
    "print(\"The density of Iridium is not equal to Osmium :\", Ir != Os)\n",
    "print(\"The density of Iridium is less than or equal to Osmium :\", Ir <= Os)\n",
    "print(\"The density of Iridium is greater than or equal to Osmium :\", Ir >= Os)"
   ]
  },
  {
   "cell_type": "markdown",
   "id": "8ed97bcd",
   "metadata": {},
   "source": [
    "### Logical Operators"
   ]
  },
  {
   "cell_type": "code",
   "execution_count": 47,
   "id": "4e98d3b8",
   "metadata": {},
   "outputs": [
    {
     "name": "stdout",
     "output_type": "stream",
     "text": [
      "False\n",
      "True\n",
      "True\n"
     ]
    }
   ],
   "source": [
    "#density of Iridium\n",
    "Ir = 22.4\n",
    "#density of Osmium\n",
    "Os = 22.6\n",
    "\n",
    "#and operator\n",
    "print(Ir<Os and Os<Ir)\n",
    "\n",
    "#or operator\n",
    "print(Ir<Os or Os<Ir)\n",
    "\n",
    "#not operator\n",
    "print(not Ir>Os)"
   ]
  },
  {
   "cell_type": "markdown",
   "id": "c677f845",
   "metadata": {},
   "source": [
    "### Identity Operator"
   ]
  },
  {
   "cell_type": "code",
   "execution_count": 1,
   "id": "23e358bf",
   "metadata": {},
   "outputs": [
    {
     "name": "stdout",
     "output_type": "stream",
     "text": [
      "a and b are in same memory :  False\n",
      "a and b are not in same memory :  True\n",
      "a and c are in same memory :  True\n",
      "b and c are in same memory :  False\n",
      "b and c are not in same memory :  True\n"
     ]
    }
   ],
   "source": [
    "a = [\"Helium\", \"Lithium\"]\n",
    "b = [\"Helium\", \"Lithium\"]\n",
    "c = a\n",
    "\n",
    "print (\"a and b are in same memory : \", a is b)\n",
    "print(\"a and b are not in same memory : \", a is not b)\n",
    "print(\"a and c are in same memory : \", a is c)\n",
    "print(\"b and c are in same memory : \", b is c)\n",
    "print(\"b and c are not in same memory : \", b is not c)"
   ]
  },
  {
   "cell_type": "markdown",
   "id": "51909c6b",
   "metadata": {},
   "source": [
    "### Membership Operator"
   ]
  },
  {
   "cell_type": "code",
   "execution_count": 51,
   "id": "48ed95ef",
   "metadata": {},
   "outputs": [
    {
     "name": "stdout",
     "output_type": "stream",
     "text": [
      "True\n",
      "False\n",
      "False\n",
      "True\n"
     ]
    }
   ],
   "source": [
    "#chemical elements list\n",
    "elements = [\"Hydrogen\", \"Carbon\", \"Boron\",\"Helium\", \"Lithium\"]\n",
    "print(\"Hydrogen\" in elements)\n",
    "print(\"Helium\" not in elements)\n",
    "\n",
    "print(\"Neon\" in elements)\n",
    "print(\"Neon\" not in elements)"
   ]
  },
  {
   "cell_type": "markdown",
   "id": "cc53a176",
   "metadata": {},
   "source": [
    "### Bitwise Operator"
   ]
  },
  {
   "cell_type": "code",
   "execution_count": 17,
   "id": "b3ddd384",
   "metadata": {},
   "outputs": [
    {
     "name": "stdout",
     "output_type": "stream",
     "text": [
      "Bitwise AND is:  9\n",
      "Bitwise OR is:  11\n",
      "Bitwise NOT is:  -12\n",
      "Bitwise NOT is:  -10\n",
      "Bitwise XOR is:  2\n",
      "Bitwise right shift is:  2\n",
      "Bitwise left shift is:  44\n"
     ]
    }
   ],
   "source": [
    "# atomic number of sodium\n",
    "Na = 11\n",
    "#atomic number of Fluorine\n",
    "F= 9\n",
    "  \n",
    "# Print bitwise AND operation\n",
    "print(\"Bitwise AND is: \",Na & F)\n",
    "  \n",
    "# Print bitwise OR operation\n",
    "print(\"Bitwise OR is: \",Na | F)\n",
    "  \n",
    "# Print bitwise NOT operation\n",
    "print(\"Bitwise NOT is: \",~Na)\n",
    "print(\"Bitwise NOT is: \",~F)\n",
    "  \n",
    "# print bitwise XOR operation\n",
    "print(\"Bitwise XOR is: \",Na ^ F)\n",
    "  \n",
    "# print bitwise right shift operation\n",
    "print(\"Bitwise right shift is: \",Na >> 2)\n",
    "  \n",
    "# print bitwise left shift operation\n",
    "print(\"Bitwise left shift is: \",Na << 2)"
   ]
  },
  {
   "cell_type": "markdown",
   "id": "6172a2d9",
   "metadata": {},
   "source": [
    "### Assignment Operators"
   ]
  },
  {
   "cell_type": "code",
   "execution_count": 2,
   "id": "8d8d3a59",
   "metadata": {},
   "outputs": [
    {
     "name": "stdout",
     "output_type": "stream",
     "text": [
      "The total number of atoms 3\n",
      "The number of atoms in Carbon 1\n",
      "The assigment multiplication is: 2\n"
     ]
    }
   ],
   "source": [
    "#Calculate the total number of atoms present in carbon dioxide Co2\n",
    "c = 1\n",
    "o = 2\n",
    "c += o\n",
    "print( \"The total number of atoms\", c)\n",
    "\n",
    "c-=o\n",
    "print( \"The number of atoms in Carbon\", c)\n",
    "\n",
    "c*=o\n",
    "print(\"The assigment multiplication is:\", c)"
   ]
  },
  {
   "cell_type": "code",
   "execution_count": 1,
   "id": "fad37ff7",
   "metadata": {},
   "outputs": [
    {
     "name": "stdout",
     "output_type": "stream",
     "text": [
      "The Moles in 90 g of Magnesium Oxide is:  2.2332506203473947 moles\n"
     ]
    }
   ],
   "source": [
    "#Calculate the number of moles in 90 g of Mgnesium Oxide\n",
    "#Forumla is moles of MgO = mass of MgO / atomic mass\n",
    "mmass = 90\n",
    "amass = 40.3\n",
    "#Division\n",
    "mmass/=amass\n",
    "print(\"The Moles in 90 g of Magnesium Oxide is: \",mmass,\"moles\")"
   ]
  },
  {
   "cell_type": "code",
   "execution_count": 9,
   "id": "0f4d53ef",
   "metadata": {},
   "outputs": [
    {
     "name": "stdout",
     "output_type": "stream",
     "text": [
      "The floor division value is:  4\n"
     ]
    }
   ],
   "source": [
    "a = 26\n",
    "b = 6\n",
    "#Floor division\n",
    "a//=b\n",
    "print(\"The floor division value is: \",a)"
   ]
  },
  {
   "cell_type": "code",
   "execution_count": 11,
   "id": "0f6bd87d",
   "metadata": {},
   "outputs": [
    {
     "name": "stdout",
     "output_type": "stream",
     "text": [
      "The remainder value is:  2\n"
     ]
    }
   ],
   "source": [
    "a = 26\n",
    "b = 6\n",
    "#Modulus\n",
    "a%=b\n",
    "print(\"The remainder value is: \",a)"
   ]
  },
  {
   "cell_type": "code",
   "execution_count": 28,
   "id": "dd631fe1",
   "metadata": {},
   "outputs": [
    {
     "name": "stdout",
     "output_type": "stream",
     "text": [
      "Bitwise AND is:  4\n"
     ]
    }
   ],
   "source": [
    "# atomic number of Boron\n",
    "B = 5\n",
    "#atomic number of Silicon\n",
    "Si= 14\n",
    "  \n",
    "# Print bitwise AND operation\n",
    "B &= Si\n",
    "print(\"Bitwise AND is: \",B)"
   ]
  },
  {
   "cell_type": "code",
   "execution_count": 27,
   "id": "59b1f56a",
   "metadata": {},
   "outputs": [
    {
     "name": "stdout",
     "output_type": "stream",
     "text": [
      "Bitwise OR is:  15\n"
     ]
    }
   ],
   "source": [
    "# atomic number of Boron\n",
    "B = 5\n",
    "#atomic number of Silicon\n",
    "Si= 14\n",
    "\n",
    "# Print bitwise OR operation\n",
    "B |= Si\n",
    "print(\"Bitwise OR is: \",B)"
   ]
  },
  {
   "cell_type": "code",
   "execution_count": 32,
   "id": "f359544d",
   "metadata": {},
   "outputs": [
    {
     "name": "stdout",
     "output_type": "stream",
     "text": [
      "Bitwise XOR is:  5\n"
     ]
    }
   ],
   "source": [
    "# atomic number of Boron\n",
    "B = 5\n",
    "#atomic number of Silicon\n",
    "Si= 14\n",
    "\n",
    "# print bitwise XOR operation\n",
    "B ^ Si\n",
    "print(\"Bitwise XOR is: \",B)"
   ]
  },
  {
   "cell_type": "code",
   "execution_count": 31,
   "id": "7662a64a",
   "metadata": {},
   "outputs": [
    {
     "name": "stdout",
     "output_type": "stream",
     "text": [
      "Bitwise right shift is:  3\n",
      "Bitwise left shift is:  56\n"
     ]
    }
   ],
   "source": [
    "# atomic number of Boron\n",
    "B = 5\n",
    "#atomic number of Silicon\n",
    "Si= 14\n",
    "\n",
    "# print bitwise right shift operation\n",
    "B |= Si\n",
    "print(\"Bitwise right shift is: \",B >> 2)\n",
    "  \n",
    "# print bitwise left shift operation\n",
    "B |= Si\n",
    "print(\"Bitwise left shift is: \",Si << 2)"
   ]
  },
  {
   "cell_type": "code",
   "execution_count": null,
   "id": "45d3d3ff",
   "metadata": {},
   "outputs": [],
   "source": []
  }
 ],
 "metadata": {
  "kernelspec": {
   "display_name": "Python 3 (ipykernel)",
   "language": "python",
   "name": "python3"
  },
  "language_info": {
   "codemirror_mode": {
    "name": "ipython",
    "version": 3
   },
   "file_extension": ".py",
   "mimetype": "text/x-python",
   "name": "python",
   "nbconvert_exporter": "python",
   "pygments_lexer": "ipython3",
   "version": "3.7.13"
  }
 },
 "nbformat": 4,
 "nbformat_minor": 5
}
